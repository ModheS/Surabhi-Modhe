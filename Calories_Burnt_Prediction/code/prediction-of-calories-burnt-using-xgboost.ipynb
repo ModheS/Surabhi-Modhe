{
 "cells": [
  {
   "cell_type": "markdown",
   "id": "3b0dc068",
   "metadata": {
    "papermill": {
     "duration": 0.047855,
     "end_time": "2022-06-25T05:44:10.912173",
     "exception": false,
     "start_time": "2022-06-25T05:44:10.864318",
     "status": "completed"
    },
    "tags": []
   },
   "source": [
    "**According to Jessica Simpson,\"LAUGH A LOT. IT BURNS A LOT OF CALORIES\"**\n",
    "\n",
    "* In this notebook, let's predict ✍ the calories burnt 🚴 using XGBoost 🏋️‍♀️ & let's have a healthy & a happier life👩."
   ]
  },
  {
   "cell_type": "markdown",
   "id": "f04b682a",
   "metadata": {
    "papermill": {
     "duration": 0.049569,
     "end_time": "2022-06-25T05:44:11.011146",
     "exception": false,
     "start_time": "2022-06-25T05:44:10.961577",
     "status": "completed"
    },
    "tags": []
   },
   "source": [
    "**IMPORTING LIBRARIES**"
   ]
  },
  {
   "cell_type": "code",
   "execution_count": 41,
   "id": "f8665848",
   "metadata": {
    "execution": {
     "iopub.execute_input": "2022-06-25T05:44:11.112687Z",
     "iopub.status.busy": "2022-06-25T05:44:11.111992Z",
     "iopub.status.idle": "2022-06-25T05:44:12.506124Z",
     "shell.execute_reply": "2022-06-25T05:44:12.506666Z",
     "shell.execute_reply.started": "2022-03-26T17:16:15.424586Z"
    },
    "papermill": {
     "duration": 1.446286,
     "end_time": "2022-06-25T05:44:12.506877",
     "exception": false,
     "start_time": "2022-06-25T05:44:11.060591",
     "status": "completed"
    },
    "tags": []
   },
   "outputs": [],
   "source": [
    "import numpy as np\n",
    "import pandas as pd\n",
    "import matplotlib.pyplot as plt\n",
    "import seaborn as sns\n",
    "from sklearn.model_selection import train_test_split\n",
    "from xgboost import XGBRegressor\n",
    "from sklearn import metrics"
   ]
  },
  {
   "cell_type": "markdown",
   "id": "f172c861",
   "metadata": {
    "papermill": {
     "duration": 0.049816,
     "end_time": "2022-06-25T05:44:12.606325",
     "exception": false,
     "start_time": "2022-06-25T05:44:12.556509",
     "status": "completed"
    },
    "tags": []
   },
   "source": [
    "**LOADING THE DATA & PREPROCESSING THE DATA**"
   ]
  },
  {
   "cell_type": "code",
   "execution_count": 42,
   "id": "b99092e4",
   "metadata": {
    "execution": {
     "iopub.execute_input": "2022-06-25T05:44:12.711987Z",
     "iopub.status.busy": "2022-06-25T05:44:12.711265Z",
     "iopub.status.idle": "2022-06-25T05:44:12.735674Z",
     "shell.execute_reply": "2022-06-25T05:44:12.736334Z",
     "shell.execute_reply.started": "2022-03-26T17:16:16.635111Z"
    },
    "papermill": {
     "duration": 0.081123,
     "end_time": "2022-06-25T05:44:12.736556",
     "exception": false,
     "start_time": "2022-06-25T05:44:12.655433",
     "status": "completed"
    },
    "tags": []
   },
   "outputs": [],
   "source": [
    "calories_data = pd.read_csv(\"C:/Users/HP/Downloads/Placement 2023/Project/Calories burnt/calories.csv\")"
   ]
  },
  {
   "cell_type": "code",
   "execution_count": 43,
   "id": "024f89e6",
   "metadata": {
    "execution": {
     "iopub.execute_input": "2022-06-25T05:44:12.841590Z",
     "iopub.status.busy": "2022-06-25T05:44:12.840827Z",
     "iopub.status.idle": "2022-06-25T05:44:12.862144Z",
     "shell.execute_reply": "2022-06-25T05:44:12.862796Z",
     "shell.execute_reply.started": "2022-03-26T17:16:16.661416Z"
    },
    "papermill": {
     "duration": 0.075607,
     "end_time": "2022-06-25T05:44:12.862996",
     "exception": false,
     "start_time": "2022-06-25T05:44:12.787389",
     "status": "completed"
    },
    "tags": []
   },
   "outputs": [
    {
     "data": {
      "text/html": [
       "<div>\n",
       "<style scoped>\n",
       "    .dataframe tbody tr th:only-of-type {\n",
       "        vertical-align: middle;\n",
       "    }\n",
       "\n",
       "    .dataframe tbody tr th {\n",
       "        vertical-align: top;\n",
       "    }\n",
       "\n",
       "    .dataframe thead th {\n",
       "        text-align: right;\n",
       "    }\n",
       "</style>\n",
       "<table border=\"1\" class=\"dataframe\">\n",
       "  <thead>\n",
       "    <tr style=\"text-align: right;\">\n",
       "      <th></th>\n",
       "      <th>User_ID</th>\n",
       "      <th>Calories</th>\n",
       "    </tr>\n",
       "  </thead>\n",
       "  <tbody>\n",
       "    <tr>\n",
       "      <th>0</th>\n",
       "      <td>14733363</td>\n",
       "      <td>231.0</td>\n",
       "    </tr>\n",
       "    <tr>\n",
       "      <th>1</th>\n",
       "      <td>14861698</td>\n",
       "      <td>66.0</td>\n",
       "    </tr>\n",
       "    <tr>\n",
       "      <th>2</th>\n",
       "      <td>11179863</td>\n",
       "      <td>26.0</td>\n",
       "    </tr>\n",
       "    <tr>\n",
       "      <th>3</th>\n",
       "      <td>16180408</td>\n",
       "      <td>71.0</td>\n",
       "    </tr>\n",
       "    <tr>\n",
       "      <th>4</th>\n",
       "      <td>17771927</td>\n",
       "      <td>35.0</td>\n",
       "    </tr>\n",
       "  </tbody>\n",
       "</table>\n",
       "</div>"
      ],
      "text/plain": [
       "    User_ID  Calories\n",
       "0  14733363     231.0\n",
       "1  14861698      66.0\n",
       "2  11179863      26.0\n",
       "3  16180408      71.0\n",
       "4  17771927      35.0"
      ]
     },
     "execution_count": 43,
     "metadata": {},
     "output_type": "execute_result"
    }
   ],
   "source": [
    "calories_data.head()"
   ]
  },
  {
   "cell_type": "code",
   "execution_count": 44,
   "id": "963e9ad5",
   "metadata": {
    "execution": {
     "iopub.execute_input": "2022-06-25T05:44:12.967989Z",
     "iopub.status.busy": "2022-06-25T05:44:12.967232Z",
     "iopub.status.idle": "2022-06-25T05:44:13.000355Z",
     "shell.execute_reply": "2022-06-25T05:44:13.000974Z",
     "shell.execute_reply.started": "2022-03-26T17:16:16.682296Z"
    },
    "papermill": {
     "duration": 0.088096,
     "end_time": "2022-06-25T05:44:13.001208",
     "exception": false,
     "start_time": "2022-06-25T05:44:12.913112",
     "status": "completed"
    },
    "tags": []
   },
   "outputs": [],
   "source": [
    "exercise_data = pd.read_csv(\"C:/Users/HP/Downloads/Placement 2023/Project/Calories burnt/exercise.csv\")"
   ]
  },
  {
   "cell_type": "code",
   "execution_count": 45,
   "id": "46e5b796",
   "metadata": {
    "execution": {
     "iopub.execute_input": "2022-06-25T05:44:13.107203Z",
     "iopub.status.busy": "2022-06-25T05:44:13.106200Z",
     "iopub.status.idle": "2022-06-25T05:44:13.121518Z",
     "shell.execute_reply": "2022-06-25T05:44:13.122079Z",
     "shell.execute_reply.started": "2022-03-26T17:16:16.716323Z"
    },
    "papermill": {
     "duration": 0.070783,
     "end_time": "2022-06-25T05:44:13.122322",
     "exception": false,
     "start_time": "2022-06-25T05:44:13.051539",
     "status": "completed"
    },
    "tags": []
   },
   "outputs": [
    {
     "data": {
      "text/html": [
       "<div>\n",
       "<style scoped>\n",
       "    .dataframe tbody tr th:only-of-type {\n",
       "        vertical-align: middle;\n",
       "    }\n",
       "\n",
       "    .dataframe tbody tr th {\n",
       "        vertical-align: top;\n",
       "    }\n",
       "\n",
       "    .dataframe thead th {\n",
       "        text-align: right;\n",
       "    }\n",
       "</style>\n",
       "<table border=\"1\" class=\"dataframe\">\n",
       "  <thead>\n",
       "    <tr style=\"text-align: right;\">\n",
       "      <th></th>\n",
       "      <th>User_ID</th>\n",
       "      <th>Gender</th>\n",
       "      <th>Age</th>\n",
       "      <th>Height</th>\n",
       "      <th>Weight</th>\n",
       "      <th>Duration</th>\n",
       "      <th>Heart_Rate</th>\n",
       "      <th>Body_Temp</th>\n",
       "    </tr>\n",
       "  </thead>\n",
       "  <tbody>\n",
       "    <tr>\n",
       "      <th>0</th>\n",
       "      <td>14733363</td>\n",
       "      <td>male</td>\n",
       "      <td>68</td>\n",
       "      <td>190.0</td>\n",
       "      <td>94.0</td>\n",
       "      <td>29.0</td>\n",
       "      <td>105.0</td>\n",
       "      <td>40.8</td>\n",
       "    </tr>\n",
       "    <tr>\n",
       "      <th>1</th>\n",
       "      <td>14861698</td>\n",
       "      <td>female</td>\n",
       "      <td>20</td>\n",
       "      <td>166.0</td>\n",
       "      <td>60.0</td>\n",
       "      <td>14.0</td>\n",
       "      <td>94.0</td>\n",
       "      <td>40.3</td>\n",
       "    </tr>\n",
       "    <tr>\n",
       "      <th>2</th>\n",
       "      <td>11179863</td>\n",
       "      <td>male</td>\n",
       "      <td>69</td>\n",
       "      <td>179.0</td>\n",
       "      <td>79.0</td>\n",
       "      <td>5.0</td>\n",
       "      <td>88.0</td>\n",
       "      <td>38.7</td>\n",
       "    </tr>\n",
       "    <tr>\n",
       "      <th>3</th>\n",
       "      <td>16180408</td>\n",
       "      <td>female</td>\n",
       "      <td>34</td>\n",
       "      <td>179.0</td>\n",
       "      <td>71.0</td>\n",
       "      <td>13.0</td>\n",
       "      <td>100.0</td>\n",
       "      <td>40.5</td>\n",
       "    </tr>\n",
       "    <tr>\n",
       "      <th>4</th>\n",
       "      <td>17771927</td>\n",
       "      <td>female</td>\n",
       "      <td>27</td>\n",
       "      <td>154.0</td>\n",
       "      <td>58.0</td>\n",
       "      <td>10.0</td>\n",
       "      <td>81.0</td>\n",
       "      <td>39.8</td>\n",
       "    </tr>\n",
       "  </tbody>\n",
       "</table>\n",
       "</div>"
      ],
      "text/plain": [
       "    User_ID  Gender  Age  Height  Weight  Duration  Heart_Rate  Body_Temp\n",
       "0  14733363    male   68   190.0    94.0      29.0       105.0       40.8\n",
       "1  14861698  female   20   166.0    60.0      14.0        94.0       40.3\n",
       "2  11179863    male   69   179.0    79.0       5.0        88.0       38.7\n",
       "3  16180408  female   34   179.0    71.0      13.0       100.0       40.5\n",
       "4  17771927  female   27   154.0    58.0      10.0        81.0       39.8"
      ]
     },
     "execution_count": 45,
     "metadata": {},
     "output_type": "execute_result"
    }
   ],
   "source": [
    "exercise_data.head()"
   ]
  },
  {
   "cell_type": "markdown",
   "id": "2a38b84c",
   "metadata": {
    "papermill": {
     "duration": 0.049039,
     "end_time": "2022-06-25T05:44:13.222093",
     "exception": false,
     "start_time": "2022-06-25T05:44:13.173054",
     "status": "completed"
    },
    "tags": []
   },
   "source": [
    "**Inference:**\n",
    "\n",
    "* We can observe an Indirect relationship between heart rate & body temperature with respect to the excercise the individual does."
   ]
  },
  {
   "cell_type": "markdown",
   "id": "bfdf64f2",
   "metadata": {
    "papermill": {
     "duration": 0.04863,
     "end_time": "2022-06-25T05:44:13.319316",
     "exception": false,
     "start_time": "2022-06-25T05:44:13.270686",
     "status": "completed"
    },
    "tags": []
   },
   "source": [
    "**COMBINING THE EXCERCISE DATA & CALORIES DATA**"
   ]
  },
  {
   "cell_type": "code",
   "execution_count": 46,
   "id": "a35993d4",
   "metadata": {
    "execution": {
     "iopub.execute_input": "2022-06-25T05:44:13.422451Z",
     "iopub.status.busy": "2022-06-25T05:44:13.421396Z",
     "iopub.status.idle": "2022-06-25T05:44:13.433990Z",
     "shell.execute_reply": "2022-06-25T05:44:13.434522Z",
     "shell.execute_reply.started": "2022-03-26T17:16:16.73323Z"
    },
    "papermill": {
     "duration": 0.065946,
     "end_time": "2022-06-25T05:44:13.434716",
     "exception": false,
     "start_time": "2022-06-25T05:44:13.368770",
     "status": "completed"
    },
    "tags": []
   },
   "outputs": [],
   "source": [
    "combined_data = pd.concat([exercise_data,calories_data['Calories']], axis=1)"
   ]
  },
  {
   "cell_type": "code",
   "execution_count": 47,
   "id": "976e861d",
   "metadata": {
    "execution": {
     "iopub.execute_input": "2022-06-25T05:44:13.537905Z",
     "iopub.status.busy": "2022-06-25T05:44:13.535578Z",
     "iopub.status.idle": "2022-06-25T05:44:13.556933Z",
     "shell.execute_reply": "2022-06-25T05:44:13.557510Z",
     "shell.execute_reply.started": "2022-03-26T17:16:16.758354Z"
    },
    "papermill": {
     "duration": 0.074108,
     "end_time": "2022-06-25T05:44:13.557702",
     "exception": false,
     "start_time": "2022-06-25T05:44:13.483594",
     "status": "completed"
    },
    "tags": []
   },
   "outputs": [
    {
     "data": {
      "text/html": [
       "<div>\n",
       "<style scoped>\n",
       "    .dataframe tbody tr th:only-of-type {\n",
       "        vertical-align: middle;\n",
       "    }\n",
       "\n",
       "    .dataframe tbody tr th {\n",
       "        vertical-align: top;\n",
       "    }\n",
       "\n",
       "    .dataframe thead th {\n",
       "        text-align: right;\n",
       "    }\n",
       "</style>\n",
       "<table border=\"1\" class=\"dataframe\">\n",
       "  <thead>\n",
       "    <tr style=\"text-align: right;\">\n",
       "      <th></th>\n",
       "      <th>User_ID</th>\n",
       "      <th>Gender</th>\n",
       "      <th>Age</th>\n",
       "      <th>Height</th>\n",
       "      <th>Weight</th>\n",
       "      <th>Duration</th>\n",
       "      <th>Heart_Rate</th>\n",
       "      <th>Body_Temp</th>\n",
       "      <th>Calories</th>\n",
       "    </tr>\n",
       "  </thead>\n",
       "  <tbody>\n",
       "    <tr>\n",
       "      <th>0</th>\n",
       "      <td>14733363</td>\n",
       "      <td>male</td>\n",
       "      <td>68</td>\n",
       "      <td>190.0</td>\n",
       "      <td>94.0</td>\n",
       "      <td>29.0</td>\n",
       "      <td>105.0</td>\n",
       "      <td>40.8</td>\n",
       "      <td>231.0</td>\n",
       "    </tr>\n",
       "    <tr>\n",
       "      <th>1</th>\n",
       "      <td>14861698</td>\n",
       "      <td>female</td>\n",
       "      <td>20</td>\n",
       "      <td>166.0</td>\n",
       "      <td>60.0</td>\n",
       "      <td>14.0</td>\n",
       "      <td>94.0</td>\n",
       "      <td>40.3</td>\n",
       "      <td>66.0</td>\n",
       "    </tr>\n",
       "    <tr>\n",
       "      <th>2</th>\n",
       "      <td>11179863</td>\n",
       "      <td>male</td>\n",
       "      <td>69</td>\n",
       "      <td>179.0</td>\n",
       "      <td>79.0</td>\n",
       "      <td>5.0</td>\n",
       "      <td>88.0</td>\n",
       "      <td>38.7</td>\n",
       "      <td>26.0</td>\n",
       "    </tr>\n",
       "    <tr>\n",
       "      <th>3</th>\n",
       "      <td>16180408</td>\n",
       "      <td>female</td>\n",
       "      <td>34</td>\n",
       "      <td>179.0</td>\n",
       "      <td>71.0</td>\n",
       "      <td>13.0</td>\n",
       "      <td>100.0</td>\n",
       "      <td>40.5</td>\n",
       "      <td>71.0</td>\n",
       "    </tr>\n",
       "    <tr>\n",
       "      <th>4</th>\n",
       "      <td>17771927</td>\n",
       "      <td>female</td>\n",
       "      <td>27</td>\n",
       "      <td>154.0</td>\n",
       "      <td>58.0</td>\n",
       "      <td>10.0</td>\n",
       "      <td>81.0</td>\n",
       "      <td>39.8</td>\n",
       "      <td>35.0</td>\n",
       "    </tr>\n",
       "  </tbody>\n",
       "</table>\n",
       "</div>"
      ],
      "text/plain": [
       "    User_ID  Gender  Age  Height  Weight  Duration  Heart_Rate  Body_Temp  \\\n",
       "0  14733363    male   68   190.0    94.0      29.0       105.0       40.8   \n",
       "1  14861698  female   20   166.0    60.0      14.0        94.0       40.3   \n",
       "2  11179863    male   69   179.0    79.0       5.0        88.0       38.7   \n",
       "3  16180408  female   34   179.0    71.0      13.0       100.0       40.5   \n",
       "4  17771927  female   27   154.0    58.0      10.0        81.0       39.8   \n",
       "\n",
       "   Calories  \n",
       "0     231.0  \n",
       "1      66.0  \n",
       "2      26.0  \n",
       "3      71.0  \n",
       "4      35.0  "
      ]
     },
     "execution_count": 47,
     "metadata": {},
     "output_type": "execute_result"
    }
   ],
   "source": [
    "combined_data.head()"
   ]
  },
  {
   "cell_type": "code",
   "execution_count": 48,
   "id": "4419b8ef",
   "metadata": {
    "execution": {
     "iopub.execute_input": "2022-06-25T05:44:13.660110Z",
     "iopub.status.busy": "2022-06-25T05:44:13.659433Z",
     "iopub.status.idle": "2022-06-25T05:44:13.666765Z",
     "shell.execute_reply": "2022-06-25T05:44:13.666081Z",
     "shell.execute_reply.started": "2022-03-26T17:16:16.78154Z"
    },
    "papermill": {
     "duration": 0.05967,
     "end_time": "2022-06-25T05:44:13.666956",
     "exception": false,
     "start_time": "2022-06-25T05:44:13.607286",
     "status": "completed"
    },
    "tags": []
   },
   "outputs": [
    {
     "data": {
      "text/plain": [
       "(15000, 9)"
      ]
     },
     "execution_count": 48,
     "metadata": {},
     "output_type": "execute_result"
    }
   ],
   "source": [
    "#checking the number of rows & columns\n",
    "combined_data.shape"
   ]
  },
  {
   "cell_type": "markdown",
   "id": "feb3d8c2",
   "metadata": {
    "papermill": {
     "duration": 0.049473,
     "end_time": "2022-06-25T05:44:13.765919",
     "exception": false,
     "start_time": "2022-06-25T05:44:13.716446",
     "status": "completed"
    },
    "tags": []
   },
   "source": [
    "**Hence our combined_data has 15,000 people with 9 different features**"
   ]
  },
  {
   "cell_type": "code",
   "execution_count": 49,
   "id": "98e09bc8",
   "metadata": {
    "execution": {
     "iopub.execute_input": "2022-06-25T05:44:13.879508Z",
     "iopub.status.busy": "2022-06-25T05:44:13.878483Z",
     "iopub.status.idle": "2022-06-25T05:44:13.898257Z",
     "shell.execute_reply": "2022-06-25T05:44:13.897404Z",
     "shell.execute_reply.started": "2022-03-26T17:16:16.794188Z"
    },
    "papermill": {
     "duration": 0.080433,
     "end_time": "2022-06-25T05:44:13.898510",
     "exception": false,
     "start_time": "2022-06-25T05:44:13.818077",
     "status": "completed"
    },
    "tags": []
   },
   "outputs": [
    {
     "name": "stdout",
     "output_type": "stream",
     "text": [
      "<class 'pandas.core.frame.DataFrame'>\n",
      "RangeIndex: 15000 entries, 0 to 14999\n",
      "Data columns (total 9 columns):\n",
      " #   Column      Non-Null Count  Dtype  \n",
      "---  ------      --------------  -----  \n",
      " 0   User_ID     15000 non-null  int64  \n",
      " 1   Gender      15000 non-null  object \n",
      " 2   Age         15000 non-null  int64  \n",
      " 3   Height      15000 non-null  float64\n",
      " 4   Weight      15000 non-null  float64\n",
      " 5   Duration    15000 non-null  float64\n",
      " 6   Heart_Rate  15000 non-null  float64\n",
      " 7   Body_Temp   15000 non-null  float64\n",
      " 8   Calories    15000 non-null  float64\n",
      "dtypes: float64(6), int64(2), object(1)\n",
      "memory usage: 1.0+ MB\n"
     ]
    }
   ],
   "source": [
    "#getting the information about the data most importantly to know about any missing values\n",
    "combined_data.info()"
   ]
  },
  {
   "cell_type": "code",
   "execution_count": 50,
   "id": "3046f16a",
   "metadata": {
    "execution": {
     "iopub.execute_input": "2022-06-25T05:44:14.003749Z",
     "iopub.status.busy": "2022-06-25T05:44:14.003064Z",
     "iopub.status.idle": "2022-06-25T05:44:14.013501Z",
     "shell.execute_reply": "2022-06-25T05:44:14.014461Z",
     "shell.execute_reply.started": "2022-03-26T17:16:16.81716Z"
    },
    "papermill": {
     "duration": 0.064791,
     "end_time": "2022-06-25T05:44:14.014696",
     "exception": false,
     "start_time": "2022-06-25T05:44:13.949905",
     "status": "completed"
    },
    "tags": []
   },
   "outputs": [
    {
     "data": {
      "text/plain": [
       "User_ID       0\n",
       "Gender        0\n",
       "Age           0\n",
       "Height        0\n",
       "Weight        0\n",
       "Duration      0\n",
       "Heart_Rate    0\n",
       "Body_Temp     0\n",
       "Calories      0\n",
       "dtype: int64"
      ]
     },
     "execution_count": 50,
     "metadata": {},
     "output_type": "execute_result"
    }
   ],
   "source": [
    "#checking the missing values\n",
    "combined_data.isnull().sum()"
   ]
  },
  {
   "cell_type": "markdown",
   "id": "7850b82f",
   "metadata": {
    "papermill": {
     "duration": 0.051244,
     "end_time": "2022-06-25T05:44:14.115896",
     "exception": false,
     "start_time": "2022-06-25T05:44:14.064652",
     "status": "completed"
    },
    "tags": []
   },
   "source": [
    "**ANALYSING THE DATA**"
   ]
  },
  {
   "cell_type": "code",
   "execution_count": 51,
   "id": "255bae65",
   "metadata": {
    "execution": {
     "iopub.execute_input": "2022-06-25T05:44:14.223475Z",
     "iopub.status.busy": "2022-06-25T05:44:14.222759Z",
     "iopub.status.idle": "2022-06-25T05:44:14.269528Z",
     "shell.execute_reply": "2022-06-25T05:44:14.270093Z",
     "shell.execute_reply.started": "2022-03-26T17:16:16.82937Z"
    },
    "papermill": {
     "duration": 0.101875,
     "end_time": "2022-06-25T05:44:14.270302",
     "exception": false,
     "start_time": "2022-06-25T05:44:14.168427",
     "status": "completed"
    },
    "tags": []
   },
   "outputs": [
    {
     "data": {
      "text/html": [
       "<div>\n",
       "<style scoped>\n",
       "    .dataframe tbody tr th:only-of-type {\n",
       "        vertical-align: middle;\n",
       "    }\n",
       "\n",
       "    .dataframe tbody tr th {\n",
       "        vertical-align: top;\n",
       "    }\n",
       "\n",
       "    .dataframe thead th {\n",
       "        text-align: right;\n",
       "    }\n",
       "</style>\n",
       "<table border=\"1\" class=\"dataframe\">\n",
       "  <thead>\n",
       "    <tr style=\"text-align: right;\">\n",
       "      <th></th>\n",
       "      <th>User_ID</th>\n",
       "      <th>Age</th>\n",
       "      <th>Height</th>\n",
       "      <th>Weight</th>\n",
       "      <th>Duration</th>\n",
       "      <th>Heart_Rate</th>\n",
       "      <th>Body_Temp</th>\n",
       "      <th>Calories</th>\n",
       "    </tr>\n",
       "  </thead>\n",
       "  <tbody>\n",
       "    <tr>\n",
       "      <th>count</th>\n",
       "      <td>1.500000e+04</td>\n",
       "      <td>15000.000000</td>\n",
       "      <td>15000.000000</td>\n",
       "      <td>15000.000000</td>\n",
       "      <td>15000.000000</td>\n",
       "      <td>15000.000000</td>\n",
       "      <td>15000.000000</td>\n",
       "      <td>15000.000000</td>\n",
       "    </tr>\n",
       "    <tr>\n",
       "      <th>mean</th>\n",
       "      <td>1.497736e+07</td>\n",
       "      <td>42.789800</td>\n",
       "      <td>174.465133</td>\n",
       "      <td>74.966867</td>\n",
       "      <td>15.530600</td>\n",
       "      <td>95.518533</td>\n",
       "      <td>40.025453</td>\n",
       "      <td>89.539533</td>\n",
       "    </tr>\n",
       "    <tr>\n",
       "      <th>std</th>\n",
       "      <td>2.872851e+06</td>\n",
       "      <td>16.980264</td>\n",
       "      <td>14.258114</td>\n",
       "      <td>15.035657</td>\n",
       "      <td>8.319203</td>\n",
       "      <td>9.583328</td>\n",
       "      <td>0.779230</td>\n",
       "      <td>62.456978</td>\n",
       "    </tr>\n",
       "    <tr>\n",
       "      <th>min</th>\n",
       "      <td>1.000116e+07</td>\n",
       "      <td>20.000000</td>\n",
       "      <td>123.000000</td>\n",
       "      <td>36.000000</td>\n",
       "      <td>1.000000</td>\n",
       "      <td>67.000000</td>\n",
       "      <td>37.100000</td>\n",
       "      <td>1.000000</td>\n",
       "    </tr>\n",
       "    <tr>\n",
       "      <th>25%</th>\n",
       "      <td>1.247419e+07</td>\n",
       "      <td>28.000000</td>\n",
       "      <td>164.000000</td>\n",
       "      <td>63.000000</td>\n",
       "      <td>8.000000</td>\n",
       "      <td>88.000000</td>\n",
       "      <td>39.600000</td>\n",
       "      <td>35.000000</td>\n",
       "    </tr>\n",
       "    <tr>\n",
       "      <th>50%</th>\n",
       "      <td>1.499728e+07</td>\n",
       "      <td>39.000000</td>\n",
       "      <td>175.000000</td>\n",
       "      <td>74.000000</td>\n",
       "      <td>16.000000</td>\n",
       "      <td>96.000000</td>\n",
       "      <td>40.200000</td>\n",
       "      <td>79.000000</td>\n",
       "    </tr>\n",
       "    <tr>\n",
       "      <th>75%</th>\n",
       "      <td>1.744928e+07</td>\n",
       "      <td>56.000000</td>\n",
       "      <td>185.000000</td>\n",
       "      <td>87.000000</td>\n",
       "      <td>23.000000</td>\n",
       "      <td>103.000000</td>\n",
       "      <td>40.600000</td>\n",
       "      <td>138.000000</td>\n",
       "    </tr>\n",
       "    <tr>\n",
       "      <th>max</th>\n",
       "      <td>1.999965e+07</td>\n",
       "      <td>79.000000</td>\n",
       "      <td>222.000000</td>\n",
       "      <td>132.000000</td>\n",
       "      <td>30.000000</td>\n",
       "      <td>128.000000</td>\n",
       "      <td>41.500000</td>\n",
       "      <td>314.000000</td>\n",
       "    </tr>\n",
       "  </tbody>\n",
       "</table>\n",
       "</div>"
      ],
      "text/plain": [
       "            User_ID           Age        Height        Weight      Duration  \\\n",
       "count  1.500000e+04  15000.000000  15000.000000  15000.000000  15000.000000   \n",
       "mean   1.497736e+07     42.789800    174.465133     74.966867     15.530600   \n",
       "std    2.872851e+06     16.980264     14.258114     15.035657      8.319203   \n",
       "min    1.000116e+07     20.000000    123.000000     36.000000      1.000000   \n",
       "25%    1.247419e+07     28.000000    164.000000     63.000000      8.000000   \n",
       "50%    1.499728e+07     39.000000    175.000000     74.000000     16.000000   \n",
       "75%    1.744928e+07     56.000000    185.000000     87.000000     23.000000   \n",
       "max    1.999965e+07     79.000000    222.000000    132.000000     30.000000   \n",
       "\n",
       "         Heart_Rate     Body_Temp      Calories  \n",
       "count  15000.000000  15000.000000  15000.000000  \n",
       "mean      95.518533     40.025453     89.539533  \n",
       "std        9.583328      0.779230     62.456978  \n",
       "min       67.000000     37.100000      1.000000  \n",
       "25%       88.000000     39.600000     35.000000  \n",
       "50%       96.000000     40.200000     79.000000  \n",
       "75%      103.000000     40.600000    138.000000  \n",
       "max      128.000000     41.500000    314.000000  "
      ]
     },
     "execution_count": 51,
     "metadata": {},
     "output_type": "execute_result"
    }
   ],
   "source": [
    "#To get stastical measures about the data\n",
    "combined_data.describe()"
   ]
  },
  {
   "cell_type": "markdown",
   "id": "326fdcec",
   "metadata": {
    "papermill": {
     "duration": 0.052554,
     "end_time": "2022-06-25T05:44:14.376931",
     "exception": false,
     "start_time": "2022-06-25T05:44:14.324377",
     "status": "completed"
    },
    "tags": []
   },
   "source": [
    "**Important inference**\n",
    "* Heart rate & body temperature is more when the person is doing excercise"
   ]
  },
  {
   "cell_type": "markdown",
   "id": "8a45d575",
   "metadata": {
    "papermill": {
     "duration": 0.052806,
     "end_time": "2022-06-25T05:44:14.485523",
     "exception": false,
     "start_time": "2022-06-25T05:44:14.432717",
     "status": "completed"
    },
    "tags": []
   },
   "source": [
    "**VISUALIZATION OF DATA**"
   ]
  },
  {
   "cell_type": "code",
   "execution_count": 52,
   "id": "d0683392",
   "metadata": {
    "execution": {
     "iopub.execute_input": "2022-06-25T05:44:14.591747Z",
     "iopub.status.busy": "2022-06-25T05:44:14.591049Z",
     "iopub.status.idle": "2022-06-25T05:44:14.595503Z",
     "shell.execute_reply": "2022-06-25T05:44:14.596289Z",
     "shell.execute_reply.started": "2022-03-26T17:16:16.870616Z"
    },
    "papermill": {
     "duration": 0.060098,
     "end_time": "2022-06-25T05:44:14.596507",
     "exception": false,
     "start_time": "2022-06-25T05:44:14.536409",
     "status": "completed"
    },
    "tags": []
   },
   "outputs": [],
   "source": [
    "sns.set()"
   ]
  },
  {
   "cell_type": "code",
   "execution_count": 53,
   "id": "e06ddbc5",
   "metadata": {
    "execution": {
     "iopub.execute_input": "2022-06-25T05:44:14.705885Z",
     "iopub.status.busy": "2022-06-25T05:44:14.705151Z",
     "iopub.status.idle": "2022-06-25T05:44:14.999431Z",
     "shell.execute_reply": "2022-06-25T05:44:14.998710Z",
     "shell.execute_reply.started": "2022-03-26T17:16:16.87695Z"
    },
    "papermill": {
     "duration": 0.35021,
     "end_time": "2022-06-25T05:44:14.999587",
     "exception": false,
     "start_time": "2022-06-25T05:44:14.649377",
     "status": "completed"
    },
    "tags": []
   },
   "outputs": [
    {
     "name": "stderr",
     "output_type": "stream",
     "text": [
      "C:\\Users\\HP\\anaconda3\\lib\\site-packages\\seaborn\\_decorators.py:36: FutureWarning: Pass the following variable as a keyword arg: x. From version 0.12, the only valid positional argument will be `data`, and passing other arguments without an explicit keyword will result in an error or misinterpretation.\n",
      "  warnings.warn(\n"
     ]
    },
    {
     "data": {
      "text/plain": [
       "<AxesSubplot:xlabel='Gender', ylabel='count'>"
      ]
     },
     "execution_count": 53,
     "metadata": {},
     "output_type": "execute_result"
    },
    {
     "data": {
      "image/png": "[encoded data removed]",
      "text/plain": [
       "<Figure size 640x480 with 1 Axes>"
      ]
     },
     "metadata": {},
     "output_type": "display_data"
    }
   ],
   "source": [
    "#inorder to find the distribution of males & females\n",
    "#plotting the gender column in count plot\n",
    "sns.countplot(combined_data['Gender'])"
   ]
  },
  {
   "cell_type": "markdown",
   "id": "4fae62b6",
   "metadata": {
    "papermill": {
     "duration": 0.056733,
     "end_time": "2022-06-25T05:44:15.111185",
     "exception": false,
     "start_time": "2022-06-25T05:44:15.054452",
     "status": "completed"
    },
    "tags": []
   },
   "source": [
    "**From the above plot, we can observe that the data is evenly distributed(almost 7000) for both males and females.**"
   ]
  },
  {
   "cell_type": "code",
   "execution_count": 54,
   "id": "0da96954",
   "metadata": {
    "execution": {
     "iopub.execute_input": "2022-06-25T05:44:15.227741Z",
     "iopub.status.busy": "2022-06-25T05:44:15.225484Z",
     "iopub.status.idle": "2022-06-25T05:44:15.790506Z",
     "shell.execute_reply": "2022-06-25T05:44:15.791092Z",
     "shell.execute_reply.started": "2022-03-26T17:16:17.115526Z"
    },
    "papermill": {
     "duration": 0.624805,
     "end_time": "2022-06-25T05:44:15.791305",
     "exception": false,
     "start_time": "2022-06-25T05:44:15.166500",
     "status": "completed"
    },
    "tags": []
   },
   "outputs": [
    {
     "name": "stderr",
     "output_type": "stream",
     "text": [
      "C:\\Users\\HP\\anaconda3\\lib\\site-packages\\seaborn\\distributions.py:2619: FutureWarning: `distplot` is a deprecated function and will be removed in a future version. Please adapt your code to use either `displot` (a figure-level function with similar flexibility) or `histplot` (an axes-level function for histograms).\n",
      "  warnings.warn(msg, FutureWarning)\n"
     ]
    },
    {
     "data": {
      "text/plain": [
       "<AxesSubplot:xlabel='Age', ylabel='Density'>"
      ]
     },
     "execution_count": 54,
     "metadata": {},
     "output_type": "execute_result"
    },
    {
     "data": {
      "image/png": "[encoded data removed]",
      "text/plain": [
       "<Figure size 640x480 with 1 Axes>"
      ]
     },
     "metadata": {},
     "output_type": "display_data"
    }
   ],
   "source": [
    "#inorder to find the distribution of age column\n",
    "sns.distplot(combined_data['Age'])"
   ]
  },
  {
   "cell_type": "markdown",
   "id": "0f4d009f",
   "metadata": {
    "papermill": {
     "duration": 0.055877,
     "end_time": "2022-06-25T05:44:15.902724",
     "exception": false,
     "start_time": "2022-06-25T05:44:15.846847",
     "status": "completed"
    },
    "tags": []
   },
   "source": [
    "**From the above plot, we can observe that the Age column has the mean value of 42 and the data is positively skewed & most of the datapoints are in between 20 to 50.**\n",
    "    "
   ]
  },
  {
   "cell_type": "code",
   "execution_count": 55,
   "id": "bc0b6d6c",
   "metadata": {
    "execution": {
     "iopub.execute_input": "2022-06-25T05:44:16.019428Z",
     "iopub.status.busy": "2022-06-25T05:44:16.018671Z",
     "iopub.status.idle": "2022-06-25T05:44:16.607913Z",
     "shell.execute_reply": "2022-06-25T05:44:16.608528Z",
     "shell.execute_reply.started": "2022-03-26T17:16:17.577512Z"
    },
    "papermill": {
     "duration": 0.649947,
     "end_time": "2022-06-25T05:44:16.608715",
     "exception": false,
     "start_time": "2022-06-25T05:44:15.958768",
     "status": "completed"
    },
    "tags": []
   },
   "outputs": [
    {
     "name": "stderr",
     "output_type": "stream",
     "text": [
      "C:\\Users\\HP\\anaconda3\\lib\\site-packages\\seaborn\\distributions.py:2619: FutureWarning: `distplot` is a deprecated function and will be removed in a future version. Please adapt your code to use either `displot` (a figure-level function with similar flexibility) or `histplot` (an axes-level function for histograms).\n",
      "  warnings.warn(msg, FutureWarning)\n"
     ]
    },
    {
     "data": {
      "text/plain": [
       "<AxesSubplot:xlabel='Height', ylabel='Density'>"
      ]
     },
     "execution_count": 55,
     "metadata": {},
     "output_type": "execute_result"
    },
    {
     "data": {
      "image/png": "[encoded data removed]",
      "text/plain": [
       "<Figure size 640x480 with 1 Axes>"
      ]
     },
     "metadata": {},
     "output_type": "display_data"
    }
   ],
   "source": [
    "#inorder to find the distribution of height column\n",
    "sns.distplot(combined_data['Height'])"
   ]
  },
  {
   "cell_type": "markdown",
   "id": "11429e10",
   "metadata": {
    "papermill": {
     "duration": 0.057891,
     "end_time": "2022-06-25T05:44:16.722319",
     "exception": false,
     "start_time": "2022-06-25T05:44:16.664428",
     "status": "completed"
    },
    "tags": []
   },
   "source": [
    "**Hence,from the above plot we can observe that the height data is normally distributed with mean of 174cm.**"
   ]
  },
  {
   "cell_type": "code",
   "execution_count": 56,
   "id": "ac0d22fe",
   "metadata": {
    "execution": {
     "iopub.execute_input": "2022-06-25T05:44:16.841562Z",
     "iopub.status.busy": "2022-06-25T05:44:16.840795Z",
     "iopub.status.idle": "2022-06-25T05:44:17.425319Z",
     "shell.execute_reply": "2022-06-25T05:44:17.426026Z",
     "shell.execute_reply.started": "2022-03-26T17:16:18.025655Z"
    },
    "papermill": {
     "duration": 0.645485,
     "end_time": "2022-06-25T05:44:17.426210",
     "exception": false,
     "start_time": "2022-06-25T05:44:16.780725",
     "status": "completed"
    },
    "tags": []
   },
   "outputs": [
    {
     "name": "stderr",
     "output_type": "stream",
     "text": [
      "C:\\Users\\HP\\anaconda3\\lib\\site-packages\\seaborn\\distributions.py:2619: FutureWarning: `distplot` is a deprecated function and will be removed in a future version. Please adapt your code to use either `displot` (a figure-level function with similar flexibility) or `histplot` (an axes-level function for histograms).\n",
      "  warnings.warn(msg, FutureWarning)\n"
     ]
    },
    {
     "data": {
      "text/plain": [
       "<AxesSubplot:xlabel='Weight', ylabel='Density'>"
      ]
     },
     "execution_count": 56,
     "metadata": {},
     "output_type": "execute_result"
    },
    {
     "data": {
      "image/png": "[encoded data removed]",
      "text/plain": [
       "<Figure size 640x480 with 1 Axes>"
      ]
     },
     "metadata": {},
     "output_type": "display_data"
    }
   ],
   "source": [
    "#inorder to find the distribution of weight column\n",
    "sns.distplot(combined_data['Weight'])"
   ]
  },
  {
   "cell_type": "markdown",
   "id": "a18df662",
   "metadata": {
    "papermill": {
     "duration": 0.05799,
     "end_time": "2022-06-25T05:44:17.543868",
     "exception": false,
     "start_time": "2022-06-25T05:44:17.485878",
     "status": "completed"
    },
    "tags": []
   },
   "source": [
    "**Hence,from the above plot we can observe that the weight data is also normally distributed with mean of 74 kg**"
   ]
  },
  {
   "cell_type": "code",
   "execution_count": 57,
   "id": "2af9390e",
   "metadata": {
    "execution": {
     "iopub.execute_input": "2022-06-25T05:44:17.666690Z",
     "iopub.status.busy": "2022-06-25T05:44:17.666011Z",
     "iopub.status.idle": "2022-06-25T05:44:18.211404Z",
     "shell.execute_reply": "2022-06-25T05:44:18.210794Z",
     "shell.execute_reply.started": "2022-03-26T17:16:18.490359Z"
    },
    "papermill": {
     "duration": 0.607847,
     "end_time": "2022-06-25T05:44:18.211568",
     "exception": false,
     "start_time": "2022-06-25T05:44:17.603721",
     "status": "completed"
    },
    "tags": []
   },
   "outputs": [
    {
     "name": "stderr",
     "output_type": "stream",
     "text": [
      "C:\\Users\\HP\\anaconda3\\lib\\site-packages\\seaborn\\distributions.py:2619: FutureWarning: `distplot` is a deprecated function and will be removed in a future version. Please adapt your code to use either `displot` (a figure-level function with similar flexibility) or `histplot` (an axes-level function for histograms).\n",
      "  warnings.warn(msg, FutureWarning)\n"
     ]
    },
    {
     "data": {
      "text/plain": [
       "<AxesSubplot:xlabel='Duration', ylabel='Density'>"
      ]
     },
     "execution_count": 57,
     "metadata": {},
     "output_type": "execute_result"
    },
    {
     "data": {
      "image/png": "[encoded data removed]",
      "text/plain": [
       "<Figure size 640x480 with 1 Axes>"
      ]
     },
     "metadata": {},
     "output_type": "display_data"
    }
   ],
   "source": [
    "sns.distplot(combined_data['Duration'])"
   ]
  },
  {
   "cell_type": "markdown",
   "id": "5331ab91",
   "metadata": {
    "execution": {
     "iopub.execute_input": "2022-01-26T11:00:33.686137Z",
     "iopub.status.busy": "2022-01-26T11:00:33.685268Z",
     "iopub.status.idle": "2022-01-26T11:00:33.692494Z",
     "shell.execute_reply": "2022-01-26T11:00:33.691271Z",
     "shell.execute_reply.started": "2022-01-26T11:00:33.68609Z"
    },
    "papermill": {
     "duration": 0.05944,
     "end_time": "2022-06-25T05:44:18.331514",
     "exception": false,
     "start_time": "2022-06-25T05:44:18.272074",
     "status": "completed"
    },
    "tags": []
   },
   "source": [
    "**Hence, from the above plot we can observe that the duration data is a low peaked data with mean of 15mins**"
   ]
  },
  {
   "cell_type": "code",
   "execution_count": 58,
   "id": "7f3483d9",
   "metadata": {
    "execution": {
     "iopub.execute_input": "2022-06-25T05:44:18.460488Z",
     "iopub.status.busy": "2022-06-25T05:44:18.459756Z",
     "iopub.status.idle": "2022-06-25T05:44:19.073177Z",
     "shell.execute_reply": "2022-06-25T05:44:19.072476Z",
     "shell.execute_reply.started": "2022-03-26T17:16:18.864107Z"
    },
    "papermill": {
     "duration": 0.678893,
     "end_time": "2022-06-25T05:44:19.073359",
     "exception": false,
     "start_time": "2022-06-25T05:44:18.394466",
     "status": "completed"
    },
    "tags": []
   },
   "outputs": [
    {
     "name": "stderr",
     "output_type": "stream",
     "text": [
      "C:\\Users\\HP\\anaconda3\\lib\\site-packages\\seaborn\\distributions.py:2619: FutureWarning: `distplot` is a deprecated function and will be removed in a future version. Please adapt your code to use either `displot` (a figure-level function with similar flexibility) or `histplot` (an axes-level function for histograms).\n",
      "  warnings.warn(msg, FutureWarning)\n"
     ]
    },
    {
     "data": {
      "text/plain": [
       "<AxesSubplot:xlabel='Heart_Rate', ylabel='Density'>"
      ]
     },
     "execution_count": 58,
     "metadata": {},
     "output_type": "execute_result"
    },
    {
     "data": {
      "image/png": "[encoded data removed]",
      "text/plain": [
       "<Figure size 640x480 with 1 Axes>"
      ]
     },
     "metadata": {},
     "output_type": "display_data"
    }
   ],
   "source": [
    "sns.distplot(combined_data['Heart_Rate'])"
   ]
  },
  {
   "cell_type": "markdown",
   "id": "58e2e32c",
   "metadata": {
    "execution": {
     "iopub.execute_input": "2022-01-26T11:00:34.843311Z",
     "iopub.status.busy": "2022-01-26T11:00:34.842439Z",
     "iopub.status.idle": "2022-01-26T11:00:34.849297Z",
     "shell.execute_reply": "2022-01-26T11:00:34.84801Z",
     "shell.execute_reply.started": "2022-01-26T11:00:34.843264Z"
    },
    "papermill": {
     "duration": 0.06367,
     "end_time": "2022-06-25T05:44:19.200276",
     "exception": false,
     "start_time": "2022-06-25T05:44:19.136606",
     "status": "completed"
    },
    "tags": []
   },
   "source": [
    "**Hence,from the above plot we can observe that the heart rate column is normally distributed with mean of 95 heart beats with several outliers.**"
   ]
  },
  {
   "cell_type": "code",
   "execution_count": 59,
   "id": "c0927605",
   "metadata": {
    "execution": {
     "iopub.execute_input": "2022-06-25T05:44:19.480816Z",
     "iopub.status.busy": "2022-06-25T05:44:19.480028Z",
     "iopub.status.idle": "2022-06-25T05:44:20.077296Z",
     "shell.execute_reply": "2022-06-25T05:44:20.076691Z",
     "shell.execute_reply.started": "2022-03-26T17:16:19.321951Z"
    },
    "papermill": {
     "duration": 0.813483,
     "end_time": "2022-06-25T05:44:20.077449",
     "exception": false,
     "start_time": "2022-06-25T05:44:19.263966",
     "status": "completed"
    },
    "tags": []
   },
   "outputs": [
    {
     "name": "stderr",
     "output_type": "stream",
     "text": [
      "C:\\Users\\HP\\anaconda3\\lib\\site-packages\\seaborn\\distributions.py:2619: FutureWarning: `distplot` is a deprecated function and will be removed in a future version. Please adapt your code to use either `displot` (a figure-level function with similar flexibility) or `histplot` (an axes-level function for histograms).\n",
      "  warnings.warn(msg, FutureWarning)\n"
     ]
    },
    {
     "data": {
      "text/plain": [
       "<AxesSubplot:xlabel='Body_Temp', ylabel='Density'>"
      ]
     },
     "execution_count": 59,
     "metadata": {},
     "output_type": "execute_result"
    },
    {
     "data": {
      "image/png": "[encoded data removed]",
      "text/plain": [
       "<Figure size 640x480 with 1 Axes>"
      ]
     },
     "metadata": {},
     "output_type": "display_data"
    }
   ],
   "source": [
    "sns.distplot(combined_data['Body_Temp'])"
   ]
  },
  {
   "cell_type": "markdown",
   "id": "e6c746e3",
   "metadata": {
    "execution": {
     "iopub.execute_input": "2022-01-26T11:00:36.018584Z",
     "iopub.status.busy": "2022-01-26T11:00:36.017526Z",
     "iopub.status.idle": "2022-01-26T11:00:36.024606Z",
     "shell.execute_reply": "2022-01-26T11:00:36.023416Z",
     "shell.execute_reply.started": "2022-01-26T11:00:36.018537Z"
    },
    "papermill": {
     "duration": 0.062832,
     "end_time": "2022-06-25T05:44:20.202349",
     "exception": false,
     "start_time": "2022-06-25T05:44:20.139517",
     "status": "completed"
    },
    "tags": []
   },
   "source": [
    "**Hence,from the above plot we can observe that the temperature column is negatively skewed with mean of 40.**"
   ]
  },
  {
   "cell_type": "markdown",
   "id": "10254329",
   "metadata": {
    "papermill": {
     "duration": 0.065466,
     "end_time": "2022-06-25T05:44:20.330912",
     "exception": false,
     "start_time": "2022-06-25T05:44:20.265446",
     "status": "completed"
    },
    "tags": []
   },
   "source": [
    "**TO FIND THE CORRELATION IN THE DATA**\n",
    "\n",
    "Duration & calories are directly proportional=positively correlated\n"
   ]
  },
  {
   "cell_type": "code",
   "execution_count": 60,
   "id": "64804d96",
   "metadata": {
    "execution": {
     "iopub.execute_input": "2022-06-25T05:44:20.500339Z",
     "iopub.status.busy": "2022-06-25T05:44:20.499604Z",
     "iopub.status.idle": "2022-06-25T05:44:20.507758Z",
     "shell.execute_reply": "2022-06-25T05:44:20.508380Z",
     "shell.execute_reply.started": "2022-03-26T17:16:19.897233Z"
    },
    "papermill": {
     "duration": 0.094182,
     "end_time": "2022-06-25T05:44:20.508600",
     "exception": false,
     "start_time": "2022-06-25T05:44:20.414418",
     "status": "completed"
    },
    "tags": []
   },
   "outputs": [],
   "source": [
    "correlation = combined_data.corr()"
   ]
  },
  {
   "cell_type": "markdown",
   "id": "7c4f3bfb",
   "metadata": {
    "papermill": {
     "duration": 0.063675,
     "end_time": "2022-06-25T05:44:20.635133",
     "exception": false,
     "start_time": "2022-06-25T05:44:20.571458",
     "status": "completed"
    },
    "tags": []
   },
   "source": [
    "**Construction of heat map for the understanding of correlation**"
   ]
  },
  {
   "cell_type": "code",
   "execution_count": 61,
   "id": "bbfce52a",
   "metadata": {
    "execution": {
     "iopub.execute_input": "2022-06-25T05:44:20.785681Z",
     "iopub.status.busy": "2022-06-25T05:44:20.784927Z",
     "iopub.status.idle": "2022-06-25T05:44:21.617910Z",
     "shell.execute_reply": "2022-06-25T05:44:21.617303Z",
     "shell.execute_reply.started": "2022-03-26T17:16:19.907678Z"
    },
    "papermill": {
     "duration": 0.919139,
     "end_time": "2022-06-25T05:44:21.618066",
     "exception": false,
     "start_time": "2022-06-25T05:44:20.698927",
     "status": "completed"
    },
    "tags": []
   },
   "outputs": [
    {
     "data": {
      "text/plain": [
       "<AxesSubplot:>"
      ]
     },
     "execution_count": 61,
     "metadata": {},
     "output_type": "execute_result"
    },
    {
     "data": {
      "image/png": "[encoded data removed]",
      "text/plain": [
       "<Figure size 1000x1000 with 2 Axes>"
      ]
     },
     "metadata": {},
     "output_type": "display_data"
    }
   ],
   "source": [
    "plt.figure(figsize=(10,10))\n",
    "sns.heatmap(correlation, cbar=True, square=True, fmt='.1f', annot=True, annot_kws={'size':8}, cmap='Purples')"
   ]
  },
  {
   "cell_type": "markdown",
   "id": "e9e38d21",
   "metadata": {
    "papermill": {
     "duration": 0.068214,
     "end_time": "2022-06-25T05:44:21.751074",
     "exception": false,
     "start_time": "2022-06-25T05:44:21.682860",
     "status": "completed"
    },
    "tags": []
   },
   "source": [
    "**CONVERSION OF TEXT DATA TO NUMERICAL VALUES**"
   ]
  },
  {
   "cell_type": "code",
   "execution_count": 62,
   "id": "054006b8",
   "metadata": {
    "execution": {
     "iopub.execute_input": "2022-06-25T05:44:21.893061Z",
     "iopub.status.busy": "2022-06-25T05:44:21.892356Z",
     "iopub.status.idle": "2022-06-25T05:44:21.918478Z",
     "shell.execute_reply": "2022-06-25T05:44:21.917896Z",
     "shell.execute_reply.started": "2022-03-26T17:16:20.523537Z"
    },
    "papermill": {
     "duration": 0.101943,
     "end_time": "2022-06-25T05:44:21.918636",
     "exception": false,
     "start_time": "2022-06-25T05:44:21.816693",
     "status": "completed"
    },
    "tags": []
   },
   "outputs": [
    {
     "data": {
      "text/html": [
       "<div>\n",
       "<style scoped>\n",
       "    .dataframe tbody tr th:only-of-type {\n",
       "        vertical-align: middle;\n",
       "    }\n",
       "\n",
       "    .dataframe tbody tr th {\n",
       "        vertical-align: top;\n",
       "    }\n",
       "\n",
       "    .dataframe thead th {\n",
       "        text-align: right;\n",
       "    }\n",
       "</style>\n",
       "<table border=\"1\" class=\"dataframe\">\n",
       "  <thead>\n",
       "    <tr style=\"text-align: right;\">\n",
       "      <th></th>\n",
       "      <th>User_ID</th>\n",
       "      <th>Gender</th>\n",
       "      <th>Age</th>\n",
       "      <th>Height</th>\n",
       "      <th>Weight</th>\n",
       "      <th>Duration</th>\n",
       "      <th>Heart_Rate</th>\n",
       "      <th>Body_Temp</th>\n",
       "      <th>Calories</th>\n",
       "    </tr>\n",
       "  </thead>\n",
       "  <tbody>\n",
       "    <tr>\n",
       "      <th>0</th>\n",
       "      <td>14733363</td>\n",
       "      <td>0</td>\n",
       "      <td>68</td>\n",
       "      <td>190.0</td>\n",
       "      <td>94.0</td>\n",
       "      <td>29.0</td>\n",
       "      <td>105.0</td>\n",
       "      <td>40.8</td>\n",
       "      <td>231.0</td>\n",
       "    </tr>\n",
       "    <tr>\n",
       "      <th>1</th>\n",
       "      <td>14861698</td>\n",
       "      <td>1</td>\n",
       "      <td>20</td>\n",
       "      <td>166.0</td>\n",
       "      <td>60.0</td>\n",
       "      <td>14.0</td>\n",
       "      <td>94.0</td>\n",
       "      <td>40.3</td>\n",
       "      <td>66.0</td>\n",
       "    </tr>\n",
       "    <tr>\n",
       "      <th>2</th>\n",
       "      <td>11179863</td>\n",
       "      <td>0</td>\n",
       "      <td>69</td>\n",
       "      <td>179.0</td>\n",
       "      <td>79.0</td>\n",
       "      <td>5.0</td>\n",
       "      <td>88.0</td>\n",
       "      <td>38.7</td>\n",
       "      <td>26.0</td>\n",
       "    </tr>\n",
       "    <tr>\n",
       "      <th>3</th>\n",
       "      <td>16180408</td>\n",
       "      <td>1</td>\n",
       "      <td>34</td>\n",
       "      <td>179.0</td>\n",
       "      <td>71.0</td>\n",
       "      <td>13.0</td>\n",
       "      <td>100.0</td>\n",
       "      <td>40.5</td>\n",
       "      <td>71.0</td>\n",
       "    </tr>\n",
       "    <tr>\n",
       "      <th>4</th>\n",
       "      <td>17771927</td>\n",
       "      <td>1</td>\n",
       "      <td>27</td>\n",
       "      <td>154.0</td>\n",
       "      <td>58.0</td>\n",
       "      <td>10.0</td>\n",
       "      <td>81.0</td>\n",
       "      <td>39.8</td>\n",
       "      <td>35.0</td>\n",
       "    </tr>\n",
       "  </tbody>\n",
       "</table>\n",
       "</div>"
      ],
      "text/plain": [
       "    User_ID  Gender  Age  Height  Weight  Duration  Heart_Rate  Body_Temp  \\\n",
       "0  14733363       0   68   190.0    94.0      29.0       105.0       40.8   \n",
       "1  14861698       1   20   166.0    60.0      14.0        94.0       40.3   \n",
       "2  11179863       0   69   179.0    79.0       5.0        88.0       38.7   \n",
       "3  16180408       1   34   179.0    71.0      13.0       100.0       40.5   \n",
       "4  17771927       1   27   154.0    58.0      10.0        81.0       39.8   \n",
       "\n",
       "   Calories  \n",
       "0     231.0  \n",
       "1      66.0  \n",
       "2      26.0  \n",
       "3      71.0  \n",
       "4      35.0  "
      ]
     },
     "execution_count": 62,
     "metadata": {},
     "output_type": "execute_result"
    }
   ],
   "source": [
    "combined_data.replace({'Gender':{'male':0,'female':1}},inplace=True)\n",
    "combined_data.head()"
   ]
  },
  {
   "cell_type": "markdown",
   "id": "766f6c70",
   "metadata": {
    "papermill": {
     "duration": 0.066462,
     "end_time": "2022-06-25T05:44:22.051137",
     "exception": false,
     "start_time": "2022-06-25T05:44:21.984675",
     "status": "completed"
    },
    "tags": []
   },
   "source": [
    "**SEPARATION OF FEATURES AND TARGET**"
   ]
  },
  {
   "cell_type": "code",
   "execution_count": 63,
   "id": "b6ea36fe",
   "metadata": {
    "execution": {
     "iopub.execute_input": "2022-06-25T05:44:22.192576Z",
     "iopub.status.busy": "2022-06-25T05:44:22.191867Z",
     "iopub.status.idle": "2022-06-25T05:44:22.197710Z",
     "shell.execute_reply": "2022-06-25T05:44:22.197098Z",
     "shell.execute_reply.started": "2022-03-26T17:16:20.549458Z"
    },
    "papermill": {
     "duration": 0.079015,
     "end_time": "2022-06-25T05:44:22.197887",
     "exception": false,
     "start_time": "2022-06-25T05:44:22.118872",
     "status": "completed"
    },
    "tags": []
   },
   "outputs": [],
   "source": [
    "X=combined_data.drop(['User_ID','Calories'],axis=1)\n",
    "Y=combined_data['Calories']"
   ]
  },
  {
   "cell_type": "code",
   "execution_count": 64,
   "id": "60356b00",
   "metadata": {
    "execution": {
     "iopub.execute_input": "2022-06-25T05:44:22.347917Z",
     "iopub.status.busy": "2022-06-25T05:44:22.347173Z",
     "iopub.status.idle": "2022-06-25T05:44:22.351914Z",
     "shell.execute_reply": "2022-06-25T05:44:22.352553Z",
     "shell.execute_reply.started": "2022-03-26T17:16:20.564434Z"
    },
    "papermill": {
     "duration": 0.088433,
     "end_time": "2022-06-25T05:44:22.352745",
     "exception": false,
     "start_time": "2022-06-25T05:44:22.264312",
     "status": "completed"
    },
    "tags": []
   },
   "outputs": [
    {
     "name": "stdout",
     "output_type": "stream",
     "text": [
      "       Gender  Age  Height  Weight  Duration  Heart_Rate  Body_Temp\n",
      "0           0   68   190.0    94.0      29.0       105.0       40.8\n",
      "1           1   20   166.0    60.0      14.0        94.0       40.3\n",
      "2           0   69   179.0    79.0       5.0        88.0       38.7\n",
      "3           1   34   179.0    71.0      13.0       100.0       40.5\n",
      "4           1   27   154.0    58.0      10.0        81.0       39.8\n",
      "...       ...  ...     ...     ...       ...         ...        ...\n",
      "14995       1   20   193.0    86.0      11.0        92.0       40.4\n",
      "14996       1   27   165.0    65.0       6.0        85.0       39.2\n",
      "14997       1   43   159.0    58.0      16.0        90.0       40.1\n",
      "14998       0   78   193.0    97.0       2.0        84.0       38.3\n",
      "14999       0   63   173.0    79.0      18.0        92.0       40.5\n",
      "\n",
      "[15000 rows x 7 columns]\n"
     ]
    }
   ],
   "source": [
    "print(X)"
   ]
  },
  {
   "cell_type": "code",
   "execution_count": 65,
   "id": "e417b5f3",
   "metadata": {
    "execution": {
     "iopub.execute_input": "2022-06-25T05:44:22.496799Z",
     "iopub.status.busy": "2022-06-25T05:44:22.496091Z",
     "iopub.status.idle": "2022-06-25T05:44:22.499818Z",
     "shell.execute_reply": "2022-06-25T05:44:22.499127Z",
     "shell.execute_reply.started": "2022-03-26T17:16:20.584701Z"
    },
    "papermill": {
     "duration": 0.079334,
     "end_time": "2022-06-25T05:44:22.499972",
     "exception": false,
     "start_time": "2022-06-25T05:44:22.420638",
     "status": "completed"
    },
    "tags": []
   },
   "outputs": [
    {
     "name": "stdout",
     "output_type": "stream",
     "text": [
      "0        231.0\n",
      "1         66.0\n",
      "2         26.0\n",
      "3         71.0\n",
      "4         35.0\n",
      "         ...  \n",
      "14995     45.0\n",
      "14996     23.0\n",
      "14997     75.0\n",
      "14998     11.0\n",
      "14999     98.0\n",
      "Name: Calories, Length: 15000, dtype: float64\n"
     ]
    }
   ],
   "source": [
    "print(Y)"
   ]
  },
  {
   "cell_type": "markdown",
   "id": "0abd3057",
   "metadata": {
    "papermill": {
     "duration": 0.066881,
     "end_time": "2022-06-25T05:44:22.634105",
     "exception": false,
     "start_time": "2022-06-25T05:44:22.567224",
     "status": "completed"
    },
    "tags": []
   },
   "source": [
    "**SPLIT THE DATA INTO TRAINING DATA & TEST DATA**"
   ]
  },
  {
   "cell_type": "code",
   "execution_count": 66,
   "id": "f07e6499",
   "metadata": {
    "execution": {
     "iopub.execute_input": "2022-06-25T05:44:22.781629Z",
     "iopub.status.busy": "2022-06-25T05:44:22.780915Z",
     "iopub.status.idle": "2022-06-25T05:44:22.784961Z",
     "shell.execute_reply": "2022-06-25T05:44:22.785489Z",
     "shell.execute_reply.started": "2022-03-26T17:16:20.593301Z"
    },
    "papermill": {
     "duration": 0.080184,
     "end_time": "2022-06-25T05:44:22.785680",
     "exception": false,
     "start_time": "2022-06-25T05:44:22.705496",
     "status": "completed"
    },
    "tags": []
   },
   "outputs": [],
   "source": [
    "X_train,X_test,Y_train,Y_test = train_test_split(X,Y,test_size=0.2,random_state=2)"
   ]
  },
  {
   "cell_type": "code",
   "execution_count": 67,
   "id": "e596fc55",
   "metadata": {
    "execution": {
     "iopub.execute_input": "2022-06-25T05:44:22.926546Z",
     "iopub.status.busy": "2022-06-25T05:44:22.925697Z",
     "iopub.status.idle": "2022-06-25T05:44:22.930951Z",
     "shell.execute_reply": "2022-06-25T05:44:22.931550Z",
     "shell.execute_reply.started": "2022-03-26T17:16:20.611062Z"
    },
    "papermill": {
     "duration": 0.07839,
     "end_time": "2022-06-25T05:44:22.931732",
     "exception": false,
     "start_time": "2022-06-25T05:44:22.853342",
     "status": "completed"
    },
    "tags": []
   },
   "outputs": [
    {
     "name": "stdout",
     "output_type": "stream",
     "text": [
      "(15000, 7) (12000, 7) (3000, 7)\n"
     ]
    }
   ],
   "source": [
    "print(X.shape,X_train.shape,X_test.shape)"
   ]
  },
  {
   "cell_type": "markdown",
   "id": "4edcbfe9",
   "metadata": {
    "papermill": {
     "duration": 0.068535,
     "end_time": "2022-06-25T05:44:23.069213",
     "exception": false,
     "start_time": "2022-06-25T05:44:23.000678",
     "status": "completed"
    },
    "tags": []
   },
   "source": [
    "Hence, we can observe that \n",
    "* X contains the orignal amount of data which is 15000\n",
    "* X_train contains 80% of the data which is 12000\n",
    "* X_test contains 20% of the data which is 3000"
   ]
  },
  {
   "cell_type": "markdown",
   "id": "2aa83ac5",
   "metadata": {
    "papermill": {
     "duration": 0.068083,
     "end_time": "2022-06-25T05:44:23.206887",
     "exception": false,
     "start_time": "2022-06-25T05:44:23.138804",
     "status": "completed"
    },
    "tags": []
   },
   "source": [
    "**MODEL IMPLEMENTATION : XGBoost Regressor**"
   ]
  },
  {
   "cell_type": "code",
   "execution_count": 68,
   "id": "426210b1",
   "metadata": {
    "execution": {
     "iopub.execute_input": "2022-06-25T05:44:23.347918Z",
     "iopub.status.busy": "2022-06-25T05:44:23.347232Z",
     "iopub.status.idle": "2022-06-25T05:44:23.351454Z",
     "shell.execute_reply": "2022-06-25T05:44:23.352029Z",
     "shell.execute_reply.started": "2022-03-26T17:16:20.617634Z"
    },
    "papermill": {
     "duration": 0.076424,
     "end_time": "2022-06-25T05:44:23.352210",
     "exception": false,
     "start_time": "2022-06-25T05:44:23.275786",
     "status": "completed"
    },
    "tags": []
   },
   "outputs": [],
   "source": [
    "#loading the model\n",
    "model = XGBRegressor()"
   ]
  },
  {
   "cell_type": "code",
   "execution_count": 69,
   "id": "ed852d9c",
   "metadata": {
    "execution": {
     "iopub.execute_input": "2022-06-25T05:44:23.491154Z",
     "iopub.status.busy": "2022-06-25T05:44:23.490465Z",
     "iopub.status.idle": "2022-06-25T05:44:24.283669Z",
     "shell.execute_reply": "2022-06-25T05:44:24.283081Z",
     "shell.execute_reply.started": "2022-03-26T17:16:20.62731Z"
    },
    "papermill": {
     "duration": 0.863812,
     "end_time": "2022-06-25T05:44:24.283823",
     "exception": false,
     "start_time": "2022-06-25T05:44:23.420011",
     "status": "completed"
    },
    "tags": []
   },
   "outputs": [
    {
     "data": {
      "text/html": [
       "<style>#sk-container-id-2 {color: black;}#sk-container-id-2 pre{padding: 0;}#sk-container-id-2 div.sk-toggleable {background-color: white;}#sk-container-id-2 label.sk-toggleable__label {cursor: pointer;display: block;width: 100%;margin-bottom: 0;padding: 0.3em;box-sizing: border-box;text-align: center;}#sk-container-id-2 label.sk-toggleable__label-arrow:before {content: \"▸\";float: left;margin-right: 0.25em;color: #696969;}#sk-container-id-2 label.sk-toggleable__label-arrow:hover:before {color: black;}#sk-container-id-2 div.sk-estimator:hover label.sk-toggleable__label-arrow:before {color: black;}#sk-container-id-2 div.sk-toggleable__content {max-height: 0;max-width: 0;overflow: hidden;text-align: left;background-color: #f0f8ff;}#sk-container-id-2 div.sk-toggleable__content pre {margin: 0.2em;color: black;border-radius: 0.25em;background-color: #f0f8ff;}#sk-container-id-2 input.sk-toggleable__control:checked~div.sk-toggleable__content {max-height: 200px;max-width: 100%;overflow: auto;}#sk-container-id-2 input.sk-toggleable__control:checked~label.sk-toggleable__label-arrow:before {content: \"▾\";}#sk-container-id-2 div.sk-estimator input.sk-toggleable__control:checked~label.sk-toggleable__label {background-color: #d4ebff;}#sk-container-id-2 div.sk-label input.sk-toggleable__control:checked~label.sk-toggleable__label {background-color: #d4ebff;}#sk-container-id-2 input.sk-hidden--visually {border: 0;clip: rect(1px 1px 1px 1px);clip: rect(1px, 1px, 1px, 1px);height: 1px;margin: -1px;overflow: hidden;padding: 0;position: absolute;width: 1px;}#sk-container-id-2 div.sk-estimator {font-family: monospace;background-color: #f0f8ff;border: 1px dotted black;border-radius: 0.25em;box-sizing: border-box;margin-bottom: 0.5em;}#sk-container-id-2 div.sk-estimator:hover {background-color: #d4ebff;}#sk-container-id-2 div.sk-parallel-item::after {content: \"\";width: 100%;border-bottom: 1px solid gray;flex-grow: 1;}#sk-container-id-2 div.sk-label:hover label.sk-toggleable__label {background-color: #d4ebff;}#sk-container-id-2 div.sk-serial::before {content: \"\";position: absolute;border-left: 1px solid gray;box-sizing: border-box;top: 0;bottom: 0;left: 50%;z-index: 0;}#sk-container-id-2 div.sk-serial {display: flex;flex-direction: column;align-items: center;background-color: white;padding-right: 0.2em;padding-left: 0.2em;position: relative;}#sk-container-id-2 div.sk-item {position: relative;z-index: 1;}#sk-container-id-2 div.sk-parallel {display: flex;align-items: stretch;justify-content: center;background-color: white;position: relative;}#sk-container-id-2 div.sk-item::before, #sk-container-id-2 div.sk-parallel-item::before {content: \"\";position: absolute;border-left: 1px solid gray;box-sizing: border-box;top: 0;bottom: 0;left: 50%;z-index: -1;}#sk-container-id-2 div.sk-parallel-item {display: flex;flex-direction: column;z-index: 1;position: relative;background-color: white;}#sk-container-id-2 div.sk-parallel-item:first-child::after {align-self: flex-end;width: 50%;}#sk-container-id-2 div.sk-parallel-item:last-child::after {align-self: flex-start;width: 50%;}#sk-container-id-2 div.sk-parallel-item:only-child::after {width: 0;}#sk-container-id-2 div.sk-dashed-wrapped {border: 1px dashed gray;margin: 0 0.4em 0.5em 0.4em;box-sizing: border-box;padding-bottom: 0.4em;background-color: white;}#sk-container-id-2 div.sk-label label {font-family: monospace;font-weight: bold;display: inline-block;line-height: 1.2em;}#sk-container-id-2 div.sk-label-container {text-align: center;}#sk-container-id-2 div.sk-container {/* jupyter's `normalize.less` sets `[hidden] { display: none; }` but bootstrap.min.css set `[hidden] { display: none !important; }` so we also need the `!important` here to be able to override the default hidden behavior on the sphinx rendered scikit-learn.org. See: https://github.com/scikit-learn/scikit-learn/issues/21755 */display: inline-block !important;position: relative;}#sk-container-id-2 div.sk-text-repr-fallback {display: none;}</style><div id=\"sk-container-id-2\" class=\"sk-top-container\"><div class=\"sk-text-repr-fallback\"><pre>XGBRegressor(base_score=None, booster=None, callbacks=None,\n",
       "             colsample_bylevel=None, colsample_bynode=None,\n",
       "             colsample_bytree=None, early_stopping_rounds=None,\n",
       "             enable_categorical=False, eval_metric=None, feature_types=None,\n",
       "             gamma=None, gpu_id=None, grow_policy=None, importance_type=None,\n",
       "             interaction_constraints=None, learning_rate=None, max_bin=None,\n",
       "             max_cat_threshold=None, max_cat_to_onehot=None,\n",
       "             max_delta_step=None, max_depth=None, max_leaves=None,\n",
       "             min_child_weight=None, missing=nan, monotone_constraints=None,\n",
       "             n_estimators=100, n_jobs=None, num_parallel_tree=None,\n",
       "             predictor=None, random_state=None, ...)</pre><b>In a Jupyter environment, please rerun this cell to show the HTML representation or trust the notebook. <br />On GitHub, the HTML representation is unable to render, please try loading this page with nbviewer.org.</b></div><div class=\"sk-container\" hidden><div class=\"sk-item\"><div class=\"sk-estimator sk-toggleable\"><input class=\"sk-toggleable__control sk-hidden--visually\" id=\"sk-estimator-id-2\" type=\"checkbox\" checked><label for=\"sk-estimator-id-2\" class=\"sk-toggleable__label sk-toggleable__label-arrow\">XGBRegressor</label><div class=\"sk-toggleable__content\"><pre>XGBRegressor(base_score=None, booster=None, callbacks=None,\n",
       "             colsample_bylevel=None, colsample_bynode=None,\n",
       "             colsample_bytree=None, early_stopping_rounds=None,\n",
       "             enable_categorical=False, eval_metric=None, feature_types=None,\n",
       "             gamma=None, gpu_id=None, grow_policy=None, importance_type=None,\n",
       "             interaction_constraints=None, learning_rate=None, max_bin=None,\n",
       "             max_cat_threshold=None, max_cat_to_onehot=None,\n",
       "             max_delta_step=None, max_depth=None, max_leaves=None,\n",
       "             min_child_weight=None, missing=nan, monotone_constraints=None,\n",
       "             n_estimators=100, n_jobs=None, num_parallel_tree=None,\n",
       "             predictor=None, random_state=None, ...)</pre></div></div></div></div></div>"
      ],
      "text/plain": [
       "XGBRegressor(base_score=None, booster=None, callbacks=None,\n",
       "             colsample_bylevel=None, colsample_bynode=None,\n",
       "             colsample_bytree=None, early_stopping_rounds=None,\n",
       "             enable_categorical=False, eval_metric=None, feature_types=None,\n",
       "             gamma=None, gpu_id=None, grow_policy=None, importance_type=None,\n",
       "             interaction_constraints=None, learning_rate=None, max_bin=None,\n",
       "             max_cat_threshold=None, max_cat_to_onehot=None,\n",
       "             max_delta_step=None, max_depth=None, max_leaves=None,\n",
       "             min_child_weight=None, missing=nan, monotone_constraints=None,\n",
       "             n_estimators=100, n_jobs=None, num_parallel_tree=None,\n",
       "             predictor=None, random_state=None, ...)"
      ]
     },
     "execution_count": 69,
     "metadata": {},
     "output_type": "execute_result"
    }
   ],
   "source": [
    "#training the model with X_train\n",
    "model.fit(X_train,Y_train)"
   ]
  },
  {
   "cell_type": "markdown",
   "id": "bd4c7697",
   "metadata": {
    "papermill": {
     "duration": 0.068363,
     "end_time": "2022-06-25T05:44:24.421649",
     "exception": false,
     "start_time": "2022-06-25T05:44:24.353286",
     "status": "completed"
    },
    "tags": []
   },
   "source": [
    "**EVALUATION**\n",
    "\n",
    "Evaluation is done by test data"
   ]
  },
  {
   "cell_type": "markdown",
   "id": "32075573",
   "metadata": {
    "papermill": {
     "duration": 0.067378,
     "end_time": "2022-06-25T05:44:24.559332",
     "exception": false,
     "start_time": "2022-06-25T05:44:24.491954",
     "status": "completed"
    },
    "tags": []
   },
   "source": [
    "**PREDICTION OF THE DATA**"
   ]
  },
  {
   "cell_type": "code",
   "execution_count": 70,
   "id": "59173f9c",
   "metadata": {
    "execution": {
     "iopub.execute_input": "2022-06-25T05:44:24.702667Z",
     "iopub.status.busy": "2022-06-25T05:44:24.701552Z",
     "iopub.status.idle": "2022-06-25T05:44:24.713993Z",
     "shell.execute_reply": "2022-06-25T05:44:24.714672Z",
     "shell.execute_reply.started": "2022-03-26T17:16:21.332835Z"
    },
    "papermill": {
     "duration": 0.086556,
     "end_time": "2022-06-25T05:44:24.714901",
     "exception": false,
     "start_time": "2022-06-25T05:44:24.628345",
     "status": "completed"
    },
    "tags": []
   },
   "outputs": [],
   "source": [
    "calories_burnt_prediction = model.predict(X_test)"
   ]
  },
  {
   "cell_type": "code",
   "execution_count": 71,
   "id": "c6e264d3",
   "metadata": {
    "execution": {
     "iopub.execute_input": "2022-06-25T05:44:24.857388Z",
     "iopub.status.busy": "2022-06-25T05:44:24.856686Z",
     "iopub.status.idle": "2022-06-25T05:44:24.861321Z",
     "shell.execute_reply": "2022-06-25T05:44:24.860374Z",
     "shell.execute_reply.started": "2022-03-26T17:16:21.349339Z"
    },
    "papermill": {
     "duration": 0.076803,
     "end_time": "2022-06-25T05:44:24.861481",
     "exception": false,
     "start_time": "2022-06-25T05:44:24.784678",
     "status": "completed"
    },
    "tags": []
   },
   "outputs": [
    {
     "name": "stdout",
     "output_type": "stream",
     "text": [
      "[127.823784 226.00154   38.66253  ... 144.3636    22.767195  89.87375 ]\n"
     ]
    }
   ],
   "source": [
    "print(calories_burnt_prediction)"
   ]
  },
  {
   "cell_type": "markdown",
   "id": "f46c4b90",
   "metadata": {
    "papermill": {
     "duration": 0.066256,
     "end_time": "2022-06-25T05:44:24.997483",
     "exception": false,
     "start_time": "2022-06-25T05:44:24.931227",
     "status": "completed"
    },
    "tags": []
   },
   "source": [
    "**MEAN ABSOLUTE ERROR**"
   ]
  },
  {
   "cell_type": "code",
   "execution_count": 72,
   "id": "fa850b50",
   "metadata": {
    "execution": {
     "iopub.execute_input": "2022-06-25T05:44:25.139953Z",
     "iopub.status.busy": "2022-06-25T05:44:25.139201Z",
     "iopub.status.idle": "2022-06-25T05:44:25.141275Z",
     "shell.execute_reply": "2022-06-25T05:44:25.141847Z",
     "shell.execute_reply.started": "2022-03-26T17:16:21.358162Z"
    },
    "papermill": {
     "duration": 0.075837,
     "end_time": "2022-06-25T05:44:25.142036",
     "exception": false,
     "start_time": "2022-06-25T05:44:25.066199",
     "status": "completed"
    },
    "tags": []
   },
   "outputs": [],
   "source": [
    "MAE = metrics.mean_absolute_error(Y_test, calories_burnt_prediction)"
   ]
  },
  {
   "cell_type": "code",
   "execution_count": 73,
   "id": "e5687947",
   "metadata": {
    "execution": {
     "iopub.execute_input": "2022-06-25T05:44:25.282326Z",
     "iopub.status.busy": "2022-06-25T05:44:25.281603Z",
     "iopub.status.idle": "2022-06-25T05:44:25.287164Z",
     "shell.execute_reply": "2022-06-25T05:44:25.286312Z",
     "shell.execute_reply.started": "2022-03-26T17:16:21.367421Z"
    },
    "papermill": {
     "duration": 0.077534,
     "end_time": "2022-06-25T05:44:25.287421",
     "exception": false,
     "start_time": "2022-06-25T05:44:25.209887",
     "status": "completed"
    },
    "tags": []
   },
   "outputs": [
    {
     "name": "stdout",
     "output_type": "stream",
     "text": [
      "Mean Absolute Error =  1.4807048829992613\n"
     ]
    }
   ],
   "source": [
    "print(\"Mean Absolute Error = \",MAE)"
   ]
  },
  {
   "cell_type": "markdown",
   "id": "b76dff89",
   "metadata": {
    "papermill": {
     "duration": 0.070396,
     "end_time": "2022-06-25T05:44:25.428213",
     "exception": false,
     "start_time": "2022-06-25T05:44:25.357817",
     "status": "completed"
    },
    "tags": []
   },
   "source": [
    "**BUILDING A PREDICTIVE SYSTEM**\n",
    "* Building a predictive system inorder to find the calories burnt for the first individual from the dataset"
   ]
  },
  {
   "cell_type": "code",
   "execution_count": 74,
   "id": "d9d9296b",
   "metadata": {
    "execution": {
     "iopub.execute_input": "2022-06-25T05:44:25.578341Z",
     "iopub.status.busy": "2022-06-25T05:44:25.577531Z",
     "iopub.status.idle": "2022-06-25T05:44:25.580733Z",
     "shell.execute_reply": "2022-06-25T05:44:25.581321Z",
     "shell.execute_reply.started": "2022-03-26T17:16:21.377365Z"
    },
    "papermill": {
     "duration": 0.081473,
     "end_time": "2022-06-25T05:44:25.581507",
     "exception": false,
     "start_time": "2022-06-25T05:44:25.500034",
     "status": "completed"
    },
    "tags": []
   },
   "outputs": [
    {
     "name": "stdout",
     "output_type": "stream",
     "text": [
      "The calories burnt for the first individual in the dataset is predicted as  127.823784\n"
     ]
    }
   ],
   "source": [
    "input_data = (0,68,190.0,94.0,29.0,105.0,40.8,231)\n",
    "#input_data_as_numpy_array = np.asarray(input_data)\n",
    "#input_data_reshaped = input_data_as_numpy_array.reshape(1,-1)\n",
    "#prediction = model.predict(input_data_reshaped)\n",
    "#print(prediction)\n",
    "#print(\"The initial value is \",prediction[0])\n",
    "print(\"The calories burnt for the first individual in the dataset is predicted as \", calories_burnt_prediction[0])"
   ]
  },
  {
   "cell_type": "code",
   "execution_count": 75,
   "id": "53c08a37",
   "metadata": {
    "execution": {
     "iopub.execute_input": "2022-06-25T05:44:25.723237Z",
     "iopub.status.busy": "2022-06-25T05:44:25.722320Z",
     "iopub.status.idle": "2022-06-25T05:44:25.725462Z",
     "shell.execute_reply": "2022-06-25T05:44:25.726002Z",
     "shell.execute_reply.started": "2022-03-26T17:16:21.388806Z"
    },
    "papermill": {
     "duration": 0.077073,
     "end_time": "2022-06-25T05:44:25.726183",
     "exception": false,
     "start_time": "2022-06-25T05:44:25.649110",
     "status": "completed"
    },
    "tags": []
   },
   "outputs": [
    {
     "name": "stdout",
     "output_type": "stream",
     "text": [
      "Thus we have successfully predicted the calories burnt using XGBoost\n"
     ]
    }
   ],
   "source": [
    "print(\"Thus we have successfully predicted the calories burnt using XGBoost\")"
   ]
  }
 ],
 "metadata": {
  "kernelspec": {
   "display_name": "Python 3 (ipykernel)",
   "language": "python",
   "name": "python3"
  },
  "language_info": {
   "codemirror_mode": {
    "name": "ipython",
    "version": 3
   },
   "file_extension": ".py",
   "mimetype": "text/x-python",
   "name": "python",
   "nbconvert_exporter": "python",
   "pygments_lexer": "ipython3",
   "version": "3.9.13"
  },
  "papermill": {
   "default_parameters": {},
   "duration": 27.772206,
   "end_time": "2022-06-25T05:44:27.255580",
   "environment_variables": {},
   "exception": null,
   "input_path": "__notebook__.ipynb",
   "output_path": "__notebook__.ipynb",
   "parameters": {},
   "start_time": "2022-06-25T05:43:59.483374",
   "version": "2.3.3"
  }
 },
 "nbformat": 4,
 "nbformat_minor": 5
}
