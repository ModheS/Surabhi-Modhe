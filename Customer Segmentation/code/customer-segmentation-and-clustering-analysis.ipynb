{
 "cells": [
  {
   "cell_type": "markdown",
   "id": "50f8d30d",
   "metadata": {
    "papermill": {
     "duration": 0.014114,
     "end_time": "2022-02-18T05:09:12.184074",
     "exception": false,
     "start_time": "2022-02-18T05:09:12.169960",
     "status": "completed"
    },
    "tags": []
   },
   "source": [
    "<img src=\"https://image.freepik.com/free-photo/magnifier-glass-focus-manager-icon-which-is-among-staff-icons-human-development-recruitment-leadership-customer-target-group-concept_50039-3404.jpg\" class=\"center\" style=\"height:350px\">\n",
    "\n",
    "# <div style=\"color:white;display:fill;border-radius:5px;background-color:#67A4A4;letter-spacing:0.1px;overflow:hidden\"><p style=\"padding:20px;color:white;overflow:hidden;margin:0;font-size:110%;text-align:center\">Introduction</p></div>\n",
    "\n",
    "## <b><span style='color:#4F9898'>Business Goal</span> </b>\n",
    "To assist a supermarket increase their membership card conversion rate, I will explore different clustering techniques and perform a customer segmentation analysis. Customer segmentation describes the process of identifying similar groups of customers based on commonalities like shopping preferences and purchasing history and allows companies to market to each group more effectively. In this notebook, I will develop several clustering models to gain a better understanding of the types of customers the company has and identify strategies to increase their membership conversion rate, including K-Means Clustering, Hierarchical Clustering, and DBSCAN.\n",
    "\n",
    "<br>\n",
    "\n",
    "## <b><span style='color:#4F9898'>Data Overview</span> </b>\n",
    "\n",
    "The [data](https://www.kaggle.com/vjchoudhary7/customer-segmentation-tutorial-in-python) consists of 200 customers with information related to their age, gender, annual income, and spending score. The spending score is a numeric variable ranging from 1 to 100 and was assigned to customers based on behavior parameters and purchasing data. The data set also contains the customer's ID, which will be dropped before beginning the analysis. "
   ]
  },
  {
   "cell_type": "code",
   "execution_count": 9,
   "id": "52ae828e",
   "metadata": {
    "_kg_hide-input": true,
    "execution": {
     "iopub.execute_input": "2022-02-18T05:09:12.224932Z",
     "iopub.status.busy": "2022-02-18T05:09:12.224328Z",
     "iopub.status.idle": "2022-02-18T05:09:15.925493Z",
     "shell.execute_reply": "2022-02-18T05:09:15.925981Z",
     "shell.execute_reply.started": "2022-02-18T04:47:23.505216Z"
    },
    "papermill": {
     "duration": 3.727219,
     "end_time": "2022-02-18T05:09:15.926254",
     "exception": false,
     "start_time": "2022-02-18T05:09:12.199035",
     "status": "completed"
    },
    "tags": []
   },
   "outputs": [
    {
     "name": "stdout",
     "output_type": "stream",
     "text": [
      "There are 200 observations and 5 columns in the data set.\n",
      "There are 0 missing values in the data.\n"
     ]
    },
    {
     "data": {
      "text/html": [
       "<div>\n",
       "<style scoped>\n",
       "    .dataframe tbody tr th:only-of-type {\n",
       "        vertical-align: middle;\n",
       "    }\n",
       "\n",
       "    .dataframe tbody tr th {\n",
       "        vertical-align: top;\n",
       "    }\n",
       "\n",
       "    .dataframe thead th {\n",
       "        text-align: right;\n",
       "    }\n",
       "</style>\n",
       "<table border=\"1\" class=\"dataframe\">\n",
       "  <thead>\n",
       "    <tr style=\"text-align: right;\">\n",
       "      <th></th>\n",
       "      <th>CustomerID</th>\n",
       "      <th>Gender</th>\n",
       "      <th>Age</th>\n",
       "      <th>Annual Income</th>\n",
       "      <th>Spending Score</th>\n",
       "    </tr>\n",
       "  </thead>\n",
       "  <tbody>\n",
       "    <tr>\n",
       "      <th>0</th>\n",
       "      <td>1</td>\n",
       "      <td>Male</td>\n",
       "      <td>19</td>\n",
       "      <td>15</td>\n",
       "      <td>39</td>\n",
       "    </tr>\n",
       "    <tr>\n",
       "      <th>1</th>\n",
       "      <td>2</td>\n",
       "      <td>Male</td>\n",
       "      <td>21</td>\n",
       "      <td>15</td>\n",
       "      <td>81</td>\n",
       "    </tr>\n",
       "    <tr>\n",
       "      <th>2</th>\n",
       "      <td>3</td>\n",
       "      <td>Female</td>\n",
       "      <td>20</td>\n",
       "      <td>16</td>\n",
       "      <td>6</td>\n",
       "    </tr>\n",
       "    <tr>\n",
       "      <th>3</th>\n",
       "      <td>4</td>\n",
       "      <td>Female</td>\n",
       "      <td>23</td>\n",
       "      <td>16</td>\n",
       "      <td>77</td>\n",
       "    </tr>\n",
       "    <tr>\n",
       "      <th>4</th>\n",
       "      <td>5</td>\n",
       "      <td>Female</td>\n",
       "      <td>31</td>\n",
       "      <td>17</td>\n",
       "      <td>40</td>\n",
       "    </tr>\n",
       "  </tbody>\n",
       "</table>\n",
       "</div>"
      ],
      "text/plain": [
       "   CustomerID  Gender  Age  Annual Income  Spending Score\n",
       "0           1    Male   19             15              39\n",
       "1           2    Male   21             15              81\n",
       "2           3  Female   20             16               6\n",
       "3           4  Female   23             16              77\n",
       "4           5  Female   31             17              40"
      ]
     },
     "execution_count": 9,
     "metadata": {},
     "output_type": "execute_result"
    }
   ],
   "source": [
    "import os, warnings\n",
    "warnings.filterwarnings(\"ignore\")\n",
    "import pandas as pd\n",
    "import numpy as np\n",
    "import seaborn as sns\n",
    "import matplotlib.pyplot as plt\n",
    "import plotly.express as px\n",
    "import plotly.graph_objects as go\n",
    "import plotly.figure_factory as ff\n",
    "from plotly.subplots import make_subplots\n",
    "from plotly.offline import plot, iplot, init_notebook_mode\n",
    "from sklearn.preprocessing import StandardScaler, MinMaxScaler\n",
    "from scipy.cluster import hierarchy\n",
    "from sklearn.cluster import KMeans, AgglomerativeClustering, DBSCAN\n",
    "\n",
    "file_path = 'C:/Users/HP/Downloads/Placement 2023/Project/Customer Segmentation/Mall_Customers.csv'\n",
    "cust = pd.read_csv('Mall_Customers.csv', sep=',')\n",
    "cust.rename(columns={\"Annual Income (k$)\": \"Annual Income\", \"Spending Score (1-100)\": \"Spending Score\"}, inplace=True)\n",
    "print(\"There are {:,} observations and {} columns in the data set.\".format(cust.shape[0], cust.shape[1]))\n",
    "print(\"There are {} missing values in the data.\".format(cust.isna().sum().sum()))\n",
    "cust.head()"
   ]
  },
  {
   "cell_type": "markdown",
   "id": "ab4f84ae",
   "metadata": {
    "papermill": {
     "duration": 0.013226,
     "end_time": "2022-02-18T05:09:15.953931",
     "exception": false,
     "start_time": "2022-02-18T05:09:15.940705",
     "status": "completed"
    },
    "tags": []
   },
   "source": [
    "## <b><span style='color:#4F9898'>Data Summary</span></b>"
   ]
  },
  {
   "cell_type": "code",
   "execution_count": 10,
   "id": "35d7bed8",
   "metadata": {
    "_kg_hide-input": true,
    "execution": {
     "iopub.execute_input": "2022-02-18T05:09:15.996194Z",
     "iopub.status.busy": "2022-02-18T05:09:15.995597Z",
     "iopub.status.idle": "2022-02-18T05:09:16.059845Z",
     "shell.execute_reply": "2022-02-18T05:09:16.060262Z",
     "shell.execute_reply.started": "2022-02-18T04:47:25.316473Z"
    },
    "papermill": {
     "duration": 0.09295,
     "end_time": "2022-02-18T05:09:16.060430",
     "exception": false,
     "start_time": "2022-02-18T05:09:15.967480",
     "status": "completed"
    },
    "tags": []
   },
   "outputs": [
    {
     "data": {
      "text/html": [
       "<style type=\"text/css\">\n",
       "</style>\n",
       "<table id=\"T_a3ff7\">\n",
       "  <caption>Summary Statistics of Numeric Variables</caption>\n",
       "  <thead>\n",
       "    <tr>\n",
       "      <th class=\"blank level0\" >&nbsp;</th>\n",
       "      <th id=\"T_a3ff7_level0_col0\" class=\"col_heading level0 col0\" >Age</th>\n",
       "      <th id=\"T_a3ff7_level0_col1\" class=\"col_heading level0 col1\" >Annual Income</th>\n",
       "      <th id=\"T_a3ff7_level0_col2\" class=\"col_heading level0 col2\" >Spending Score</th>\n",
       "    </tr>\n",
       "  </thead>\n",
       "  <tbody>\n",
       "    <tr>\n",
       "      <th id=\"T_a3ff7_level0_row0\" class=\"row_heading level0 row0\" >count</th>\n",
       "      <td id=\"T_a3ff7_row0_col0\" class=\"data row0 col0\" >200.000000</td>\n",
       "      <td id=\"T_a3ff7_row0_col1\" class=\"data row0 col1\" >200.000000</td>\n",
       "      <td id=\"T_a3ff7_row0_col2\" class=\"data row0 col2\" >200.000000</td>\n",
       "    </tr>\n",
       "    <tr>\n",
       "      <th id=\"T_a3ff7_level0_row1\" class=\"row_heading level0 row1\" >mean</th>\n",
       "      <td id=\"T_a3ff7_row1_col0\" class=\"data row1 col0\" >38.850000</td>\n",
       "      <td id=\"T_a3ff7_row1_col1\" class=\"data row1 col1\" >60.560000</td>\n",
       "      <td id=\"T_a3ff7_row1_col2\" class=\"data row1 col2\" >50.200000</td>\n",
       "    </tr>\n",
       "    <tr>\n",
       "      <th id=\"T_a3ff7_level0_row2\" class=\"row_heading level0 row2\" >std</th>\n",
       "      <td id=\"T_a3ff7_row2_col0\" class=\"data row2 col0\" >13.969007</td>\n",
       "      <td id=\"T_a3ff7_row2_col1\" class=\"data row2 col1\" >26.264721</td>\n",
       "      <td id=\"T_a3ff7_row2_col2\" class=\"data row2 col2\" >25.823522</td>\n",
       "    </tr>\n",
       "    <tr>\n",
       "      <th id=\"T_a3ff7_level0_row3\" class=\"row_heading level0 row3\" >min</th>\n",
       "      <td id=\"T_a3ff7_row3_col0\" class=\"data row3 col0\" >18.000000</td>\n",
       "      <td id=\"T_a3ff7_row3_col1\" class=\"data row3 col1\" >15.000000</td>\n",
       "      <td id=\"T_a3ff7_row3_col2\" class=\"data row3 col2\" >1.000000</td>\n",
       "    </tr>\n",
       "    <tr>\n",
       "      <th id=\"T_a3ff7_level0_row4\" class=\"row_heading level0 row4\" >25%</th>\n",
       "      <td id=\"T_a3ff7_row4_col0\" class=\"data row4 col0\" >28.750000</td>\n",
       "      <td id=\"T_a3ff7_row4_col1\" class=\"data row4 col1\" >41.500000</td>\n",
       "      <td id=\"T_a3ff7_row4_col2\" class=\"data row4 col2\" >34.750000</td>\n",
       "    </tr>\n",
       "    <tr>\n",
       "      <th id=\"T_a3ff7_level0_row5\" class=\"row_heading level0 row5\" >50%</th>\n",
       "      <td id=\"T_a3ff7_row5_col0\" class=\"data row5 col0\" >36.000000</td>\n",
       "      <td id=\"T_a3ff7_row5_col1\" class=\"data row5 col1\" >61.500000</td>\n",
       "      <td id=\"T_a3ff7_row5_col2\" class=\"data row5 col2\" >50.000000</td>\n",
       "    </tr>\n",
       "    <tr>\n",
       "      <th id=\"T_a3ff7_level0_row6\" class=\"row_heading level0 row6\" >75%</th>\n",
       "      <td id=\"T_a3ff7_row6_col0\" class=\"data row6 col0\" >49.000000</td>\n",
       "      <td id=\"T_a3ff7_row6_col1\" class=\"data row6 col1\" >78.000000</td>\n",
       "      <td id=\"T_a3ff7_row6_col2\" class=\"data row6 col2\" >73.000000</td>\n",
       "    </tr>\n",
       "    <tr>\n",
       "      <th id=\"T_a3ff7_level0_row7\" class=\"row_heading level0 row7\" >max</th>\n",
       "      <td id=\"T_a3ff7_row7_col0\" class=\"data row7 col0\" >70.000000</td>\n",
       "      <td id=\"T_a3ff7_row7_col1\" class=\"data row7 col1\" >137.000000</td>\n",
       "      <td id=\"T_a3ff7_row7_col2\" class=\"data row7 col2\" >99.000000</td>\n",
       "    </tr>\n",
       "  </tbody>\n",
       "</table>\n"
      ],
      "text/plain": [
       "<pandas.io.formats.style.Styler at 0x1ae5b417580>"
      ]
     },
     "execution_count": 10,
     "metadata": {},
     "output_type": "execute_result"
    }
   ],
   "source": [
    "cust.drop('CustomerID', axis=1, inplace=True)\n",
    "pd.DataFrame(cust.describe()).style.set_caption(\"Summary Statistics of Numeric Variables\")"
   ]
  },
  {
   "cell_type": "code",
   "execution_count": 11,
   "id": "b44c8bcf",
   "metadata": {
    "_kg_hide-input": true,
    "execution": {
     "iopub.execute_input": "2022-02-18T05:09:16.101707Z",
     "iopub.status.busy": "2022-02-18T05:09:16.101087Z",
     "iopub.status.idle": "2022-02-18T05:09:16.104943Z",
     "shell.execute_reply": "2022-02-18T05:09:16.104456Z",
     "shell.execute_reply.started": "2022-02-18T04:47:29.501655Z"
    },
    "papermill": {
     "duration": 0.030676,
     "end_time": "2022-02-18T05:09:16.105081",
     "exception": false,
     "start_time": "2022-02-18T05:09:16.074405",
     "status": "completed"
    },
    "tags": []
   },
   "outputs": [
    {
     "data": {
      "text/html": [
       "<style type=\"text/css\">\n",
       "</style>\n",
       "<table id=\"T_e8985\">\n",
       "  <caption>Summary Statistics of Categorical Variables</caption>\n",
       "  <thead>\n",
       "    <tr>\n",
       "      <th class=\"blank level0\" >&nbsp;</th>\n",
       "      <th id=\"T_e8985_level0_col0\" class=\"col_heading level0 col0\" >count</th>\n",
       "      <th id=\"T_e8985_level0_col1\" class=\"col_heading level0 col1\" >unique</th>\n",
       "      <th id=\"T_e8985_level0_col2\" class=\"col_heading level0 col2\" >top</th>\n",
       "      <th id=\"T_e8985_level0_col3\" class=\"col_heading level0 col3\" >freq</th>\n",
       "    </tr>\n",
       "  </thead>\n",
       "  <tbody>\n",
       "    <tr>\n",
       "      <th id=\"T_e8985_level0_row0\" class=\"row_heading level0 row0\" >Gender</th>\n",
       "      <td id=\"T_e8985_row0_col0\" class=\"data row0 col0\" >200</td>\n",
       "      <td id=\"T_e8985_row0_col1\" class=\"data row0 col1\" >2</td>\n",
       "      <td id=\"T_e8985_row0_col2\" class=\"data row0 col2\" >Women</td>\n",
       "      <td id=\"T_e8985_row0_col3\" class=\"data row0 col3\" >112</td>\n",
       "    </tr>\n",
       "  </tbody>\n",
       "</table>\n"
      ],
      "text/plain": [
       "<pandas.io.formats.style.Styler at 0x1ae5b426fa0>"
      ]
     },
     "execution_count": 11,
     "metadata": {},
     "output_type": "execute_result"
    }
   ],
   "source": [
    "cust['Gender'] = ['Women' if i == 'Female' else 'Men' for i in cust.Gender]\n",
    "pd.DataFrame(cust.select_dtypes('object').describe().T).style.set_caption(\"Summary Statistics of Categorical Variables\")"
   ]
  },
  {
   "cell_type": "markdown",
   "id": "ad497787",
   "metadata": {
    "papermill": {
     "duration": 0.013934,
     "end_time": "2022-02-18T05:09:16.133670",
     "exception": false,
     "start_time": "2022-02-18T05:09:16.119736",
     "status": "completed"
    },
    "tags": []
   },
   "source": [
    "# <div style=\"color:white;display:fill;border-radius:5px;background-color:#67A4A4;letter-spacing:0.1px;overflow:hidden\"><p style=\"padding:20px;color:white;overflow:hidden;margin:0;font-size:110%;text-align:center\">Exploratory Data Analysis</p></div>"
   ]
  },
  {
   "cell_type": "code",
   "execution_count": 12,
   "id": "57bcf632",
   "metadata": {
    "_kg_hide-input": true,
    "execution": {
     "iopub.execute_input": "2022-02-18T05:09:16.185704Z",
     "iopub.status.busy": "2022-02-18T05:09:16.184987Z",
     "iopub.status.idle": "2022-02-18T05:09:16.812984Z",
     "shell.execute_reply": "2022-02-18T05:09:16.813406Z",
     "shell.execute_reply.started": "2022-02-18T04:50:38.21123Z"
    },
    "papermill": {
     "duration": 0.665736,
     "end_time": "2022-02-18T05:09:16.813588",
     "exception": false,
     "start_time": "2022-02-18T05:09:16.147852",
     "status": "completed"
    },
    "tags": []
   },
   "outputs": [
    {
     "data": {
      "text/html": [
       "        <script type=\"text/javascript\">\n",
       "        window.PlotlyConfig = {MathJaxConfig: 'local'};\n",
       "        if (window.MathJax && window.MathJax.Hub && window.MathJax.Hub.Config) {window.MathJax.Hub.Config({SVG: {font: \"STIX-Web\"}});}\n",
       "        if (typeof require !== 'undefined') {\n",
       "        require.undef(\"plotly\");\n",
       "        requirejs.config({\n",
       "            paths: {\n",
       "                'plotly': ['https://cdn.plot.ly/plotly-2.12.1.min']\n",
       "            }\n",
       "        });\n",
       "        require(['plotly'], function(Plotly) {\n",
       "            window._Plotly = Plotly;\n",
       "        });\n",
       "        }\n",
       "        </script>\n",
       "        "
      ]
     },
     "metadata": {},
     "output_type": "display_data"
    },
    {
     "data": {
      "application/vnd.plotly.v1+json": {
       "config": {
        "plotlyServerURL": "https://plot.ly"
       },
       "data": [
        {
         "histnorm": "probability density",
         "marker": {
          "color": "#508B8D",
          "line": {
           "color": "#000000",
           "width": 1
          },
          "opacity": 0.7
         },
         "name": "Men",
         "nbinsx": 20,
         "type": "histogram",
         "x": [
          19,
          21,
          64,
          67,
          37,
          22,
          20,
          52,
          35,
          25,
          31,
          29,
          35,
          60,
          53,
          18,
          24,
          48,
          33,
          59,
          47,
          69,
          53,
          70,
          19,
          63,
          18,
          19,
          70,
          59,
          26,
          40,
          57,
          38,
          67,
          48,
          18,
          48,
          24,
          48,
          20,
          67,
          26,
          49,
          54,
          68,
          66,
          65,
          19,
          27,
          39,
          43,
          40,
          59,
          38,
          47,
          39,
          20,
          32,
          19,
          32,
          25,
          28,
          48,
          34,
          43,
          39,
          37,
          34,
          19,
          50,
          42,
          32,
          40,
          28,
          36,
          36,
          58,
          27,
          59,
          35,
          46,
          30,
          28,
          33,
          32,
          32,
          30
         ],
         "xaxis": "x",
         "yaxis": "y"
        },
        {
         "histnorm": "probability density",
         "marker": {
          "color": "#F3D6CB",
          "line": {
           "color": "#000000",
           "width": 1
          },
          "opacity": 0.7
         },
         "name": "Women",
         "nbinsx": 20,
         "type": "histogram",
         "x": [
          20,
          23,
          31,
          22,
          35,
          23,
          30,
          35,
          58,
          24,
          35,
          35,
          46,
          54,
          45,
          40,
          23,
          21,
          49,
          21,
          42,
          30,
          36,
          20,
          65,
          31,
          49,
          24,
          50,
          27,
          29,
          31,
          49,
          31,
          50,
          51,
          27,
          67,
          54,
          43,
          68,
          32,
          47,
          60,
          60,
          45,
          23,
          49,
          46,
          21,
          55,
          22,
          34,
          50,
          68,
          40,
          32,
          47,
          27,
          23,
          49,
          21,
          66,
          19,
          38,
          18,
          19,
          63,
          49,
          51,
          50,
          38,
          40,
          23,
          31,
          25,
          31,
          29,
          44,
          35,
          57,
          28,
          32,
          32,
          34,
          44,
          38,
          47,
          27,
          30,
          30,
          56,
          29,
          31,
          36,
          33,
          36,
          52,
          30,
          37,
          32,
          29,
          41,
          54,
          41,
          36,
          34,
          32,
          38,
          47,
          35,
          45
         ],
         "xaxis": "x",
         "yaxis": "y"
        },
        {
         "hovertemplate": "Average Age Among %{x} = %{y} years<extra></extra>",
         "marker": {
          "color": [
           "#508B8D",
           "#F0CABD"
          ],
          "line": {
           "color": "#000000",
           "width": 1
          },
          "opacity": 0.8
         },
         "showlegend": false,
         "text": [
          40,
          38
         ],
         "textposition": "outside",
         "texttemplate": "%{text} years",
         "type": "bar",
         "width": 0.8,
         "x": [
          "Men",
          "Women"
         ],
         "xaxis": "x2",
         "y": [
          40,
          38
         ],
         "yaxis": "y2"
        },
        {
         "histnorm": "probability density",
         "marker": {
          "color": "#508B8D",
          "line": {
           "color": "#000000",
           "width": 1
          }
         },
         "name": "Men",
         "nbinsx": 20,
         "opacity": 0.7,
         "showlegend": false,
         "type": "histogram",
         "x": [
          15000,
          15000,
          19000,
          19000,
          20000,
          20000,
          21000,
          23000,
          24000,
          24000,
          25000,
          28000,
          28000,
          30000,
          33000,
          33000,
          38000,
          39000,
          42000,
          43000,
          43000,
          44000,
          46000,
          46000,
          46000,
          48000,
          48000,
          48000,
          49000,
          54000,
          54000,
          54000,
          54000,
          54000,
          54000,
          54000,
          59000,
          60000,
          60000,
          61000,
          61000,
          62000,
          62000,
          62000,
          63000,
          63000,
          63000,
          63000,
          64000,
          67000,
          69000,
          71000,
          71000,
          71000,
          71000,
          71000,
          71000,
          73000,
          73000,
          74000,
          75000,
          77000,
          77000,
          77000,
          78000,
          78000,
          78000,
          78000,
          78000,
          81000,
          85000,
          86000,
          87000,
          87000,
          87000,
          87000,
          87000,
          88000,
          88000,
          93000,
          93000,
          98000,
          99000,
          101000,
          113000,
          126000,
          137000,
          137000
         ],
         "xaxis": "x3",
         "yaxis": "y3"
        },
        {
         "histnorm": "probability density",
         "marker": {
          "color": "#F3D6CB",
          "line": {
           "color": "#000000",
           "width": 1
          }
         },
         "name": "Women",
         "nbinsx": 20,
         "opacity": 0.7,
         "showlegend": false,
         "type": "histogram",
         "x": [
          16000,
          16000,
          17000,
          17000,
          18000,
          18000,
          19000,
          19000,
          20000,
          20000,
          21000,
          23000,
          25000,
          28000,
          28000,
          29000,
          29000,
          30000,
          33000,
          33000,
          34000,
          34000,
          37000,
          37000,
          38000,
          39000,
          39000,
          39000,
          40000,
          40000,
          40000,
          40000,
          42000,
          43000,
          43000,
          44000,
          46000,
          47000,
          47000,
          48000,
          48000,
          48000,
          49000,
          50000,
          50000,
          54000,
          54000,
          54000,
          54000,
          54000,
          57000,
          57000,
          58000,
          58000,
          59000,
          60000,
          60000,
          60000,
          60000,
          62000,
          62000,
          62000,
          63000,
          63000,
          64000,
          65000,
          65000,
          65000,
          65000,
          67000,
          67000,
          67000,
          69000,
          70000,
          70000,
          72000,
          72000,
          73000,
          73000,
          74000,
          75000,
          76000,
          76000,
          77000,
          78000,
          78000,
          78000,
          78000,
          78000,
          78000,
          78000,
          79000,
          79000,
          81000,
          85000,
          86000,
          87000,
          88000,
          88000,
          97000,
          97000,
          98000,
          99000,
          101000,
          103000,
          103000,
          103000,
          103000,
          113000,
          120000,
          120000,
          126000
         ],
         "xaxis": "x3",
         "yaxis": "y3"
        },
        {
         "hovertemplate": "Average Income Among %{x} = $%{y}<extra></extra>",
         "marker": {
          "color": [
           "#508B8D",
           "#F0CABD"
          ],
          "line": {
           "color": "#000000",
           "width": 1
          },
          "opacity": 0.8
         },
         "showlegend": false,
         "text": [
          62227.27272727273,
          59250
         ],
         "textposition": "outside",
         "texttemplate": "$%{text:,.0f}",
         "type": "bar",
         "width": 0.8,
         "x": [
          "Men",
          "Women"
         ],
         "xaxis": "x4",
         "y": [
          62227.27272727273,
          59250
         ],
         "yaxis": "y4"
        },
        {
         "histnorm": "probability density",
         "marker": {
          "color": "#508B8D",
          "line": {
           "color": "#000000",
           "width": 1
          }
         },
         "name": "Men",
         "nbinsx": 20,
         "opacity": 0.7,
         "showlegend": false,
         "type": "histogram",
         "x": [
          39,
          81,
          3,
          14,
          13,
          79,
          66,
          29,
          35,
          73,
          73,
          82,
          61,
          4,
          4,
          92,
          92,
          36,
          60,
          60,
          41,
          46,
          46,
          56,
          55,
          51,
          59,
          59,
          55,
          47,
          54,
          48,
          51,
          55,
          41,
          46,
          41,
          49,
          52,
          42,
          49,
          59,
          55,
          56,
          46,
          43,
          48,
          52,
          46,
          56,
          91,
          35,
          95,
          11,
          75,
          9,
          75,
          5,
          73,
          10,
          93,
          12,
          97,
          36,
          90,
          17,
          88,
          1,
          1,
          5,
          26,
          20,
          63,
          13,
          75,
          10,
          92,
          15,
          69,
          14,
          90,
          15,
          97,
          68,
          8,
          74,
          18,
          83
         ],
         "xaxis": "x5",
         "yaxis": "y5"
        },
        {
         "histnorm": "probability density",
         "marker": {
          "color": "#F3D6CB",
          "line": {
           "color": "#000000",
           "width": 1
          }
         },
         "name": "Women",
         "nbinsx": 20,
         "opacity": 0.7,
         "showlegend": false,
         "type": "histogram",
         "x": [
          6,
          77,
          40,
          76,
          6,
          94,
          72,
          99,
          15,
          77,
          35,
          98,
          5,
          14,
          32,
          31,
          87,
          73,
          14,
          81,
          17,
          73,
          26,
          75,
          35,
          61,
          28,
          65,
          55,
          47,
          42,
          42,
          52,
          54,
          45,
          50,
          51,
          52,
          59,
          50,
          48,
          47,
          42,
          49,
          56,
          53,
          52,
          42,
          44,
          57,
          58,
          55,
          60,
          46,
          55,
          40,
          42,
          47,
          50,
          41,
          48,
          42,
          50,
          54,
          42,
          48,
          50,
          43,
          59,
          43,
          57,
          40,
          58,
          29,
          77,
          34,
          71,
          88,
          7,
          72,
          5,
          40,
          87,
          74,
          22,
          20,
          76,
          16,
          89,
          78,
          73,
          35,
          83,
          93,
          75,
          95,
          27,
          13,
          86,
          32,
          86,
          88,
          39,
          24,
          17,
          85,
          23,
          69,
          91,
          16,
          79,
          28
         ],
         "xaxis": "x5",
         "yaxis": "y5"
        },
        {
         "hovertemplate": "Average Spending Score Among %{x} = %{y}<extra></extra>",
         "marker": {
          "color": [
           "#508B8D",
           "#F0CABD"
          ],
          "line": {
           "color": "#000000",
           "width": 1
          },
          "opacity": 0.8
         },
         "showlegend": false,
         "text": [
          49,
          52
         ],
         "textposition": "outside",
         "texttemplate": "%{text}",
         "type": "bar",
         "width": 0.8,
         "x": [
          "Men",
          "Women"
         ],
         "xaxis": "x6",
         "y": [
          49,
          52
         ],
         "yaxis": "y6"
        }
       ],
       "layout": {
        "annotations": [
         {
          "font": {
           "size": 16
          },
          "showarrow": false,
          "text": "Distribution of Age<br>by Gender",
          "x": 0.225,
          "xanchor": "center",
          "xref": "paper",
          "y": 1,
          "yanchor": "bottom",
          "yref": "paper"
         },
         {
          "font": {
           "size": 16
          },
          "showarrow": false,
          "text": "Customers Average Age",
          "x": 0.775,
          "xanchor": "center",
          "xref": "paper",
          "y": 1,
          "yanchor": "bottom",
          "yref": "paper"
         },
         {
          "font": {
           "size": 16
          },
          "showarrow": false,
          "text": "Distribution of Income<br>by Gender",
          "x": 0.225,
          "xanchor": "center",
          "xref": "paper",
          "y": 0.6111111111111112,
          "yanchor": "bottom",
          "yref": "paper"
         },
         {
          "font": {
           "size": 16
          },
          "showarrow": false,
          "text": "Customers Average Income",
          "x": 0.775,
          "xanchor": "center",
          "xref": "paper",
          "y": 0.6111111111111112,
          "yanchor": "bottom",
          "yref": "paper"
         },
         {
          "font": {
           "size": 16
          },
          "showarrow": false,
          "text": "Distribution of Spending<br>by Gender",
          "x": 0.225,
          "xanchor": "center",
          "xref": "paper",
          "y": 0.22222222222222224,
          "yanchor": "bottom",
          "yref": "paper"
         },
         {
          "font": {
           "size": 16
          },
          "showarrow": false,
          "text": "Customers Average Spending",
          "x": 0.775,
          "xanchor": "center",
          "xref": "paper",
          "y": 0.22222222222222224,
          "yanchor": "bottom",
          "yref": "paper"
         }
        ],
        "barmode": "overlay",
        "height": 1500,
        "legend": {
         "orientation": "h",
         "x": 0.97,
         "xanchor": "right",
         "y": 1.03,
         "yanchor": "bottom"
        },
        "template": {
         "data": {
          "bar": [
           {
            "error_x": {
             "color": "#2a3f5f"
            },
            "error_y": {
             "color": "#2a3f5f"
            },
            "marker": {
             "line": {
              "color": "#E5ECF6",
              "width": 0.5
             },
             "pattern": {
              "fillmode": "overlay",
              "size": 10,
              "solidity": 0.2
             }
            },
            "type": "bar"
           }
          ],
          "barpolar": [
           {
            "marker": {
             "line": {
              "color": "#E5ECF6",
              "width": 0.5
             },
             "pattern": {
              "fillmode": "overlay",
              "size": 10,
              "solidity": 0.2
             }
            },
            "type": "barpolar"
           }
          ],
          "carpet": [
           {
            "aaxis": {
             "endlinecolor": "#2a3f5f",
             "gridcolor": "white",
             "linecolor": "white",
             "minorgridcolor": "white",
             "startlinecolor": "#2a3f5f"
            },
            "baxis": {
             "endlinecolor": "#2a3f5f",
             "gridcolor": "white",
             "linecolor": "white",
             "minorgridcolor": "white",
             "startlinecolor": "#2a3f5f"
            },
            "type": "carpet"
           }
          ],
          "choropleth": [
           {
            "colorbar": {
             "outlinewidth": 0,
             "ticks": ""
            },
            "type": "choropleth"
           }
          ],
          "contour": [
           {
            "colorbar": {
             "outlinewidth": 0,
             "ticks": ""
            },
            "colorscale": [
             [
              0,
              "#0d0887"
             ],
             [
              0.1111111111111111,
              "#46039f"
             ],
             [
              0.2222222222222222,
              "#7201a8"
             ],
             [
              0.3333333333333333,
              "#9c179e"
             ],
             [
              0.4444444444444444,
              "#bd3786"
             ],
             [
              0.5555555555555556,
              "#d8576b"
             ],
             [
              0.6666666666666666,
              "#ed7953"
             ],
             [
              0.7777777777777778,
              "#fb9f3a"
             ],
             [
              0.8888888888888888,
              "#fdca26"
             ],
             [
              1,
              "#f0f921"
             ]
            ],
            "type": "contour"
           }
          ],
          "contourcarpet": [
           {
            "colorbar": {
             "outlinewidth": 0,
             "ticks": ""
            },
            "type": "contourcarpet"
           }
          ],
          "heatmap": [
           {
            "colorbar": {
             "outlinewidth": 0,
             "ticks": ""
            },
            "colorscale": [
             [
              0,
              "#0d0887"
             ],
             [
              0.1111111111111111,
              "#46039f"
             ],
             [
              0.2222222222222222,
              "#7201a8"
             ],
             [
              0.3333333333333333,
              "#9c179e"
             ],
             [
              0.4444444444444444,
              "#bd3786"
             ],
             [
              0.5555555555555556,
              "#d8576b"
             ],
             [
              0.6666666666666666,
              "#ed7953"
             ],
             [
              0.7777777777777778,
              "#fb9f3a"
             ],
             [
              0.8888888888888888,
              "#fdca26"
             ],
             [
              1,
              "#f0f921"
             ]
            ],
            "type": "heatmap"
           }
          ],
          "heatmapgl": [
           {
            "colorbar": {
             "outlinewidth": 0,
             "ticks": ""
            },
            "colorscale": [
             [
              0,
              "#0d0887"
             ],
             [
              0.1111111111111111,
              "#46039f"
             ],
             [
              0.2222222222222222,
              "#7201a8"
             ],
             [
              0.3333333333333333,
              "#9c179e"
             ],
             [
              0.4444444444444444,
              "#bd3786"
             ],
             [
              0.5555555555555556,
              "#d8576b"
             ],
             [
              0.6666666666666666,
              "#ed7953"
             ],
             [
              0.7777777777777778,
              "#fb9f3a"
             ],
             [
              0.8888888888888888,
              "#fdca26"
             ],
             [
              1,
              "#f0f921"
             ]
            ],
            "type": "heatmapgl"
           }
          ],
          "histogram": [
           {
            "marker": {
             "pattern": {
              "fillmode": "overlay",
              "size": 10,
              "solidity": 0.2
             }
            },
            "type": "histogram"
           }
          ],
          "histogram2d": [
           {
            "colorbar": {
             "outlinewidth": 0,
             "ticks": ""
            },
            "colorscale": [
             [
              0,
              "#0d0887"
             ],
             [
              0.1111111111111111,
              "#46039f"
             ],
             [
              0.2222222222222222,
              "#7201a8"
             ],
             [
              0.3333333333333333,
              "#9c179e"
             ],
             [
              0.4444444444444444,
              "#bd3786"
             ],
             [
              0.5555555555555556,
              "#d8576b"
             ],
             [
              0.6666666666666666,
              "#ed7953"
             ],
             [
              0.7777777777777778,
              "#fb9f3a"
             ],
             [
              0.8888888888888888,
              "#fdca26"
             ],
             [
              1,
              "#f0f921"
             ]
            ],
            "type": "histogram2d"
           }
          ],
          "histogram2dcontour": [
           {
            "colorbar": {
             "outlinewidth": 0,
             "ticks": ""
            },
            "colorscale": [
             [
              0,
              "#0d0887"
             ],
             [
              0.1111111111111111,
              "#46039f"
             ],
             [
              0.2222222222222222,
              "#7201a8"
             ],
             [
              0.3333333333333333,
              "#9c179e"
             ],
             [
              0.4444444444444444,
              "#bd3786"
             ],
             [
              0.5555555555555556,
              "#d8576b"
             ],
             [
              0.6666666666666666,
              "#ed7953"
             ],
             [
              0.7777777777777778,
              "#fb9f3a"
             ],
             [
              0.8888888888888888,
              "#fdca26"
             ],
             [
              1,
              "#f0f921"
             ]
            ],
            "type": "histogram2dcontour"
           }
          ],
          "mesh3d": [
           {
            "colorbar": {
             "outlinewidth": 0,
             "ticks": ""
            },
            "type": "mesh3d"
           }
          ],
          "parcoords": [
           {
            "line": {
             "colorbar": {
              "outlinewidth": 0,
              "ticks": ""
             }
            },
            "type": "parcoords"
           }
          ],
          "pie": [
           {
            "automargin": true,
            "type": "pie"
           }
          ],
          "scatter": [
           {
            "fillpattern": {
             "fillmode": "overlay",
             "size": 10,
             "solidity": 0.2
            },
            "type": "scatter"
           }
          ],
          "scatter3d": [
           {
            "line": {
             "colorbar": {
              "outlinewidth": 0,
              "ticks": ""
             }
            },
            "marker": {
             "colorbar": {
              "outlinewidth": 0,
              "ticks": ""
             }
            },
            "type": "scatter3d"
           }
          ],
          "scattercarpet": [
           {
            "marker": {
             "colorbar": {
              "outlinewidth": 0,
              "ticks": ""
             }
            },
            "type": "scattercarpet"
           }
          ],
          "scattergeo": [
           {
            "marker": {
             "colorbar": {
              "outlinewidth": 0,
              "ticks": ""
             }
            },
            "type": "scattergeo"
           }
          ],
          "scattergl": [
           {
            "marker": {
             "colorbar": {
              "outlinewidth": 0,
              "ticks": ""
             }
            },
            "type": "scattergl"
           }
          ],
          "scattermapbox": [
           {
            "marker": {
             "colorbar": {
              "outlinewidth": 0,
              "ticks": ""
             }
            },
            "type": "scattermapbox"
           }
          ],
          "scatterpolar": [
           {
            "marker": {
             "colorbar": {
              "outlinewidth": 0,
              "ticks": ""
             }
            },
            "type": "scatterpolar"
           }
          ],
          "scatterpolargl": [
           {
            "marker": {
             "colorbar": {
              "outlinewidth": 0,
              "ticks": ""
             }
            },
            "type": "scatterpolargl"
           }
          ],
          "scatterternary": [
           {
            "marker": {
             "colorbar": {
              "outlinewidth": 0,
              "ticks": ""
             }
            },
            "type": "scatterternary"
           }
          ],
          "surface": [
           {
            "colorbar": {
             "outlinewidth": 0,
             "ticks": ""
            },
            "colorscale": [
             [
              0,
              "#0d0887"
             ],
             [
              0.1111111111111111,
              "#46039f"
             ],
             [
              0.2222222222222222,
              "#7201a8"
             ],
             [
              0.3333333333333333,
              "#9c179e"
             ],
             [
              0.4444444444444444,
              "#bd3786"
             ],
             [
              0.5555555555555556,
              "#d8576b"
             ],
             [
              0.6666666666666666,
              "#ed7953"
             ],
             [
              0.7777777777777778,
              "#fb9f3a"
             ],
             [
              0.8888888888888888,
              "#fdca26"
             ],
             [
              1,
              "#f0f921"
             ]
            ],
            "type": "surface"
           }
          ],
          "table": [
           {
            "cells": {
             "fill": {
              "color": "#EBF0F8"
             },
             "line": {
              "color": "white"
             }
            },
            "header": {
             "fill": {
              "color": "#C8D4E3"
             },
             "line": {
              "color": "white"
             }
            },
            "type": "table"
           }
          ]
         },
         "layout": {
          "font": {
           "family": "Franklin Gothic",
           "size": 12
          }
         }
        },
        "width": 700,
        "xaxis": {
         "anchor": "y",
         "domain": [
          0,
          0.45
         ],
         "title": {
          "text": "Age"
         }
        },
        "xaxis2": {
         "anchor": "y2",
         "domain": [
          0.55,
          1
         ],
         "title": {
          "text": "Gender"
         }
        },
        "xaxis3": {
         "anchor": "y3",
         "domain": [
          0,
          0.45
         ],
         "title": {
          "text": "Annual Income, $"
         }
        },
        "xaxis4": {
         "anchor": "y4",
         "domain": [
          0.55,
          1
         ],
         "title": {
          "text": "Gender"
         }
        },
        "xaxis5": {
         "anchor": "y5",
         "domain": [
          0,
          0.45
         ],
         "title": {
          "text": "Spending Score"
         }
        },
        "xaxis6": {
         "anchor": "y6",
         "domain": [
          0.55,
          1
         ],
         "title": {
          "text": "Gender"
         }
        },
        "yaxis": {
         "anchor": "x",
         "domain": [
          0.7777777777777778,
          1
         ],
         "title": {
          "text": "Probability Density"
         }
        },
        "yaxis2": {
         "anchor": "x2",
         "domain": [
          0.7777777777777778,
          1
         ],
         "range": [
          0,
          45
         ],
         "title": {
          "text": "Age"
         }
        },
        "yaxis3": {
         "anchor": "x3",
         "domain": [
          0.3888888888888889,
          0.6111111111111112
         ],
         "title": {
          "text": "Probability Density"
         }
        },
        "yaxis4": {
         "anchor": "x4",
         "domain": [
          0.3888888888888889,
          0.6111111111111112
         ],
         "range": [
          0,
          69000
         ],
         "title": {
          "text": "Annual Income, $"
         }
        },
        "yaxis5": {
         "anchor": "x5",
         "domain": [
          0,
          0.22222222222222224
         ],
         "title": {
          "text": "Probability Density"
         }
        },
        "yaxis6": {
         "anchor": "x6",
         "domain": [
          0,
          0.22222222222222224
         ],
         "range": [
          0,
          59
         ],
         "title": {
          "text": "Spending Score"
         }
        }
       }
      },
      "text/html": [
       "<div>                            <div id=\"196a1f5b-8bdf-4c32-8c16-62942a0d83cc\" class=\"plotly-graph-div\" style=\"height:1500px; width:700px;\"></div>            <script type=\"text/javascript\">                require([\"plotly\"], function(Plotly) {                    window.PLOTLYENV=window.PLOTLYENV || {};                                    if (document.getElementById(\"196a1f5b-8bdf-4c32-8c16-62942a0d83cc\")) {                    Plotly.newPlot(                        \"196a1f5b-8bdf-4c32-8c16-62942a0d83cc\",                        [{\"histnorm\":\"probability density\",\"marker\":{\"color\":\"#508B8D\",\"line\":{\"color\":\"#000000\",\"width\":1},\"opacity\":0.7},\"name\":\"Men\",\"nbinsx\":20,\"x\":[19,21,64,67,37,22,20,52,35,25,31,29,35,60,53,18,24,48,33,59,47,69,53,70,19,63,18,19,70,59,26,40,57,38,67,48,18,48,24,48,20,67,26,49,54,68,66,65,19,27,39,43,40,59,38,47,39,20,32,19,32,25,28,48,34,43,39,37,34,19,50,42,32,40,28,36,36,58,27,59,35,46,30,28,33,32,32,30],\"type\":\"histogram\",\"xaxis\":\"x\",\"yaxis\":\"y\"},{\"histnorm\":\"probability density\",\"marker\":{\"color\":\"#F3D6CB\",\"line\":{\"color\":\"#000000\",\"width\":1},\"opacity\":0.7},\"name\":\"Women\",\"nbinsx\":20,\"x\":[20,23,31,22,35,23,30,35,58,24,35,35,46,54,45,40,23,21,49,21,42,30,36,20,65,31,49,24,50,27,29,31,49,31,50,51,27,67,54,43,68,32,47,60,60,45,23,49,46,21,55,22,34,50,68,40,32,47,27,23,49,21,66,19,38,18,19,63,49,51,50,38,40,23,31,25,31,29,44,35,57,28,32,32,34,44,38,47,27,30,30,56,29,31,36,33,36,52,30,37,32,29,41,54,41,36,34,32,38,47,35,45],\"type\":\"histogram\",\"xaxis\":\"x\",\"yaxis\":\"y\"},{\"hovertemplate\":\"Average Age Among %{x} = %{y} years<extra></extra>\",\"marker\":{\"color\":[\"#508B8D\",\"#F0CABD\"],\"opacity\":0.8,\"line\":{\"color\":\"#000000\",\"width\":1}},\"showlegend\":false,\"text\":[40.0,38.0],\"textposition\":\"outside\",\"texttemplate\":\"%{text} years\",\"width\":0.8,\"x\":[\"Men\",\"Women\"],\"y\":[40,38],\"type\":\"bar\",\"xaxis\":\"x2\",\"yaxis\":\"y2\"},{\"histnorm\":\"probability density\",\"marker\":{\"color\":\"#508B8D\",\"line\":{\"color\":\"#000000\",\"width\":1}},\"name\":\"Men\",\"nbinsx\":20,\"opacity\":0.7,\"showlegend\":false,\"x\":[15000,15000,19000,19000,20000,20000,21000,23000,24000,24000,25000,28000,28000,30000,33000,33000,38000,39000,42000,43000,43000,44000,46000,46000,46000,48000,48000,48000,49000,54000,54000,54000,54000,54000,54000,54000,59000,60000,60000,61000,61000,62000,62000,62000,63000,63000,63000,63000,64000,67000,69000,71000,71000,71000,71000,71000,71000,73000,73000,74000,75000,77000,77000,77000,78000,78000,78000,78000,78000,81000,85000,86000,87000,87000,87000,87000,87000,88000,88000,93000,93000,98000,99000,101000,113000,126000,137000,137000],\"type\":\"histogram\",\"xaxis\":\"x3\",\"yaxis\":\"y3\"},{\"histnorm\":\"probability density\",\"marker\":{\"color\":\"#F3D6CB\",\"line\":{\"color\":\"#000000\",\"width\":1}},\"name\":\"Women\",\"nbinsx\":20,\"opacity\":0.7,\"showlegend\":false,\"x\":[16000,16000,17000,17000,18000,18000,19000,19000,20000,20000,21000,23000,25000,28000,28000,29000,29000,30000,33000,33000,34000,34000,37000,37000,38000,39000,39000,39000,40000,40000,40000,40000,42000,43000,43000,44000,46000,47000,47000,48000,48000,48000,49000,50000,50000,54000,54000,54000,54000,54000,57000,57000,58000,58000,59000,60000,60000,60000,60000,62000,62000,62000,63000,63000,64000,65000,65000,65000,65000,67000,67000,67000,69000,70000,70000,72000,72000,73000,73000,74000,75000,76000,76000,77000,78000,78000,78000,78000,78000,78000,78000,79000,79000,81000,85000,86000,87000,88000,88000,97000,97000,98000,99000,101000,103000,103000,103000,103000,113000,120000,120000,126000],\"type\":\"histogram\",\"xaxis\":\"x3\",\"yaxis\":\"y3\"},{\"hovertemplate\":\"Average Income Among %{x} = $%{y}<extra></extra>\",\"marker\":{\"color\":[\"#508B8D\",\"#F0CABD\"],\"opacity\":0.8,\"line\":{\"color\":\"#000000\",\"width\":1}},\"showlegend\":false,\"text\":[62227.27272727273,59250.0],\"textposition\":\"outside\",\"texttemplate\":\"$%{text:,.0f}\",\"width\":0.8,\"x\":[\"Men\",\"Women\"],\"y\":[62227.27272727273,59250.0],\"type\":\"bar\",\"xaxis\":\"x4\",\"yaxis\":\"y4\"},{\"histnorm\":\"probability density\",\"marker\":{\"color\":\"#508B8D\",\"line\":{\"color\":\"#000000\",\"width\":1}},\"name\":\"Men\",\"nbinsx\":20,\"opacity\":0.7,\"showlegend\":false,\"x\":[39,81,3,14,13,79,66,29,35,73,73,82,61,4,4,92,92,36,60,60,41,46,46,56,55,51,59,59,55,47,54,48,51,55,41,46,41,49,52,42,49,59,55,56,46,43,48,52,46,56,91,35,95,11,75,9,75,5,73,10,93,12,97,36,90,17,88,1,1,5,26,20,63,13,75,10,92,15,69,14,90,15,97,68,8,74,18,83],\"type\":\"histogram\",\"xaxis\":\"x5\",\"yaxis\":\"y5\"},{\"histnorm\":\"probability density\",\"marker\":{\"color\":\"#F3D6CB\",\"line\":{\"color\":\"#000000\",\"width\":1}},\"name\":\"Women\",\"nbinsx\":20,\"opacity\":0.7,\"showlegend\":false,\"x\":[6,77,40,76,6,94,72,99,15,77,35,98,5,14,32,31,87,73,14,81,17,73,26,75,35,61,28,65,55,47,42,42,52,54,45,50,51,52,59,50,48,47,42,49,56,53,52,42,44,57,58,55,60,46,55,40,42,47,50,41,48,42,50,54,42,48,50,43,59,43,57,40,58,29,77,34,71,88,7,72,5,40,87,74,22,20,76,16,89,78,73,35,83,93,75,95,27,13,86,32,86,88,39,24,17,85,23,69,91,16,79,28],\"type\":\"histogram\",\"xaxis\":\"x5\",\"yaxis\":\"y5\"},{\"hovertemplate\":\"Average Spending Score Among %{x} = %{y}<extra></extra>\",\"marker\":{\"color\":[\"#508B8D\",\"#F0CABD\"],\"opacity\":0.8,\"line\":{\"color\":\"#000000\",\"width\":1}},\"showlegend\":false,\"text\":[49.0,52.0],\"textposition\":\"outside\",\"texttemplate\":\"%{text}\",\"width\":0.8,\"x\":[\"Men\",\"Women\"],\"y\":[49,52],\"type\":\"bar\",\"xaxis\":\"x6\",\"yaxis\":\"y6\"}],                        {\"template\":{\"data\":{\"histogram2dcontour\":[{\"type\":\"histogram2dcontour\",\"colorbar\":{\"outlinewidth\":0,\"ticks\":\"\"},\"colorscale\":[[0.0,\"#0d0887\"],[0.1111111111111111,\"#46039f\"],[0.2222222222222222,\"#7201a8\"],[0.3333333333333333,\"#9c179e\"],[0.4444444444444444,\"#bd3786\"],[0.5555555555555556,\"#d8576b\"],[0.6666666666666666,\"#ed7953\"],[0.7777777777777778,\"#fb9f3a\"],[0.8888888888888888,\"#fdca26\"],[1.0,\"#f0f921\"]]}],\"choropleth\":[{\"type\":\"choropleth\",\"colorbar\":{\"outlinewidth\":0,\"ticks\":\"\"}}],\"histogram2d\":[{\"type\":\"histogram2d\",\"colorbar\":{\"outlinewidth\":0,\"ticks\":\"\"},\"colorscale\":[[0.0,\"#0d0887\"],[0.1111111111111111,\"#46039f\"],[0.2222222222222222,\"#7201a8\"],[0.3333333333333333,\"#9c179e\"],[0.4444444444444444,\"#bd3786\"],[0.5555555555555556,\"#d8576b\"],[0.6666666666666666,\"#ed7953\"],[0.7777777777777778,\"#fb9f3a\"],[0.8888888888888888,\"#fdca26\"],[1.0,\"#f0f921\"]]}],\"heatmap\":[{\"type\":\"heatmap\",\"colorbar\":{\"outlinewidth\":0,\"ticks\":\"\"},\"colorscale\":[[0.0,\"#0d0887\"],[0.1111111111111111,\"#46039f\"],[0.2222222222222222,\"#7201a8\"],[0.3333333333333333,\"#9c179e\"],[0.4444444444444444,\"#bd3786\"],[0.5555555555555556,\"#d8576b\"],[0.6666666666666666,\"#ed7953\"],[0.7777777777777778,\"#fb9f3a\"],[0.8888888888888888,\"#fdca26\"],[1.0,\"#f0f921\"]]}],\"heatmapgl\":[{\"type\":\"heatmapgl\",\"colorbar\":{\"outlinewidth\":0,\"ticks\":\"\"},\"colorscale\":[[0.0,\"#0d0887\"],[0.1111111111111111,\"#46039f\"],[0.2222222222222222,\"#7201a8\"],[0.3333333333333333,\"#9c179e\"],[0.4444444444444444,\"#bd3786\"],[0.5555555555555556,\"#d8576b\"],[0.6666666666666666,\"#ed7953\"],[0.7777777777777778,\"#fb9f3a\"],[0.8888888888888888,\"#fdca26\"],[1.0,\"#f0f921\"]]}],\"contourcarpet\":[{\"type\":\"contourcarpet\",\"colorbar\":{\"outlinewidth\":0,\"ticks\":\"\"}}],\"contour\":[{\"type\":\"contour\",\"colorbar\":{\"outlinewidth\":0,\"ticks\":\"\"},\"colorscale\":[[0.0,\"#0d0887\"],[0.1111111111111111,\"#46039f\"],[0.2222222222222222,\"#7201a8\"],[0.3333333333333333,\"#9c179e\"],[0.4444444444444444,\"#bd3786\"],[0.5555555555555556,\"#d8576b\"],[0.6666666666666666,\"#ed7953\"],[0.7777777777777778,\"#fb9f3a\"],[0.8888888888888888,\"#fdca26\"],[1.0,\"#f0f921\"]]}],\"surface\":[{\"type\":\"surface\",\"colorbar\":{\"outlinewidth\":0,\"ticks\":\"\"},\"colorscale\":[[0.0,\"#0d0887\"],[0.1111111111111111,\"#46039f\"],[0.2222222222222222,\"#7201a8\"],[0.3333333333333333,\"#9c179e\"],[0.4444444444444444,\"#bd3786\"],[0.5555555555555556,\"#d8576b\"],[0.6666666666666666,\"#ed7953\"],[0.7777777777777778,\"#fb9f3a\"],[0.8888888888888888,\"#fdca26\"],[1.0,\"#f0f921\"]]}],\"mesh3d\":[{\"type\":\"mesh3d\",\"colorbar\":{\"outlinewidth\":0,\"ticks\":\"\"}}],\"scatter\":[{\"fillpattern\":{\"fillmode\":\"overlay\",\"size\":10,\"solidity\":0.2},\"type\":\"scatter\"}],\"parcoords\":[{\"type\":\"parcoords\",\"line\":{\"colorbar\":{\"outlinewidth\":0,\"ticks\":\"\"}}}],\"scatterpolargl\":[{\"type\":\"scatterpolargl\",\"marker\":{\"colorbar\":{\"outlinewidth\":0,\"ticks\":\"\"}}}],\"bar\":[{\"error_x\":{\"color\":\"#2a3f5f\"},\"error_y\":{\"color\":\"#2a3f5f\"},\"marker\":{\"line\":{\"color\":\"#E5ECF6\",\"width\":0.5},\"pattern\":{\"fillmode\":\"overlay\",\"size\":10,\"solidity\":0.2}},\"type\":\"bar\"}],\"scattergeo\":[{\"type\":\"scattergeo\",\"marker\":{\"colorbar\":{\"outlinewidth\":0,\"ticks\":\"\"}}}],\"scatterpolar\":[{\"type\":\"scatterpolar\",\"marker\":{\"colorbar\":{\"outlinewidth\":0,\"ticks\":\"\"}}}],\"histogram\":[{\"marker\":{\"pattern\":{\"fillmode\":\"overlay\",\"size\":10,\"solidity\":0.2}},\"type\":\"histogram\"}],\"scattergl\":[{\"type\":\"scattergl\",\"marker\":{\"colorbar\":{\"outlinewidth\":0,\"ticks\":\"\"}}}],\"scatter3d\":[{\"type\":\"scatter3d\",\"line\":{\"colorbar\":{\"outlinewidth\":0,\"ticks\":\"\"}},\"marker\":{\"colorbar\":{\"outlinewidth\":0,\"ticks\":\"\"}}}],\"scattermapbox\":[{\"type\":\"scattermapbox\",\"marker\":{\"colorbar\":{\"outlinewidth\":0,\"ticks\":\"\"}}}],\"scatterternary\":[{\"type\":\"scatterternary\",\"marker\":{\"colorbar\":{\"outlinewidth\":0,\"ticks\":\"\"}}}],\"scattercarpet\":[{\"type\":\"scattercarpet\",\"marker\":{\"colorbar\":{\"outlinewidth\":0,\"ticks\":\"\"}}}],\"carpet\":[{\"aaxis\":{\"endlinecolor\":\"#2a3f5f\",\"gridcolor\":\"white\",\"linecolor\":\"white\",\"minorgridcolor\":\"white\",\"startlinecolor\":\"#2a3f5f\"},\"baxis\":{\"endlinecolor\":\"#2a3f5f\",\"gridcolor\":\"white\",\"linecolor\":\"white\",\"minorgridcolor\":\"white\",\"startlinecolor\":\"#2a3f5f\"},\"type\":\"carpet\"}],\"table\":[{\"cells\":{\"fill\":{\"color\":\"#EBF0F8\"},\"line\":{\"color\":\"white\"}},\"header\":{\"fill\":{\"color\":\"#C8D4E3\"},\"line\":{\"color\":\"white\"}},\"type\":\"table\"}],\"barpolar\":[{\"marker\":{\"line\":{\"color\":\"#E5ECF6\",\"width\":0.5},\"pattern\":{\"fillmode\":\"overlay\",\"size\":10,\"solidity\":0.2}},\"type\":\"barpolar\"}],\"pie\":[{\"automargin\":true,\"type\":\"pie\"}]},\"layout\":{\"font\":{\"family\":\"Franklin Gothic\",\"size\":12}}},\"xaxis\":{\"anchor\":\"y\",\"domain\":[0.0,0.45],\"title\":{\"text\":\"Age\"}},\"yaxis\":{\"anchor\":\"x\",\"domain\":[0.7777777777777778,1.0],\"title\":{\"text\":\"Probability Density\"}},\"xaxis2\":{\"anchor\":\"y2\",\"domain\":[0.55,1.0],\"title\":{\"text\":\"Gender\"}},\"yaxis2\":{\"anchor\":\"x2\",\"domain\":[0.7777777777777778,1.0],\"title\":{\"text\":\"Age\"},\"range\":[0,45]},\"xaxis3\":{\"anchor\":\"y3\",\"domain\":[0.0,0.45],\"title\":{\"text\":\"Annual Income, $\"}},\"yaxis3\":{\"anchor\":\"x3\",\"domain\":[0.3888888888888889,0.6111111111111112],\"title\":{\"text\":\"Probability Density\"}},\"xaxis4\":{\"anchor\":\"y4\",\"domain\":[0.55,1.0],\"title\":{\"text\":\"Gender\"}},\"yaxis4\":{\"anchor\":\"x4\",\"domain\":[0.3888888888888889,0.6111111111111112],\"title\":{\"text\":\"Annual Income, $\"},\"range\":[0,69000.0]},\"xaxis5\":{\"anchor\":\"y5\",\"domain\":[0.0,0.45],\"title\":{\"text\":\"Spending Score\"}},\"yaxis5\":{\"anchor\":\"x5\",\"domain\":[0.0,0.22222222222222224],\"title\":{\"text\":\"Probability Density\"}},\"xaxis6\":{\"anchor\":\"y6\",\"domain\":[0.55,1.0],\"title\":{\"text\":\"Gender\"}},\"yaxis6\":{\"anchor\":\"x6\",\"domain\":[0.0,0.22222222222222224],\"title\":{\"text\":\"Spending Score\"},\"range\":[0,59]},\"annotations\":[{\"font\":{\"size\":16},\"showarrow\":false,\"text\":\"Distribution of Age<br>by Gender\",\"x\":0.225,\"xanchor\":\"center\",\"xref\":\"paper\",\"y\":1.0,\"yanchor\":\"bottom\",\"yref\":\"paper\"},{\"font\":{\"size\":16},\"showarrow\":false,\"text\":\"Customers Average Age\",\"x\":0.775,\"xanchor\":\"center\",\"xref\":\"paper\",\"y\":1.0,\"yanchor\":\"bottom\",\"yref\":\"paper\"},{\"font\":{\"size\":16},\"showarrow\":false,\"text\":\"Distribution of Income<br>by Gender\",\"x\":0.225,\"xanchor\":\"center\",\"xref\":\"paper\",\"y\":0.6111111111111112,\"yanchor\":\"bottom\",\"yref\":\"paper\"},{\"font\":{\"size\":16},\"showarrow\":false,\"text\":\"Customers Average Income\",\"x\":0.775,\"xanchor\":\"center\",\"xref\":\"paper\",\"y\":0.6111111111111112,\"yanchor\":\"bottom\",\"yref\":\"paper\"},{\"font\":{\"size\":16},\"showarrow\":false,\"text\":\"Distribution of Spending<br>by Gender\",\"x\":0.225,\"xanchor\":\"center\",\"xref\":\"paper\",\"y\":0.22222222222222224,\"yanchor\":\"bottom\",\"yref\":\"paper\"},{\"font\":{\"size\":16},\"showarrow\":false,\"text\":\"Customers Average Spending\",\"x\":0.775,\"xanchor\":\"center\",\"xref\":\"paper\",\"y\":0.22222222222222224,\"yanchor\":\"bottom\",\"yref\":\"paper\"}],\"legend\":{\"orientation\":\"h\",\"yanchor\":\"bottom\",\"xanchor\":\"right\",\"y\":1.03,\"x\":0.97},\"barmode\":\"overlay\",\"height\":1500,\"width\":700},                        {\"responsive\": true}                    ).then(function(){\n",
       "                            \n",
       "var gd = document.getElementById('196a1f5b-8bdf-4c32-8c16-62942a0d83cc');\n",
       "var x = new MutationObserver(function (mutations, observer) {{\n",
       "        var display = window.getComputedStyle(gd).display;\n",
       "        if (!display || display === 'none') {{\n",
       "            console.log([gd, 'removed!']);\n",
       "            Plotly.purge(gd);\n",
       "            observer.disconnect();\n",
       "        }}\n",
       "}});\n",
       "\n",
       "// Listen for the removal of the full notebook cells\n",
       "var notebookContainer = gd.closest('#notebook-container');\n",
       "if (notebookContainer) {{\n",
       "    x.observe(notebookContainer, {childList: true});\n",
       "}}\n",
       "\n",
       "// Listen for the clearing of the current output cell\n",
       "var outputEl = gd.closest('.output');\n",
       "if (outputEl) {{\n",
       "    x.observe(outputEl, {childList: true});\n",
       "}}\n",
       "\n",
       "                        })                };                });            </script>        </div>"
      ]
     },
     "metadata": {},
     "output_type": "display_data"
    },
    {
     "data": {
      "application/vnd.plotly.v1+json": {
       "config": {
        "plotlyServerURL": "https://plot.ly"
       },
       "data": [
        {
         "marker": {
          "color": "rgb(80, 139, 141)",
          "line": {
           "color": "#F7F7F7",
           "width": 1
          },
          "opacity": 0.85,
          "size": 9
         },
         "showlegend": false,
         "type": "box",
         "xaxis": "x",
         "y": [
          19,
          21,
          64,
          67,
          37,
          22,
          20,
          52,
          35,
          25,
          31,
          29,
          35,
          60,
          53,
          18,
          24,
          48,
          33,
          59,
          47,
          69,
          53,
          70,
          19,
          63,
          18,
          19,
          70,
          59,
          26,
          40,
          57,
          38,
          67,
          48,
          18,
          48,
          24,
          48,
          20,
          67,
          26,
          49,
          54,
          68,
          66,
          65,
          19,
          27,
          39,
          43,
          40,
          59,
          38,
          47,
          39,
          20,
          32,
          19,
          32,
          25,
          28,
          48,
          34,
          43,
          39,
          37,
          34,
          19,
          50,
          42,
          32,
          40,
          28,
          36,
          36,
          58,
          27,
          59,
          35,
          46,
          30,
          28,
          33,
          32,
          32,
          30
         ],
         "yaxis": "y"
        },
        {
         "marker": {
          "color": "rgb(240, 202, 189)",
          "line": {
           "color": "#F7F7F7",
           "width": 1
          },
          "opacity": 0.85,
          "size": 9
         },
         "showlegend": false,
         "type": "box",
         "xaxis": "x",
         "y": [
          20,
          23,
          31,
          22,
          35,
          23,
          30,
          35,
          58,
          24,
          35,
          35,
          46,
          54,
          45,
          40,
          23,
          21,
          49,
          21,
          42,
          30,
          36,
          20,
          65,
          31,
          49,
          24,
          50,
          27,
          29,
          31,
          49,
          31,
          50,
          51,
          27,
          67,
          54,
          43,
          68,
          32,
          47,
          60,
          60,
          45,
          23,
          49,
          46,
          21,
          55,
          22,
          34,
          50,
          68,
          40,
          32,
          47,
          27,
          23,
          49,
          21,
          66,
          19,
          38,
          18,
          19,
          63,
          49,
          51,
          50,
          38,
          40,
          23,
          31,
          25,
          31,
          29,
          44,
          35,
          57,
          28,
          32,
          32,
          34,
          44,
          38,
          47,
          27,
          30,
          30,
          56,
          29,
          31,
          36,
          33,
          36,
          52,
          30,
          37,
          32,
          29,
          41,
          54,
          41,
          36,
          34,
          32,
          38,
          47,
          35,
          45
         ],
         "yaxis": "y"
        },
        {
         "marker": {
          "color": "rgb(80, 139, 141)",
          "line": {
           "color": "#F7F7F7",
           "width": 1
          },
          "opacity": 0.85,
          "size": 9
         },
         "mode": "markers",
         "name": "Men",
         "showlegend": true,
         "type": "scatter",
         "x": [
          15,
          15,
          19,
          19,
          20,
          20,
          21,
          23,
          24,
          24,
          25,
          28,
          28,
          30,
          33,
          33,
          38,
          39,
          42,
          43,
          43,
          44,
          46,
          46,
          46,
          48,
          48,
          48,
          49,
          54,
          54,
          54,
          54,
          54,
          54,
          54,
          59,
          60,
          60,
          61,
          61,
          62,
          62,
          62,
          63,
          63,
          63,
          63,
          64,
          67,
          69,
          71,
          71,
          71,
          71,
          71,
          71,
          73,
          73,
          74,
          75,
          77,
          77,
          77,
          78,
          78,
          78,
          78,
          78,
          81,
          85,
          86,
          87,
          87,
          87,
          87,
          87,
          88,
          88,
          93,
          93,
          98,
          99,
          101,
          113,
          126,
          137,
          137
         ],
         "xaxis": "x2",
         "y": [
          19,
          21,
          64,
          67,
          37,
          22,
          20,
          52,
          35,
          25,
          31,
          29,
          35,
          60,
          53,
          18,
          24,
          48,
          33,
          59,
          47,
          69,
          53,
          70,
          19,
          63,
          18,
          19,
          70,
          59,
          26,
          40,
          57,
          38,
          67,
          48,
          18,
          48,
          24,
          48,
          20,
          67,
          26,
          49,
          54,
          68,
          66,
          65,
          19,
          27,
          39,
          43,
          40,
          59,
          38,
          47,
          39,
          20,
          32,
          19,
          32,
          25,
          28,
          48,
          34,
          43,
          39,
          37,
          34,
          19,
          50,
          42,
          32,
          40,
          28,
          36,
          36,
          58,
          27,
          59,
          35,
          46,
          30,
          28,
          33,
          32,
          32,
          30
         ],
         "yaxis": "y2"
        },
        {
         "marker": {
          "color": "rgb(240, 202, 189)",
          "line": {
           "color": "#F7F7F7",
           "width": 1
          },
          "opacity": 0.85,
          "size": 9
         },
         "mode": "markers",
         "name": "Women",
         "showlegend": true,
         "type": "scatter",
         "x": [
          16,
          16,
          17,
          17,
          18,
          18,
          19,
          19,
          20,
          20,
          21,
          23,
          25,
          28,
          28,
          29,
          29,
          30,
          33,
          33,
          34,
          34,
          37,
          37,
          38,
          39,
          39,
          39,
          40,
          40,
          40,
          40,
          42,
          43,
          43,
          44,
          46,
          47,
          47,
          48,
          48,
          48,
          49,
          50,
          50,
          54,
          54,
          54,
          54,
          54,
          57,
          57,
          58,
          58,
          59,
          60,
          60,
          60,
          60,
          62,
          62,
          62,
          63,
          63,
          64,
          65,
          65,
          65,
          65,
          67,
          67,
          67,
          69,
          70,
          70,
          72,
          72,
          73,
          73,
          74,
          75,
          76,
          76,
          77,
          78,
          78,
          78,
          78,
          78,
          78,
          78,
          79,
          79,
          81,
          85,
          86,
          87,
          88,
          88,
          97,
          97,
          98,
          99,
          101,
          103,
          103,
          103,
          103,
          113,
          120,
          120,
          126
         ],
         "xaxis": "x2",
         "y": [
          20,
          23,
          31,
          22,
          35,
          23,
          30,
          35,
          58,
          24,
          35,
          35,
          46,
          54,
          45,
          40,
          23,
          21,
          49,
          21,
          42,
          30,
          36,
          20,
          65,
          31,
          49,
          24,
          50,
          27,
          29,
          31,
          49,
          31,
          50,
          51,
          27,
          67,
          54,
          43,
          68,
          32,
          47,
          60,
          60,
          45,
          23,
          49,
          46,
          21,
          55,
          22,
          34,
          50,
          68,
          40,
          32,
          47,
          27,
          23,
          49,
          21,
          66,
          19,
          38,
          18,
          19,
          63,
          49,
          51,
          50,
          38,
          40,
          23,
          31,
          25,
          31,
          29,
          44,
          35,
          57,
          28,
          32,
          32,
          34,
          44,
          38,
          47,
          27,
          30,
          30,
          56,
          29,
          31,
          36,
          33,
          36,
          52,
          30,
          37,
          32,
          29,
          41,
          54,
          41,
          36,
          34,
          32,
          38,
          47,
          35,
          45
         ],
         "yaxis": "y2"
        },
        {
         "marker": {
          "color": "rgb(80, 139, 141)",
          "line": {
           "color": "#F7F7F7",
           "width": 1
          },
          "opacity": 0.85,
          "size": 9
         },
         "mode": "markers",
         "name": "Men",
         "showlegend": false,
         "type": "scatter",
         "x": [
          39,
          81,
          3,
          14,
          13,
          79,
          66,
          29,
          35,
          73,
          73,
          82,
          61,
          4,
          4,
          92,
          92,
          36,
          60,
          60,
          41,
          46,
          46,
          56,
          55,
          51,
          59,
          59,
          55,
          47,
          54,
          48,
          51,
          55,
          41,
          46,
          41,
          49,
          52,
          42,
          49,
          59,
          55,
          56,
          46,
          43,
          48,
          52,
          46,
          56,
          91,
          35,
          95,
          11,
          75,
          9,
          75,
          5,
          73,
          10,
          93,
          12,
          97,
          36,
          90,
          17,
          88,
          1,
          1,
          5,
          26,
          20,
          63,
          13,
          75,
          10,
          92,
          15,
          69,
          14,
          90,
          15,
          97,
          68,
          8,
          74,
          18,
          83
         ],
         "xaxis": "x3",
         "y": [
          19,
          21,
          64,
          67,
          37,
          22,
          20,
          52,
          35,
          25,
          31,
          29,
          35,
          60,
          53,
          18,
          24,
          48,
          33,
          59,
          47,
          69,
          53,
          70,
          19,
          63,
          18,
          19,
          70,
          59,
          26,
          40,
          57,
          38,
          67,
          48,
          18,
          48,
          24,
          48,
          20,
          67,
          26,
          49,
          54,
          68,
          66,
          65,
          19,
          27,
          39,
          43,
          40,
          59,
          38,
          47,
          39,
          20,
          32,
          19,
          32,
          25,
          28,
          48,
          34,
          43,
          39,
          37,
          34,
          19,
          50,
          42,
          32,
          40,
          28,
          36,
          36,
          58,
          27,
          59,
          35,
          46,
          30,
          28,
          33,
          32,
          32,
          30
         ],
         "yaxis": "y3"
        },
        {
         "marker": {
          "color": "rgb(240, 202, 189)",
          "line": {
           "color": "#F7F7F7",
           "width": 1
          },
          "opacity": 0.85,
          "size": 9
         },
         "mode": "markers",
         "name": "Women",
         "showlegend": false,
         "type": "scatter",
         "x": [
          6,
          77,
          40,
          76,
          6,
          94,
          72,
          99,
          15,
          77,
          35,
          98,
          5,
          14,
          32,
          31,
          87,
          73,
          14,
          81,
          17,
          73,
          26,
          75,
          35,
          61,
          28,
          65,
          55,
          47,
          42,
          42,
          52,
          54,
          45,
          50,
          51,
          52,
          59,
          50,
          48,
          47,
          42,
          49,
          56,
          53,
          52,
          42,
          44,
          57,
          58,
          55,
          60,
          46,
          55,
          40,
          42,
          47,
          50,
          41,
          48,
          42,
          50,
          54,
          42,
          48,
          50,
          43,
          59,
          43,
          57,
          40,
          58,
          29,
          77,
          34,
          71,
          88,
          7,
          72,
          5,
          40,
          87,
          74,
          22,
          20,
          76,
          16,
          89,
          78,
          73,
          35,
          83,
          93,
          75,
          95,
          27,
          13,
          86,
          32,
          86,
          88,
          39,
          24,
          17,
          85,
          23,
          69,
          91,
          16,
          79,
          28
         ],
         "xaxis": "x3",
         "y": [
          20,
          23,
          31,
          22,
          35,
          23,
          30,
          35,
          58,
          24,
          35,
          35,
          46,
          54,
          45,
          40,
          23,
          21,
          49,
          21,
          42,
          30,
          36,
          20,
          65,
          31,
          49,
          24,
          50,
          27,
          29,
          31,
          49,
          31,
          50,
          51,
          27,
          67,
          54,
          43,
          68,
          32,
          47,
          60,
          60,
          45,
          23,
          49,
          46,
          21,
          55,
          22,
          34,
          50,
          68,
          40,
          32,
          47,
          27,
          23,
          49,
          21,
          66,
          19,
          38,
          18,
          19,
          63,
          49,
          51,
          50,
          38,
          40,
          23,
          31,
          25,
          31,
          29,
          44,
          35,
          57,
          28,
          32,
          32,
          34,
          44,
          38,
          47,
          27,
          30,
          30,
          56,
          29,
          31,
          36,
          33,
          36,
          52,
          30,
          37,
          32,
          29,
          41,
          54,
          41,
          36,
          34,
          32,
          38,
          47,
          35,
          45
         ],
         "yaxis": "y3"
        },
        {
         "marker": {
          "color": "rgb(80, 139, 141)",
          "line": {
           "color": "#F7F7F7",
           "width": 1
          },
          "opacity": 0.85,
          "size": 9
         },
         "mode": "markers",
         "name": "Men",
         "showlegend": false,
         "type": "scatter",
         "x": [
          19,
          21,
          64,
          67,
          37,
          22,
          20,
          52,
          35,
          25,
          31,
          29,
          35,
          60,
          53,
          18,
          24,
          48,
          33,
          59,
          47,
          69,
          53,
          70,
          19,
          63,
          18,
          19,
          70,
          59,
          26,
          40,
          57,
          38,
          67,
          48,
          18,
          48,
          24,
          48,
          20,
          67,
          26,
          49,
          54,
          68,
          66,
          65,
          19,
          27,
          39,
          43,
          40,
          59,
          38,
          47,
          39,
          20,
          32,
          19,
          32,
          25,
          28,
          48,
          34,
          43,
          39,
          37,
          34,
          19,
          50,
          42,
          32,
          40,
          28,
          36,
          36,
          58,
          27,
          59,
          35,
          46,
          30,
          28,
          33,
          32,
          32,
          30
         ],
         "xaxis": "x4",
         "y": [
          15,
          15,
          19,
          19,
          20,
          20,
          21,
          23,
          24,
          24,
          25,
          28,
          28,
          30,
          33,
          33,
          38,
          39,
          42,
          43,
          43,
          44,
          46,
          46,
          46,
          48,
          48,
          48,
          49,
          54,
          54,
          54,
          54,
          54,
          54,
          54,
          59,
          60,
          60,
          61,
          61,
          62,
          62,
          62,
          63,
          63,
          63,
          63,
          64,
          67,
          69,
          71,
          71,
          71,
          71,
          71,
          71,
          73,
          73,
          74,
          75,
          77,
          77,
          77,
          78,
          78,
          78,
          78,
          78,
          81,
          85,
          86,
          87,
          87,
          87,
          87,
          87,
          88,
          88,
          93,
          93,
          98,
          99,
          101,
          113,
          126,
          137,
          137
         ],
         "yaxis": "y4"
        },
        {
         "marker": {
          "color": "rgb(240, 202, 189)",
          "line": {
           "color": "#F7F7F7",
           "width": 1
          },
          "opacity": 0.85,
          "size": 9
         },
         "mode": "markers",
         "name": "Women",
         "showlegend": false,
         "type": "scatter",
         "x": [
          20,
          23,
          31,
          22,
          35,
          23,
          30,
          35,
          58,
          24,
          35,
          35,
          46,
          54,
          45,
          40,
          23,
          21,
          49,
          21,
          42,
          30,
          36,
          20,
          65,
          31,
          49,
          24,
          50,
          27,
          29,
          31,
          49,
          31,
          50,
          51,
          27,
          67,
          54,
          43,
          68,
          32,
          47,
          60,
          60,
          45,
          23,
          49,
          46,
          21,
          55,
          22,
          34,
          50,
          68,
          40,
          32,
          47,
          27,
          23,
          49,
          21,
          66,
          19,
          38,
          18,
          19,
          63,
          49,
          51,
          50,
          38,
          40,
          23,
          31,
          25,
          31,
          29,
          44,
          35,
          57,
          28,
          32,
          32,
          34,
          44,
          38,
          47,
          27,
          30,
          30,
          56,
          29,
          31,
          36,
          33,
          36,
          52,
          30,
          37,
          32,
          29,
          41,
          54,
          41,
          36,
          34,
          32,
          38,
          47,
          35,
          45
         ],
         "xaxis": "x4",
         "y": [
          16,
          16,
          17,
          17,
          18,
          18,
          19,
          19,
          20,
          20,
          21,
          23,
          25,
          28,
          28,
          29,
          29,
          30,
          33,
          33,
          34,
          34,
          37,
          37,
          38,
          39,
          39,
          39,
          40,
          40,
          40,
          40,
          42,
          43,
          43,
          44,
          46,
          47,
          47,
          48,
          48,
          48,
          49,
          50,
          50,
          54,
          54,
          54,
          54,
          54,
          57,
          57,
          58,
          58,
          59,
          60,
          60,
          60,
          60,
          62,
          62,
          62,
          63,
          63,
          64,
          65,
          65,
          65,
          65,
          67,
          67,
          67,
          69,
          70,
          70,
          72,
          72,
          73,
          73,
          74,
          75,
          76,
          76,
          77,
          78,
          78,
          78,
          78,
          78,
          78,
          78,
          79,
          79,
          81,
          85,
          86,
          87,
          88,
          88,
          97,
          97,
          98,
          99,
          101,
          103,
          103,
          103,
          103,
          113,
          120,
          120,
          126
         ],
         "yaxis": "y4"
        },
        {
         "marker": {
          "color": "rgb(80, 139, 141)",
          "line": {
           "color": "#F7F7F7",
           "width": 1
          },
          "opacity": 0.85,
          "size": 9
         },
         "showlegend": false,
         "type": "box",
         "xaxis": "x5",
         "y": [
          15,
          15,
          19,
          19,
          20,
          20,
          21,
          23,
          24,
          24,
          25,
          28,
          28,
          30,
          33,
          33,
          38,
          39,
          42,
          43,
          43,
          44,
          46,
          46,
          46,
          48,
          48,
          48,
          49,
          54,
          54,
          54,
          54,
          54,
          54,
          54,
          59,
          60,
          60,
          61,
          61,
          62,
          62,
          62,
          63,
          63,
          63,
          63,
          64,
          67,
          69,
          71,
          71,
          71,
          71,
          71,
          71,
          73,
          73,
          74,
          75,
          77,
          77,
          77,
          78,
          78,
          78,
          78,
          78,
          81,
          85,
          86,
          87,
          87,
          87,
          87,
          87,
          88,
          88,
          93,
          93,
          98,
          99,
          101,
          113,
          126,
          137,
          137
         ],
         "yaxis": "y5"
        },
        {
         "marker": {
          "color": "rgb(240, 202, 189)",
          "line": {
           "color": "#F7F7F7",
           "width": 1
          },
          "opacity": 0.85,
          "size": 9
         },
         "showlegend": false,
         "type": "box",
         "xaxis": "x5",
         "y": [
          16,
          16,
          17,
          17,
          18,
          18,
          19,
          19,
          20,
          20,
          21,
          23,
          25,
          28,
          28,
          29,
          29,
          30,
          33,
          33,
          34,
          34,
          37,
          37,
          38,
          39,
          39,
          39,
          40,
          40,
          40,
          40,
          42,
          43,
          43,
          44,
          46,
          47,
          47,
          48,
          48,
          48,
          49,
          50,
          50,
          54,
          54,
          54,
          54,
          54,
          57,
          57,
          58,
          58,
          59,
          60,
          60,
          60,
          60,
          62,
          62,
          62,
          63,
          63,
          64,
          65,
          65,
          65,
          65,
          67,
          67,
          67,
          69,
          70,
          70,
          72,
          72,
          73,
          73,
          74,
          75,
          76,
          76,
          77,
          78,
          78,
          78,
          78,
          78,
          78,
          78,
          79,
          79,
          81,
          85,
          86,
          87,
          88,
          88,
          97,
          97,
          98,
          99,
          101,
          103,
          103,
          103,
          103,
          113,
          120,
          120,
          126
         ],
         "yaxis": "y5"
        },
        {
         "marker": {
          "color": "rgb(80, 139, 141)",
          "line": {
           "color": "#F7F7F7",
           "width": 1
          },
          "opacity": 0.85,
          "size": 9
         },
         "mode": "markers",
         "name": "Men",
         "showlegend": false,
         "type": "scatter",
         "x": [
          39,
          81,
          3,
          14,
          13,
          79,
          66,
          29,
          35,
          73,
          73,
          82,
          61,
          4,
          4,
          92,
          92,
          36,
          60,
          60,
          41,
          46,
          46,
          56,
          55,
          51,
          59,
          59,
          55,
          47,
          54,
          48,
          51,
          55,
          41,
          46,
          41,
          49,
          52,
          42,
          49,
          59,
          55,
          56,
          46,
          43,
          48,
          52,
          46,
          56,
          91,
          35,
          95,
          11,
          75,
          9,
          75,
          5,
          73,
          10,
          93,
          12,
          97,
          36,
          90,
          17,
          88,
          1,
          1,
          5,
          26,
          20,
          63,
          13,
          75,
          10,
          92,
          15,
          69,
          14,
          90,
          15,
          97,
          68,
          8,
          74,
          18,
          83
         ],
         "xaxis": "x6",
         "y": [
          15,
          15,
          19,
          19,
          20,
          20,
          21,
          23,
          24,
          24,
          25,
          28,
          28,
          30,
          33,
          33,
          38,
          39,
          42,
          43,
          43,
          44,
          46,
          46,
          46,
          48,
          48,
          48,
          49,
          54,
          54,
          54,
          54,
          54,
          54,
          54,
          59,
          60,
          60,
          61,
          61,
          62,
          62,
          62,
          63,
          63,
          63,
          63,
          64,
          67,
          69,
          71,
          71,
          71,
          71,
          71,
          71,
          73,
          73,
          74,
          75,
          77,
          77,
          77,
          78,
          78,
          78,
          78,
          78,
          81,
          85,
          86,
          87,
          87,
          87,
          87,
          87,
          88,
          88,
          93,
          93,
          98,
          99,
          101,
          113,
          126,
          137,
          137
         ],
         "yaxis": "y6"
        },
        {
         "marker": {
          "color": "rgb(240, 202, 189)",
          "line": {
           "color": "#F7F7F7",
           "width": 1
          },
          "opacity": 0.85,
          "size": 9
         },
         "mode": "markers",
         "name": "Women",
         "showlegend": false,
         "type": "scatter",
         "x": [
          6,
          77,
          40,
          76,
          6,
          94,
          72,
          99,
          15,
          77,
          35,
          98,
          5,
          14,
          32,
          31,
          87,
          73,
          14,
          81,
          17,
          73,
          26,
          75,
          35,
          61,
          28,
          65,
          55,
          47,
          42,
          42,
          52,
          54,
          45,
          50,
          51,
          52,
          59,
          50,
          48,
          47,
          42,
          49,
          56,
          53,
          52,
          42,
          44,
          57,
          58,
          55,
          60,
          46,
          55,
          40,
          42,
          47,
          50,
          41,
          48,
          42,
          50,
          54,
          42,
          48,
          50,
          43,
          59,
          43,
          57,
          40,
          58,
          29,
          77,
          34,
          71,
          88,
          7,
          72,
          5,
          40,
          87,
          74,
          22,
          20,
          76,
          16,
          89,
          78,
          73,
          35,
          83,
          93,
          75,
          95,
          27,
          13,
          86,
          32,
          86,
          88,
          39,
          24,
          17,
          85,
          23,
          69,
          91,
          16,
          79,
          28
         ],
         "xaxis": "x6",
         "y": [
          16,
          16,
          17,
          17,
          18,
          18,
          19,
          19,
          20,
          20,
          21,
          23,
          25,
          28,
          28,
          29,
          29,
          30,
          33,
          33,
          34,
          34,
          37,
          37,
          38,
          39,
          39,
          39,
          40,
          40,
          40,
          40,
          42,
          43,
          43,
          44,
          46,
          47,
          47,
          48,
          48,
          48,
          49,
          50,
          50,
          54,
          54,
          54,
          54,
          54,
          57,
          57,
          58,
          58,
          59,
          60,
          60,
          60,
          60,
          62,
          62,
          62,
          63,
          63,
          64,
          65,
          65,
          65,
          65,
          67,
          67,
          67,
          69,
          70,
          70,
          72,
          72,
          73,
          73,
          74,
          75,
          76,
          76,
          77,
          78,
          78,
          78,
          78,
          78,
          78,
          78,
          79,
          79,
          81,
          85,
          86,
          87,
          88,
          88,
          97,
          97,
          98,
          99,
          101,
          103,
          103,
          103,
          103,
          113,
          120,
          120,
          126
         ],
         "yaxis": "y6"
        },
        {
         "marker": {
          "color": "rgb(80, 139, 141)",
          "line": {
           "color": "#F7F7F7",
           "width": 1
          },
          "opacity": 0.85,
          "size": 9
         },
         "mode": "markers",
         "name": "Men",
         "showlegend": false,
         "type": "scatter",
         "x": [
          19,
          21,
          64,
          67,
          37,
          22,
          20,
          52,
          35,
          25,
          31,
          29,
          35,
          60,
          53,
          18,
          24,
          48,
          33,
          59,
          47,
          69,
          53,
          70,
          19,
          63,
          18,
          19,
          70,
          59,
          26,
          40,
          57,
          38,
          67,
          48,
          18,
          48,
          24,
          48,
          20,
          67,
          26,
          49,
          54,
          68,
          66,
          65,
          19,
          27,
          39,
          43,
          40,
          59,
          38,
          47,
          39,
          20,
          32,
          19,
          32,
          25,
          28,
          48,
          34,
          43,
          39,
          37,
          34,
          19,
          50,
          42,
          32,
          40,
          28,
          36,
          36,
          58,
          27,
          59,
          35,
          46,
          30,
          28,
          33,
          32,
          32,
          30
         ],
         "xaxis": "x7",
         "y": [
          39,
          81,
          3,
          14,
          13,
          79,
          66,
          29,
          35,
          73,
          73,
          82,
          61,
          4,
          4,
          92,
          92,
          36,
          60,
          60,
          41,
          46,
          46,
          56,
          55,
          51,
          59,
          59,
          55,
          47,
          54,
          48,
          51,
          55,
          41,
          46,
          41,
          49,
          52,
          42,
          49,
          59,
          55,
          56,
          46,
          43,
          48,
          52,
          46,
          56,
          91,
          35,
          95,
          11,
          75,
          9,
          75,
          5,
          73,
          10,
          93,
          12,
          97,
          36,
          90,
          17,
          88,
          1,
          1,
          5,
          26,
          20,
          63,
          13,
          75,
          10,
          92,
          15,
          69,
          14,
          90,
          15,
          97,
          68,
          8,
          74,
          18,
          83
         ],
         "yaxis": "y7"
        },
        {
         "marker": {
          "color": "rgb(240, 202, 189)",
          "line": {
           "color": "#F7F7F7",
           "width": 1
          },
          "opacity": 0.85,
          "size": 9
         },
         "mode": "markers",
         "name": "Women",
         "showlegend": false,
         "type": "scatter",
         "x": [
          20,
          23,
          31,
          22,
          35,
          23,
          30,
          35,
          58,
          24,
          35,
          35,
          46,
          54,
          45,
          40,
          23,
          21,
          49,
          21,
          42,
          30,
          36,
          20,
          65,
          31,
          49,
          24,
          50,
          27,
          29,
          31,
          49,
          31,
          50,
          51,
          27,
          67,
          54,
          43,
          68,
          32,
          47,
          60,
          60,
          45,
          23,
          49,
          46,
          21,
          55,
          22,
          34,
          50,
          68,
          40,
          32,
          47,
          27,
          23,
          49,
          21,
          66,
          19,
          38,
          18,
          19,
          63,
          49,
          51,
          50,
          38,
          40,
          23,
          31,
          25,
          31,
          29,
          44,
          35,
          57,
          28,
          32,
          32,
          34,
          44,
          38,
          47,
          27,
          30,
          30,
          56,
          29,
          31,
          36,
          33,
          36,
          52,
          30,
          37,
          32,
          29,
          41,
          54,
          41,
          36,
          34,
          32,
          38,
          47,
          35,
          45
         ],
         "xaxis": "x7",
         "y": [
          6,
          77,
          40,
          76,
          6,
          94,
          72,
          99,
          15,
          77,
          35,
          98,
          5,
          14,
          32,
          31,
          87,
          73,
          14,
          81,
          17,
          73,
          26,
          75,
          35,
          61,
          28,
          65,
          55,
          47,
          42,
          42,
          52,
          54,
          45,
          50,
          51,
          52,
          59,
          50,
          48,
          47,
          42,
          49,
          56,
          53,
          52,
          42,
          44,
          57,
          58,
          55,
          60,
          46,
          55,
          40,
          42,
          47,
          50,
          41,
          48,
          42,
          50,
          54,
          42,
          48,
          50,
          43,
          59,
          43,
          57,
          40,
          58,
          29,
          77,
          34,
          71,
          88,
          7,
          72,
          5,
          40,
          87,
          74,
          22,
          20,
          76,
          16,
          89,
          78,
          73,
          35,
          83,
          93,
          75,
          95,
          27,
          13,
          86,
          32,
          86,
          88,
          39,
          24,
          17,
          85,
          23,
          69,
          91,
          16,
          79,
          28
         ],
         "yaxis": "y7"
        },
        {
         "marker": {
          "color": "rgb(80, 139, 141)",
          "line": {
           "color": "#F7F7F7",
           "width": 1
          },
          "opacity": 0.85,
          "size": 9
         },
         "mode": "markers",
         "name": "Men",
         "showlegend": false,
         "type": "scatter",
         "x": [
          15,
          15,
          19,
          19,
          20,
          20,
          21,
          23,
          24,
          24,
          25,
          28,
          28,
          30,
          33,
          33,
          38,
          39,
          42,
          43,
          43,
          44,
          46,
          46,
          46,
          48,
          48,
          48,
          49,
          54,
          54,
          54,
          54,
          54,
          54,
          54,
          59,
          60,
          60,
          61,
          61,
          62,
          62,
          62,
          63,
          63,
          63,
          63,
          64,
          67,
          69,
          71,
          71,
          71,
          71,
          71,
          71,
          73,
          73,
          74,
          75,
          77,
          77,
          77,
          78,
          78,
          78,
          78,
          78,
          81,
          85,
          86,
          87,
          87,
          87,
          87,
          87,
          88,
          88,
          93,
          93,
          98,
          99,
          101,
          113,
          126,
          137,
          137
         ],
         "xaxis": "x8",
         "y": [
          39,
          81,
          3,
          14,
          13,
          79,
          66,
          29,
          35,
          73,
          73,
          82,
          61,
          4,
          4,
          92,
          92,
          36,
          60,
          60,
          41,
          46,
          46,
          56,
          55,
          51,
          59,
          59,
          55,
          47,
          54,
          48,
          51,
          55,
          41,
          46,
          41,
          49,
          52,
          42,
          49,
          59,
          55,
          56,
          46,
          43,
          48,
          52,
          46,
          56,
          91,
          35,
          95,
          11,
          75,
          9,
          75,
          5,
          73,
          10,
          93,
          12,
          97,
          36,
          90,
          17,
          88,
          1,
          1,
          5,
          26,
          20,
          63,
          13,
          75,
          10,
          92,
          15,
          69,
          14,
          90,
          15,
          97,
          68,
          8,
          74,
          18,
          83
         ],
         "yaxis": "y8"
        },
        {
         "marker": {
          "color": "rgb(240, 202, 189)",
          "line": {
           "color": "#F7F7F7",
           "width": 1
          },
          "opacity": 0.85,
          "size": 9
         },
         "mode": "markers",
         "name": "Women",
         "showlegend": false,
         "type": "scatter",
         "x": [
          16,
          16,
          17,
          17,
          18,
          18,
          19,
          19,
          20,
          20,
          21,
          23,
          25,
          28,
          28,
          29,
          29,
          30,
          33,
          33,
          34,
          34,
          37,
          37,
          38,
          39,
          39,
          39,
          40,
          40,
          40,
          40,
          42,
          43,
          43,
          44,
          46,
          47,
          47,
          48,
          48,
          48,
          49,
          50,
          50,
          54,
          54,
          54,
          54,
          54,
          57,
          57,
          58,
          58,
          59,
          60,
          60,
          60,
          60,
          62,
          62,
          62,
          63,
          63,
          64,
          65,
          65,
          65,
          65,
          67,
          67,
          67,
          69,
          70,
          70,
          72,
          72,
          73,
          73,
          74,
          75,
          76,
          76,
          77,
          78,
          78,
          78,
          78,
          78,
          78,
          78,
          79,
          79,
          81,
          85,
          86,
          87,
          88,
          88,
          97,
          97,
          98,
          99,
          101,
          103,
          103,
          103,
          103,
          113,
          120,
          120,
          126
         ],
         "xaxis": "x8",
         "y": [
          6,
          77,
          40,
          76,
          6,
          94,
          72,
          99,
          15,
          77,
          35,
          98,
          5,
          14,
          32,
          31,
          87,
          73,
          14,
          81,
          17,
          73,
          26,
          75,
          35,
          61,
          28,
          65,
          55,
          47,
          42,
          42,
          52,
          54,
          45,
          50,
          51,
          52,
          59,
          50,
          48,
          47,
          42,
          49,
          56,
          53,
          52,
          42,
          44,
          57,
          58,
          55,
          60,
          46,
          55,
          40,
          42,
          47,
          50,
          41,
          48,
          42,
          50,
          54,
          42,
          48,
          50,
          43,
          59,
          43,
          57,
          40,
          58,
          29,
          77,
          34,
          71,
          88,
          7,
          72,
          5,
          40,
          87,
          74,
          22,
          20,
          76,
          16,
          89,
          78,
          73,
          35,
          83,
          93,
          75,
          95,
          27,
          13,
          86,
          32,
          86,
          88,
          39,
          24,
          17,
          85,
          23,
          69,
          91,
          16,
          79,
          28
         ],
         "yaxis": "y8"
        },
        {
         "marker": {
          "color": "rgb(80, 139, 141)",
          "line": {
           "color": "#F7F7F7",
           "width": 1
          },
          "opacity": 0.85,
          "size": 9
         },
         "showlegend": false,
         "type": "box",
         "xaxis": "x9",
         "y": [
          39,
          81,
          3,
          14,
          13,
          79,
          66,
          29,
          35,
          73,
          73,
          82,
          61,
          4,
          4,
          92,
          92,
          36,
          60,
          60,
          41,
          46,
          46,
          56,
          55,
          51,
          59,
          59,
          55,
          47,
          54,
          48,
          51,
          55,
          41,
          46,
          41,
          49,
          52,
          42,
          49,
          59,
          55,
          56,
          46,
          43,
          48,
          52,
          46,
          56,
          91,
          35,
          95,
          11,
          75,
          9,
          75,
          5,
          73,
          10,
          93,
          12,
          97,
          36,
          90,
          17,
          88,
          1,
          1,
          5,
          26,
          20,
          63,
          13,
          75,
          10,
          92,
          15,
          69,
          14,
          90,
          15,
          97,
          68,
          8,
          74,
          18,
          83
         ],
         "yaxis": "y9"
        },
        {
         "marker": {
          "color": "rgb(240, 202, 189)",
          "line": {
           "color": "#F7F7F7",
           "width": 1
          },
          "opacity": 0.85,
          "size": 9
         },
         "showlegend": false,
         "type": "box",
         "xaxis": "x9",
         "y": [
          6,
          77,
          40,
          76,
          6,
          94,
          72,
          99,
          15,
          77,
          35,
          98,
          5,
          14,
          32,
          31,
          87,
          73,
          14,
          81,
          17,
          73,
          26,
          75,
          35,
          61,
          28,
          65,
          55,
          47,
          42,
          42,
          52,
          54,
          45,
          50,
          51,
          52,
          59,
          50,
          48,
          47,
          42,
          49,
          56,
          53,
          52,
          42,
          44,
          57,
          58,
          55,
          60,
          46,
          55,
          40,
          42,
          47,
          50,
          41,
          48,
          42,
          50,
          54,
          42,
          48,
          50,
          43,
          59,
          43,
          57,
          40,
          58,
          29,
          77,
          34,
          71,
          88,
          7,
          72,
          5,
          40,
          87,
          74,
          22,
          20,
          76,
          16,
          89,
          78,
          73,
          35,
          83,
          93,
          75,
          95,
          27,
          13,
          86,
          32,
          86,
          88,
          39,
          24,
          17,
          85,
          23,
          69,
          91,
          16,
          79,
          28
         ],
         "yaxis": "y9"
        }
       ],
       "layout": {
        "height": 900,
        "legend": {
         "orientation": "h",
         "x": 0.35,
         "y": 1.02,
         "yanchor": "bottom"
        },
        "showlegend": true,
        "template": {
         "data": {
          "bar": [
           {
            "error_x": {
             "color": "#2a3f5f"
            },
            "error_y": {
             "color": "#2a3f5f"
            },
            "marker": {
             "line": {
              "color": "#E5ECF6",
              "width": 0.5
             },
             "pattern": {
              "fillmode": "overlay",
              "size": 10,
              "solidity": 0.2
             }
            },
            "type": "bar"
           }
          ],
          "barpolar": [
           {
            "marker": {
             "line": {
              "color": "#E5ECF6",
              "width": 0.5
             },
             "pattern": {
              "fillmode": "overlay",
              "size": 10,
              "solidity": 0.2
             }
            },
            "type": "barpolar"
           }
          ],
          "carpet": [
           {
            "aaxis": {
             "endlinecolor": "#2a3f5f",
             "gridcolor": "white",
             "linecolor": "white",
             "minorgridcolor": "white",
             "startlinecolor": "#2a3f5f"
            },
            "baxis": {
             "endlinecolor": "#2a3f5f",
             "gridcolor": "white",
             "linecolor": "white",
             "minorgridcolor": "white",
             "startlinecolor": "#2a3f5f"
            },
            "type": "carpet"
           }
          ],
          "choropleth": [
           {
            "colorbar": {
             "outlinewidth": 0,
             "ticks": ""
            },
            "type": "choropleth"
           }
          ],
          "contour": [
           {
            "colorbar": {
             "outlinewidth": 0,
             "ticks": ""
            },
            "colorscale": [
             [
              0,
              "#0d0887"
             ],
             [
              0.1111111111111111,
              "#46039f"
             ],
             [
              0.2222222222222222,
              "#7201a8"
             ],
             [
              0.3333333333333333,
              "#9c179e"
             ],
             [
              0.4444444444444444,
              "#bd3786"
             ],
             [
              0.5555555555555556,
              "#d8576b"
             ],
             [
              0.6666666666666666,
              "#ed7953"
             ],
             [
              0.7777777777777778,
              "#fb9f3a"
             ],
             [
              0.8888888888888888,
              "#fdca26"
             ],
             [
              1,
              "#f0f921"
             ]
            ],
            "type": "contour"
           }
          ],
          "contourcarpet": [
           {
            "colorbar": {
             "outlinewidth": 0,
             "ticks": ""
            },
            "type": "contourcarpet"
           }
          ],
          "heatmap": [
           {
            "colorbar": {
             "outlinewidth": 0,
             "ticks": ""
            },
            "colorscale": [
             [
              0,
              "#0d0887"
             ],
             [
              0.1111111111111111,
              "#46039f"
             ],
             [
              0.2222222222222222,
              "#7201a8"
             ],
             [
              0.3333333333333333,
              "#9c179e"
             ],
             [
              0.4444444444444444,
              "#bd3786"
             ],
             [
              0.5555555555555556,
              "#d8576b"
             ],
             [
              0.6666666666666666,
              "#ed7953"
             ],
             [
              0.7777777777777778,
              "#fb9f3a"
             ],
             [
              0.8888888888888888,
              "#fdca26"
             ],
             [
              1,
              "#f0f921"
             ]
            ],
            "type": "heatmap"
           }
          ],
          "heatmapgl": [
           {
            "colorbar": {
             "outlinewidth": 0,
             "ticks": ""
            },
            "colorscale": [
             [
              0,
              "#0d0887"
             ],
             [
              0.1111111111111111,
              "#46039f"
             ],
             [
              0.2222222222222222,
              "#7201a8"
             ],
             [
              0.3333333333333333,
              "#9c179e"
             ],
             [
              0.4444444444444444,
              "#bd3786"
             ],
             [
              0.5555555555555556,
              "#d8576b"
             ],
             [
              0.6666666666666666,
              "#ed7953"
             ],
             [
              0.7777777777777778,
              "#fb9f3a"
             ],
             [
              0.8888888888888888,
              "#fdca26"
             ],
             [
              1,
              "#f0f921"
             ]
            ],
            "type": "heatmapgl"
           }
          ],
          "histogram": [
           {
            "marker": {
             "pattern": {
              "fillmode": "overlay",
              "size": 10,
              "solidity": 0.2
             }
            },
            "type": "histogram"
           }
          ],
          "histogram2d": [
           {
            "colorbar": {
             "outlinewidth": 0,
             "ticks": ""
            },
            "colorscale": [
             [
              0,
              "#0d0887"
             ],
             [
              0.1111111111111111,
              "#46039f"
             ],
             [
              0.2222222222222222,
              "#7201a8"
             ],
             [
              0.3333333333333333,
              "#9c179e"
             ],
             [
              0.4444444444444444,
              "#bd3786"
             ],
             [
              0.5555555555555556,
              "#d8576b"
             ],
             [
              0.6666666666666666,
              "#ed7953"
             ],
             [
              0.7777777777777778,
              "#fb9f3a"
             ],
             [
              0.8888888888888888,
              "#fdca26"
             ],
             [
              1,
              "#f0f921"
             ]
            ],
            "type": "histogram2d"
           }
          ],
          "histogram2dcontour": [
           {
            "colorbar": {
             "outlinewidth": 0,
             "ticks": ""
            },
            "colorscale": [
             [
              0,
              "#0d0887"
             ],
             [
              0.1111111111111111,
              "#46039f"
             ],
             [
              0.2222222222222222,
              "#7201a8"
             ],
             [
              0.3333333333333333,
              "#9c179e"
             ],
             [
              0.4444444444444444,
              "#bd3786"
             ],
             [
              0.5555555555555556,
              "#d8576b"
             ],
             [
              0.6666666666666666,
              "#ed7953"
             ],
             [
              0.7777777777777778,
              "#fb9f3a"
             ],
             [
              0.8888888888888888,
              "#fdca26"
             ],
             [
              1,
              "#f0f921"
             ]
            ],
            "type": "histogram2dcontour"
           }
          ],
          "mesh3d": [
           {
            "colorbar": {
             "outlinewidth": 0,
             "ticks": ""
            },
            "type": "mesh3d"
           }
          ],
          "parcoords": [
           {
            "line": {
             "colorbar": {
              "outlinewidth": 0,
              "ticks": ""
             }
            },
            "type": "parcoords"
           }
          ],
          "pie": [
           {
            "automargin": true,
            "type": "pie"
           }
          ],
          "scatter": [
           {
            "fillpattern": {
             "fillmode": "overlay",
             "size": 10,
             "solidity": 0.2
            },
            "type": "scatter"
           }
          ],
          "scatter3d": [
           {
            "line": {
             "colorbar": {
              "outlinewidth": 0,
              "ticks": ""
             }
            },
            "marker": {
             "colorbar": {
              "outlinewidth": 0,
              "ticks": ""
             }
            },
            "type": "scatter3d"
           }
          ],
          "scattercarpet": [
           {
            "marker": {
             "colorbar": {
              "outlinewidth": 0,
              "ticks": ""
             }
            },
            "type": "scattercarpet"
           }
          ],
          "scattergeo": [
           {
            "marker": {
             "colorbar": {
              "outlinewidth": 0,
              "ticks": ""
             }
            },
            "type": "scattergeo"
           }
          ],
          "scattergl": [
           {
            "marker": {
             "colorbar": {
              "outlinewidth": 0,
              "ticks": ""
             }
            },
            "type": "scattergl"
           }
          ],
          "scattermapbox": [
           {
            "marker": {
             "colorbar": {
              "outlinewidth": 0,
              "ticks": ""
             }
            },
            "type": "scattermapbox"
           }
          ],
          "scatterpolar": [
           {
            "marker": {
             "colorbar": {
              "outlinewidth": 0,
              "ticks": ""
             }
            },
            "type": "scatterpolar"
           }
          ],
          "scatterpolargl": [
           {
            "marker": {
             "colorbar": {
              "outlinewidth": 0,
              "ticks": ""
             }
            },
            "type": "scatterpolargl"
           }
          ],
          "scatterternary": [
           {
            "marker": {
             "colorbar": {
              "outlinewidth": 0,
              "ticks": ""
             }
            },
            "type": "scatterternary"
           }
          ],
          "surface": [
           {
            "colorbar": {
             "outlinewidth": 0,
             "ticks": ""
            },
            "colorscale": [
             [
              0,
              "#0d0887"
             ],
             [
              0.1111111111111111,
              "#46039f"
             ],
             [
              0.2222222222222222,
              "#7201a8"
             ],
             [
              0.3333333333333333,
              "#9c179e"
             ],
             [
              0.4444444444444444,
              "#bd3786"
             ],
             [
              0.5555555555555556,
              "#d8576b"
             ],
             [
              0.6666666666666666,
              "#ed7953"
             ],
             [
              0.7777777777777778,
              "#fb9f3a"
             ],
             [
              0.8888888888888888,
              "#fdca26"
             ],
             [
              1,
              "#f0f921"
             ]
            ],
            "type": "surface"
           }
          ],
          "table": [
           {
            "cells": {
             "fill": {
              "color": "#EBF0F8"
             },
             "line": {
              "color": "white"
             }
            },
            "header": {
             "fill": {
              "color": "#C8D4E3"
             },
             "line": {
              "color": "white"
             }
            },
            "type": "table"
           }
          ]
         },
         "layout": {
          "font": {
           "family": "Franklin Gothic",
           "size": 12
          }
         }
        },
        "title": {
         "text": "Mall Customer Pair Plots"
        },
        "width": 700,
        "xaxis": {
         "anchor": "y",
         "domain": [
          0,
          0.2888888888888889
         ],
         "showticklabels": false
        },
        "xaxis2": {
         "anchor": "y2",
         "domain": [
          0.35555555555555557,
          0.6444444444444445
         ]
        },
        "xaxis3": {
         "anchor": "y3",
         "domain": [
          0.7111111111111111,
          1
         ]
        },
        "xaxis4": {
         "anchor": "y4",
         "domain": [
          0,
          0.2888888888888889
         ]
        },
        "xaxis5": {
         "anchor": "y5",
         "domain": [
          0.35555555555555557,
          0.6444444444444445
         ],
         "showticklabels": false
        },
        "xaxis6": {
         "anchor": "y6",
         "domain": [
          0.7111111111111111,
          1
         ]
        },
        "xaxis7": {
         "anchor": "y7",
         "domain": [
          0,
          0.2888888888888889
         ],
         "title": {
          "text": "Age"
         }
        },
        "xaxis8": {
         "anchor": "y8",
         "domain": [
          0.35555555555555557,
          0.6444444444444445
         ],
         "title": {
          "text": "Annual Income"
         }
        },
        "xaxis9": {
         "anchor": "y9",
         "domain": [
          0.7111111111111111,
          1
         ],
         "showticklabels": false,
         "title": {
          "text": "Spending Score"
         }
        },
        "yaxis": {
         "anchor": "x",
         "domain": [
          0.7333333333333333,
          1
         ],
         "title": {
          "text": "Age"
         }
        },
        "yaxis2": {
         "anchor": "x2",
         "domain": [
          0.7333333333333333,
          1
         ]
        },
        "yaxis3": {
         "anchor": "x3",
         "domain": [
          0.7333333333333333,
          1
         ]
        },
        "yaxis4": {
         "anchor": "x4",
         "domain": [
          0.36666666666666664,
          0.6333333333333333
         ],
         "title": {
          "text": "Annual Income"
         }
        },
        "yaxis5": {
         "anchor": "x5",
         "domain": [
          0.36666666666666664,
          0.6333333333333333
         ]
        },
        "yaxis6": {
         "anchor": "x6",
         "domain": [
          0.36666666666666664,
          0.6333333333333333
         ]
        },
        "yaxis7": {
         "anchor": "x7",
         "domain": [
          0,
          0.26666666666666666
         ],
         "title": {
          "text": "Spending Score"
         }
        },
        "yaxis8": {
         "anchor": "x8",
         "domain": [
          0,
          0.26666666666666666
         ]
        },
        "yaxis9": {
         "anchor": "x9",
         "domain": [
          0,
          0.26666666666666666
         ]
        }
       }
      },
      "text/html": [
       "<div>                            <div id=\"a0bc984f-b1d3-4b57-9319-999ffc733b7d\" class=\"plotly-graph-div\" style=\"height:900px; width:700px;\"></div>            <script type=\"text/javascript\">                require([\"plotly\"], function(Plotly) {                    window.PLOTLYENV=window.PLOTLYENV || {};                                    if (document.getElementById(\"a0bc984f-b1d3-4b57-9319-999ffc733b7d\")) {                    Plotly.newPlot(                        \"a0bc984f-b1d3-4b57-9319-999ffc733b7d\",                        [{\"marker\":{\"color\":\"rgb(80, 139, 141)\",\"line\":{\"color\":\"#F7F7F7\",\"width\":1},\"opacity\":0.85,\"size\":9},\"showlegend\":false,\"y\":[19,21,64,67,37,22,20,52,35,25,31,29,35,60,53,18,24,48,33,59,47,69,53,70,19,63,18,19,70,59,26,40,57,38,67,48,18,48,24,48,20,67,26,49,54,68,66,65,19,27,39,43,40,59,38,47,39,20,32,19,32,25,28,48,34,43,39,37,34,19,50,42,32,40,28,36,36,58,27,59,35,46,30,28,33,32,32,30],\"type\":\"box\",\"xaxis\":\"x\",\"yaxis\":\"y\"},{\"marker\":{\"color\":\"rgb(240, 202, 189)\",\"line\":{\"color\":\"#F7F7F7\",\"width\":1},\"opacity\":0.85,\"size\":9},\"showlegend\":false,\"y\":[20,23,31,22,35,23,30,35,58,24,35,35,46,54,45,40,23,21,49,21,42,30,36,20,65,31,49,24,50,27,29,31,49,31,50,51,27,67,54,43,68,32,47,60,60,45,23,49,46,21,55,22,34,50,68,40,32,47,27,23,49,21,66,19,38,18,19,63,49,51,50,38,40,23,31,25,31,29,44,35,57,28,32,32,34,44,38,47,27,30,30,56,29,31,36,33,36,52,30,37,32,29,41,54,41,36,34,32,38,47,35,45],\"type\":\"box\",\"xaxis\":\"x\",\"yaxis\":\"y\"},{\"marker\":{\"color\":\"rgb(80, 139, 141)\",\"size\":9,\"line\":{\"color\":\"#F7F7F7\",\"width\":1},\"opacity\":0.85},\"mode\":\"markers\",\"name\":\"Men\",\"showlegend\":true,\"x\":[15,15,19,19,20,20,21,23,24,24,25,28,28,30,33,33,38,39,42,43,43,44,46,46,46,48,48,48,49,54,54,54,54,54,54,54,59,60,60,61,61,62,62,62,63,63,63,63,64,67,69,71,71,71,71,71,71,73,73,74,75,77,77,77,78,78,78,78,78,81,85,86,87,87,87,87,87,88,88,93,93,98,99,101,113,126,137,137],\"y\":[19,21,64,67,37,22,20,52,35,25,31,29,35,60,53,18,24,48,33,59,47,69,53,70,19,63,18,19,70,59,26,40,57,38,67,48,18,48,24,48,20,67,26,49,54,68,66,65,19,27,39,43,40,59,38,47,39,20,32,19,32,25,28,48,34,43,39,37,34,19,50,42,32,40,28,36,36,58,27,59,35,46,30,28,33,32,32,30],\"type\":\"scatter\",\"xaxis\":\"x2\",\"yaxis\":\"y2\"},{\"marker\":{\"color\":\"rgb(240, 202, 189)\",\"size\":9,\"line\":{\"color\":\"#F7F7F7\",\"width\":1},\"opacity\":0.85},\"mode\":\"markers\",\"name\":\"Women\",\"showlegend\":true,\"x\":[16,16,17,17,18,18,19,19,20,20,21,23,25,28,28,29,29,30,33,33,34,34,37,37,38,39,39,39,40,40,40,40,42,43,43,44,46,47,47,48,48,48,49,50,50,54,54,54,54,54,57,57,58,58,59,60,60,60,60,62,62,62,63,63,64,65,65,65,65,67,67,67,69,70,70,72,72,73,73,74,75,76,76,77,78,78,78,78,78,78,78,79,79,81,85,86,87,88,88,97,97,98,99,101,103,103,103,103,113,120,120,126],\"y\":[20,23,31,22,35,23,30,35,58,24,35,35,46,54,45,40,23,21,49,21,42,30,36,20,65,31,49,24,50,27,29,31,49,31,50,51,27,67,54,43,68,32,47,60,60,45,23,49,46,21,55,22,34,50,68,40,32,47,27,23,49,21,66,19,38,18,19,63,49,51,50,38,40,23,31,25,31,29,44,35,57,28,32,32,34,44,38,47,27,30,30,56,29,31,36,33,36,52,30,37,32,29,41,54,41,36,34,32,38,47,35,45],\"type\":\"scatter\",\"xaxis\":\"x2\",\"yaxis\":\"y2\"},{\"marker\":{\"color\":\"rgb(80, 139, 141)\",\"size\":9,\"line\":{\"color\":\"#F7F7F7\",\"width\":1},\"opacity\":0.85},\"mode\":\"markers\",\"name\":\"Men\",\"showlegend\":false,\"x\":[39,81,3,14,13,79,66,29,35,73,73,82,61,4,4,92,92,36,60,60,41,46,46,56,55,51,59,59,55,47,54,48,51,55,41,46,41,49,52,42,49,59,55,56,46,43,48,52,46,56,91,35,95,11,75,9,75,5,73,10,93,12,97,36,90,17,88,1,1,5,26,20,63,13,75,10,92,15,69,14,90,15,97,68,8,74,18,83],\"y\":[19,21,64,67,37,22,20,52,35,25,31,29,35,60,53,18,24,48,33,59,47,69,53,70,19,63,18,19,70,59,26,40,57,38,67,48,18,48,24,48,20,67,26,49,54,68,66,65,19,27,39,43,40,59,38,47,39,20,32,19,32,25,28,48,34,43,39,37,34,19,50,42,32,40,28,36,36,58,27,59,35,46,30,28,33,32,32,30],\"type\":\"scatter\",\"xaxis\":\"x3\",\"yaxis\":\"y3\"},{\"marker\":{\"color\":\"rgb(240, 202, 189)\",\"size\":9,\"line\":{\"color\":\"#F7F7F7\",\"width\":1},\"opacity\":0.85},\"mode\":\"markers\",\"name\":\"Women\",\"showlegend\":false,\"x\":[6,77,40,76,6,94,72,99,15,77,35,98,5,14,32,31,87,73,14,81,17,73,26,75,35,61,28,65,55,47,42,42,52,54,45,50,51,52,59,50,48,47,42,49,56,53,52,42,44,57,58,55,60,46,55,40,42,47,50,41,48,42,50,54,42,48,50,43,59,43,57,40,58,29,77,34,71,88,7,72,5,40,87,74,22,20,76,16,89,78,73,35,83,93,75,95,27,13,86,32,86,88,39,24,17,85,23,69,91,16,79,28],\"y\":[20,23,31,22,35,23,30,35,58,24,35,35,46,54,45,40,23,21,49,21,42,30,36,20,65,31,49,24,50,27,29,31,49,31,50,51,27,67,54,43,68,32,47,60,60,45,23,49,46,21,55,22,34,50,68,40,32,47,27,23,49,21,66,19,38,18,19,63,49,51,50,38,40,23,31,25,31,29,44,35,57,28,32,32,34,44,38,47,27,30,30,56,29,31,36,33,36,52,30,37,32,29,41,54,41,36,34,32,38,47,35,45],\"type\":\"scatter\",\"xaxis\":\"x3\",\"yaxis\":\"y3\"},{\"marker\":{\"color\":\"rgb(80, 139, 141)\",\"size\":9,\"line\":{\"color\":\"#F7F7F7\",\"width\":1},\"opacity\":0.85},\"mode\":\"markers\",\"name\":\"Men\",\"showlegend\":false,\"x\":[19,21,64,67,37,22,20,52,35,25,31,29,35,60,53,18,24,48,33,59,47,69,53,70,19,63,18,19,70,59,26,40,57,38,67,48,18,48,24,48,20,67,26,49,54,68,66,65,19,27,39,43,40,59,38,47,39,20,32,19,32,25,28,48,34,43,39,37,34,19,50,42,32,40,28,36,36,58,27,59,35,46,30,28,33,32,32,30],\"y\":[15,15,19,19,20,20,21,23,24,24,25,28,28,30,33,33,38,39,42,43,43,44,46,46,46,48,48,48,49,54,54,54,54,54,54,54,59,60,60,61,61,62,62,62,63,63,63,63,64,67,69,71,71,71,71,71,71,73,73,74,75,77,77,77,78,78,78,78,78,81,85,86,87,87,87,87,87,88,88,93,93,98,99,101,113,126,137,137],\"type\":\"scatter\",\"xaxis\":\"x4\",\"yaxis\":\"y4\"},{\"marker\":{\"color\":\"rgb(240, 202, 189)\",\"size\":9,\"line\":{\"color\":\"#F7F7F7\",\"width\":1},\"opacity\":0.85},\"mode\":\"markers\",\"name\":\"Women\",\"showlegend\":false,\"x\":[20,23,31,22,35,23,30,35,58,24,35,35,46,54,45,40,23,21,49,21,42,30,36,20,65,31,49,24,50,27,29,31,49,31,50,51,27,67,54,43,68,32,47,60,60,45,23,49,46,21,55,22,34,50,68,40,32,47,27,23,49,21,66,19,38,18,19,63,49,51,50,38,40,23,31,25,31,29,44,35,57,28,32,32,34,44,38,47,27,30,30,56,29,31,36,33,36,52,30,37,32,29,41,54,41,36,34,32,38,47,35,45],\"y\":[16,16,17,17,18,18,19,19,20,20,21,23,25,28,28,29,29,30,33,33,34,34,37,37,38,39,39,39,40,40,40,40,42,43,43,44,46,47,47,48,48,48,49,50,50,54,54,54,54,54,57,57,58,58,59,60,60,60,60,62,62,62,63,63,64,65,65,65,65,67,67,67,69,70,70,72,72,73,73,74,75,76,76,77,78,78,78,78,78,78,78,79,79,81,85,86,87,88,88,97,97,98,99,101,103,103,103,103,113,120,120,126],\"type\":\"scatter\",\"xaxis\":\"x4\",\"yaxis\":\"y4\"},{\"marker\":{\"color\":\"rgb(80, 139, 141)\",\"line\":{\"color\":\"#F7F7F7\",\"width\":1},\"opacity\":0.85,\"size\":9},\"showlegend\":false,\"y\":[15,15,19,19,20,20,21,23,24,24,25,28,28,30,33,33,38,39,42,43,43,44,46,46,46,48,48,48,49,54,54,54,54,54,54,54,59,60,60,61,61,62,62,62,63,63,63,63,64,67,69,71,71,71,71,71,71,73,73,74,75,77,77,77,78,78,78,78,78,81,85,86,87,87,87,87,87,88,88,93,93,98,99,101,113,126,137,137],\"type\":\"box\",\"xaxis\":\"x5\",\"yaxis\":\"y5\"},{\"marker\":{\"color\":\"rgb(240, 202, 189)\",\"line\":{\"color\":\"#F7F7F7\",\"width\":1},\"opacity\":0.85,\"size\":9},\"showlegend\":false,\"y\":[16,16,17,17,18,18,19,19,20,20,21,23,25,28,28,29,29,30,33,33,34,34,37,37,38,39,39,39,40,40,40,40,42,43,43,44,46,47,47,48,48,48,49,50,50,54,54,54,54,54,57,57,58,58,59,60,60,60,60,62,62,62,63,63,64,65,65,65,65,67,67,67,69,70,70,72,72,73,73,74,75,76,76,77,78,78,78,78,78,78,78,79,79,81,85,86,87,88,88,97,97,98,99,101,103,103,103,103,113,120,120,126],\"type\":\"box\",\"xaxis\":\"x5\",\"yaxis\":\"y5\"},{\"marker\":{\"color\":\"rgb(80, 139, 141)\",\"size\":9,\"line\":{\"color\":\"#F7F7F7\",\"width\":1},\"opacity\":0.85},\"mode\":\"markers\",\"name\":\"Men\",\"showlegend\":false,\"x\":[39,81,3,14,13,79,66,29,35,73,73,82,61,4,4,92,92,36,60,60,41,46,46,56,55,51,59,59,55,47,54,48,51,55,41,46,41,49,52,42,49,59,55,56,46,43,48,52,46,56,91,35,95,11,75,9,75,5,73,10,93,12,97,36,90,17,88,1,1,5,26,20,63,13,75,10,92,15,69,14,90,15,97,68,8,74,18,83],\"y\":[15,15,19,19,20,20,21,23,24,24,25,28,28,30,33,33,38,39,42,43,43,44,46,46,46,48,48,48,49,54,54,54,54,54,54,54,59,60,60,61,61,62,62,62,63,63,63,63,64,67,69,71,71,71,71,71,71,73,73,74,75,77,77,77,78,78,78,78,78,81,85,86,87,87,87,87,87,88,88,93,93,98,99,101,113,126,137,137],\"type\":\"scatter\",\"xaxis\":\"x6\",\"yaxis\":\"y6\"},{\"marker\":{\"color\":\"rgb(240, 202, 189)\",\"size\":9,\"line\":{\"color\":\"#F7F7F7\",\"width\":1},\"opacity\":0.85},\"mode\":\"markers\",\"name\":\"Women\",\"showlegend\":false,\"x\":[6,77,40,76,6,94,72,99,15,77,35,98,5,14,32,31,87,73,14,81,17,73,26,75,35,61,28,65,55,47,42,42,52,54,45,50,51,52,59,50,48,47,42,49,56,53,52,42,44,57,58,55,60,46,55,40,42,47,50,41,48,42,50,54,42,48,50,43,59,43,57,40,58,29,77,34,71,88,7,72,5,40,87,74,22,20,76,16,89,78,73,35,83,93,75,95,27,13,86,32,86,88,39,24,17,85,23,69,91,16,79,28],\"y\":[16,16,17,17,18,18,19,19,20,20,21,23,25,28,28,29,29,30,33,33,34,34,37,37,38,39,39,39,40,40,40,40,42,43,43,44,46,47,47,48,48,48,49,50,50,54,54,54,54,54,57,57,58,58,59,60,60,60,60,62,62,62,63,63,64,65,65,65,65,67,67,67,69,70,70,72,72,73,73,74,75,76,76,77,78,78,78,78,78,78,78,79,79,81,85,86,87,88,88,97,97,98,99,101,103,103,103,103,113,120,120,126],\"type\":\"scatter\",\"xaxis\":\"x6\",\"yaxis\":\"y6\"},{\"marker\":{\"color\":\"rgb(80, 139, 141)\",\"size\":9,\"line\":{\"color\":\"#F7F7F7\",\"width\":1},\"opacity\":0.85},\"mode\":\"markers\",\"name\":\"Men\",\"showlegend\":false,\"x\":[19,21,64,67,37,22,20,52,35,25,31,29,35,60,53,18,24,48,33,59,47,69,53,70,19,63,18,19,70,59,26,40,57,38,67,48,18,48,24,48,20,67,26,49,54,68,66,65,19,27,39,43,40,59,38,47,39,20,32,19,32,25,28,48,34,43,39,37,34,19,50,42,32,40,28,36,36,58,27,59,35,46,30,28,33,32,32,30],\"y\":[39,81,3,14,13,79,66,29,35,73,73,82,61,4,4,92,92,36,60,60,41,46,46,56,55,51,59,59,55,47,54,48,51,55,41,46,41,49,52,42,49,59,55,56,46,43,48,52,46,56,91,35,95,11,75,9,75,5,73,10,93,12,97,36,90,17,88,1,1,5,26,20,63,13,75,10,92,15,69,14,90,15,97,68,8,74,18,83],\"type\":\"scatter\",\"xaxis\":\"x7\",\"yaxis\":\"y7\"},{\"marker\":{\"color\":\"rgb(240, 202, 189)\",\"size\":9,\"line\":{\"color\":\"#F7F7F7\",\"width\":1},\"opacity\":0.85},\"mode\":\"markers\",\"name\":\"Women\",\"showlegend\":false,\"x\":[20,23,31,22,35,23,30,35,58,24,35,35,46,54,45,40,23,21,49,21,42,30,36,20,65,31,49,24,50,27,29,31,49,31,50,51,27,67,54,43,68,32,47,60,60,45,23,49,46,21,55,22,34,50,68,40,32,47,27,23,49,21,66,19,38,18,19,63,49,51,50,38,40,23,31,25,31,29,44,35,57,28,32,32,34,44,38,47,27,30,30,56,29,31,36,33,36,52,30,37,32,29,41,54,41,36,34,32,38,47,35,45],\"y\":[6,77,40,76,6,94,72,99,15,77,35,98,5,14,32,31,87,73,14,81,17,73,26,75,35,61,28,65,55,47,42,42,52,54,45,50,51,52,59,50,48,47,42,49,56,53,52,42,44,57,58,55,60,46,55,40,42,47,50,41,48,42,50,54,42,48,50,43,59,43,57,40,58,29,77,34,71,88,7,72,5,40,87,74,22,20,76,16,89,78,73,35,83,93,75,95,27,13,86,32,86,88,39,24,17,85,23,69,91,16,79,28],\"type\":\"scatter\",\"xaxis\":\"x7\",\"yaxis\":\"y7\"},{\"marker\":{\"color\":\"rgb(80, 139, 141)\",\"size\":9,\"line\":{\"color\":\"#F7F7F7\",\"width\":1},\"opacity\":0.85},\"mode\":\"markers\",\"name\":\"Men\",\"showlegend\":false,\"x\":[15,15,19,19,20,20,21,23,24,24,25,28,28,30,33,33,38,39,42,43,43,44,46,46,46,48,48,48,49,54,54,54,54,54,54,54,59,60,60,61,61,62,62,62,63,63,63,63,64,67,69,71,71,71,71,71,71,73,73,74,75,77,77,77,78,78,78,78,78,81,85,86,87,87,87,87,87,88,88,93,93,98,99,101,113,126,137,137],\"y\":[39,81,3,14,13,79,66,29,35,73,73,82,61,4,4,92,92,36,60,60,41,46,46,56,55,51,59,59,55,47,54,48,51,55,41,46,41,49,52,42,49,59,55,56,46,43,48,52,46,56,91,35,95,11,75,9,75,5,73,10,93,12,97,36,90,17,88,1,1,5,26,20,63,13,75,10,92,15,69,14,90,15,97,68,8,74,18,83],\"type\":\"scatter\",\"xaxis\":\"x8\",\"yaxis\":\"y8\"},{\"marker\":{\"color\":\"rgb(240, 202, 189)\",\"size\":9,\"line\":{\"color\":\"#F7F7F7\",\"width\":1},\"opacity\":0.85},\"mode\":\"markers\",\"name\":\"Women\",\"showlegend\":false,\"x\":[16,16,17,17,18,18,19,19,20,20,21,23,25,28,28,29,29,30,33,33,34,34,37,37,38,39,39,39,40,40,40,40,42,43,43,44,46,47,47,48,48,48,49,50,50,54,54,54,54,54,57,57,58,58,59,60,60,60,60,62,62,62,63,63,64,65,65,65,65,67,67,67,69,70,70,72,72,73,73,74,75,76,76,77,78,78,78,78,78,78,78,79,79,81,85,86,87,88,88,97,97,98,99,101,103,103,103,103,113,120,120,126],\"y\":[6,77,40,76,6,94,72,99,15,77,35,98,5,14,32,31,87,73,14,81,17,73,26,75,35,61,28,65,55,47,42,42,52,54,45,50,51,52,59,50,48,47,42,49,56,53,52,42,44,57,58,55,60,46,55,40,42,47,50,41,48,42,50,54,42,48,50,43,59,43,57,40,58,29,77,34,71,88,7,72,5,40,87,74,22,20,76,16,89,78,73,35,83,93,75,95,27,13,86,32,86,88,39,24,17,85,23,69,91,16,79,28],\"type\":\"scatter\",\"xaxis\":\"x8\",\"yaxis\":\"y8\"},{\"marker\":{\"color\":\"rgb(80, 139, 141)\",\"line\":{\"color\":\"#F7F7F7\",\"width\":1},\"opacity\":0.85,\"size\":9},\"showlegend\":false,\"y\":[39,81,3,14,13,79,66,29,35,73,73,82,61,4,4,92,92,36,60,60,41,46,46,56,55,51,59,59,55,47,54,48,51,55,41,46,41,49,52,42,49,59,55,56,46,43,48,52,46,56,91,35,95,11,75,9,75,5,73,10,93,12,97,36,90,17,88,1,1,5,26,20,63,13,75,10,92,15,69,14,90,15,97,68,8,74,18,83],\"type\":\"box\",\"xaxis\":\"x9\",\"yaxis\":\"y9\"},{\"marker\":{\"color\":\"rgb(240, 202, 189)\",\"line\":{\"color\":\"#F7F7F7\",\"width\":1},\"opacity\":0.85,\"size\":9},\"showlegend\":false,\"y\":[6,77,40,76,6,94,72,99,15,77,35,98,5,14,32,31,87,73,14,81,17,73,26,75,35,61,28,65,55,47,42,42,52,54,45,50,51,52,59,50,48,47,42,49,56,53,52,42,44,57,58,55,60,46,55,40,42,47,50,41,48,42,50,54,42,48,50,43,59,43,57,40,58,29,77,34,71,88,7,72,5,40,87,74,22,20,76,16,89,78,73,35,83,93,75,95,27,13,86,32,86,88,39,24,17,85,23,69,91,16,79,28],\"type\":\"box\",\"xaxis\":\"x9\",\"yaxis\":\"y9\"}],                        {\"template\":{\"data\":{\"histogram2dcontour\":[{\"type\":\"histogram2dcontour\",\"colorbar\":{\"outlinewidth\":0,\"ticks\":\"\"},\"colorscale\":[[0.0,\"#0d0887\"],[0.1111111111111111,\"#46039f\"],[0.2222222222222222,\"#7201a8\"],[0.3333333333333333,\"#9c179e\"],[0.4444444444444444,\"#bd3786\"],[0.5555555555555556,\"#d8576b\"],[0.6666666666666666,\"#ed7953\"],[0.7777777777777778,\"#fb9f3a\"],[0.8888888888888888,\"#fdca26\"],[1.0,\"#f0f921\"]]}],\"choropleth\":[{\"type\":\"choropleth\",\"colorbar\":{\"outlinewidth\":0,\"ticks\":\"\"}}],\"histogram2d\":[{\"type\":\"histogram2d\",\"colorbar\":{\"outlinewidth\":0,\"ticks\":\"\"},\"colorscale\":[[0.0,\"#0d0887\"],[0.1111111111111111,\"#46039f\"],[0.2222222222222222,\"#7201a8\"],[0.3333333333333333,\"#9c179e\"],[0.4444444444444444,\"#bd3786\"],[0.5555555555555556,\"#d8576b\"],[0.6666666666666666,\"#ed7953\"],[0.7777777777777778,\"#fb9f3a\"],[0.8888888888888888,\"#fdca26\"],[1.0,\"#f0f921\"]]}],\"heatmap\":[{\"type\":\"heatmap\",\"colorbar\":{\"outlinewidth\":0,\"ticks\":\"\"},\"colorscale\":[[0.0,\"#0d0887\"],[0.1111111111111111,\"#46039f\"],[0.2222222222222222,\"#7201a8\"],[0.3333333333333333,\"#9c179e\"],[0.4444444444444444,\"#bd3786\"],[0.5555555555555556,\"#d8576b\"],[0.6666666666666666,\"#ed7953\"],[0.7777777777777778,\"#fb9f3a\"],[0.8888888888888888,\"#fdca26\"],[1.0,\"#f0f921\"]]}],\"heatmapgl\":[{\"type\":\"heatmapgl\",\"colorbar\":{\"outlinewidth\":0,\"ticks\":\"\"},\"colorscale\":[[0.0,\"#0d0887\"],[0.1111111111111111,\"#46039f\"],[0.2222222222222222,\"#7201a8\"],[0.3333333333333333,\"#9c179e\"],[0.4444444444444444,\"#bd3786\"],[0.5555555555555556,\"#d8576b\"],[0.6666666666666666,\"#ed7953\"],[0.7777777777777778,\"#fb9f3a\"],[0.8888888888888888,\"#fdca26\"],[1.0,\"#f0f921\"]]}],\"contourcarpet\":[{\"type\":\"contourcarpet\",\"colorbar\":{\"outlinewidth\":0,\"ticks\":\"\"}}],\"contour\":[{\"type\":\"contour\",\"colorbar\":{\"outlinewidth\":0,\"ticks\":\"\"},\"colorscale\":[[0.0,\"#0d0887\"],[0.1111111111111111,\"#46039f\"],[0.2222222222222222,\"#7201a8\"],[0.3333333333333333,\"#9c179e\"],[0.4444444444444444,\"#bd3786\"],[0.5555555555555556,\"#d8576b\"],[0.6666666666666666,\"#ed7953\"],[0.7777777777777778,\"#fb9f3a\"],[0.8888888888888888,\"#fdca26\"],[1.0,\"#f0f921\"]]}],\"surface\":[{\"type\":\"surface\",\"colorbar\":{\"outlinewidth\":0,\"ticks\":\"\"},\"colorscale\":[[0.0,\"#0d0887\"],[0.1111111111111111,\"#46039f\"],[0.2222222222222222,\"#7201a8\"],[0.3333333333333333,\"#9c179e\"],[0.4444444444444444,\"#bd3786\"],[0.5555555555555556,\"#d8576b\"],[0.6666666666666666,\"#ed7953\"],[0.7777777777777778,\"#fb9f3a\"],[0.8888888888888888,\"#fdca26\"],[1.0,\"#f0f921\"]]}],\"mesh3d\":[{\"type\":\"mesh3d\",\"colorbar\":{\"outlinewidth\":0,\"ticks\":\"\"}}],\"scatter\":[{\"fillpattern\":{\"fillmode\":\"overlay\",\"size\":10,\"solidity\":0.2},\"type\":\"scatter\"}],\"parcoords\":[{\"type\":\"parcoords\",\"line\":{\"colorbar\":{\"outlinewidth\":0,\"ticks\":\"\"}}}],\"scatterpolargl\":[{\"type\":\"scatterpolargl\",\"marker\":{\"colorbar\":{\"outlinewidth\":0,\"ticks\":\"\"}}}],\"bar\":[{\"error_x\":{\"color\":\"#2a3f5f\"},\"error_y\":{\"color\":\"#2a3f5f\"},\"marker\":{\"line\":{\"color\":\"#E5ECF6\",\"width\":0.5},\"pattern\":{\"fillmode\":\"overlay\",\"size\":10,\"solidity\":0.2}},\"type\":\"bar\"}],\"scattergeo\":[{\"type\":\"scattergeo\",\"marker\":{\"colorbar\":{\"outlinewidth\":0,\"ticks\":\"\"}}}],\"scatterpolar\":[{\"type\":\"scatterpolar\",\"marker\":{\"colorbar\":{\"outlinewidth\":0,\"ticks\":\"\"}}}],\"histogram\":[{\"marker\":{\"pattern\":{\"fillmode\":\"overlay\",\"size\":10,\"solidity\":0.2}},\"type\":\"histogram\"}],\"scattergl\":[{\"type\":\"scattergl\",\"marker\":{\"colorbar\":{\"outlinewidth\":0,\"ticks\":\"\"}}}],\"scatter3d\":[{\"type\":\"scatter3d\",\"line\":{\"colorbar\":{\"outlinewidth\":0,\"ticks\":\"\"}},\"marker\":{\"colorbar\":{\"outlinewidth\":0,\"ticks\":\"\"}}}],\"scattermapbox\":[{\"type\":\"scattermapbox\",\"marker\":{\"colorbar\":{\"outlinewidth\":0,\"ticks\":\"\"}}}],\"scatterternary\":[{\"type\":\"scatterternary\",\"marker\":{\"colorbar\":{\"outlinewidth\":0,\"ticks\":\"\"}}}],\"scattercarpet\":[{\"type\":\"scattercarpet\",\"marker\":{\"colorbar\":{\"outlinewidth\":0,\"ticks\":\"\"}}}],\"carpet\":[{\"aaxis\":{\"endlinecolor\":\"#2a3f5f\",\"gridcolor\":\"white\",\"linecolor\":\"white\",\"minorgridcolor\":\"white\",\"startlinecolor\":\"#2a3f5f\"},\"baxis\":{\"endlinecolor\":\"#2a3f5f\",\"gridcolor\":\"white\",\"linecolor\":\"white\",\"minorgridcolor\":\"white\",\"startlinecolor\":\"#2a3f5f\"},\"type\":\"carpet\"}],\"table\":[{\"cells\":{\"fill\":{\"color\":\"#EBF0F8\"},\"line\":{\"color\":\"white\"}},\"header\":{\"fill\":{\"color\":\"#C8D4E3\"},\"line\":{\"color\":\"white\"}},\"type\":\"table\"}],\"barpolar\":[{\"marker\":{\"line\":{\"color\":\"#E5ECF6\",\"width\":0.5},\"pattern\":{\"fillmode\":\"overlay\",\"size\":10,\"solidity\":0.2}},\"type\":\"barpolar\"}],\"pie\":[{\"automargin\":true,\"type\":\"pie\"}]},\"layout\":{\"font\":{\"family\":\"Franklin Gothic\",\"size\":12}}},\"xaxis\":{\"anchor\":\"y\",\"domain\":[0.0,0.2888888888888889],\"showticklabels\":false},\"yaxis\":{\"anchor\":\"x\",\"domain\":[0.7333333333333333,1.0],\"title\":{\"text\":\"Age\"}},\"xaxis2\":{\"anchor\":\"y2\",\"domain\":[0.35555555555555557,0.6444444444444445]},\"yaxis2\":{\"anchor\":\"x2\",\"domain\":[0.7333333333333333,1.0]},\"xaxis3\":{\"anchor\":\"y3\",\"domain\":[0.7111111111111111,1.0]},\"yaxis3\":{\"anchor\":\"x3\",\"domain\":[0.7333333333333333,1.0]},\"xaxis4\":{\"anchor\":\"y4\",\"domain\":[0.0,0.2888888888888889]},\"yaxis4\":{\"anchor\":\"x4\",\"domain\":[0.36666666666666664,0.6333333333333333],\"title\":{\"text\":\"Annual Income\"}},\"xaxis5\":{\"anchor\":\"y5\",\"domain\":[0.35555555555555557,0.6444444444444445],\"showticklabels\":false},\"yaxis5\":{\"anchor\":\"x5\",\"domain\":[0.36666666666666664,0.6333333333333333]},\"xaxis6\":{\"anchor\":\"y6\",\"domain\":[0.7111111111111111,1.0]},\"yaxis6\":{\"anchor\":\"x6\",\"domain\":[0.36666666666666664,0.6333333333333333]},\"xaxis7\":{\"anchor\":\"y7\",\"domain\":[0.0,0.2888888888888889],\"title\":{\"text\":\"Age\"}},\"yaxis7\":{\"anchor\":\"x7\",\"domain\":[0.0,0.26666666666666666],\"title\":{\"text\":\"Spending Score\"}},\"xaxis8\":{\"anchor\":\"y8\",\"domain\":[0.35555555555555557,0.6444444444444445],\"title\":{\"text\":\"Annual Income\"}},\"yaxis8\":{\"anchor\":\"x8\",\"domain\":[0.0,0.26666666666666666]},\"xaxis9\":{\"anchor\":\"y9\",\"domain\":[0.7111111111111111,1.0],\"title\":{\"text\":\"Spending Score\"},\"showticklabels\":false},\"yaxis9\":{\"anchor\":\"x9\",\"domain\":[0.0,0.26666666666666666]},\"height\":900,\"width\":700,\"title\":{\"text\":\"Mall Customer Pair Plots\"},\"showlegend\":true,\"legend\":{\"orientation\":\"h\",\"yanchor\":\"bottom\",\"y\":1.02,\"x\":0.35}},                        {\"responsive\": true}                    ).then(function(){\n",
       "                            \n",
       "var gd = document.getElementById('a0bc984f-b1d3-4b57-9319-999ffc733b7d');\n",
       "var x = new MutationObserver(function (mutations, observer) {{\n",
       "        var display = window.getComputedStyle(gd).display;\n",
       "        if (!display || display === 'none') {{\n",
       "            console.log([gd, 'removed!']);\n",
       "            Plotly.purge(gd);\n",
       "            observer.disconnect();\n",
       "        }}\n",
       "}});\n",
       "\n",
       "// Listen for the removal of the full notebook cells\n",
       "var notebookContainer = gd.closest('#notebook-container');\n",
       "if (notebookContainer) {{\n",
       "    x.observe(notebookContainer, {childList: true});\n",
       "}}\n",
       "\n",
       "// Listen for the clearing of the current output cell\n",
       "var outputEl = gd.closest('.output');\n",
       "if (outputEl) {{\n",
       "    x.observe(outputEl, {childList: true});\n",
       "}}\n",
       "\n",
       "                        })                };                });            </script>        </div>"
      ]
     },
     "metadata": {},
     "output_type": "display_data"
    },
    {
     "data": {
      "application/vnd.plotly.v1+json": {
       "config": {
        "plotlyServerURL": "https://plot.ly"
       },
       "data": [
        {
         "colorscale": [
          [
           0,
           "rgb(228, 241, 225)"
          ],
          [
           0.16666666666666666,
           "rgb(180, 217, 204)"
          ],
          [
           0.3333333333333333,
           "rgb(137, 192, 182)"
          ],
          [
           0.5,
           "rgb(99, 166, 160)"
          ],
          [
           0.6666666666666666,
           "rgb(68, 140, 138)"
          ],
          [
           0.8333333333333334,
           "rgb(40, 114, 116)"
          ],
          [
           1,
           "rgb(13, 88, 95)"
          ]
         ],
         "hovertemplate": "Correlation of %{x} and %{y}= %{z:.3f}",
         "reversescale": true,
         "showscale": true,
         "type": "heatmap",
         "x": [
          "Age",
          "Annual Income",
          "Spending Score"
         ],
         "y": [
          "Age",
          "Annual Income",
          "Spending Score"
         ],
         "z": [
          [
           1,
           -0.01239804273606026,
           -0.32722684603909025
          ],
          [
           -0.01239804273606026,
           1,
           0.009902848094037497
          ],
          [
           -0.32722684603909025,
           0.009902848094037497,
           1
          ]
         ]
        }
       ],
       "layout": {
        "annotations": [
         {
          "font": {
           "color": "#000000"
          },
          "showarrow": false,
          "text": "1.0",
          "x": "Age",
          "xref": "x",
          "y": "Age",
          "yref": "y"
         },
         {
          "font": {
           "color": "#FFFFFF"
          },
          "showarrow": false,
          "text": "-0.01",
          "x": "Annual Income",
          "xref": "x",
          "y": "Age",
          "yref": "y"
         },
         {
          "font": {
           "color": "#FFFFFF"
          },
          "showarrow": false,
          "text": "-0.33",
          "x": "Spending Score",
          "xref": "x",
          "y": "Age",
          "yref": "y"
         },
         {
          "font": {
           "color": "#FFFFFF"
          },
          "showarrow": false,
          "text": "-0.01",
          "x": "Age",
          "xref": "x",
          "y": "Annual Income",
          "yref": "y"
         },
         {
          "font": {
           "color": "#000000"
          },
          "showarrow": false,
          "text": "1.0",
          "x": "Annual Income",
          "xref": "x",
          "y": "Annual Income",
          "yref": "y"
         },
         {
          "font": {
           "color": "#FFFFFF"
          },
          "showarrow": false,
          "text": "0.01",
          "x": "Spending Score",
          "xref": "x",
          "y": "Annual Income",
          "yref": "y"
         },
         {
          "font": {
           "color": "#FFFFFF"
          },
          "showarrow": false,
          "text": "-0.33",
          "x": "Age",
          "xref": "x",
          "y": "Spending Score",
          "yref": "y"
         },
         {
          "font": {
           "color": "#FFFFFF"
          },
          "showarrow": false,
          "text": "0.01",
          "x": "Annual Income",
          "xref": "x",
          "y": "Spending Score",
          "yref": "y"
         },
         {
          "font": {
           "color": "#000000"
          },
          "showarrow": false,
          "text": "1.0",
          "x": "Spending Score",
          "xref": "x",
          "y": "Spending Score",
          "yref": "y"
         }
        ],
        "template": {
         "data": {
          "bar": [
           {
            "error_x": {
             "color": "#2a3f5f"
            },
            "error_y": {
             "color": "#2a3f5f"
            },
            "marker": {
             "line": {
              "color": "#E5ECF6",
              "width": 0.5
             },
             "pattern": {
              "fillmode": "overlay",
              "size": 10,
              "solidity": 0.2
             }
            },
            "type": "bar"
           }
          ],
          "barpolar": [
           {
            "marker": {
             "line": {
              "color": "#E5ECF6",
              "width": 0.5
             },
             "pattern": {
              "fillmode": "overlay",
              "size": 10,
              "solidity": 0.2
             }
            },
            "type": "barpolar"
           }
          ],
          "carpet": [
           {
            "aaxis": {
             "endlinecolor": "#2a3f5f",
             "gridcolor": "white",
             "linecolor": "white",
             "minorgridcolor": "white",
             "startlinecolor": "#2a3f5f"
            },
            "baxis": {
             "endlinecolor": "#2a3f5f",
             "gridcolor": "white",
             "linecolor": "white",
             "minorgridcolor": "white",
             "startlinecolor": "#2a3f5f"
            },
            "type": "carpet"
           }
          ],
          "choropleth": [
           {
            "colorbar": {
             "outlinewidth": 0,
             "ticks": ""
            },
            "type": "choropleth"
           }
          ],
          "contour": [
           {
            "colorbar": {
             "outlinewidth": 0,
             "ticks": ""
            },
            "colorscale": [
             [
              0,
              "#0d0887"
             ],
             [
              0.1111111111111111,
              "#46039f"
             ],
             [
              0.2222222222222222,
              "#7201a8"
             ],
             [
              0.3333333333333333,
              "#9c179e"
             ],
             [
              0.4444444444444444,
              "#bd3786"
             ],
             [
              0.5555555555555556,
              "#d8576b"
             ],
             [
              0.6666666666666666,
              "#ed7953"
             ],
             [
              0.7777777777777778,
              "#fb9f3a"
             ],
             [
              0.8888888888888888,
              "#fdca26"
             ],
             [
              1,
              "#f0f921"
             ]
            ],
            "type": "contour"
           }
          ],
          "contourcarpet": [
           {
            "colorbar": {
             "outlinewidth": 0,
             "ticks": ""
            },
            "type": "contourcarpet"
           }
          ],
          "heatmap": [
           {
            "colorbar": {
             "outlinewidth": 0,
             "ticks": ""
            },
            "colorscale": [
             [
              0,
              "#0d0887"
             ],
             [
              0.1111111111111111,
              "#46039f"
             ],
             [
              0.2222222222222222,
              "#7201a8"
             ],
             [
              0.3333333333333333,
              "#9c179e"
             ],
             [
              0.4444444444444444,
              "#bd3786"
             ],
             [
              0.5555555555555556,
              "#d8576b"
             ],
             [
              0.6666666666666666,
              "#ed7953"
             ],
             [
              0.7777777777777778,
              "#fb9f3a"
             ],
             [
              0.8888888888888888,
              "#fdca26"
             ],
             [
              1,
              "#f0f921"
             ]
            ],
            "type": "heatmap"
           }
          ],
          "heatmapgl": [
           {
            "colorbar": {
             "outlinewidth": 0,
             "ticks": ""
            },
            "colorscale": [
             [
              0,
              "#0d0887"
             ],
             [
              0.1111111111111111,
              "#46039f"
             ],
             [
              0.2222222222222222,
              "#7201a8"
             ],
             [
              0.3333333333333333,
              "#9c179e"
             ],
             [
              0.4444444444444444,
              "#bd3786"
             ],
             [
              0.5555555555555556,
              "#d8576b"
             ],
             [
              0.6666666666666666,
              "#ed7953"
             ],
             [
              0.7777777777777778,
              "#fb9f3a"
             ],
             [
              0.8888888888888888,
              "#fdca26"
             ],
             [
              1,
              "#f0f921"
             ]
            ],
            "type": "heatmapgl"
           }
          ],
          "histogram": [
           {
            "marker": {
             "pattern": {
              "fillmode": "overlay",
              "size": 10,
              "solidity": 0.2
             }
            },
            "type": "histogram"
           }
          ],
          "histogram2d": [
           {
            "colorbar": {
             "outlinewidth": 0,
             "ticks": ""
            },
            "colorscale": [
             [
              0,
              "#0d0887"
             ],
             [
              0.1111111111111111,
              "#46039f"
             ],
             [
              0.2222222222222222,
              "#7201a8"
             ],
             [
              0.3333333333333333,
              "#9c179e"
             ],
             [
              0.4444444444444444,
              "#bd3786"
             ],
             [
              0.5555555555555556,
              "#d8576b"
             ],
             [
              0.6666666666666666,
              "#ed7953"
             ],
             [
              0.7777777777777778,
              "#fb9f3a"
             ],
             [
              0.8888888888888888,
              "#fdca26"
             ],
             [
              1,
              "#f0f921"
             ]
            ],
            "type": "histogram2d"
           }
          ],
          "histogram2dcontour": [
           {
            "colorbar": {
             "outlinewidth": 0,
             "ticks": ""
            },
            "colorscale": [
             [
              0,
              "#0d0887"
             ],
             [
              0.1111111111111111,
              "#46039f"
             ],
             [
              0.2222222222222222,
              "#7201a8"
             ],
             [
              0.3333333333333333,
              "#9c179e"
             ],
             [
              0.4444444444444444,
              "#bd3786"
             ],
             [
              0.5555555555555556,
              "#d8576b"
             ],
             [
              0.6666666666666666,
              "#ed7953"
             ],
             [
              0.7777777777777778,
              "#fb9f3a"
             ],
             [
              0.8888888888888888,
              "#fdca26"
             ],
             [
              1,
              "#f0f921"
             ]
            ],
            "type": "histogram2dcontour"
           }
          ],
          "mesh3d": [
           {
            "colorbar": {
             "outlinewidth": 0,
             "ticks": ""
            },
            "type": "mesh3d"
           }
          ],
          "parcoords": [
           {
            "line": {
             "colorbar": {
              "outlinewidth": 0,
              "ticks": ""
             }
            },
            "type": "parcoords"
           }
          ],
          "pie": [
           {
            "automargin": true,
            "type": "pie"
           }
          ],
          "scatter": [
           {
            "fillpattern": {
             "fillmode": "overlay",
             "size": 10,
             "solidity": 0.2
            },
            "type": "scatter"
           }
          ],
          "scatter3d": [
           {
            "line": {
             "colorbar": {
              "outlinewidth": 0,
              "ticks": ""
             }
            },
            "marker": {
             "colorbar": {
              "outlinewidth": 0,
              "ticks": ""
             }
            },
            "type": "scatter3d"
           }
          ],
          "scattercarpet": [
           {
            "marker": {
             "colorbar": {
              "outlinewidth": 0,
              "ticks": ""
             }
            },
            "type": "scattercarpet"
           }
          ],
          "scattergeo": [
           {
            "marker": {
             "colorbar": {
              "outlinewidth": 0,
              "ticks": ""
             }
            },
            "type": "scattergeo"
           }
          ],
          "scattergl": [
           {
            "marker": {
             "colorbar": {
              "outlinewidth": 0,
              "ticks": ""
             }
            },
            "type": "scattergl"
           }
          ],
          "scattermapbox": [
           {
            "marker": {
             "colorbar": {
              "outlinewidth": 0,
              "ticks": ""
             }
            },
            "type": "scattermapbox"
           }
          ],
          "scatterpolar": [
           {
            "marker": {
             "colorbar": {
              "outlinewidth": 0,
              "ticks": ""
             }
            },
            "type": "scatterpolar"
           }
          ],
          "scatterpolargl": [
           {
            "marker": {
             "colorbar": {
              "outlinewidth": 0,
              "ticks": ""
             }
            },
            "type": "scatterpolargl"
           }
          ],
          "scatterternary": [
           {
            "marker": {
             "colorbar": {
              "outlinewidth": 0,
              "ticks": ""
             }
            },
            "type": "scatterternary"
           }
          ],
          "surface": [
           {
            "colorbar": {
             "outlinewidth": 0,
             "ticks": ""
            },
            "colorscale": [
             [
              0,
              "#0d0887"
             ],
             [
              0.1111111111111111,
              "#46039f"
             ],
             [
              0.2222222222222222,
              "#7201a8"
             ],
             [
              0.3333333333333333,
              "#9c179e"
             ],
             [
              0.4444444444444444,
              "#bd3786"
             ],
             [
              0.5555555555555556,
              "#d8576b"
             ],
             [
              0.6666666666666666,
              "#ed7953"
             ],
             [
              0.7777777777777778,
              "#fb9f3a"
             ],
             [
              0.8888888888888888,
              "#fdca26"
             ],
             [
              1,
              "#f0f921"
             ]
            ],
            "type": "surface"
           }
          ],
          "table": [
           {
            "cells": {
             "fill": {
              "color": "#EBF0F8"
             },
             "line": {
              "color": "white"
             }
            },
            "header": {
             "fill": {
              "color": "#C8D4E3"
             },
             "line": {
              "color": "white"
             }
            },
            "type": "table"
           }
          ]
         },
         "layout": {
          "font": {
           "family": "Franklin Gothic",
           "size": 12
          }
         }
        },
        "title": {
         "text": "Mall Customer Correlations"
        },
        "xaxis": {
         "dtick": 1,
         "gridcolor": "rgb(0, 0, 0)",
         "side": "top",
         "ticks": ""
        },
        "yaxis": {
         "dtick": 1,
         "tickangle": -30,
         "ticks": "",
         "ticksuffix": "  "
        }
       }
      },
      "text/html": [
       "<div>                            <div id=\"86c58331-3ddb-4ecb-9511-92c679f81cfe\" class=\"plotly-graph-div\" style=\"height:525px; width:100%;\"></div>            <script type=\"text/javascript\">                require([\"plotly\"], function(Plotly) {                    window.PLOTLYENV=window.PLOTLYENV || {};                                    if (document.getElementById(\"86c58331-3ddb-4ecb-9511-92c679f81cfe\")) {                    Plotly.newPlot(                        \"86c58331-3ddb-4ecb-9511-92c679f81cfe\",                        [{\"colorscale\":[[0.0,\"rgb(228, 241, 225)\"],[0.16666666666666666,\"rgb(180, 217, 204)\"],[0.3333333333333333,\"rgb(137, 192, 182)\"],[0.5,\"rgb(99, 166, 160)\"],[0.6666666666666666,\"rgb(68, 140, 138)\"],[0.8333333333333334,\"rgb(40, 114, 116)\"],[1.0,\"rgb(13, 88, 95)\"]],\"hovertemplate\":\"Correlation of %{x} and %{y}= %{z:.3f}\",\"reversescale\":true,\"showscale\":true,\"x\":[\"Age\",\"Annual Income\",\"Spending Score\"],\"y\":[\"Age\",\"Annual Income\",\"Spending Score\"],\"z\":[[1.0,-0.01239804273606026,-0.32722684603909025],[-0.01239804273606026,1.0,0.009902848094037497],[-0.32722684603909025,0.009902848094037497,1.0]],\"type\":\"heatmap\"}],                        {\"annotations\":[{\"font\":{\"color\":\"#000000\"},\"showarrow\":false,\"text\":\"1.0\",\"x\":\"Age\",\"xref\":\"x\",\"y\":\"Age\",\"yref\":\"y\"},{\"font\":{\"color\":\"#FFFFFF\"},\"showarrow\":false,\"text\":\"-0.01\",\"x\":\"Annual Income\",\"xref\":\"x\",\"y\":\"Age\",\"yref\":\"y\"},{\"font\":{\"color\":\"#FFFFFF\"},\"showarrow\":false,\"text\":\"-0.33\",\"x\":\"Spending Score\",\"xref\":\"x\",\"y\":\"Age\",\"yref\":\"y\"},{\"font\":{\"color\":\"#FFFFFF\"},\"showarrow\":false,\"text\":\"-0.01\",\"x\":\"Age\",\"xref\":\"x\",\"y\":\"Annual Income\",\"yref\":\"y\"},{\"font\":{\"color\":\"#000000\"},\"showarrow\":false,\"text\":\"1.0\",\"x\":\"Annual Income\",\"xref\":\"x\",\"y\":\"Annual Income\",\"yref\":\"y\"},{\"font\":{\"color\":\"#FFFFFF\"},\"showarrow\":false,\"text\":\"0.01\",\"x\":\"Spending Score\",\"xref\":\"x\",\"y\":\"Annual Income\",\"yref\":\"y\"},{\"font\":{\"color\":\"#FFFFFF\"},\"showarrow\":false,\"text\":\"-0.33\",\"x\":\"Age\",\"xref\":\"x\",\"y\":\"Spending Score\",\"yref\":\"y\"},{\"font\":{\"color\":\"#FFFFFF\"},\"showarrow\":false,\"text\":\"0.01\",\"x\":\"Annual Income\",\"xref\":\"x\",\"y\":\"Spending Score\",\"yref\":\"y\"},{\"font\":{\"color\":\"#000000\"},\"showarrow\":false,\"text\":\"1.0\",\"x\":\"Spending Score\",\"xref\":\"x\",\"y\":\"Spending Score\",\"yref\":\"y\"}],\"xaxis\":{\"dtick\":1,\"gridcolor\":\"rgb(0, 0, 0)\",\"side\":\"top\",\"ticks\":\"\"},\"yaxis\":{\"dtick\":1,\"ticks\":\"\",\"ticksuffix\":\"  \",\"tickangle\":-30},\"template\":{\"data\":{\"histogram2dcontour\":[{\"type\":\"histogram2dcontour\",\"colorbar\":{\"outlinewidth\":0,\"ticks\":\"\"},\"colorscale\":[[0.0,\"#0d0887\"],[0.1111111111111111,\"#46039f\"],[0.2222222222222222,\"#7201a8\"],[0.3333333333333333,\"#9c179e\"],[0.4444444444444444,\"#bd3786\"],[0.5555555555555556,\"#d8576b\"],[0.6666666666666666,\"#ed7953\"],[0.7777777777777778,\"#fb9f3a\"],[0.8888888888888888,\"#fdca26\"],[1.0,\"#f0f921\"]]}],\"choropleth\":[{\"type\":\"choropleth\",\"colorbar\":{\"outlinewidth\":0,\"ticks\":\"\"}}],\"histogram2d\":[{\"type\":\"histogram2d\",\"colorbar\":{\"outlinewidth\":0,\"ticks\":\"\"},\"colorscale\":[[0.0,\"#0d0887\"],[0.1111111111111111,\"#46039f\"],[0.2222222222222222,\"#7201a8\"],[0.3333333333333333,\"#9c179e\"],[0.4444444444444444,\"#bd3786\"],[0.5555555555555556,\"#d8576b\"],[0.6666666666666666,\"#ed7953\"],[0.7777777777777778,\"#fb9f3a\"],[0.8888888888888888,\"#fdca26\"],[1.0,\"#f0f921\"]]}],\"heatmap\":[{\"type\":\"heatmap\",\"colorbar\":{\"outlinewidth\":0,\"ticks\":\"\"},\"colorscale\":[[0.0,\"#0d0887\"],[0.1111111111111111,\"#46039f\"],[0.2222222222222222,\"#7201a8\"],[0.3333333333333333,\"#9c179e\"],[0.4444444444444444,\"#bd3786\"],[0.5555555555555556,\"#d8576b\"],[0.6666666666666666,\"#ed7953\"],[0.7777777777777778,\"#fb9f3a\"],[0.8888888888888888,\"#fdca26\"],[1.0,\"#f0f921\"]]}],\"heatmapgl\":[{\"type\":\"heatmapgl\",\"colorbar\":{\"outlinewidth\":0,\"ticks\":\"\"},\"colorscale\":[[0.0,\"#0d0887\"],[0.1111111111111111,\"#46039f\"],[0.2222222222222222,\"#7201a8\"],[0.3333333333333333,\"#9c179e\"],[0.4444444444444444,\"#bd3786\"],[0.5555555555555556,\"#d8576b\"],[0.6666666666666666,\"#ed7953\"],[0.7777777777777778,\"#fb9f3a\"],[0.8888888888888888,\"#fdca26\"],[1.0,\"#f0f921\"]]}],\"contourcarpet\":[{\"type\":\"contourcarpet\",\"colorbar\":{\"outlinewidth\":0,\"ticks\":\"\"}}],\"contour\":[{\"type\":\"contour\",\"colorbar\":{\"outlinewidth\":0,\"ticks\":\"\"},\"colorscale\":[[0.0,\"#0d0887\"],[0.1111111111111111,\"#46039f\"],[0.2222222222222222,\"#7201a8\"],[0.3333333333333333,\"#9c179e\"],[0.4444444444444444,\"#bd3786\"],[0.5555555555555556,\"#d8576b\"],[0.6666666666666666,\"#ed7953\"],[0.7777777777777778,\"#fb9f3a\"],[0.8888888888888888,\"#fdca26\"],[1.0,\"#f0f921\"]]}],\"surface\":[{\"type\":\"surface\",\"colorbar\":{\"outlinewidth\":0,\"ticks\":\"\"},\"colorscale\":[[0.0,\"#0d0887\"],[0.1111111111111111,\"#46039f\"],[0.2222222222222222,\"#7201a8\"],[0.3333333333333333,\"#9c179e\"],[0.4444444444444444,\"#bd3786\"],[0.5555555555555556,\"#d8576b\"],[0.6666666666666666,\"#ed7953\"],[0.7777777777777778,\"#fb9f3a\"],[0.8888888888888888,\"#fdca26\"],[1.0,\"#f0f921\"]]}],\"mesh3d\":[{\"type\":\"mesh3d\",\"colorbar\":{\"outlinewidth\":0,\"ticks\":\"\"}}],\"scatter\":[{\"fillpattern\":{\"fillmode\":\"overlay\",\"size\":10,\"solidity\":0.2},\"type\":\"scatter\"}],\"parcoords\":[{\"type\":\"parcoords\",\"line\":{\"colorbar\":{\"outlinewidth\":0,\"ticks\":\"\"}}}],\"scatterpolargl\":[{\"type\":\"scatterpolargl\",\"marker\":{\"colorbar\":{\"outlinewidth\":0,\"ticks\":\"\"}}}],\"bar\":[{\"error_x\":{\"color\":\"#2a3f5f\"},\"error_y\":{\"color\":\"#2a3f5f\"},\"marker\":{\"line\":{\"color\":\"#E5ECF6\",\"width\":0.5},\"pattern\":{\"fillmode\":\"overlay\",\"size\":10,\"solidity\":0.2}},\"type\":\"bar\"}],\"scattergeo\":[{\"type\":\"scattergeo\",\"marker\":{\"colorbar\":{\"outlinewidth\":0,\"ticks\":\"\"}}}],\"scatterpolar\":[{\"type\":\"scatterpolar\",\"marker\":{\"colorbar\":{\"outlinewidth\":0,\"ticks\":\"\"}}}],\"histogram\":[{\"marker\":{\"pattern\":{\"fillmode\":\"overlay\",\"size\":10,\"solidity\":0.2}},\"type\":\"histogram\"}],\"scattergl\":[{\"type\":\"scattergl\",\"marker\":{\"colorbar\":{\"outlinewidth\":0,\"ticks\":\"\"}}}],\"scatter3d\":[{\"type\":\"scatter3d\",\"line\":{\"colorbar\":{\"outlinewidth\":0,\"ticks\":\"\"}},\"marker\":{\"colorbar\":{\"outlinewidth\":0,\"ticks\":\"\"}}}],\"scattermapbox\":[{\"type\":\"scattermapbox\",\"marker\":{\"colorbar\":{\"outlinewidth\":0,\"ticks\":\"\"}}}],\"scatterternary\":[{\"type\":\"scatterternary\",\"marker\":{\"colorbar\":{\"outlinewidth\":0,\"ticks\":\"\"}}}],\"scattercarpet\":[{\"type\":\"scattercarpet\",\"marker\":{\"colorbar\":{\"outlinewidth\":0,\"ticks\":\"\"}}}],\"carpet\":[{\"aaxis\":{\"endlinecolor\":\"#2a3f5f\",\"gridcolor\":\"white\",\"linecolor\":\"white\",\"minorgridcolor\":\"white\",\"startlinecolor\":\"#2a3f5f\"},\"baxis\":{\"endlinecolor\":\"#2a3f5f\",\"gridcolor\":\"white\",\"linecolor\":\"white\",\"minorgridcolor\":\"white\",\"startlinecolor\":\"#2a3f5f\"},\"type\":\"carpet\"}],\"table\":[{\"cells\":{\"fill\":{\"color\":\"#EBF0F8\"},\"line\":{\"color\":\"white\"}},\"header\":{\"fill\":{\"color\":\"#C8D4E3\"},\"line\":{\"color\":\"white\"}},\"type\":\"table\"}],\"barpolar\":[{\"marker\":{\"line\":{\"color\":\"#E5ECF6\",\"width\":0.5},\"pattern\":{\"fillmode\":\"overlay\",\"size\":10,\"solidity\":0.2}},\"type\":\"barpolar\"}],\"pie\":[{\"automargin\":true,\"type\":\"pie\"}]},\"layout\":{\"font\":{\"family\":\"Franklin Gothic\",\"size\":12}}},\"title\":{\"text\":\"Mall Customer Correlations\"}},                        {\"responsive\": true}                    ).then(function(){\n",
       "                            \n",
       "var gd = document.getElementById('86c58331-3ddb-4ecb-9511-92c679f81cfe');\n",
       "var x = new MutationObserver(function (mutations, observer) {{\n",
       "        var display = window.getComputedStyle(gd).display;\n",
       "        if (!display || display === 'none') {{\n",
       "            console.log([gd, 'removed!']);\n",
       "            Plotly.purge(gd);\n",
       "            observer.disconnect();\n",
       "        }}\n",
       "}});\n",
       "\n",
       "// Listen for the removal of the full notebook cells\n",
       "var notebookContainer = gd.closest('#notebook-container');\n",
       "if (notebookContainer) {{\n",
       "    x.observe(notebookContainer, {childList: true});\n",
       "}}\n",
       "\n",
       "// Listen for the clearing of the current output cell\n",
       "var outputEl = gd.closest('.output');\n",
       "if (outputEl) {{\n",
       "    x.observe(outputEl, {childList: true});\n",
       "}}\n",
       "\n",
       "                        })                };                });            </script>        </div>"
      ]
     },
     "metadata": {},
     "output_type": "display_data"
    }
   ],
   "source": [
    "init_notebook_mode(connected=True)\n",
    "plot_df=cust.copy()\n",
    "plot_df['Annual Income']=plot_df['Annual Income'].mul(1000)\n",
    "p1=plot_df.groupby('Gender')['Age'].mean().round(0).astype(int).reset_index()\n",
    "p2=plot_df.groupby('Gender')['Annual Income'].mean().reset_index()\n",
    "p3=plot_df.groupby('Gender')['Spending Score'].mean().round(0).astype(int).reset_index()\n",
    "\n",
    "temp = dict(layout=go.Layout(font=dict(family=\"Franklin Gothic\", size=12)))\n",
    "fig = make_subplots(rows=3, cols=2,\n",
    "                    subplot_titles=(\"Distribution of Age<br>by Gender\", \n",
    "                                    \"Customers Average Age\",\n",
    "                                    \"Distribution of Income<br>by Gender\", \n",
    "                                    \"Customers Average Income\",\n",
    "                                    \"Distribution of Spending<br>by Gender\", \n",
    "                                    \"Customers Average Spending\")\n",
    "                   )\n",
    "\n",
    "fig.add_trace(go.Histogram(x=plot_df[plot_df.Gender=='Men']['Age'], histnorm='probability density', \n",
    "                           marker=dict(color='#508B8D',opacity=0.7, line=dict(width=1, color='#000000')), \n",
    "                           nbinsx=20, name=\"Men\"),\n",
    "              row=1, col=1)\n",
    "fig.add_trace(go.Histogram(x=plot_df[plot_df.Gender=='Women']['Age'], histnorm='probability density', \n",
    "                           marker=dict(color='#F3D6CB',opacity=0.7, line=dict(width=1, color='#000000')),\n",
    "                           nbinsx=20, name=\"Women\"),\n",
    "              row=1, col=1)\n",
    "\n",
    "fig.add_trace(go.Bar(x=p1['Gender'], y=p1['Age'], text=p1['Age'], texttemplate='%{text} years', textposition='outside',\n",
    "                     marker=dict(color=['#508B8D', '#F0CABD'], opacity=0.8),width=.8,\n",
    "                     hovertemplate='Average Age Among %{x} = %{y} years<extra></extra>', showlegend=False),\n",
    "              row=1, col=2)\n",
    "\n",
    "fig.add_trace(go.Histogram(x=plot_df[plot_df.Gender=='Men']['Annual Income'], histnorm='probability density', \n",
    "                           marker=dict(color='#508B8D', line=dict(width=1, color='#000000')), \n",
    "                           opacity=0.7, name=\"Men\", nbinsx=20, showlegend=False),\n",
    "              row=2, col=1)\n",
    "fig.add_trace(go.Histogram(x=plot_df[plot_df.Gender=='Women']['Annual Income'], histnorm='probability density', \n",
    "                           marker=dict(color='#F3D6CB', line=dict(width=1, color='#000000')),\n",
    "                           opacity=0.7, name=\"Women\", nbinsx=20, showlegend=False),\n",
    "              row=2, col=1)\n",
    "fig.add_trace(go.Bar(x=p2['Gender'], y=p2['Annual Income'], text=p2['Annual Income'], \n",
    "                     texttemplate='$%{text:,.0f}', textposition='outside',\n",
    "                     marker=dict(color=['#508B8D', '#F0CABD'], opacity=0.8),width=.8,\n",
    "                     hovertemplate='Average Income Among %{x} = $%{y}<extra></extra>', showlegend=False),\n",
    "              row=2, col=2)\n",
    "fig.add_trace(go.Histogram(x=plot_df[plot_df.Gender=='Men']['Spending Score'], histnorm='probability density', \n",
    "                           marker=dict(color='#508B8D', line=dict(width=1, color='#000000')), \n",
    "                           opacity=0.7, name=\"Men\", nbinsx=20, showlegend=False),\n",
    "              row=3, col=1)\n",
    "fig.add_trace(go.Histogram(x=plot_df[plot_df.Gender=='Women']['Spending Score'], histnorm='probability density', \n",
    "                           marker=dict(color='#F3D6CB', line=dict(width=1, color='#000000')),\n",
    "                           opacity=0.7, name=\"Women\", nbinsx=20, showlegend=False),\n",
    "              row=3, col=1)\n",
    "fig.add_trace(go.Bar(x=p3['Gender'], y=p3['Spending Score'], text=p3['Spending Score'], \n",
    "                     texttemplate='%{text}', textposition='outside',\n",
    "                     marker=dict(color=['#508B8D', '#F0CABD'], opacity=0.8),width=.8,\n",
    "                     hovertemplate='Average Spending Score Among %{x} = %{y}<extra></extra>', showlegend=False),\n",
    "              row=3, col=2)\n",
    "fig.update_traces(marker=dict(line=dict(width=1, color='#000000')))\n",
    "fig.update_layout(template=temp,barmode='overlay', height=1500, width=700,\n",
    "                  legend=dict(orientation=\"h\", yanchor=\"bottom\", xanchor=\"right\", y=1.03, x=.97),\n",
    "                  xaxis1_title=\"Age\", yaxis1_title='Probability Density', \n",
    "                  xaxis2_title=\"Gender\", yaxis2_title=\"Age\", yaxis2_range=[0,45],\n",
    "                  xaxis3_title=\"Annual Income, $\", yaxis3_title='Probability Density', \n",
    "                  xaxis4_title=\"Gender\", yaxis4_title=\"Annual Income, $\", yaxis4_range=[0,69e3],\n",
    "                  xaxis5_title=\"Spending Score\", yaxis5_title='Probability Density', \n",
    "                  xaxis6_title=\"Gender\", yaxis6_title=\"Spending Score\", yaxis6_range=[0,59]\n",
    "                 )\n",
    "fig.show()\n",
    "\n",
    "# Pairplots\n",
    "fig = ff.create_scatterplotmatrix(cust, diag='box', index='Gender', colormap=['#508B8D', '#F0CABD']) \n",
    "fig.update_traces(marker=dict(size=9, opacity=0.85, line=dict(width=1, color='#F7F7F7')))\n",
    "fig.update_layout(title=\"Mall Customer Pair Plots\", template=temp, \n",
    "                  legend=dict(orientation=\"h\", yanchor=\"bottom\", y=1.02, x=.35),\n",
    "                  height=900, width=700)\n",
    "fig.show()\n",
    "\n",
    "# Correlations\n",
    "corr=cust.corr()\n",
    "x = corr.columns.tolist() \n",
    "y = corr.index.tolist()\n",
    "z = corr.values\n",
    "text = corr.values.round(2)\n",
    "\n",
    "fig = ff.create_annotated_heatmap(z=z, x=x, y=y, annotation_text=text, colorscale='mint', \n",
    "                                  reversescale=True, showscale=True,\n",
    "                                  hovertemplate=\"Correlation of %{x} and %{y}= %{z:.3f}\")\n",
    "fig.update_layout(template=temp, title=\"Mall Customer Correlations\", yaxis_tickangle=-30)\n",
    "fig.show()"
   ]
  },
  {
   "cell_type": "markdown",
   "id": "bcbf8be9",
   "metadata": {
    "papermill": {
     "duration": 0.036113,
     "end_time": "2022-02-18T05:09:16.888780",
     "exception": false,
     "start_time": "2022-02-18T05:09:16.852667",
     "status": "completed"
    },
    "tags": []
   },
   "source": [
    "## <b><span style='color:#4F9898'>Summary of EDA</span></b>\n",
    "Overall, the distributions are fairly proportional between men and women. On average, men are slightly older than women and tend to have higher incomes, while women tend to spend more than men.\n",
    "Based on the correlations and scatterplots, the variables in the data set do not have very strong relationships with each other. There is a weak negative association between `Age` and `Spending Score` of -0.33 and in the scatterplot above, we see that as customers get older, they tend to spend less than younger customers."
   ]
  },
  {
   "cell_type": "markdown",
   "id": "cbe5bc32",
   "metadata": {
    "papermill": {
     "duration": 0.03615,
     "end_time": "2022-02-18T05:09:16.961265",
     "exception": false,
     "start_time": "2022-02-18T05:09:16.925115",
     "status": "completed"
    },
    "tags": []
   },
   "source": [
    "# <div style=\"color:white;display:fill;border-radius:5px;background-color:#67A4A4;letter-spacing:0.1px;overflow:hidden\"><p style=\"padding:20px;color:white;overflow:hidden;margin:0;font-size:110%;text-align:center\">K-Means Clustering</p></div>\n",
    "The first clustering technique I will explore is K-Means Clustering. K-Means Clustering is a simple yet powerful clustering method that creates $k$ distinct segments of the data where the variation within the clusters is as small as possible. To find the optimal number of clusters, I will try different values of $k$ and calculate the inertia, or distortion score, for each model. Inertia measures the cluster similarity by computing the total distance between the data points and their closest cluster center. Clusters with similar observations tend to have smaller distances between them and a lower distortion score overall. "
   ]
  },
  {
   "cell_type": "code",
   "execution_count": 13,
   "id": "1f19b06e",
   "metadata": {
    "_kg_hide-input": true,
    "execution": {
     "iopub.execute_input": "2022-02-18T05:09:17.037377Z",
     "iopub.status.busy": "2022-02-18T05:09:17.036790Z",
     "iopub.status.idle": "2022-02-18T05:09:18.614691Z",
     "shell.execute_reply": "2022-02-18T05:09:18.614121Z",
     "shell.execute_reply.started": "2022-02-18T02:54:43.043049Z"
    },
    "papermill": {
     "duration": 1.617122,
     "end_time": "2022-02-18T05:09:18.614824",
     "exception": false,
     "start_time": "2022-02-18T05:09:16.997702",
     "status": "completed"
    },
    "tags": []
   },
   "outputs": [
    {
     "data": {
      "application/vnd.plotly.v1+json": {
       "config": {
        "plotlyServerURL": "https://plot.ly"
       },
       "data": [
        {
         "hovertemplate": "Clusters=%{x}<br>Inertia=%{y}<extra></extra>",
         "legendgroup": "",
         "line": {
          "color": "#518C89",
          "dash": "solid"
         },
         "marker": {
          "symbol": "circle"
         },
         "mode": "lines+markers",
         "name": "",
         "orientation": "h",
         "showlegend": false,
         "type": "scatter",
         "x": [
          1,
          2,
          3,
          4,
          5,
          6,
          7,
          8,
          9,
          10,
          11,
          12,
          13,
          14,
          15
         ],
         "xaxis": "x",
         "y": [
          308862.06000000006,
          212889.44245524303,
          143391.59236035676,
          104414.67534220168,
          75399.61541401484,
          58350.65449462818,
          51165.18423710792,
          44355.31351771351,
          40621.192057942055,
          37674.81633452754,
          34505.27822541444,
          31790.19654516177,
          29557.14001322751,
          28045.954566018772,
          26501.342905895846
         ],
         "yaxis": "y"
        }
       ],
       "layout": {
        "annotations": [
         {
          "arrowhead": 2,
          "ax": 0.43,
          "axref": "x domain",
          "ay": 120000,
          "ayref": "y",
          "bgcolor": "white",
          "bordercolor": "#585858",
          "borderpad": 4,
          "font": {
           "size": 14
          },
          "text": "Optimal Number of Clusters",
          "x": 0.31,
          "xref": "x domain",
          "y": 75000,
          "yref": "y"
         }
        ],
        "legend": {
         "tracegroupgap": 0
        },
        "margin": {
         "t": 60
        },
        "shapes": [
         {
          "line": {
           "color": "darkgrey",
           "dash": "dash",
           "width": 3
          },
          "type": "line",
          "x0": 5,
          "x1": 5,
          "xref": "x",
          "y0": 0,
          "y1": 1,
          "yref": "y domain"
         }
        ],
        "template": {
         "data": {
          "bar": [
           {
            "error_x": {
             "color": "#2a3f5f"
            },
            "error_y": {
             "color": "#2a3f5f"
            },
            "marker": {
             "line": {
              "color": "#E5ECF6",
              "width": 0.5
             },
             "pattern": {
              "fillmode": "overlay",
              "size": 10,
              "solidity": 0.2
             }
            },
            "type": "bar"
           }
          ],
          "barpolar": [
           {
            "marker": {
             "line": {
              "color": "#E5ECF6",
              "width": 0.5
             },
             "pattern": {
              "fillmode": "overlay",
              "size": 10,
              "solidity": 0.2
             }
            },
            "type": "barpolar"
           }
          ],
          "carpet": [
           {
            "aaxis": {
             "endlinecolor": "#2a3f5f",
             "gridcolor": "white",
             "linecolor": "white",
             "minorgridcolor": "white",
             "startlinecolor": "#2a3f5f"
            },
            "baxis": {
             "endlinecolor": "#2a3f5f",
             "gridcolor": "white",
             "linecolor": "white",
             "minorgridcolor": "white",
             "startlinecolor": "#2a3f5f"
            },
            "type": "carpet"
           }
          ],
          "choropleth": [
           {
            "colorbar": {
             "outlinewidth": 0,
             "ticks": ""
            },
            "type": "choropleth"
           }
          ],
          "contour": [
           {
            "colorbar": {
             "outlinewidth": 0,
             "ticks": ""
            },
            "colorscale": [
             [
              0,
              "#0d0887"
             ],
             [
              0.1111111111111111,
              "#46039f"
             ],
             [
              0.2222222222222222,
              "#7201a8"
             ],
             [
              0.3333333333333333,
              "#9c179e"
             ],
             [
              0.4444444444444444,
              "#bd3786"
             ],
             [
              0.5555555555555556,
              "#d8576b"
             ],
             [
              0.6666666666666666,
              "#ed7953"
             ],
             [
              0.7777777777777778,
              "#fb9f3a"
             ],
             [
              0.8888888888888888,
              "#fdca26"
             ],
             [
              1,
              "#f0f921"
             ]
            ],
            "type": "contour"
           }
          ],
          "contourcarpet": [
           {
            "colorbar": {
             "outlinewidth": 0,
             "ticks": ""
            },
            "type": "contourcarpet"
           }
          ],
          "heatmap": [
           {
            "colorbar": {
             "outlinewidth": 0,
             "ticks": ""
            },
            "colorscale": [
             [
              0,
              "#0d0887"
             ],
             [
              0.1111111111111111,
              "#46039f"
             ],
             [
              0.2222222222222222,
              "#7201a8"
             ],
             [
              0.3333333333333333,
              "#9c179e"
             ],
             [
              0.4444444444444444,
              "#bd3786"
             ],
             [
              0.5555555555555556,
              "#d8576b"
             ],
             [
              0.6666666666666666,
              "#ed7953"
             ],
             [
              0.7777777777777778,
              "#fb9f3a"
             ],
             [
              0.8888888888888888,
              "#fdca26"
             ],
             [
              1,
              "#f0f921"
             ]
            ],
            "type": "heatmap"
           }
          ],
          "heatmapgl": [
           {
            "colorbar": {
             "outlinewidth": 0,
             "ticks": ""
            },
            "colorscale": [
             [
              0,
              "#0d0887"
             ],
             [
              0.1111111111111111,
              "#46039f"
             ],
             [
              0.2222222222222222,
              "#7201a8"
             ],
             [
              0.3333333333333333,
              "#9c179e"
             ],
             [
              0.4444444444444444,
              "#bd3786"
             ],
             [
              0.5555555555555556,
              "#d8576b"
             ],
             [
              0.6666666666666666,
              "#ed7953"
             ],
             [
              0.7777777777777778,
              "#fb9f3a"
             ],
             [
              0.8888888888888888,
              "#fdca26"
             ],
             [
              1,
              "#f0f921"
             ]
            ],
            "type": "heatmapgl"
           }
          ],
          "histogram": [
           {
            "marker": {
             "pattern": {
              "fillmode": "overlay",
              "size": 10,
              "solidity": 0.2
             }
            },
            "type": "histogram"
           }
          ],
          "histogram2d": [
           {
            "colorbar": {
             "outlinewidth": 0,
             "ticks": ""
            },
            "colorscale": [
             [
              0,
              "#0d0887"
             ],
             [
              0.1111111111111111,
              "#46039f"
             ],
             [
              0.2222222222222222,
              "#7201a8"
             ],
             [
              0.3333333333333333,
              "#9c179e"
             ],
             [
              0.4444444444444444,
              "#bd3786"
             ],
             [
              0.5555555555555556,
              "#d8576b"
             ],
             [
              0.6666666666666666,
              "#ed7953"
             ],
             [
              0.7777777777777778,
              "#fb9f3a"
             ],
             [
              0.8888888888888888,
              "#fdca26"
             ],
             [
              1,
              "#f0f921"
             ]
            ],
            "type": "histogram2d"
           }
          ],
          "histogram2dcontour": [
           {
            "colorbar": {
             "outlinewidth": 0,
             "ticks": ""
            },
            "colorscale": [
             [
              0,
              "#0d0887"
             ],
             [
              0.1111111111111111,
              "#46039f"
             ],
             [
              0.2222222222222222,
              "#7201a8"
             ],
             [
              0.3333333333333333,
              "#9c179e"
             ],
             [
              0.4444444444444444,
              "#bd3786"
             ],
             [
              0.5555555555555556,
              "#d8576b"
             ],
             [
              0.6666666666666666,
              "#ed7953"
             ],
             [
              0.7777777777777778,
              "#fb9f3a"
             ],
             [
              0.8888888888888888,
              "#fdca26"
             ],
             [
              1,
              "#f0f921"
             ]
            ],
            "type": "histogram2dcontour"
           }
          ],
          "mesh3d": [
           {
            "colorbar": {
             "outlinewidth": 0,
             "ticks": ""
            },
            "type": "mesh3d"
           }
          ],
          "parcoords": [
           {
            "line": {
             "colorbar": {
              "outlinewidth": 0,
              "ticks": ""
             }
            },
            "type": "parcoords"
           }
          ],
          "pie": [
           {
            "automargin": true,
            "type": "pie"
           }
          ],
          "scatter": [
           {
            "fillpattern": {
             "fillmode": "overlay",
             "size": 10,
             "solidity": 0.2
            },
            "type": "scatter"
           }
          ],
          "scatter3d": [
           {
            "line": {
             "colorbar": {
              "outlinewidth": 0,
              "ticks": ""
             }
            },
            "marker": {
             "colorbar": {
              "outlinewidth": 0,
              "ticks": ""
             }
            },
            "type": "scatter3d"
           }
          ],
          "scattercarpet": [
           {
            "marker": {
             "colorbar": {
              "outlinewidth": 0,
              "ticks": ""
             }
            },
            "type": "scattercarpet"
           }
          ],
          "scattergeo": [
           {
            "marker": {
             "colorbar": {
              "outlinewidth": 0,
              "ticks": ""
             }
            },
            "type": "scattergeo"
           }
          ],
          "scattergl": [
           {
            "marker": {
             "colorbar": {
              "outlinewidth": 0,
              "ticks": ""
             }
            },
            "type": "scattergl"
           }
          ],
          "scattermapbox": [
           {
            "marker": {
             "colorbar": {
              "outlinewidth": 0,
              "ticks": ""
             }
            },
            "type": "scattermapbox"
           }
          ],
          "scatterpolar": [
           {
            "marker": {
             "colorbar": {
              "outlinewidth": 0,
              "ticks": ""
             }
            },
            "type": "scatterpolar"
           }
          ],
          "scatterpolargl": [
           {
            "marker": {
             "colorbar": {
              "outlinewidth": 0,
              "ticks": ""
             }
            },
            "type": "scatterpolargl"
           }
          ],
          "scatterternary": [
           {
            "marker": {
             "colorbar": {
              "outlinewidth": 0,
              "ticks": ""
             }
            },
            "type": "scatterternary"
           }
          ],
          "surface": [
           {
            "colorbar": {
             "outlinewidth": 0,
             "ticks": ""
            },
            "colorscale": [
             [
              0,
              "#0d0887"
             ],
             [
              0.1111111111111111,
              "#46039f"
             ],
             [
              0.2222222222222222,
              "#7201a8"
             ],
             [
              0.3333333333333333,
              "#9c179e"
             ],
             [
              0.4444444444444444,
              "#bd3786"
             ],
             [
              0.5555555555555556,
              "#d8576b"
             ],
             [
              0.6666666666666666,
              "#ed7953"
             ],
             [
              0.7777777777777778,
              "#fb9f3a"
             ],
             [
              0.8888888888888888,
              "#fdca26"
             ],
             [
              1,
              "#f0f921"
             ]
            ],
            "type": "surface"
           }
          ],
          "table": [
           {
            "cells": {
             "fill": {
              "color": "#EBF0F8"
             },
             "line": {
              "color": "white"
             }
            },
            "header": {
             "fill": {
              "color": "#C8D4E3"
             },
             "line": {
              "color": "white"
             }
            },
            "type": "table"
           }
          ]
         },
         "layout": {
          "font": {
           "family": "Franklin Gothic",
           "size": 12
          }
         }
        },
        "title": {
         "text": "K-Means Clustering Elbow Curve"
        },
        "width": 700,
        "xaxis": {
         "anchor": "y",
         "domain": [
          0,
          1
         ],
         "showline": true,
         "tickmode": "linear",
         "title": {
          "text": "Clusters"
         }
        },
        "yaxis": {
         "anchor": "x",
         "domain": [
          0,
          1
         ],
         "showline": true,
         "title": {
          "text": "Inertia"
         }
        }
       }
      },
      "text/html": [
       "<div>                            <div id=\"1d12fac6-82a6-487c-a901-df1cc61dc65f\" class=\"plotly-graph-div\" style=\"height:525px; width:700px;\"></div>            <script type=\"text/javascript\">                require([\"plotly\"], function(Plotly) {                    window.PLOTLYENV=window.PLOTLYENV || {};                                    if (document.getElementById(\"1d12fac6-82a6-487c-a901-df1cc61dc65f\")) {                    Plotly.newPlot(                        \"1d12fac6-82a6-487c-a901-df1cc61dc65f\",                        [{\"hovertemplate\":\"Clusters=%{x}<br>Inertia=%{y}<extra></extra>\",\"legendgroup\":\"\",\"line\":{\"color\":\"#518C89\",\"dash\":\"solid\"},\"marker\":{\"symbol\":\"circle\"},\"mode\":\"lines+markers\",\"name\":\"\",\"orientation\":\"h\",\"showlegend\":false,\"x\":[1,2,3,4,5,6,7,8,9,10,11,12,13,14,15],\"xaxis\":\"x\",\"y\":[308862.06000000006,212889.44245524303,143391.59236035676,104414.67534220168,75399.61541401484,58350.65449462818,51165.18423710792,44355.31351771351,40621.192057942055,37674.81633452754,34505.27822541444,31790.19654516177,29557.14001322751,28045.954566018772,26501.342905895846],\"yaxis\":\"y\",\"type\":\"scatter\"}],                        {\"template\":{\"data\":{\"histogram2dcontour\":[{\"type\":\"histogram2dcontour\",\"colorbar\":{\"outlinewidth\":0,\"ticks\":\"\"},\"colorscale\":[[0.0,\"#0d0887\"],[0.1111111111111111,\"#46039f\"],[0.2222222222222222,\"#7201a8\"],[0.3333333333333333,\"#9c179e\"],[0.4444444444444444,\"#bd3786\"],[0.5555555555555556,\"#d8576b\"],[0.6666666666666666,\"#ed7953\"],[0.7777777777777778,\"#fb9f3a\"],[0.8888888888888888,\"#fdca26\"],[1.0,\"#f0f921\"]]}],\"choropleth\":[{\"type\":\"choropleth\",\"colorbar\":{\"outlinewidth\":0,\"ticks\":\"\"}}],\"histogram2d\":[{\"type\":\"histogram2d\",\"colorbar\":{\"outlinewidth\":0,\"ticks\":\"\"},\"colorscale\":[[0.0,\"#0d0887\"],[0.1111111111111111,\"#46039f\"],[0.2222222222222222,\"#7201a8\"],[0.3333333333333333,\"#9c179e\"],[0.4444444444444444,\"#bd3786\"],[0.5555555555555556,\"#d8576b\"],[0.6666666666666666,\"#ed7953\"],[0.7777777777777778,\"#fb9f3a\"],[0.8888888888888888,\"#fdca26\"],[1.0,\"#f0f921\"]]}],\"heatmap\":[{\"type\":\"heatmap\",\"colorbar\":{\"outlinewidth\":0,\"ticks\":\"\"},\"colorscale\":[[0.0,\"#0d0887\"],[0.1111111111111111,\"#46039f\"],[0.2222222222222222,\"#7201a8\"],[0.3333333333333333,\"#9c179e\"],[0.4444444444444444,\"#bd3786\"],[0.5555555555555556,\"#d8576b\"],[0.6666666666666666,\"#ed7953\"],[0.7777777777777778,\"#fb9f3a\"],[0.8888888888888888,\"#fdca26\"],[1.0,\"#f0f921\"]]}],\"heatmapgl\":[{\"type\":\"heatmapgl\",\"colorbar\":{\"outlinewidth\":0,\"ticks\":\"\"},\"colorscale\":[[0.0,\"#0d0887\"],[0.1111111111111111,\"#46039f\"],[0.2222222222222222,\"#7201a8\"],[0.3333333333333333,\"#9c179e\"],[0.4444444444444444,\"#bd3786\"],[0.5555555555555556,\"#d8576b\"],[0.6666666666666666,\"#ed7953\"],[0.7777777777777778,\"#fb9f3a\"],[0.8888888888888888,\"#fdca26\"],[1.0,\"#f0f921\"]]}],\"contourcarpet\":[{\"type\":\"contourcarpet\",\"colorbar\":{\"outlinewidth\":0,\"ticks\":\"\"}}],\"contour\":[{\"type\":\"contour\",\"colorbar\":{\"outlinewidth\":0,\"ticks\":\"\"},\"colorscale\":[[0.0,\"#0d0887\"],[0.1111111111111111,\"#46039f\"],[0.2222222222222222,\"#7201a8\"],[0.3333333333333333,\"#9c179e\"],[0.4444444444444444,\"#bd3786\"],[0.5555555555555556,\"#d8576b\"],[0.6666666666666666,\"#ed7953\"],[0.7777777777777778,\"#fb9f3a\"],[0.8888888888888888,\"#fdca26\"],[1.0,\"#f0f921\"]]}],\"surface\":[{\"type\":\"surface\",\"colorbar\":{\"outlinewidth\":0,\"ticks\":\"\"},\"colorscale\":[[0.0,\"#0d0887\"],[0.1111111111111111,\"#46039f\"],[0.2222222222222222,\"#7201a8\"],[0.3333333333333333,\"#9c179e\"],[0.4444444444444444,\"#bd3786\"],[0.5555555555555556,\"#d8576b\"],[0.6666666666666666,\"#ed7953\"],[0.7777777777777778,\"#fb9f3a\"],[0.8888888888888888,\"#fdca26\"],[1.0,\"#f0f921\"]]}],\"mesh3d\":[{\"type\":\"mesh3d\",\"colorbar\":{\"outlinewidth\":0,\"ticks\":\"\"}}],\"scatter\":[{\"fillpattern\":{\"fillmode\":\"overlay\",\"size\":10,\"solidity\":0.2},\"type\":\"scatter\"}],\"parcoords\":[{\"type\":\"parcoords\",\"line\":{\"colorbar\":{\"outlinewidth\":0,\"ticks\":\"\"}}}],\"scatterpolargl\":[{\"type\":\"scatterpolargl\",\"marker\":{\"colorbar\":{\"outlinewidth\":0,\"ticks\":\"\"}}}],\"bar\":[{\"error_x\":{\"color\":\"#2a3f5f\"},\"error_y\":{\"color\":\"#2a3f5f\"},\"marker\":{\"line\":{\"color\":\"#E5ECF6\",\"width\":0.5},\"pattern\":{\"fillmode\":\"overlay\",\"size\":10,\"solidity\":0.2}},\"type\":\"bar\"}],\"scattergeo\":[{\"type\":\"scattergeo\",\"marker\":{\"colorbar\":{\"outlinewidth\":0,\"ticks\":\"\"}}}],\"scatterpolar\":[{\"type\":\"scatterpolar\",\"marker\":{\"colorbar\":{\"outlinewidth\":0,\"ticks\":\"\"}}}],\"histogram\":[{\"marker\":{\"pattern\":{\"fillmode\":\"overlay\",\"size\":10,\"solidity\":0.2}},\"type\":\"histogram\"}],\"scattergl\":[{\"type\":\"scattergl\",\"marker\":{\"colorbar\":{\"outlinewidth\":0,\"ticks\":\"\"}}}],\"scatter3d\":[{\"type\":\"scatter3d\",\"line\":{\"colorbar\":{\"outlinewidth\":0,\"ticks\":\"\"}},\"marker\":{\"colorbar\":{\"outlinewidth\":0,\"ticks\":\"\"}}}],\"scattermapbox\":[{\"type\":\"scattermapbox\",\"marker\":{\"colorbar\":{\"outlinewidth\":0,\"ticks\":\"\"}}}],\"scatterternary\":[{\"type\":\"scatterternary\",\"marker\":{\"colorbar\":{\"outlinewidth\":0,\"ticks\":\"\"}}}],\"scattercarpet\":[{\"type\":\"scattercarpet\",\"marker\":{\"colorbar\":{\"outlinewidth\":0,\"ticks\":\"\"}}}],\"carpet\":[{\"aaxis\":{\"endlinecolor\":\"#2a3f5f\",\"gridcolor\":\"white\",\"linecolor\":\"white\",\"minorgridcolor\":\"white\",\"startlinecolor\":\"#2a3f5f\"},\"baxis\":{\"endlinecolor\":\"#2a3f5f\",\"gridcolor\":\"white\",\"linecolor\":\"white\",\"minorgridcolor\":\"white\",\"startlinecolor\":\"#2a3f5f\"},\"type\":\"carpet\"}],\"table\":[{\"cells\":{\"fill\":{\"color\":\"#EBF0F8\"},\"line\":{\"color\":\"white\"}},\"header\":{\"fill\":{\"color\":\"#C8D4E3\"},\"line\":{\"color\":\"white\"}},\"type\":\"table\"}],\"barpolar\":[{\"marker\":{\"line\":{\"color\":\"#E5ECF6\",\"width\":0.5},\"pattern\":{\"fillmode\":\"overlay\",\"size\":10,\"solidity\":0.2}},\"type\":\"barpolar\"}],\"pie\":[{\"automargin\":true,\"type\":\"pie\"}]},\"layout\":{\"font\":{\"family\":\"Franklin Gothic\",\"size\":12}}},\"xaxis\":{\"anchor\":\"y\",\"domain\":[0.0,1.0],\"title\":{\"text\":\"Clusters\"},\"tickmode\":\"linear\",\"showline\":true},\"yaxis\":{\"anchor\":\"x\",\"domain\":[0.0,1.0],\"title\":{\"text\":\"Inertia\"},\"showline\":true},\"legend\":{\"tracegroupgap\":0},\"margin\":{\"t\":60},\"shapes\":[{\"line\":{\"color\":\"darkgrey\",\"dash\":\"dash\",\"width\":3},\"type\":\"line\",\"x0\":5,\"x1\":5,\"xref\":\"x\",\"y0\":0,\"y1\":1,\"yref\":\"y domain\"}],\"annotations\":[{\"arrowhead\":2,\"ax\":0.43,\"axref\":\"x domain\",\"ay\":120000.0,\"ayref\":\"y\",\"bgcolor\":\"white\",\"bordercolor\":\"#585858\",\"borderpad\":4,\"font\":{\"size\":14},\"text\":\"Optimal Number of Clusters\",\"x\":0.31,\"xref\":\"x domain\",\"y\":75000.0,\"yref\":\"y\"}],\"title\":{\"text\":\"K-Means Clustering Elbow Curve\"},\"width\":700},                        {\"responsive\": true}                    ).then(function(){\n",
       "                            \n",
       "var gd = document.getElementById('1d12fac6-82a6-487c-a901-df1cc61dc65f');\n",
       "var x = new MutationObserver(function (mutations, observer) {{\n",
       "        var display = window.getComputedStyle(gd).display;\n",
       "        if (!display || display === 'none') {{\n",
       "            console.log([gd, 'removed!']);\n",
       "            Plotly.purge(gd);\n",
       "            observer.disconnect();\n",
       "        }}\n",
       "}});\n",
       "\n",
       "// Listen for the removal of the full notebook cells\n",
       "var notebookContainer = gd.closest('#notebook-container');\n",
       "if (notebookContainer) {{\n",
       "    x.observe(notebookContainer, {childList: true});\n",
       "}}\n",
       "\n",
       "// Listen for the clearing of the current output cell\n",
       "var outputEl = gd.closest('.output');\n",
       "if (outputEl) {{\n",
       "    x.observe(outputEl, {childList: true});\n",
       "}}\n",
       "\n",
       "                        })                };                });            </script>        </div>"
      ]
     },
     "metadata": {},
     "output_type": "display_data"
    }
   ],
   "source": [
    "# K-Means Clustering\n",
    "clust_df = cust.copy()\n",
    "clust_df['Gender'] = [1 if i == \"Women\" else 0 for i in clust_df.Gender]\n",
    "\n",
    "k_means = list()\n",
    "for clust in range(1,16):\n",
    "    km = KMeans(n_clusters=clust, init='k-means++', random_state=21).fit(clust_df)\n",
    "    k_means.append(pd.Series({'Clusters': clust, \n",
    "                              'Inertia': km.inertia_,\n",
    "                              'model': km}))\n",
    "\n",
    "# Plot results\n",
    "plot_km = (pd.concat(k_means, axis=1).T\n",
    "           [['Clusters','Inertia']]\n",
    "           .set_index('Clusters'))\n",
    "\n",
    "fig = px.line(plot_km, x=plot_km.index, y='Inertia', markers=True)\n",
    "fig.add_vline(x=5, line_width=3, line_dash=\"dash\", line_color=\"darkgrey\")\n",
    "fig.add_annotation(\n",
    "    xref=\"x domain\",\n",
    "    yref=\"y\",\n",
    "    x=.31,\n",
    "    y=75e3,\n",
    "    text=\"Optimal Number of Clusters\",\n",
    "    axref=\"x domain\",\n",
    "    ayref=\"y\",\n",
    "    ax=.43,\n",
    "    ay=12e4,\n",
    "    arrowhead=2, \n",
    "    bordercolor=\"#585858\",\n",
    "    borderpad=4, \n",
    "    bgcolor='white',\n",
    "    font=dict(size=14)\n",
    ")\n",
    "fig.update_traces(line_color='#518C89')\n",
    "fig.update_layout(template=temp, title=\"K-Means Clustering Elbow Curve\", \n",
    "                  xaxis=dict(tickmode = 'linear', showline=True), yaxis=dict(showline=True), width=700)\n",
    "fig.show()"
   ]
  },
  {
   "cell_type": "markdown",
   "id": "4f5788d0",
   "metadata": {
    "papermill": {
     "duration": 0.040735,
     "end_time": "2022-02-18T05:09:18.697060",
     "exception": false,
     "start_time": "2022-02-18T05:09:18.656325",
     "status": "completed"
    },
    "tags": []
   },
   "source": [
    "The graph above shows the inertia values for each K-Means model with clusters between 1 and 15. The inflection point in the graph occurs at about 5 clusters, where the inertia begins to plateau. This indicates that the optimal number of clusters, $k$ is equal to 5. Below is a plot of the clusters based on their spending score and income."
   ]
  },
  {
   "cell_type": "code",
   "execution_count": 14,
   "id": "b08287a5",
   "metadata": {
    "_kg_hide-input": true,
    "execution": {
     "iopub.execute_input": "2022-02-18T05:09:18.787775Z",
     "iopub.status.busy": "2022-02-18T05:09:18.786957Z",
     "iopub.status.idle": "2022-02-18T05:09:18.913764Z",
     "shell.execute_reply": "2022-02-18T05:09:18.914216Z",
     "shell.execute_reply.started": "2022-02-18T02:54:44.859167Z"
    },
    "papermill": {
     "duration": 0.176384,
     "end_time": "2022-02-18T05:09:18.914407",
     "exception": false,
     "start_time": "2022-02-18T05:09:18.738023",
     "status": "completed"
    },
    "tags": []
   },
   "outputs": [
    {
     "data": {
      "application/vnd.plotly.v1+json": {
       "config": {
        "plotlyServerURL": "https://plot.ly"
       },
       "data": [
        {
         "hovertemplate": "K-Means Cluster=0<br>Spending Score=%{x}<br>Annual Income=%{y}<extra></extra>",
         "legendgroup": "0",
         "marker": {
          "color": "rgb(95, 70, 144)",
          "line": {
           "color": "#F7F7F7",
           "width": 1
          },
          "opacity": 0.75,
          "size": 11,
          "symbol": "circle"
         },
         "mode": "markers",
         "name": "0",
         "orientation": "v",
         "showlegend": true,
         "type": "scatter",
         "x": [
          83,
          63,
          95,
          75,
          93,
          83,
          73,
          78,
          89,
          88,
          90,
          74,
          97,
          87,
          93,
          72,
          73,
          88,
          71,
          75,
          75,
          95,
          77,
          91,
          75,
          92,
          76,
          79,
          88,
          68,
          85,
          86,
          69,
          91,
          90,
          69,
          74,
          86,
          97
         ],
         "xaxis": "x",
         "y": [
          137,
          87,
          86,
          85,
          81,
          79,
          78,
          78,
          78,
          78,
          78,
          77,
          77,
          76,
          75,
          74,
          73,
          73,
          72,
          71,
          71,
          71,
          70,
          69,
          87,
          87,
          78,
          120,
          98,
          101,
          103,
          97,
          103,
          113,
          93,
          88,
          126,
          88,
          99
         ],
         "yaxis": "y"
        },
        {
         "hovertemplate": "K-Means Cluster=1<br>Spending Score=%{x}<br>Annual Income=%{y}<extra></extra>",
         "legendgroup": "1",
         "marker": {
          "color": "rgb(29, 105, 150)",
          "line": {
           "color": "#F7F7F7",
           "width": 1
          },
          "opacity": 0.75,
          "size": 11,
          "symbol": "circle"
         },
         "mode": "markers",
         "name": "1",
         "orientation": "v",
         "showlegend": true,
         "type": "scatter",
         "x": [
          82,
          77,
          94,
          72,
          77,
          99,
          81,
          76,
          61,
          73,
          79,
          87,
          73,
          92,
          73,
          73,
          81,
          75,
          92,
          66,
          61,
          65,
          98
         ],
         "xaxis": "x",
         "y": [
          28,
          20,
          18,
          19,
          16,
          19,
          15,
          17,
          28,
          25,
          20,
          29,
          30,
          33,
          24,
          34,
          33,
          37,
          38,
          21,
          39,
          39,
          23
         ],
         "yaxis": "y"
        },
        {
         "hovertemplate": "K-Means Cluster=2<br>Spending Score=%{x}<br>Annual Income=%{y}<extra></extra>",
         "legendgroup": "2",
         "marker": {
          "color": "rgb(56, 166, 165)",
          "line": {
           "color": "#F7F7F7",
           "width": 1
          },
          "opacity": 0.75,
          "size": 11,
          "symbol": "circle"
         },
         "mode": "markers",
         "name": "2",
         "orientation": "v",
         "showlegend": true,
         "type": "scatter",
         "x": [
          55,
          46,
          50,
          42,
          56,
          59,
          42,
          41,
          42,
          50,
          43,
          47,
          52,
          48,
          48,
          43,
          54,
          42,
          46,
          48,
          50,
          59,
          43,
          57,
          56,
          40,
          58,
          35,
          40,
          52,
          40,
          49,
          41,
          50,
          59,
          51,
          59,
          52,
          56,
          46,
          51,
          46,
          50,
          41,
          45,
          60,
          54,
          60,
          52,
          49,
          42,
          42,
          47,
          55,
          48,
          59,
          55,
          55,
          55,
          46,
          60,
          55,
          58,
          46,
          57,
          44,
          47,
          55,
          51,
          42,
          41,
          52,
          48,
          42,
          53,
          49,
          54,
          56,
          47
         ],
         "xaxis": "x",
         "y": [
          62,
          63,
          63,
          62,
          62,
          62,
          60,
          62,
          61,
          60,
          63,
          60,
          60,
          62,
          63,
          65,
          63,
          64,
          64,
          65,
          65,
          65,
          67,
          67,
          67,
          67,
          69,
          71,
          76,
          63,
          60,
          61,
          59,
          48,
          48,
          48,
          47,
          47,
          46,
          46,
          46,
          44,
          44,
          43,
          43,
          43,
          43,
          42,
          42,
          60,
          40,
          40,
          40,
          40,
          48,
          48,
          46,
          49,
          59,
          58,
          58,
          57,
          57,
          54,
          54,
          54,
          48,
          54,
          54,
          54,
          54,
          54,
          54,
          49,
          54,
          50,
          54,
          50,
          54
         ],
         "yaxis": "y"
        },
        {
         "hovertemplate": "K-Means Cluster=3<br>Spending Score=%{x}<br>Annual Income=%{y}<extra></extra>",
         "legendgroup": "3",
         "marker": {
          "color": "rgb(15, 133, 84)",
          "line": {
           "color": "#F7F7F7",
           "width": 1
          },
          "opacity": 0.75,
          "size": 11,
          "symbol": "circle"
         },
         "mode": "markers",
         "name": "3",
         "orientation": "v",
         "showlegend": true,
         "type": "scatter",
         "x": [
          26,
          20,
          27,
          13,
          10,
          13,
          15,
          28,
          16,
          14,
          5,
          32,
          8,
          15,
          39,
          23,
          24,
          17,
          35,
          36,
          5,
          5,
          12,
          34,
          22,
          17,
          9,
          10,
          16,
          20,
          29,
          1,
          18,
          1,
          11,
          7
         ],
         "xaxis": "x",
         "y": [
          85,
          86,
          87,
          87,
          87,
          88,
          88,
          126,
          120,
          93,
          81,
          97,
          113,
          98,
          99,
          103,
          101,
          103,
          79,
          77,
          75,
          73,
          77,
          72,
          78,
          78,
          71,
          74,
          78,
          78,
          70,
          78,
          137,
          78,
          71,
          73
         ],
         "yaxis": "y"
        },
        {
         "hovertemplate": "K-Means Cluster=4<br>Spending Score=%{x}<br>Annual Income=%{y}<extra></extra>",
         "legendgroup": "4",
         "marker": {
          "color": "rgb(115, 175, 72)",
          "line": {
           "color": "#F7F7F7",
           "width": 1
          },
          "opacity": 0.75,
          "size": 11,
          "symbol": "circle"
         },
         "mode": "markers",
         "name": "4",
         "orientation": "v",
         "showlegend": true,
         "type": "scatter",
         "x": [
          3,
          6,
          14,
          40,
          6,
          15,
          13,
          26,
          29,
          35,
          35,
          5,
          14,
          32,
          31,
          4,
          28,
          4,
          14,
          36,
          17,
          35,
          39
         ],
         "xaxis": "x",
         "y": [
          19,
          18,
          19,
          17,
          16,
          20,
          20,
          37,
          23,
          38,
          24,
          25,
          28,
          28,
          29,
          30,
          39,
          33,
          33,
          39,
          34,
          21,
          15
         ],
         "yaxis": "y"
        }
       ],
       "layout": {
        "legend": {
         "title": {
          "text": "Cluster"
         },
         "tracegroupgap": 0
        },
        "margin": {
         "t": 60
        },
        "template": {
         "data": {
          "bar": [
           {
            "error_x": {
             "color": "#2a3f5f"
            },
            "error_y": {
             "color": "#2a3f5f"
            },
            "marker": {
             "line": {
              "color": "#E5ECF6",
              "width": 0.5
             },
             "pattern": {
              "fillmode": "overlay",
              "size": 10,
              "solidity": 0.2
             }
            },
            "type": "bar"
           }
          ],
          "barpolar": [
           {
            "marker": {
             "line": {
              "color": "#E5ECF6",
              "width": 0.5
             },
             "pattern": {
              "fillmode": "overlay",
              "size": 10,
              "solidity": 0.2
             }
            },
            "type": "barpolar"
           }
          ],
          "carpet": [
           {
            "aaxis": {
             "endlinecolor": "#2a3f5f",
             "gridcolor": "white",
             "linecolor": "white",
             "minorgridcolor": "white",
             "startlinecolor": "#2a3f5f"
            },
            "baxis": {
             "endlinecolor": "#2a3f5f",
             "gridcolor": "white",
             "linecolor": "white",
             "minorgridcolor": "white",
             "startlinecolor": "#2a3f5f"
            },
            "type": "carpet"
           }
          ],
          "choropleth": [
           {
            "colorbar": {
             "outlinewidth": 0,
             "ticks": ""
            },
            "type": "choropleth"
           }
          ],
          "contour": [
           {
            "colorbar": {
             "outlinewidth": 0,
             "ticks": ""
            },
            "colorscale": [
             [
              0,
              "#0d0887"
             ],
             [
              0.1111111111111111,
              "#46039f"
             ],
             [
              0.2222222222222222,
              "#7201a8"
             ],
             [
              0.3333333333333333,
              "#9c179e"
             ],
             [
              0.4444444444444444,
              "#bd3786"
             ],
             [
              0.5555555555555556,
              "#d8576b"
             ],
             [
              0.6666666666666666,
              "#ed7953"
             ],
             [
              0.7777777777777778,
              "#fb9f3a"
             ],
             [
              0.8888888888888888,
              "#fdca26"
             ],
             [
              1,
              "#f0f921"
             ]
            ],
            "type": "contour"
           }
          ],
          "contourcarpet": [
           {
            "colorbar": {
             "outlinewidth": 0,
             "ticks": ""
            },
            "type": "contourcarpet"
           }
          ],
          "heatmap": [
           {
            "colorbar": {
             "outlinewidth": 0,
             "ticks": ""
            },
            "colorscale": [
             [
              0,
              "#0d0887"
             ],
             [
              0.1111111111111111,
              "#46039f"
             ],
             [
              0.2222222222222222,
              "#7201a8"
             ],
             [
              0.3333333333333333,
              "#9c179e"
             ],
             [
              0.4444444444444444,
              "#bd3786"
             ],
             [
              0.5555555555555556,
              "#d8576b"
             ],
             [
              0.6666666666666666,
              "#ed7953"
             ],
             [
              0.7777777777777778,
              "#fb9f3a"
             ],
             [
              0.8888888888888888,
              "#fdca26"
             ],
             [
              1,
              "#f0f921"
             ]
            ],
            "type": "heatmap"
           }
          ],
          "heatmapgl": [
           {
            "colorbar": {
             "outlinewidth": 0,
             "ticks": ""
            },
            "colorscale": [
             [
              0,
              "#0d0887"
             ],
             [
              0.1111111111111111,
              "#46039f"
             ],
             [
              0.2222222222222222,
              "#7201a8"
             ],
             [
              0.3333333333333333,
              "#9c179e"
             ],
             [
              0.4444444444444444,
              "#bd3786"
             ],
             [
              0.5555555555555556,
              "#d8576b"
             ],
             [
              0.6666666666666666,
              "#ed7953"
             ],
             [
              0.7777777777777778,
              "#fb9f3a"
             ],
             [
              0.8888888888888888,
              "#fdca26"
             ],
             [
              1,
              "#f0f921"
             ]
            ],
            "type": "heatmapgl"
           }
          ],
          "histogram": [
           {
            "marker": {
             "pattern": {
              "fillmode": "overlay",
              "size": 10,
              "solidity": 0.2
             }
            },
            "type": "histogram"
           }
          ],
          "histogram2d": [
           {
            "colorbar": {
             "outlinewidth": 0,
             "ticks": ""
            },
            "colorscale": [
             [
              0,
              "#0d0887"
             ],
             [
              0.1111111111111111,
              "#46039f"
             ],
             [
              0.2222222222222222,
              "#7201a8"
             ],
             [
              0.3333333333333333,
              "#9c179e"
             ],
             [
              0.4444444444444444,
              "#bd3786"
             ],
             [
              0.5555555555555556,
              "#d8576b"
             ],
             [
              0.6666666666666666,
              "#ed7953"
             ],
             [
              0.7777777777777778,
              "#fb9f3a"
             ],
             [
              0.8888888888888888,
              "#fdca26"
             ],
             [
              1,
              "#f0f921"
             ]
            ],
            "type": "histogram2d"
           }
          ],
          "histogram2dcontour": [
           {
            "colorbar": {
             "outlinewidth": 0,
             "ticks": ""
            },
            "colorscale": [
             [
              0,
              "#0d0887"
             ],
             [
              0.1111111111111111,
              "#46039f"
             ],
             [
              0.2222222222222222,
              "#7201a8"
             ],
             [
              0.3333333333333333,
              "#9c179e"
             ],
             [
              0.4444444444444444,
              "#bd3786"
             ],
             [
              0.5555555555555556,
              "#d8576b"
             ],
             [
              0.6666666666666666,
              "#ed7953"
             ],
             [
              0.7777777777777778,
              "#fb9f3a"
             ],
             [
              0.8888888888888888,
              "#fdca26"
             ],
             [
              1,
              "#f0f921"
             ]
            ],
            "type": "histogram2dcontour"
           }
          ],
          "mesh3d": [
           {
            "colorbar": {
             "outlinewidth": 0,
             "ticks": ""
            },
            "type": "mesh3d"
           }
          ],
          "parcoords": [
           {
            "line": {
             "colorbar": {
              "outlinewidth": 0,
              "ticks": ""
             }
            },
            "type": "parcoords"
           }
          ],
          "pie": [
           {
            "automargin": true,
            "type": "pie"
           }
          ],
          "scatter": [
           {
            "fillpattern": {
             "fillmode": "overlay",
             "size": 10,
             "solidity": 0.2
            },
            "type": "scatter"
           }
          ],
          "scatter3d": [
           {
            "line": {
             "colorbar": {
              "outlinewidth": 0,
              "ticks": ""
             }
            },
            "marker": {
             "colorbar": {
              "outlinewidth": 0,
              "ticks": ""
             }
            },
            "type": "scatter3d"
           }
          ],
          "scattercarpet": [
           {
            "marker": {
             "colorbar": {
              "outlinewidth": 0,
              "ticks": ""
             }
            },
            "type": "scattercarpet"
           }
          ],
          "scattergeo": [
           {
            "marker": {
             "colorbar": {
              "outlinewidth": 0,
              "ticks": ""
             }
            },
            "type": "scattergeo"
           }
          ],
          "scattergl": [
           {
            "marker": {
             "colorbar": {
              "outlinewidth": 0,
              "ticks": ""
             }
            },
            "type": "scattergl"
           }
          ],
          "scattermapbox": [
           {
            "marker": {
             "colorbar": {
              "outlinewidth": 0,
              "ticks": ""
             }
            },
            "type": "scattermapbox"
           }
          ],
          "scatterpolar": [
           {
            "marker": {
             "colorbar": {
              "outlinewidth": 0,
              "ticks": ""
             }
            },
            "type": "scatterpolar"
           }
          ],
          "scatterpolargl": [
           {
            "marker": {
             "colorbar": {
              "outlinewidth": 0,
              "ticks": ""
             }
            },
            "type": "scatterpolargl"
           }
          ],
          "scatterternary": [
           {
            "marker": {
             "colorbar": {
              "outlinewidth": 0,
              "ticks": ""
             }
            },
            "type": "scatterternary"
           }
          ],
          "surface": [
           {
            "colorbar": {
             "outlinewidth": 0,
             "ticks": ""
            },
            "colorscale": [
             [
              0,
              "#0d0887"
             ],
             [
              0.1111111111111111,
              "#46039f"
             ],
             [
              0.2222222222222222,
              "#7201a8"
             ],
             [
              0.3333333333333333,
              "#9c179e"
             ],
             [
              0.4444444444444444,
              "#bd3786"
             ],
             [
              0.5555555555555556,
              "#d8576b"
             ],
             [
              0.6666666666666666,
              "#ed7953"
             ],
             [
              0.7777777777777778,
              "#fb9f3a"
             ],
             [
              0.8888888888888888,
              "#fdca26"
             ],
             [
              1,
              "#f0f921"
             ]
            ],
            "type": "surface"
           }
          ],
          "table": [
           {
            "cells": {
             "fill": {
              "color": "#EBF0F8"
             },
             "line": {
              "color": "white"
             }
            },
            "header": {
             "fill": {
              "color": "#C8D4E3"
             },
             "line": {
              "color": "white"
             }
            },
            "type": "table"
           }
          ]
         },
         "layout": {
          "font": {
           "family": "Franklin Gothic",
           "size": 12
          }
         }
        },
        "title": {
         "text": "K-Means Cluster Profiles,<br>Customer Spending vs. Income"
        },
        "width": 700,
        "xaxis": {
         "anchor": "y",
         "domain": [
          0,
          1
         ],
         "showline": true,
         "title": {
          "text": "Spending Score"
         },
         "zeroline": false
        },
        "yaxis": {
         "anchor": "x",
         "domain": [
          0,
          1
         ],
         "showline": true,
         "ticksuffix": "k",
         "title": {
          "text": "Income, $"
         }
        }
       }
      },
      "text/html": [
       "<div>                            <div id=\"9c67fce1-4096-4e7a-9737-0c2106253769\" class=\"plotly-graph-div\" style=\"height:525px; width:700px;\"></div>            <script type=\"text/javascript\">                require([\"plotly\"], function(Plotly) {                    window.PLOTLYENV=window.PLOTLYENV || {};                                    if (document.getElementById(\"9c67fce1-4096-4e7a-9737-0c2106253769\")) {                    Plotly.newPlot(                        \"9c67fce1-4096-4e7a-9737-0c2106253769\",                        [{\"hovertemplate\":\"K-Means Cluster=0<br>Spending Score=%{x}<br>Annual Income=%{y}<extra></extra>\",\"legendgroup\":\"0\",\"marker\":{\"color\":\"rgb(95, 70, 144)\",\"symbol\":\"circle\",\"line\":{\"color\":\"#F7F7F7\",\"width\":1},\"opacity\":0.75,\"size\":11},\"mode\":\"markers\",\"name\":\"0\",\"orientation\":\"v\",\"showlegend\":true,\"x\":[83,63,95,75,93,83,73,78,89,88,90,74,97,87,93,72,73,88,71,75,75,95,77,91,75,92,76,79,88,68,85,86,69,91,90,69,74,86,97],\"xaxis\":\"x\",\"y\":[137,87,86,85,81,79,78,78,78,78,78,77,77,76,75,74,73,73,72,71,71,71,70,69,87,87,78,120,98,101,103,97,103,113,93,88,126,88,99],\"yaxis\":\"y\",\"type\":\"scatter\"},{\"hovertemplate\":\"K-Means Cluster=1<br>Spending Score=%{x}<br>Annual Income=%{y}<extra></extra>\",\"legendgroup\":\"1\",\"marker\":{\"color\":\"rgb(29, 105, 150)\",\"symbol\":\"circle\",\"line\":{\"color\":\"#F7F7F7\",\"width\":1},\"opacity\":0.75,\"size\":11},\"mode\":\"markers\",\"name\":\"1\",\"orientation\":\"v\",\"showlegend\":true,\"x\":[82,77,94,72,77,99,81,76,61,73,79,87,73,92,73,73,81,75,92,66,61,65,98],\"xaxis\":\"x\",\"y\":[28,20,18,19,16,19,15,17,28,25,20,29,30,33,24,34,33,37,38,21,39,39,23],\"yaxis\":\"y\",\"type\":\"scatter\"},{\"hovertemplate\":\"K-Means Cluster=2<br>Spending Score=%{x}<br>Annual Income=%{y}<extra></extra>\",\"legendgroup\":\"2\",\"marker\":{\"color\":\"rgb(56, 166, 165)\",\"symbol\":\"circle\",\"line\":{\"color\":\"#F7F7F7\",\"width\":1},\"opacity\":0.75,\"size\":11},\"mode\":\"markers\",\"name\":\"2\",\"orientation\":\"v\",\"showlegend\":true,\"x\":[55,46,50,42,56,59,42,41,42,50,43,47,52,48,48,43,54,42,46,48,50,59,43,57,56,40,58,35,40,52,40,49,41,50,59,51,59,52,56,46,51,46,50,41,45,60,54,60,52,49,42,42,47,55,48,59,55,55,55,46,60,55,58,46,57,44,47,55,51,42,41,52,48,42,53,49,54,56,47],\"xaxis\":\"x\",\"y\":[62,63,63,62,62,62,60,62,61,60,63,60,60,62,63,65,63,64,64,65,65,65,67,67,67,67,69,71,76,63,60,61,59,48,48,48,47,47,46,46,46,44,44,43,43,43,43,42,42,60,40,40,40,40,48,48,46,49,59,58,58,57,57,54,54,54,48,54,54,54,54,54,54,49,54,50,54,50,54],\"yaxis\":\"y\",\"type\":\"scatter\"},{\"hovertemplate\":\"K-Means Cluster=3<br>Spending Score=%{x}<br>Annual Income=%{y}<extra></extra>\",\"legendgroup\":\"3\",\"marker\":{\"color\":\"rgb(15, 133, 84)\",\"symbol\":\"circle\",\"line\":{\"color\":\"#F7F7F7\",\"width\":1},\"opacity\":0.75,\"size\":11},\"mode\":\"markers\",\"name\":\"3\",\"orientation\":\"v\",\"showlegend\":true,\"x\":[26,20,27,13,10,13,15,28,16,14,5,32,8,15,39,23,24,17,35,36,5,5,12,34,22,17,9,10,16,20,29,1,18,1,11,7],\"xaxis\":\"x\",\"y\":[85,86,87,87,87,88,88,126,120,93,81,97,113,98,99,103,101,103,79,77,75,73,77,72,78,78,71,74,78,78,70,78,137,78,71,73],\"yaxis\":\"y\",\"type\":\"scatter\"},{\"hovertemplate\":\"K-Means Cluster=4<br>Spending Score=%{x}<br>Annual Income=%{y}<extra></extra>\",\"legendgroup\":\"4\",\"marker\":{\"color\":\"rgb(115, 175, 72)\",\"symbol\":\"circle\",\"line\":{\"color\":\"#F7F7F7\",\"width\":1},\"opacity\":0.75,\"size\":11},\"mode\":\"markers\",\"name\":\"4\",\"orientation\":\"v\",\"showlegend\":true,\"x\":[3,6,14,40,6,15,13,26,29,35,35,5,14,32,31,4,28,4,14,36,17,35,39],\"xaxis\":\"x\",\"y\":[19,18,19,17,16,20,20,37,23,38,24,25,28,28,29,30,39,33,33,39,34,21,15],\"yaxis\":\"y\",\"type\":\"scatter\"}],                        {\"template\":{\"data\":{\"histogram2dcontour\":[{\"type\":\"histogram2dcontour\",\"colorbar\":{\"outlinewidth\":0,\"ticks\":\"\"},\"colorscale\":[[0.0,\"#0d0887\"],[0.1111111111111111,\"#46039f\"],[0.2222222222222222,\"#7201a8\"],[0.3333333333333333,\"#9c179e\"],[0.4444444444444444,\"#bd3786\"],[0.5555555555555556,\"#d8576b\"],[0.6666666666666666,\"#ed7953\"],[0.7777777777777778,\"#fb9f3a\"],[0.8888888888888888,\"#fdca26\"],[1.0,\"#f0f921\"]]}],\"choropleth\":[{\"type\":\"choropleth\",\"colorbar\":{\"outlinewidth\":0,\"ticks\":\"\"}}],\"histogram2d\":[{\"type\":\"histogram2d\",\"colorbar\":{\"outlinewidth\":0,\"ticks\":\"\"},\"colorscale\":[[0.0,\"#0d0887\"],[0.1111111111111111,\"#46039f\"],[0.2222222222222222,\"#7201a8\"],[0.3333333333333333,\"#9c179e\"],[0.4444444444444444,\"#bd3786\"],[0.5555555555555556,\"#d8576b\"],[0.6666666666666666,\"#ed7953\"],[0.7777777777777778,\"#fb9f3a\"],[0.8888888888888888,\"#fdca26\"],[1.0,\"#f0f921\"]]}],\"heatmap\":[{\"type\":\"heatmap\",\"colorbar\":{\"outlinewidth\":0,\"ticks\":\"\"},\"colorscale\":[[0.0,\"#0d0887\"],[0.1111111111111111,\"#46039f\"],[0.2222222222222222,\"#7201a8\"],[0.3333333333333333,\"#9c179e\"],[0.4444444444444444,\"#bd3786\"],[0.5555555555555556,\"#d8576b\"],[0.6666666666666666,\"#ed7953\"],[0.7777777777777778,\"#fb9f3a\"],[0.8888888888888888,\"#fdca26\"],[1.0,\"#f0f921\"]]}],\"heatmapgl\":[{\"type\":\"heatmapgl\",\"colorbar\":{\"outlinewidth\":0,\"ticks\":\"\"},\"colorscale\":[[0.0,\"#0d0887\"],[0.1111111111111111,\"#46039f\"],[0.2222222222222222,\"#7201a8\"],[0.3333333333333333,\"#9c179e\"],[0.4444444444444444,\"#bd3786\"],[0.5555555555555556,\"#d8576b\"],[0.6666666666666666,\"#ed7953\"],[0.7777777777777778,\"#fb9f3a\"],[0.8888888888888888,\"#fdca26\"],[1.0,\"#f0f921\"]]}],\"contourcarpet\":[{\"type\":\"contourcarpet\",\"colorbar\":{\"outlinewidth\":0,\"ticks\":\"\"}}],\"contour\":[{\"type\":\"contour\",\"colorbar\":{\"outlinewidth\":0,\"ticks\":\"\"},\"colorscale\":[[0.0,\"#0d0887\"],[0.1111111111111111,\"#46039f\"],[0.2222222222222222,\"#7201a8\"],[0.3333333333333333,\"#9c179e\"],[0.4444444444444444,\"#bd3786\"],[0.5555555555555556,\"#d8576b\"],[0.6666666666666666,\"#ed7953\"],[0.7777777777777778,\"#fb9f3a\"],[0.8888888888888888,\"#fdca26\"],[1.0,\"#f0f921\"]]}],\"surface\":[{\"type\":\"surface\",\"colorbar\":{\"outlinewidth\":0,\"ticks\":\"\"},\"colorscale\":[[0.0,\"#0d0887\"],[0.1111111111111111,\"#46039f\"],[0.2222222222222222,\"#7201a8\"],[0.3333333333333333,\"#9c179e\"],[0.4444444444444444,\"#bd3786\"],[0.5555555555555556,\"#d8576b\"],[0.6666666666666666,\"#ed7953\"],[0.7777777777777778,\"#fb9f3a\"],[0.8888888888888888,\"#fdca26\"],[1.0,\"#f0f921\"]]}],\"mesh3d\":[{\"type\":\"mesh3d\",\"colorbar\":{\"outlinewidth\":0,\"ticks\":\"\"}}],\"scatter\":[{\"fillpattern\":{\"fillmode\":\"overlay\",\"size\":10,\"solidity\":0.2},\"type\":\"scatter\"}],\"parcoords\":[{\"type\":\"parcoords\",\"line\":{\"colorbar\":{\"outlinewidth\":0,\"ticks\":\"\"}}}],\"scatterpolargl\":[{\"type\":\"scatterpolargl\",\"marker\":{\"colorbar\":{\"outlinewidth\":0,\"ticks\":\"\"}}}],\"bar\":[{\"error_x\":{\"color\":\"#2a3f5f\"},\"error_y\":{\"color\":\"#2a3f5f\"},\"marker\":{\"line\":{\"color\":\"#E5ECF6\",\"width\":0.5},\"pattern\":{\"fillmode\":\"overlay\",\"size\":10,\"solidity\":0.2}},\"type\":\"bar\"}],\"scattergeo\":[{\"type\":\"scattergeo\",\"marker\":{\"colorbar\":{\"outlinewidth\":0,\"ticks\":\"\"}}}],\"scatterpolar\":[{\"type\":\"scatterpolar\",\"marker\":{\"colorbar\":{\"outlinewidth\":0,\"ticks\":\"\"}}}],\"histogram\":[{\"marker\":{\"pattern\":{\"fillmode\":\"overlay\",\"size\":10,\"solidity\":0.2}},\"type\":\"histogram\"}],\"scattergl\":[{\"type\":\"scattergl\",\"marker\":{\"colorbar\":{\"outlinewidth\":0,\"ticks\":\"\"}}}],\"scatter3d\":[{\"type\":\"scatter3d\",\"line\":{\"colorbar\":{\"outlinewidth\":0,\"ticks\":\"\"}},\"marker\":{\"colorbar\":{\"outlinewidth\":0,\"ticks\":\"\"}}}],\"scattermapbox\":[{\"type\":\"scattermapbox\",\"marker\":{\"colorbar\":{\"outlinewidth\":0,\"ticks\":\"\"}}}],\"scatterternary\":[{\"type\":\"scatterternary\",\"marker\":{\"colorbar\":{\"outlinewidth\":0,\"ticks\":\"\"}}}],\"scattercarpet\":[{\"type\":\"scattercarpet\",\"marker\":{\"colorbar\":{\"outlinewidth\":0,\"ticks\":\"\"}}}],\"carpet\":[{\"aaxis\":{\"endlinecolor\":\"#2a3f5f\",\"gridcolor\":\"white\",\"linecolor\":\"white\",\"minorgridcolor\":\"white\",\"startlinecolor\":\"#2a3f5f\"},\"baxis\":{\"endlinecolor\":\"#2a3f5f\",\"gridcolor\":\"white\",\"linecolor\":\"white\",\"minorgridcolor\":\"white\",\"startlinecolor\":\"#2a3f5f\"},\"type\":\"carpet\"}],\"table\":[{\"cells\":{\"fill\":{\"color\":\"#EBF0F8\"},\"line\":{\"color\":\"white\"}},\"header\":{\"fill\":{\"color\":\"#C8D4E3\"},\"line\":{\"color\":\"white\"}},\"type\":\"table\"}],\"barpolar\":[{\"marker\":{\"line\":{\"color\":\"#E5ECF6\",\"width\":0.5},\"pattern\":{\"fillmode\":\"overlay\",\"size\":10,\"solidity\":0.2}},\"type\":\"barpolar\"}],\"pie\":[{\"automargin\":true,\"type\":\"pie\"}]},\"layout\":{\"font\":{\"family\":\"Franklin Gothic\",\"size\":12}}},\"xaxis\":{\"anchor\":\"y\",\"domain\":[0.0,1.0],\"title\":{\"text\":\"Spending Score\"},\"showline\":true,\"zeroline\":false},\"yaxis\":{\"anchor\":\"x\",\"domain\":[0.0,1.0],\"title\":{\"text\":\"Income, $\"},\"ticksuffix\":\"k\",\"showline\":true},\"legend\":{\"title\":{\"text\":\"Cluster\"},\"tracegroupgap\":0},\"margin\":{\"t\":60},\"title\":{\"text\":\"K-Means Cluster Profiles,<br>Customer Spending vs. Income\"},\"width\":700},                        {\"responsive\": true}                    ).then(function(){\n",
       "                            \n",
       "var gd = document.getElementById('9c67fce1-4096-4e7a-9737-0c2106253769');\n",
       "var x = new MutationObserver(function (mutations, observer) {{\n",
       "        var display = window.getComputedStyle(gd).display;\n",
       "        if (!display || display === 'none') {{\n",
       "            console.log([gd, 'removed!']);\n",
       "            Plotly.purge(gd);\n",
       "            observer.disconnect();\n",
       "        }}\n",
       "}});\n",
       "\n",
       "// Listen for the removal of the full notebook cells\n",
       "var notebookContainer = gd.closest('#notebook-container');\n",
       "if (notebookContainer) {{\n",
       "    x.observe(notebookContainer, {childList: true});\n",
       "}}\n",
       "\n",
       "// Listen for the clearing of the current output cell\n",
       "var outputEl = gd.closest('.output');\n",
       "if (outputEl) {{\n",
       "    x.observe(outputEl, {childList: true});\n",
       "}}\n",
       "\n",
       "                        })                };                });            </script>        </div>"
      ]
     },
     "metadata": {},
     "output_type": "display_data"
    }
   ],
   "source": [
    "# K-Means with 5 clusters\n",
    "km = KMeans(n_clusters=5, random_state=21)\n",
    "km_pred = km.fit_predict(clust_df)\n",
    "plot_km=clust_df.copy()\n",
    "plot_km['K-Means Cluster'] = km_pred\n",
    "plot_km=plot_km.sort_values(by='K-Means Cluster')\n",
    "plot_km['K-Means Cluster'] = plot_km['K-Means Cluster'].astype(str)\n",
    "\n",
    "# Plot of clusters\n",
    "fig = px.scatter(plot_km, x=\"Spending Score\", y=\"Annual Income\", color=\"K-Means Cluster\", \n",
    "                 color_discrete_sequence=px.colors.qualitative.Prism)\n",
    "fig.update_traces(marker=dict(size=11, opacity=0.75, line=dict(width=1, color='#F7F7F7')))\n",
    "fig.update_layout(template=temp, title=\"K-Means Cluster Profiles,<br>Customer Spending vs. Income\", \n",
    "                  width=700, legend_title='Cluster',\n",
    "                  xaxis=dict(title='Spending Score', showline=True, zeroline=False), \n",
    "                  yaxis=dict(title='Income, $', ticksuffix='k', showline=True))\n",
    "fig.show()"
   ]
  },
  {
   "cell_type": "markdown",
   "id": "bb2318fe",
   "metadata": {
    "papermill": {
     "duration": 0.04613,
     "end_time": "2022-02-18T05:09:19.007841",
     "exception": false,
     "start_time": "2022-02-18T05:09:18.961711",
     "status": "completed"
    },
    "tags": []
   },
   "source": [
    "The K-Means model segments the data into distinct clusters based on customer's spending and income. Cluster 0 in the center of the graph consists of customers with average spending scores, between 35-61, and incomes between \\\\$40,000 and $71,000. The two clusters on the left, Clusters 1 and 3, both identify customers with lower spending scores that are below 40 and subdivides the groups according to their income. In contrast, Clusters 2 and 4 consist of customers with higher spending scores, above 61, and are further partitioned based on their income."
   ]
  },
  {
   "cell_type": "markdown",
   "id": "99a3dc0e",
   "metadata": {
    "papermill": {
     "duration": 0.046161,
     "end_time": "2022-02-18T05:09:19.100520",
     "exception": false,
     "start_time": "2022-02-18T05:09:19.054359",
     "status": "completed"
    },
    "tags": []
   },
   "source": [
    "# <div style=\"color:white;display:fill;border-radius:5px;background-color:#67A4A4;letter-spacing:0.1px;overflow:hidden\"><p style=\"padding:20px;color:white;overflow:hidden;margin:0;font-size:110%;text-align:center\">Hierarchical Clustering</p></div>\n",
    "The next clustering method I will explore is hierarchical clustering. Using an agglomerative approach, hierarchical clustering joins groups of observations together from the bottom up, with each observation beginning its own cluster. The model then joins pairs of observations that are most similar to each other based on their Euclidean distance and iteratively combines cluster pairs based on the distances between the groups until all observations have been merged."
   ]
  },
  {
   "cell_type": "code",
   "execution_count": 15,
   "id": "5827720e",
   "metadata": {
    "_kg_hide-input": true,
    "execution": {
     "iopub.execute_input": "2022-02-18T05:09:19.204539Z",
     "iopub.status.busy": "2022-02-18T05:09:19.203857Z",
     "iopub.status.idle": "2022-02-18T05:09:20.610957Z",
     "shell.execute_reply": "2022-02-18T05:09:20.611445Z",
     "shell.execute_reply.started": "2022-02-18T04:26:10.697238Z"
    },
    "papermill": {
     "duration": 1.463546,
     "end_time": "2022-02-18T05:09:20.611642",
     "exception": false,
     "start_time": "2022-02-18T05:09:19.148096",
     "status": "completed"
    },
    "tags": []
   },
   "outputs": [
    {
     "data": {
      "image/png": "[encoded data removed]",
      "text/plain": [
       "<Figure size 5600x2400 with 1 Axes>"
      ]
     },
     "metadata": {},
     "output_type": "display_data"
    }
   ],
   "source": [
    "sns.set(rc={'figure.dpi':400})\n",
    "sns.set_context('notebook')\n",
    "sns.set_style('ticks')\n",
    "\n",
    "Z = hierarchy.linkage(clust_df, method='complete', metric='euclidean')\n",
    "fig, ax = plt.subplots(figsize=(14,6))\n",
    "hierarchy.set_link_color_palette(['#5d69b1', '#52bca3', '#99c945'])\n",
    "den = hierarchy.dendrogram(Z, orientation='top', color_threshold=102,\n",
    "                           p=40, truncate_mode='lastp',\n",
    "                           show_leaf_counts=True, ax=ax,\n",
    "                           above_threshold_color='grey')\n",
    "#ax.axhline(101, color='grey', linestyle='--')\n",
    "ax.spines['right'].set_visible(False)\n",
    "ax.spines['top'].set_visible(False)\n",
    "ax.spines['bottom'].set_visible(False)\n",
    "ax.tick_params(axis=u'both', which=u'both',length=0)\n",
    "ax.set_xlabel('\\nNumber of Customers in Cluster Leaf Nodes')\n",
    "ax.set_ylabel('Cluster Distance')\n",
    "ax.set_title('\\nDendrogram of Hierarchical Clustering with Complete Linkage')\n",
    "fig.show()"
   ]
  },
  {
   "cell_type": "markdown",
   "id": "4e0306f3",
   "metadata": {
    "papermill": {
     "duration": 0.060923,
     "end_time": "2022-02-18T05:09:20.727217",
     "exception": false,
     "start_time": "2022-02-18T05:09:20.666294",
     "status": "completed"
    },
    "tags": []
   },
   "source": [
    "The dendrogram above shows the hierarchical clusters created using complete linkage, which joins pairs of clusters together that have the smallest maximum distance between their observations. The height at which the branches split indicates the distance between the clusters. Clusters that are more similar to each other are joined early on in the tree and become less and less similar as we move up the tree. To identify the number of clusters, we can make a horizontal cut across the dendrogram. For instance, if we were to cut the dendrogram at a height of 100, we would have about three clusters, with the majority of customers in the first cluster, colored purple. Let's look at the results of the hierarchical clustering based on customer's spending and income."
   ]
  },
  {
   "cell_type": "code",
   "execution_count": 16,
   "id": "d241811f",
   "metadata": {
    "_kg_hide-input": true,
    "execution": {
     "iopub.execute_input": "2022-02-18T05:09:20.858543Z",
     "iopub.status.busy": "2022-02-18T05:09:20.857420Z",
     "iopub.status.idle": "2022-02-18T05:09:20.926909Z",
     "shell.execute_reply": "2022-02-18T05:09:20.927354Z",
     "shell.execute_reply.started": "2022-02-18T02:54:46.446195Z"
    },
    "papermill": {
     "duration": 0.145797,
     "end_time": "2022-02-18T05:09:20.927537",
     "exception": false,
     "start_time": "2022-02-18T05:09:20.781740",
     "status": "completed"
    },
    "tags": []
   },
   "outputs": [
    {
     "data": {
      "application/vnd.plotly.v1+json": {
       "config": {
        "plotlyServerURL": "https://plot.ly"
       },
       "data": [
        {
         "hovertemplate": "Hierarchical Cluster=0<br>Spending Score=%{x}<br>Annual Income=%{y}<extra></extra>",
         "legendgroup": "0",
         "marker": {
          "color": "rgb(93, 105, 177)",
          "line": {
           "color": "#F7F7F7",
           "width": 1
          },
          "opacity": 0.75,
          "size": 11,
          "symbol": "circle"
         },
         "mode": "markers",
         "name": "0",
         "orientation": "v",
         "showlegend": true,
         "type": "scatter",
         "x": [
          39,
          49,
          41,
          55,
          46,
          60,
          55,
          58,
          46,
          57,
          44,
          41,
          55,
          51,
          40,
          42,
          48,
          53,
          54,
          47,
          56,
          49,
          42,
          55,
          47,
          59,
          48,
          50,
          59,
          52,
          51,
          42,
          47,
          40,
          34,
          29,
          58,
          40,
          56,
          57,
          43,
          59,
          43,
          50,
          48,
          46,
          52,
          42,
          52,
          48,
          43,
          46,
          50,
          42,
          56,
          55,
          59,
          48,
          41,
          42,
          50,
          54,
          59,
          49,
          55,
          31,
          61,
          32,
          82,
          14,
          73,
          5,
          73,
          35,
          98,
          29,
          66,
          35,
          87,
          79,
          77,
          15,
          99,
          14,
          72,
          94,
          6,
          76,
          40,
          77,
          52,
          6,
          81,
          13,
          4,
          3,
          4,
          56,
          73,
          46,
          51,
          46,
          50,
          41,
          60,
          54,
          60,
          52,
          42,
          42,
          47,
          45,
          65,
          55,
          17,
          81,
          26,
          75,
          73,
          35,
          92,
          36,
          61,
          28,
          92,
          14
         ],
         "xaxis": "x",
         "y": [
          15,
          60,
          59,
          59,
          58,
          58,
          57,
          57,
          54,
          54,
          54,
          54,
          54,
          54,
          60,
          54,
          54,
          54,
          54,
          54,
          50,
          50,
          49,
          49,
          48,
          48,
          48,
          48,
          48,
          54,
          48,
          60,
          60,
          76,
          72,
          70,
          69,
          67,
          67,
          67,
          67,
          65,
          65,
          65,
          65,
          64,
          60,
          64,
          63,
          63,
          63,
          63,
          63,
          62,
          62,
          62,
          62,
          62,
          62,
          61,
          60,
          63,
          47,
          61,
          46,
          29,
          28,
          28,
          28,
          28,
          25,
          25,
          24,
          24,
          23,
          23,
          21,
          21,
          29,
          20,
          20,
          20,
          19,
          19,
          19,
          18,
          18,
          17,
          17,
          16,
          47,
          16,
          15,
          20,
          30,
          19,
          33,
          46,
          30,
          46,
          46,
          44,
          44,
          43,
          43,
          43,
          42,
          42,
          40,
          40,
          40,
          43,
          39,
          40,
          34,
          33,
          37,
          37,
          34,
          38,
          38,
          39,
          39,
          39,
          33,
          33
         ],
         "yaxis": "y"
        },
        {
         "hovertemplate": "Hierarchical Cluster=1<br>Spending Score=%{x}<br>Annual Income=%{y}<extra></extra>",
         "legendgroup": "1",
         "marker": {
          "color": "rgb(82, 188, 163)",
          "line": {
           "color": "#F7F7F7",
           "width": 1
          },
          "opacity": 0.75,
          "size": 11,
          "symbol": "circle"
         },
         "mode": "markers",
         "name": "1",
         "orientation": "v",
         "showlegend": true,
         "type": "scatter",
         "x": [
          22,
          17,
          39,
          20,
          16,
          15,
          1,
          5,
          13,
          32,
          35,
          14,
          26,
          20,
          15,
          24,
          27,
          1,
          36,
          5,
          12,
          18,
          13,
          28,
          35,
          11,
          16,
          8,
          7,
          9,
          5,
          17,
          23,
          10,
          10
         ],
         "xaxis": "x",
         "y": [
          78,
          78,
          99,
          78,
          78,
          98,
          78,
          81,
          87,
          97,
          79,
          93,
          85,
          86,
          88,
          101,
          87,
          78,
          77,
          73,
          77,
          137,
          88,
          126,
          71,
          71,
          120,
          113,
          73,
          71,
          75,
          103,
          103,
          74,
          87
         ],
         "yaxis": "y"
        },
        {
         "hovertemplate": "Hierarchical Cluster=2<br>Spending Score=%{x}<br>Annual Income=%{y}<extra></extra>",
         "legendgroup": "2",
         "marker": {
          "color": "rgb(153, 201, 69)",
          "line": {
           "color": "#F7F7F7",
           "width": 1
          },
          "opacity": 0.75,
          "size": 11,
          "symbol": "circle"
         },
         "mode": "markers",
         "name": "2",
         "orientation": "v",
         "showlegend": true,
         "type": "scatter",
         "x": [
          90,
          91,
          79,
          69,
          69,
          97,
          74,
          85,
          86,
          86,
          68,
          88,
          75,
          75,
          91,
          77,
          95,
          75,
          71,
          88,
          73,
          72,
          93,
          87,
          97,
          74,
          90,
          88,
          76,
          89,
          78,
          73,
          83,
          93,
          75,
          95,
          63,
          92,
          83
         ],
         "xaxis": "x",
         "y": [
          93,
          113,
          120,
          103,
          88,
          99,
          126,
          103,
          88,
          97,
          101,
          98,
          71,
          87,
          69,
          70,
          71,
          71,
          72,
          73,
          73,
          74,
          75,
          76,
          77,
          77,
          78,
          78,
          78,
          78,
          78,
          78,
          79,
          81,
          85,
          86,
          87,
          87,
          137
         ],
         "yaxis": "y"
        }
       ],
       "layout": {
        "legend": {
         "title": {
          "text": "Cluster"
         },
         "tracegroupgap": 0
        },
        "margin": {
         "t": 60
        },
        "template": {
         "data": {
          "bar": [
           {
            "error_x": {
             "color": "#2a3f5f"
            },
            "error_y": {
             "color": "#2a3f5f"
            },
            "marker": {
             "line": {
              "color": "#E5ECF6",
              "width": 0.5
             },
             "pattern": {
              "fillmode": "overlay",
              "size": 10,
              "solidity": 0.2
             }
            },
            "type": "bar"
           }
          ],
          "barpolar": [
           {
            "marker": {
             "line": {
              "color": "#E5ECF6",
              "width": 0.5
             },
             "pattern": {
              "fillmode": "overlay",
              "size": 10,
              "solidity": 0.2
             }
            },
            "type": "barpolar"
           }
          ],
          "carpet": [
           {
            "aaxis": {
             "endlinecolor": "#2a3f5f",
             "gridcolor": "white",
             "linecolor": "white",
             "minorgridcolor": "white",
             "startlinecolor": "#2a3f5f"
            },
            "baxis": {
             "endlinecolor": "#2a3f5f",
             "gridcolor": "white",
             "linecolor": "white",
             "minorgridcolor": "white",
             "startlinecolor": "#2a3f5f"
            },
            "type": "carpet"
           }
          ],
          "choropleth": [
           {
            "colorbar": {
             "outlinewidth": 0,
             "ticks": ""
            },
            "type": "choropleth"
           }
          ],
          "contour": [
           {
            "colorbar": {
             "outlinewidth": 0,
             "ticks": ""
            },
            "colorscale": [
             [
              0,
              "#0d0887"
             ],
             [
              0.1111111111111111,
              "#46039f"
             ],
             [
              0.2222222222222222,
              "#7201a8"
             ],
             [
              0.3333333333333333,
              "#9c179e"
             ],
             [
              0.4444444444444444,
              "#bd3786"
             ],
             [
              0.5555555555555556,
              "#d8576b"
             ],
             [
              0.6666666666666666,
              "#ed7953"
             ],
             [
              0.7777777777777778,
              "#fb9f3a"
             ],
             [
              0.8888888888888888,
              "#fdca26"
             ],
             [
              1,
              "#f0f921"
             ]
            ],
            "type": "contour"
           }
          ],
          "contourcarpet": [
           {
            "colorbar": {
             "outlinewidth": 0,
             "ticks": ""
            },
            "type": "contourcarpet"
           }
          ],
          "heatmap": [
           {
            "colorbar": {
             "outlinewidth": 0,
             "ticks": ""
            },
            "colorscale": [
             [
              0,
              "#0d0887"
             ],
             [
              0.1111111111111111,
              "#46039f"
             ],
             [
              0.2222222222222222,
              "#7201a8"
             ],
             [
              0.3333333333333333,
              "#9c179e"
             ],
             [
              0.4444444444444444,
              "#bd3786"
             ],
             [
              0.5555555555555556,
              "#d8576b"
             ],
             [
              0.6666666666666666,
              "#ed7953"
             ],
             [
              0.7777777777777778,
              "#fb9f3a"
             ],
             [
              0.8888888888888888,
              "#fdca26"
             ],
             [
              1,
              "#f0f921"
             ]
            ],
            "type": "heatmap"
           }
          ],
          "heatmapgl": [
           {
            "colorbar": {
             "outlinewidth": 0,
             "ticks": ""
            },
            "colorscale": [
             [
              0,
              "#0d0887"
             ],
             [
              0.1111111111111111,
              "#46039f"
             ],
             [
              0.2222222222222222,
              "#7201a8"
             ],
             [
              0.3333333333333333,
              "#9c179e"
             ],
             [
              0.4444444444444444,
              "#bd3786"
             ],
             [
              0.5555555555555556,
              "#d8576b"
             ],
             [
              0.6666666666666666,
              "#ed7953"
             ],
             [
              0.7777777777777778,
              "#fb9f3a"
             ],
             [
              0.8888888888888888,
              "#fdca26"
             ],
             [
              1,
              "#f0f921"
             ]
            ],
            "type": "heatmapgl"
           }
          ],
          "histogram": [
           {
            "marker": {
             "pattern": {
              "fillmode": "overlay",
              "size": 10,
              "solidity": 0.2
             }
            },
            "type": "histogram"
           }
          ],
          "histogram2d": [
           {
            "colorbar": {
             "outlinewidth": 0,
             "ticks": ""
            },
            "colorscale": [
             [
              0,
              "#0d0887"
             ],
             [
              0.1111111111111111,
              "#46039f"
             ],
             [
              0.2222222222222222,
              "#7201a8"
             ],
             [
              0.3333333333333333,
              "#9c179e"
             ],
             [
              0.4444444444444444,
              "#bd3786"
             ],
             [
              0.5555555555555556,
              "#d8576b"
             ],
             [
              0.6666666666666666,
              "#ed7953"
             ],
             [
              0.7777777777777778,
              "#fb9f3a"
             ],
             [
              0.8888888888888888,
              "#fdca26"
             ],
             [
              1,
              "#f0f921"
             ]
            ],
            "type": "histogram2d"
           }
          ],
          "histogram2dcontour": [
           {
            "colorbar": {
             "outlinewidth": 0,
             "ticks": ""
            },
            "colorscale": [
             [
              0,
              "#0d0887"
             ],
             [
              0.1111111111111111,
              "#46039f"
             ],
             [
              0.2222222222222222,
              "#7201a8"
             ],
             [
              0.3333333333333333,
              "#9c179e"
             ],
             [
              0.4444444444444444,
              "#bd3786"
             ],
             [
              0.5555555555555556,
              "#d8576b"
             ],
             [
              0.6666666666666666,
              "#ed7953"
             ],
             [
              0.7777777777777778,
              "#fb9f3a"
             ],
             [
              0.8888888888888888,
              "#fdca26"
             ],
             [
              1,
              "#f0f921"
             ]
            ],
            "type": "histogram2dcontour"
           }
          ],
          "mesh3d": [
           {
            "colorbar": {
             "outlinewidth": 0,
             "ticks": ""
            },
            "type": "mesh3d"
           }
          ],
          "parcoords": [
           {
            "line": {
             "colorbar": {
              "outlinewidth": 0,
              "ticks": ""
             }
            },
            "type": "parcoords"
           }
          ],
          "pie": [
           {
            "automargin": true,
            "type": "pie"
           }
          ],
          "scatter": [
           {
            "fillpattern": {
             "fillmode": "overlay",
             "size": 10,
             "solidity": 0.2
            },
            "type": "scatter"
           }
          ],
          "scatter3d": [
           {
            "line": {
             "colorbar": {
              "outlinewidth": 0,
              "ticks": ""
             }
            },
            "marker": {
             "colorbar": {
              "outlinewidth": 0,
              "ticks": ""
             }
            },
            "type": "scatter3d"
           }
          ],
          "scattercarpet": [
           {
            "marker": {
             "colorbar": {
              "outlinewidth": 0,
              "ticks": ""
             }
            },
            "type": "scattercarpet"
           }
          ],
          "scattergeo": [
           {
            "marker": {
             "colorbar": {
              "outlinewidth": 0,
              "ticks": ""
             }
            },
            "type": "scattergeo"
           }
          ],
          "scattergl": [
           {
            "marker": {
             "colorbar": {
              "outlinewidth": 0,
              "ticks": ""
             }
            },
            "type": "scattergl"
           }
          ],
          "scattermapbox": [
           {
            "marker": {
             "colorbar": {
              "outlinewidth": 0,
              "ticks": ""
             }
            },
            "type": "scattermapbox"
           }
          ],
          "scatterpolar": [
           {
            "marker": {
             "colorbar": {
              "outlinewidth": 0,
              "ticks": ""
             }
            },
            "type": "scatterpolar"
           }
          ],
          "scatterpolargl": [
           {
            "marker": {
             "colorbar": {
              "outlinewidth": 0,
              "ticks": ""
             }
            },
            "type": "scatterpolargl"
           }
          ],
          "scatterternary": [
           {
            "marker": {
             "colorbar": {
              "outlinewidth": 0,
              "ticks": ""
             }
            },
            "type": "scatterternary"
           }
          ],
          "surface": [
           {
            "colorbar": {
             "outlinewidth": 0,
             "ticks": ""
            },
            "colorscale": [
             [
              0,
              "#0d0887"
             ],
             [
              0.1111111111111111,
              "#46039f"
             ],
             [
              0.2222222222222222,
              "#7201a8"
             ],
             [
              0.3333333333333333,
              "#9c179e"
             ],
             [
              0.4444444444444444,
              "#bd3786"
             ],
             [
              0.5555555555555556,
              "#d8576b"
             ],
             [
              0.6666666666666666,
              "#ed7953"
             ],
             [
              0.7777777777777778,
              "#fb9f3a"
             ],
             [
              0.8888888888888888,
              "#fdca26"
             ],
             [
              1,
              "#f0f921"
             ]
            ],
            "type": "surface"
           }
          ],
          "table": [
           {
            "cells": {
             "fill": {
              "color": "#EBF0F8"
             },
             "line": {
              "color": "white"
             }
            },
            "header": {
             "fill": {
              "color": "#C8D4E3"
             },
             "line": {
              "color": "white"
             }
            },
            "type": "table"
           }
          ]
         },
         "layout": {
          "font": {
           "family": "Franklin Gothic",
           "size": 12
          }
         }
        },
        "title": {
         "text": "Hierarchical Cluster Profiles,<br>Customer Spending vs. Income"
        },
        "width": 700,
        "xaxis": {
         "anchor": "y",
         "domain": [
          0,
          1
         ],
         "showline": true,
         "title": {
          "text": "Spending Score"
         },
         "zeroline": false
        },
        "yaxis": {
         "anchor": "x",
         "domain": [
          0,
          1
         ],
         "showline": true,
         "ticksuffix": "k",
         "title": {
          "text": "Income, $"
         }
        }
       }
      },
      "text/html": [
       "<div>                            <div id=\"f46063f9-0087-47e5-8794-d99288edb2dd\" class=\"plotly-graph-div\" style=\"height:525px; width:700px;\"></div>            <script type=\"text/javascript\">                require([\"plotly\"], function(Plotly) {                    window.PLOTLYENV=window.PLOTLYENV || {};                                    if (document.getElementById(\"f46063f9-0087-47e5-8794-d99288edb2dd\")) {                    Plotly.newPlot(                        \"f46063f9-0087-47e5-8794-d99288edb2dd\",                        [{\"hovertemplate\":\"Hierarchical Cluster=0<br>Spending Score=%{x}<br>Annual Income=%{y}<extra></extra>\",\"legendgroup\":\"0\",\"marker\":{\"color\":\"rgb(93, 105, 177)\",\"symbol\":\"circle\",\"line\":{\"color\":\"#F7F7F7\",\"width\":1},\"opacity\":0.75,\"size\":11},\"mode\":\"markers\",\"name\":\"0\",\"orientation\":\"v\",\"showlegend\":true,\"x\":[39,49,41,55,46,60,55,58,46,57,44,41,55,51,40,42,48,53,54,47,56,49,42,55,47,59,48,50,59,52,51,42,47,40,34,29,58,40,56,57,43,59,43,50,48,46,52,42,52,48,43,46,50,42,56,55,59,48,41,42,50,54,59,49,55,31,61,32,82,14,73,5,73,35,98,29,66,35,87,79,77,15,99,14,72,94,6,76,40,77,52,6,81,13,4,3,4,56,73,46,51,46,50,41,60,54,60,52,42,42,47,45,65,55,17,81,26,75,73,35,92,36,61,28,92,14],\"xaxis\":\"x\",\"y\":[15,60,59,59,58,58,57,57,54,54,54,54,54,54,60,54,54,54,54,54,50,50,49,49,48,48,48,48,48,54,48,60,60,76,72,70,69,67,67,67,67,65,65,65,65,64,60,64,63,63,63,63,63,62,62,62,62,62,62,61,60,63,47,61,46,29,28,28,28,28,25,25,24,24,23,23,21,21,29,20,20,20,19,19,19,18,18,17,17,16,47,16,15,20,30,19,33,46,30,46,46,44,44,43,43,43,42,42,40,40,40,43,39,40,34,33,37,37,34,38,38,39,39,39,33,33],\"yaxis\":\"y\",\"type\":\"scatter\"},{\"hovertemplate\":\"Hierarchical Cluster=1<br>Spending Score=%{x}<br>Annual Income=%{y}<extra></extra>\",\"legendgroup\":\"1\",\"marker\":{\"color\":\"rgb(82, 188, 163)\",\"symbol\":\"circle\",\"line\":{\"color\":\"#F7F7F7\",\"width\":1},\"opacity\":0.75,\"size\":11},\"mode\":\"markers\",\"name\":\"1\",\"orientation\":\"v\",\"showlegend\":true,\"x\":[22,17,39,20,16,15,1,5,13,32,35,14,26,20,15,24,27,1,36,5,12,18,13,28,35,11,16,8,7,9,5,17,23,10,10],\"xaxis\":\"x\",\"y\":[78,78,99,78,78,98,78,81,87,97,79,93,85,86,88,101,87,78,77,73,77,137,88,126,71,71,120,113,73,71,75,103,103,74,87],\"yaxis\":\"y\",\"type\":\"scatter\"},{\"hovertemplate\":\"Hierarchical Cluster=2<br>Spending Score=%{x}<br>Annual Income=%{y}<extra></extra>\",\"legendgroup\":\"2\",\"marker\":{\"color\":\"rgb(153, 201, 69)\",\"symbol\":\"circle\",\"line\":{\"color\":\"#F7F7F7\",\"width\":1},\"opacity\":0.75,\"size\":11},\"mode\":\"markers\",\"name\":\"2\",\"orientation\":\"v\",\"showlegend\":true,\"x\":[90,91,79,69,69,97,74,85,86,86,68,88,75,75,91,77,95,75,71,88,73,72,93,87,97,74,90,88,76,89,78,73,83,93,75,95,63,92,83],\"xaxis\":\"x\",\"y\":[93,113,120,103,88,99,126,103,88,97,101,98,71,87,69,70,71,71,72,73,73,74,75,76,77,77,78,78,78,78,78,78,79,81,85,86,87,87,137],\"yaxis\":\"y\",\"type\":\"scatter\"}],                        {\"template\":{\"data\":{\"histogram2dcontour\":[{\"type\":\"histogram2dcontour\",\"colorbar\":{\"outlinewidth\":0,\"ticks\":\"\"},\"colorscale\":[[0.0,\"#0d0887\"],[0.1111111111111111,\"#46039f\"],[0.2222222222222222,\"#7201a8\"],[0.3333333333333333,\"#9c179e\"],[0.4444444444444444,\"#bd3786\"],[0.5555555555555556,\"#d8576b\"],[0.6666666666666666,\"#ed7953\"],[0.7777777777777778,\"#fb9f3a\"],[0.8888888888888888,\"#fdca26\"],[1.0,\"#f0f921\"]]}],\"choropleth\":[{\"type\":\"choropleth\",\"colorbar\":{\"outlinewidth\":0,\"ticks\":\"\"}}],\"histogram2d\":[{\"type\":\"histogram2d\",\"colorbar\":{\"outlinewidth\":0,\"ticks\":\"\"},\"colorscale\":[[0.0,\"#0d0887\"],[0.1111111111111111,\"#46039f\"],[0.2222222222222222,\"#7201a8\"],[0.3333333333333333,\"#9c179e\"],[0.4444444444444444,\"#bd3786\"],[0.5555555555555556,\"#d8576b\"],[0.6666666666666666,\"#ed7953\"],[0.7777777777777778,\"#fb9f3a\"],[0.8888888888888888,\"#fdca26\"],[1.0,\"#f0f921\"]]}],\"heatmap\":[{\"type\":\"heatmap\",\"colorbar\":{\"outlinewidth\":0,\"ticks\":\"\"},\"colorscale\":[[0.0,\"#0d0887\"],[0.1111111111111111,\"#46039f\"],[0.2222222222222222,\"#7201a8\"],[0.3333333333333333,\"#9c179e\"],[0.4444444444444444,\"#bd3786\"],[0.5555555555555556,\"#d8576b\"],[0.6666666666666666,\"#ed7953\"],[0.7777777777777778,\"#fb9f3a\"],[0.8888888888888888,\"#fdca26\"],[1.0,\"#f0f921\"]]}],\"heatmapgl\":[{\"type\":\"heatmapgl\",\"colorbar\":{\"outlinewidth\":0,\"ticks\":\"\"},\"colorscale\":[[0.0,\"#0d0887\"],[0.1111111111111111,\"#46039f\"],[0.2222222222222222,\"#7201a8\"],[0.3333333333333333,\"#9c179e\"],[0.4444444444444444,\"#bd3786\"],[0.5555555555555556,\"#d8576b\"],[0.6666666666666666,\"#ed7953\"],[0.7777777777777778,\"#fb9f3a\"],[0.8888888888888888,\"#fdca26\"],[1.0,\"#f0f921\"]]}],\"contourcarpet\":[{\"type\":\"contourcarpet\",\"colorbar\":{\"outlinewidth\":0,\"ticks\":\"\"}}],\"contour\":[{\"type\":\"contour\",\"colorbar\":{\"outlinewidth\":0,\"ticks\":\"\"},\"colorscale\":[[0.0,\"#0d0887\"],[0.1111111111111111,\"#46039f\"],[0.2222222222222222,\"#7201a8\"],[0.3333333333333333,\"#9c179e\"],[0.4444444444444444,\"#bd3786\"],[0.5555555555555556,\"#d8576b\"],[0.6666666666666666,\"#ed7953\"],[0.7777777777777778,\"#fb9f3a\"],[0.8888888888888888,\"#fdca26\"],[1.0,\"#f0f921\"]]}],\"surface\":[{\"type\":\"surface\",\"colorbar\":{\"outlinewidth\":0,\"ticks\":\"\"},\"colorscale\":[[0.0,\"#0d0887\"],[0.1111111111111111,\"#46039f\"],[0.2222222222222222,\"#7201a8\"],[0.3333333333333333,\"#9c179e\"],[0.4444444444444444,\"#bd3786\"],[0.5555555555555556,\"#d8576b\"],[0.6666666666666666,\"#ed7953\"],[0.7777777777777778,\"#fb9f3a\"],[0.8888888888888888,\"#fdca26\"],[1.0,\"#f0f921\"]]}],\"mesh3d\":[{\"type\":\"mesh3d\",\"colorbar\":{\"outlinewidth\":0,\"ticks\":\"\"}}],\"scatter\":[{\"fillpattern\":{\"fillmode\":\"overlay\",\"size\":10,\"solidity\":0.2},\"type\":\"scatter\"}],\"parcoords\":[{\"type\":\"parcoords\",\"line\":{\"colorbar\":{\"outlinewidth\":0,\"ticks\":\"\"}}}],\"scatterpolargl\":[{\"type\":\"scatterpolargl\",\"marker\":{\"colorbar\":{\"outlinewidth\":0,\"ticks\":\"\"}}}],\"bar\":[{\"error_x\":{\"color\":\"#2a3f5f\"},\"error_y\":{\"color\":\"#2a3f5f\"},\"marker\":{\"line\":{\"color\":\"#E5ECF6\",\"width\":0.5},\"pattern\":{\"fillmode\":\"overlay\",\"size\":10,\"solidity\":0.2}},\"type\":\"bar\"}],\"scattergeo\":[{\"type\":\"scattergeo\",\"marker\":{\"colorbar\":{\"outlinewidth\":0,\"ticks\":\"\"}}}],\"scatterpolar\":[{\"type\":\"scatterpolar\",\"marker\":{\"colorbar\":{\"outlinewidth\":0,\"ticks\":\"\"}}}],\"histogram\":[{\"marker\":{\"pattern\":{\"fillmode\":\"overlay\",\"size\":10,\"solidity\":0.2}},\"type\":\"histogram\"}],\"scattergl\":[{\"type\":\"scattergl\",\"marker\":{\"colorbar\":{\"outlinewidth\":0,\"ticks\":\"\"}}}],\"scatter3d\":[{\"type\":\"scatter3d\",\"line\":{\"colorbar\":{\"outlinewidth\":0,\"ticks\":\"\"}},\"marker\":{\"colorbar\":{\"outlinewidth\":0,\"ticks\":\"\"}}}],\"scattermapbox\":[{\"type\":\"scattermapbox\",\"marker\":{\"colorbar\":{\"outlinewidth\":0,\"ticks\":\"\"}}}],\"scatterternary\":[{\"type\":\"scatterternary\",\"marker\":{\"colorbar\":{\"outlinewidth\":0,\"ticks\":\"\"}}}],\"scattercarpet\":[{\"type\":\"scattercarpet\",\"marker\":{\"colorbar\":{\"outlinewidth\":0,\"ticks\":\"\"}}}],\"carpet\":[{\"aaxis\":{\"endlinecolor\":\"#2a3f5f\",\"gridcolor\":\"white\",\"linecolor\":\"white\",\"minorgridcolor\":\"white\",\"startlinecolor\":\"#2a3f5f\"},\"baxis\":{\"endlinecolor\":\"#2a3f5f\",\"gridcolor\":\"white\",\"linecolor\":\"white\",\"minorgridcolor\":\"white\",\"startlinecolor\":\"#2a3f5f\"},\"type\":\"carpet\"}],\"table\":[{\"cells\":{\"fill\":{\"color\":\"#EBF0F8\"},\"line\":{\"color\":\"white\"}},\"header\":{\"fill\":{\"color\":\"#C8D4E3\"},\"line\":{\"color\":\"white\"}},\"type\":\"table\"}],\"barpolar\":[{\"marker\":{\"line\":{\"color\":\"#E5ECF6\",\"width\":0.5},\"pattern\":{\"fillmode\":\"overlay\",\"size\":10,\"solidity\":0.2}},\"type\":\"barpolar\"}],\"pie\":[{\"automargin\":true,\"type\":\"pie\"}]},\"layout\":{\"font\":{\"family\":\"Franklin Gothic\",\"size\":12}}},\"xaxis\":{\"anchor\":\"y\",\"domain\":[0.0,1.0],\"title\":{\"text\":\"Spending Score\"},\"showline\":true,\"zeroline\":false},\"yaxis\":{\"anchor\":\"x\",\"domain\":[0.0,1.0],\"title\":{\"text\":\"Income, $\"},\"ticksuffix\":\"k\",\"showline\":true},\"legend\":{\"title\":{\"text\":\"Cluster\"},\"tracegroupgap\":0},\"margin\":{\"t\":60},\"title\":{\"text\":\"Hierarchical Cluster Profiles,<br>Customer Spending vs. Income\"},\"width\":700},                        {\"responsive\": true}                    ).then(function(){\n",
       "                            \n",
       "var gd = document.getElementById('f46063f9-0087-47e5-8794-d99288edb2dd');\n",
       "var x = new MutationObserver(function (mutations, observer) {{\n",
       "        var display = window.getComputedStyle(gd).display;\n",
       "        if (!display || display === 'none') {{\n",
       "            console.log([gd, 'removed!']);\n",
       "            Plotly.purge(gd);\n",
       "            observer.disconnect();\n",
       "        }}\n",
       "}});\n",
       "\n",
       "// Listen for the removal of the full notebook cells\n",
       "var notebookContainer = gd.closest('#notebook-container');\n",
       "if (notebookContainer) {{\n",
       "    x.observe(notebookContainer, {childList: true});\n",
       "}}\n",
       "\n",
       "// Listen for the clearing of the current output cell\n",
       "var outputEl = gd.closest('.output');\n",
       "if (outputEl) {{\n",
       "    x.observe(outputEl, {childList: true});\n",
       "}}\n",
       "\n",
       "                        })                };                });            </script>        </div>"
      ]
     },
     "metadata": {},
     "output_type": "display_data"
    }
   ],
   "source": [
    "# Hierarchical clustering\n",
    "hc = AgglomerativeClustering(3, affinity='euclidean', linkage='complete', compute_full_tree=False)\n",
    "hc_pred = hc.fit_predict(clust_df)\n",
    "plot_hc=clust_df.copy()\n",
    "plot_hc[\"Hierarchical Cluster\"]=hc_pred\n",
    "plot_hc=plot_hc.sort_values(by='Hierarchical Cluster')\n",
    "plot_hc['Hierarchical Cluster'] = plot_hc['Hierarchical Cluster'].astype(str)\n",
    "\n",
    "# Plot of clusters                                               \n",
    "fig = px.scatter(plot_hc, x=\"Spending Score\", y=\"Annual Income\", color=\"Hierarchical Cluster\",\n",
    "                 color_discrete_sequence=px.colors.qualitative.Vivid[1:])\n",
    "fig.update_traces(marker=dict(size=11, opacity=0.75, line=dict(width=1, color='#F7F7F7')))\n",
    "fig.update_layout(template=temp, title=\"Hierarchical Cluster Profiles,<br>Customer Spending vs. Income\", \n",
    "                  width=700, legend_title = 'Cluster',\n",
    "                  xaxis=dict(title='Spending Score',showline=True, zeroline=False), \n",
    "                  yaxis=dict(title='Income, $',ticksuffix='k',showline=True))\n",
    "fig.show()"
   ]
  },
  {
   "cell_type": "markdown",
   "id": "7a4fe0fa",
   "metadata": {
    "papermill": {
     "duration": 0.058112,
     "end_time": "2022-02-18T05:09:21.044182",
     "exception": false,
     "start_time": "2022-02-18T05:09:20.986070",
     "status": "completed"
    },
    "tags": []
   },
   "source": [
    "Hierarchical clustering tends to put more weight on customer's income in creating the clusters. The largest cluster, Cluster 0, consists of customers who have an annual income of around \\\\$70,000 or less and spending scores ranging from 3 to 99, while customers in Clusters 1 and 2 have incomes above $70,000 and are further subdivided into smaller segments based on their spending score."
   ]
  },
  {
   "cell_type": "markdown",
   "id": "de26bb7f",
   "metadata": {
    "papermill": {
     "duration": 0.056785,
     "end_time": "2022-02-18T05:09:21.157816",
     "exception": false,
     "start_time": "2022-02-18T05:09:21.101031",
     "status": "completed"
    },
    "tags": []
   },
   "source": [
    "# <div style=\"color:white;display:fill;border-radius:5px;background-color:#67A4A4;letter-spacing:0.1px;overflow:hidden\"><p style=\"padding:20px;color:white;overflow:hidden;margin:0;font-size:110%;text-align:center\">DBSCAN</p></div>\n",
    "The next clustering technique I will try is Density-Based Spatial Clustering of Applications with Noise (DBSCAN). DBSCAN segments the data based on the density of observations, where areas of high density are separated from areas of low density. The model can also identify uniquely-shaped clusters and detect outliers within the data, although it is sensitive to varying densities of observations."
   ]
  },
  {
   "cell_type": "code",
   "execution_count": 17,
   "id": "e4c1fab8",
   "metadata": {
    "_kg_hide-input": true,
    "execution": {
     "iopub.execute_input": "2022-02-18T05:09:21.281390Z",
     "iopub.status.busy": "2022-02-18T05:09:21.280484Z",
     "iopub.status.idle": "2022-02-18T05:09:21.369585Z",
     "shell.execute_reply": "2022-02-18T05:09:21.370064Z",
     "shell.execute_reply.started": "2022-02-18T02:54:46.545334Z"
    },
    "papermill": {
     "duration": 0.153426,
     "end_time": "2022-02-18T05:09:21.370237",
     "exception": false,
     "start_time": "2022-02-18T05:09:21.216811",
     "status": "completed"
    },
    "tags": []
   },
   "outputs": [
    {
     "data": {
      "application/vnd.plotly.v1+json": {
       "config": {
        "plotlyServerURL": "https://plot.ly"
       },
       "data": [
        {
         "hovertemplate": "DB Cluster=Outliers<br>Spending Score=%{x}<br>Annual Income=%{y}<extra></extra>",
         "legendgroup": "Outliers",
         "marker": {
          "color": "#E45756",
          "line": {
           "color": "#F7F7F7",
           "width": 1
          },
          "opacity": 0.85,
          "size": 11,
          "symbol": "circle"
         },
         "mode": "markers",
         "name": "Outliers",
         "orientation": "v",
         "showlegend": true,
         "type": "scatter",
         "x": [
          39,
          14,
          17,
          26,
          18,
          5,
          10,
          5,
          12,
          1,
          1,
          35,
          5,
          14,
          32,
          39,
          24,
          68,
          17,
          85,
          23,
          69,
          8,
          91,
          16,
          79,
          28,
          74,
          4,
          4,
          83,
          13,
          14,
          3,
          94,
          6,
          35,
          40,
          99,
          29,
          6,
          14,
          35,
          32,
          5,
          31,
          98,
          15
         ],
         "xaxis": "x",
         "y": [
          15,
          33,
          34,
          37,
          137,
          73,
          74,
          75,
          77,
          78,
          78,
          79,
          81,
          93,
          97,
          99,
          101,
          101,
          103,
          103,
          103,
          103,
          113,
          113,
          120,
          120,
          126,
          126,
          33,
          30,
          137,
          20,
          19,
          19,
          18,
          18,
          21,
          17,
          19,
          23,
          16,
          28,
          24,
          28,
          25,
          29,
          23,
          20
         ],
         "yaxis": "y"
        },
        {
         "hovertemplate": "DB Cluster=0<br>Spending Score=%{x}<br>Annual Income=%{y}<extra></extra>",
         "legendgroup": "0",
         "marker": {
          "color": "#72B7B2",
          "line": {
           "color": "#F7F7F7",
           "width": 1
          },
          "opacity": 0.85,
          "size": 11,
          "symbol": "circle"
         },
         "mode": "markers",
         "name": "0",
         "orientation": "v",
         "showlegend": true,
         "type": "scatter",
         "x": [
          66,
          73,
          79,
          73,
          87,
          77,
          73,
          92,
          76,
          65,
          77,
          92,
          81,
          75,
          82,
          73,
          81,
          61,
          72
         ],
         "xaxis": "x",
         "y": [
          21,
          24,
          20,
          25,
          29,
          20,
          30,
          33,
          17,
          39,
          16,
          38,
          15,
          37,
          28,
          34,
          33,
          28,
          19
         ],
         "yaxis": "y"
        },
        {
         "hovertemplate": "DB Cluster=1<br>Spending Score=%{x}<br>Annual Income=%{y}<extra></extra>",
         "legendgroup": "1",
         "marker": {
          "color": "#54A24B",
          "line": {
           "color": "#F7F7F7",
           "width": 1
          },
          "opacity": 0.85,
          "size": 11,
          "symbol": "circle"
         },
         "mode": "markers",
         "name": "1",
         "orientation": "v",
         "showlegend": true,
         "type": "scatter",
         "x": [
          48,
          54,
          43,
          52,
          46,
          48,
          42,
          56,
          55,
          59,
          41,
          50,
          42,
          40,
          48,
          43,
          59,
          43,
          57,
          56,
          40,
          58,
          29,
          35,
          34,
          42,
          36,
          46,
          50,
          50,
          52,
          50,
          59,
          51,
          59,
          52,
          55,
          47,
          56,
          46,
          51,
          46,
          50,
          48,
          41,
          60,
          54,
          60,
          52,
          42,
          42,
          47,
          55,
          28,
          61,
          36,
          35,
          45,
          59,
          49,
          57,
          48,
          51,
          55,
          52,
          54,
          41,
          47,
          42,
          56,
          44,
          49,
          42,
          53,
          55,
          58,
          55,
          60,
          46,
          55,
          47,
          41,
          49,
          40,
          42,
          46
         ],
         "xaxis": "x",
         "y": [
          63,
          63,
          63,
          63,
          63,
          62,
          62,
          62,
          62,
          62,
          62,
          63,
          64,
          76,
          65,
          65,
          65,
          67,
          67,
          67,
          67,
          69,
          70,
          71,
          72,
          61,
          77,
          64,
          60,
          65,
          60,
          48,
          48,
          48,
          47,
          47,
          46,
          60,
          46,
          46,
          46,
          44,
          44,
          48,
          43,
          43,
          43,
          42,
          42,
          40,
          40,
          40,
          40,
          39,
          39,
          39,
          38,
          43,
          48,
          61,
          54,
          54,
          54,
          54,
          54,
          54,
          54,
          54,
          54,
          50,
          54,
          50,
          49,
          54,
          49,
          57,
          57,
          58,
          58,
          59,
          48,
          59,
          60,
          60,
          60,
          54
         ],
         "yaxis": "y"
        },
        {
         "hovertemplate": "DB Cluster=2<br>Spending Score=%{x}<br>Annual Income=%{y}<extra></extra>",
         "legendgroup": "2",
         "marker": {
          "color": "#EECA3B",
          "line": {
           "color": "#F7F7F7",
           "width": 1
          },
          "opacity": 0.85,
          "size": 11,
          "symbol": "circle"
         },
         "mode": "markers",
         "name": "2",
         "orientation": "v",
         "showlegend": true,
         "type": "scatter",
         "x": [
          92,
          63,
          75,
          95,
          97,
          69,
          90,
          86,
          88,
          95,
          86,
          75,
          93,
          91,
          87,
          97,
          74,
          90,
          73,
          88,
          88,
          76,
          93,
          72,
          89,
          75,
          78,
          73,
          75,
          83,
          77,
          71
         ],
         "xaxis": "x",
         "y": [
          87,
          87,
          87,
          71,
          99,
          88,
          93,
          97,
          98,
          86,
          88,
          85,
          81,
          69,
          76,
          77,
          77,
          78,
          73,
          78,
          73,
          78,
          75,
          74,
          78,
          71,
          78,
          78,
          71,
          79,
          70,
          72
         ],
         "yaxis": "y"
        },
        {
         "hovertemplate": "DB Cluster=3<br>Spending Score=%{x}<br>Annual Income=%{y}<extra></extra>",
         "legendgroup": "3",
         "marker": {
          "color": "#B279A2",
          "line": {
           "color": "#F7F7F7",
           "width": 1
          },
          "opacity": 0.85,
          "size": 11,
          "symbol": "circle"
         },
         "mode": "markers",
         "name": "3",
         "orientation": "v",
         "showlegend": true,
         "type": "scatter",
         "x": [
          9,
          7,
          11,
          20,
          15,
          17,
          20,
          16,
          15,
          13,
          10,
          13,
          27,
          26,
          22
         ],
         "xaxis": "x",
         "y": [
          71,
          73,
          71,
          86,
          98,
          78,
          78,
          78,
          88,
          88,
          87,
          87,
          87,
          85,
          78
         ],
         "yaxis": "y"
        }
       ],
       "layout": {
        "legend": {
         "title": {
          "text": "Cluster"
         },
         "tracegroupgap": 0
        },
        "margin": {
         "t": 60
        },
        "template": {
         "data": {
          "bar": [
           {
            "error_x": {
             "color": "#2a3f5f"
            },
            "error_y": {
             "color": "#2a3f5f"
            },
            "marker": {
             "line": {
              "color": "#E5ECF6",
              "width": 0.5
             },
             "pattern": {
              "fillmode": "overlay",
              "size": 10,
              "solidity": 0.2
             }
            },
            "type": "bar"
           }
          ],
          "barpolar": [
           {
            "marker": {
             "line": {
              "color": "#E5ECF6",
              "width": 0.5
             },
             "pattern": {
              "fillmode": "overlay",
              "size": 10,
              "solidity": 0.2
             }
            },
            "type": "barpolar"
           }
          ],
          "carpet": [
           {
            "aaxis": {
             "endlinecolor": "#2a3f5f",
             "gridcolor": "white",
             "linecolor": "white",
             "minorgridcolor": "white",
             "startlinecolor": "#2a3f5f"
            },
            "baxis": {
             "endlinecolor": "#2a3f5f",
             "gridcolor": "white",
             "linecolor": "white",
             "minorgridcolor": "white",
             "startlinecolor": "#2a3f5f"
            },
            "type": "carpet"
           }
          ],
          "choropleth": [
           {
            "colorbar": {
             "outlinewidth": 0,
             "ticks": ""
            },
            "type": "choropleth"
           }
          ],
          "contour": [
           {
            "colorbar": {
             "outlinewidth": 0,
             "ticks": ""
            },
            "colorscale": [
             [
              0,
              "#0d0887"
             ],
             [
              0.1111111111111111,
              "#46039f"
             ],
             [
              0.2222222222222222,
              "#7201a8"
             ],
             [
              0.3333333333333333,
              "#9c179e"
             ],
             [
              0.4444444444444444,
              "#bd3786"
             ],
             [
              0.5555555555555556,
              "#d8576b"
             ],
             [
              0.6666666666666666,
              "#ed7953"
             ],
             [
              0.7777777777777778,
              "#fb9f3a"
             ],
             [
              0.8888888888888888,
              "#fdca26"
             ],
             [
              1,
              "#f0f921"
             ]
            ],
            "type": "contour"
           }
          ],
          "contourcarpet": [
           {
            "colorbar": {
             "outlinewidth": 0,
             "ticks": ""
            },
            "type": "contourcarpet"
           }
          ],
          "heatmap": [
           {
            "colorbar": {
             "outlinewidth": 0,
             "ticks": ""
            },
            "colorscale": [
             [
              0,
              "#0d0887"
             ],
             [
              0.1111111111111111,
              "#46039f"
             ],
             [
              0.2222222222222222,
              "#7201a8"
             ],
             [
              0.3333333333333333,
              "#9c179e"
             ],
             [
              0.4444444444444444,
              "#bd3786"
             ],
             [
              0.5555555555555556,
              "#d8576b"
             ],
             [
              0.6666666666666666,
              "#ed7953"
             ],
             [
              0.7777777777777778,
              "#fb9f3a"
             ],
             [
              0.8888888888888888,
              "#fdca26"
             ],
             [
              1,
              "#f0f921"
             ]
            ],
            "type": "heatmap"
           }
          ],
          "heatmapgl": [
           {
            "colorbar": {
             "outlinewidth": 0,
             "ticks": ""
            },
            "colorscale": [
             [
              0,
              "#0d0887"
             ],
             [
              0.1111111111111111,
              "#46039f"
             ],
             [
              0.2222222222222222,
              "#7201a8"
             ],
             [
              0.3333333333333333,
              "#9c179e"
             ],
             [
              0.4444444444444444,
              "#bd3786"
             ],
             [
              0.5555555555555556,
              "#d8576b"
             ],
             [
              0.6666666666666666,
              "#ed7953"
             ],
             [
              0.7777777777777778,
              "#fb9f3a"
             ],
             [
              0.8888888888888888,
              "#fdca26"
             ],
             [
              1,
              "#f0f921"
             ]
            ],
            "type": "heatmapgl"
           }
          ],
          "histogram": [
           {
            "marker": {
             "pattern": {
              "fillmode": "overlay",
              "size": 10,
              "solidity": 0.2
             }
            },
            "type": "histogram"
           }
          ],
          "histogram2d": [
           {
            "colorbar": {
             "outlinewidth": 0,
             "ticks": ""
            },
            "colorscale": [
             [
              0,
              "#0d0887"
             ],
             [
              0.1111111111111111,
              "#46039f"
             ],
             [
              0.2222222222222222,
              "#7201a8"
             ],
             [
              0.3333333333333333,
              "#9c179e"
             ],
             [
              0.4444444444444444,
              "#bd3786"
             ],
             [
              0.5555555555555556,
              "#d8576b"
             ],
             [
              0.6666666666666666,
              "#ed7953"
             ],
             [
              0.7777777777777778,
              "#fb9f3a"
             ],
             [
              0.8888888888888888,
              "#fdca26"
             ],
             [
              1,
              "#f0f921"
             ]
            ],
            "type": "histogram2d"
           }
          ],
          "histogram2dcontour": [
           {
            "colorbar": {
             "outlinewidth": 0,
             "ticks": ""
            },
            "colorscale": [
             [
              0,
              "#0d0887"
             ],
             [
              0.1111111111111111,
              "#46039f"
             ],
             [
              0.2222222222222222,
              "#7201a8"
             ],
             [
              0.3333333333333333,
              "#9c179e"
             ],
             [
              0.4444444444444444,
              "#bd3786"
             ],
             [
              0.5555555555555556,
              "#d8576b"
             ],
             [
              0.6666666666666666,
              "#ed7953"
             ],
             [
              0.7777777777777778,
              "#fb9f3a"
             ],
             [
              0.8888888888888888,
              "#fdca26"
             ],
             [
              1,
              "#f0f921"
             ]
            ],
            "type": "histogram2dcontour"
           }
          ],
          "mesh3d": [
           {
            "colorbar": {
             "outlinewidth": 0,
             "ticks": ""
            },
            "type": "mesh3d"
           }
          ],
          "parcoords": [
           {
            "line": {
             "colorbar": {
              "outlinewidth": 0,
              "ticks": ""
             }
            },
            "type": "parcoords"
           }
          ],
          "pie": [
           {
            "automargin": true,
            "type": "pie"
           }
          ],
          "scatter": [
           {
            "fillpattern": {
             "fillmode": "overlay",
             "size": 10,
             "solidity": 0.2
            },
            "type": "scatter"
           }
          ],
          "scatter3d": [
           {
            "line": {
             "colorbar": {
              "outlinewidth": 0,
              "ticks": ""
             }
            },
            "marker": {
             "colorbar": {
              "outlinewidth": 0,
              "ticks": ""
             }
            },
            "type": "scatter3d"
           }
          ],
          "scattercarpet": [
           {
            "marker": {
             "colorbar": {
              "outlinewidth": 0,
              "ticks": ""
             }
            },
            "type": "scattercarpet"
           }
          ],
          "scattergeo": [
           {
            "marker": {
             "colorbar": {
              "outlinewidth": 0,
              "ticks": ""
             }
            },
            "type": "scattergeo"
           }
          ],
          "scattergl": [
           {
            "marker": {
             "colorbar": {
              "outlinewidth": 0,
              "ticks": ""
             }
            },
            "type": "scattergl"
           }
          ],
          "scattermapbox": [
           {
            "marker": {
             "colorbar": {
              "outlinewidth": 0,
              "ticks": ""
             }
            },
            "type": "scattermapbox"
           }
          ],
          "scatterpolar": [
           {
            "marker": {
             "colorbar": {
              "outlinewidth": 0,
              "ticks": ""
             }
            },
            "type": "scatterpolar"
           }
          ],
          "scatterpolargl": [
           {
            "marker": {
             "colorbar": {
              "outlinewidth": 0,
              "ticks": ""
             }
            },
            "type": "scatterpolargl"
           }
          ],
          "scatterternary": [
           {
            "marker": {
             "colorbar": {
              "outlinewidth": 0,
              "ticks": ""
             }
            },
            "type": "scatterternary"
           }
          ],
          "surface": [
           {
            "colorbar": {
             "outlinewidth": 0,
             "ticks": ""
            },
            "colorscale": [
             [
              0,
              "#0d0887"
             ],
             [
              0.1111111111111111,
              "#46039f"
             ],
             [
              0.2222222222222222,
              "#7201a8"
             ],
             [
              0.3333333333333333,
              "#9c179e"
             ],
             [
              0.4444444444444444,
              "#bd3786"
             ],
             [
              0.5555555555555556,
              "#d8576b"
             ],
             [
              0.6666666666666666,
              "#ed7953"
             ],
             [
              0.7777777777777778,
              "#fb9f3a"
             ],
             [
              0.8888888888888888,
              "#fdca26"
             ],
             [
              1,
              "#f0f921"
             ]
            ],
            "type": "surface"
           }
          ],
          "table": [
           {
            "cells": {
             "fill": {
              "color": "#EBF0F8"
             },
             "line": {
              "color": "white"
             }
            },
            "header": {
             "fill": {
              "color": "#C8D4E3"
             },
             "line": {
              "color": "white"
             }
            },
            "type": "table"
           }
          ]
         },
         "layout": {
          "font": {
           "family": "Franklin Gothic",
           "size": 12
          }
         }
        },
        "title": {
         "text": "DBSCAN Cluster Profiles,<br>Customer Spending vs. Income"
        },
        "width": 700,
        "xaxis": {
         "anchor": "y",
         "domain": [
          0,
          1
         ],
         "showline": true,
         "title": {
          "text": "Spending Score"
         },
         "zeroline": false
        },
        "yaxis": {
         "anchor": "x",
         "domain": [
          0,
          1
         ],
         "showline": true,
         "ticksuffix": "k",
         "title": {
          "text": "Income, $"
         }
        }
       }
      },
      "text/html": [
       "<div>                            <div id=\"75645b09-5267-4f4c-8418-be9adc2052f3\" class=\"plotly-graph-div\" style=\"height:525px; width:700px;\"></div>            <script type=\"text/javascript\">                require([\"plotly\"], function(Plotly) {                    window.PLOTLYENV=window.PLOTLYENV || {};                                    if (document.getElementById(\"75645b09-5267-4f4c-8418-be9adc2052f3\")) {                    Plotly.newPlot(                        \"75645b09-5267-4f4c-8418-be9adc2052f3\",                        [{\"hovertemplate\":\"DB Cluster=Outliers<br>Spending Score=%{x}<br>Annual Income=%{y}<extra></extra>\",\"legendgroup\":\"Outliers\",\"marker\":{\"color\":\"#E45756\",\"symbol\":\"circle\",\"line\":{\"color\":\"#F7F7F7\",\"width\":1},\"opacity\":0.85,\"size\":11},\"mode\":\"markers\",\"name\":\"Outliers\",\"orientation\":\"v\",\"showlegend\":true,\"x\":[39,14,17,26,18,5,10,5,12,1,1,35,5,14,32,39,24,68,17,85,23,69,8,91,16,79,28,74,4,4,83,13,14,3,94,6,35,40,99,29,6,14,35,32,5,31,98,15],\"xaxis\":\"x\",\"y\":[15,33,34,37,137,73,74,75,77,78,78,79,81,93,97,99,101,101,103,103,103,103,113,113,120,120,126,126,33,30,137,20,19,19,18,18,21,17,19,23,16,28,24,28,25,29,23,20],\"yaxis\":\"y\",\"type\":\"scatter\"},{\"hovertemplate\":\"DB Cluster=0<br>Spending Score=%{x}<br>Annual Income=%{y}<extra></extra>\",\"legendgroup\":\"0\",\"marker\":{\"color\":\"#72B7B2\",\"symbol\":\"circle\",\"line\":{\"color\":\"#F7F7F7\",\"width\":1},\"opacity\":0.85,\"size\":11},\"mode\":\"markers\",\"name\":\"0\",\"orientation\":\"v\",\"showlegend\":true,\"x\":[66,73,79,73,87,77,73,92,76,65,77,92,81,75,82,73,81,61,72],\"xaxis\":\"x\",\"y\":[21,24,20,25,29,20,30,33,17,39,16,38,15,37,28,34,33,28,19],\"yaxis\":\"y\",\"type\":\"scatter\"},{\"hovertemplate\":\"DB Cluster=1<br>Spending Score=%{x}<br>Annual Income=%{y}<extra></extra>\",\"legendgroup\":\"1\",\"marker\":{\"color\":\"#54A24B\",\"symbol\":\"circle\",\"line\":{\"color\":\"#F7F7F7\",\"width\":1},\"opacity\":0.85,\"size\":11},\"mode\":\"markers\",\"name\":\"1\",\"orientation\":\"v\",\"showlegend\":true,\"x\":[48,54,43,52,46,48,42,56,55,59,41,50,42,40,48,43,59,43,57,56,40,58,29,35,34,42,36,46,50,50,52,50,59,51,59,52,55,47,56,46,51,46,50,48,41,60,54,60,52,42,42,47,55,28,61,36,35,45,59,49,57,48,51,55,52,54,41,47,42,56,44,49,42,53,55,58,55,60,46,55,47,41,49,40,42,46],\"xaxis\":\"x\",\"y\":[63,63,63,63,63,62,62,62,62,62,62,63,64,76,65,65,65,67,67,67,67,69,70,71,72,61,77,64,60,65,60,48,48,48,47,47,46,60,46,46,46,44,44,48,43,43,43,42,42,40,40,40,40,39,39,39,38,43,48,61,54,54,54,54,54,54,54,54,54,50,54,50,49,54,49,57,57,58,58,59,48,59,60,60,60,54],\"yaxis\":\"y\",\"type\":\"scatter\"},{\"hovertemplate\":\"DB Cluster=2<br>Spending Score=%{x}<br>Annual Income=%{y}<extra></extra>\",\"legendgroup\":\"2\",\"marker\":{\"color\":\"#EECA3B\",\"symbol\":\"circle\",\"line\":{\"color\":\"#F7F7F7\",\"width\":1},\"opacity\":0.85,\"size\":11},\"mode\":\"markers\",\"name\":\"2\",\"orientation\":\"v\",\"showlegend\":true,\"x\":[92,63,75,95,97,69,90,86,88,95,86,75,93,91,87,97,74,90,73,88,88,76,93,72,89,75,78,73,75,83,77,71],\"xaxis\":\"x\",\"y\":[87,87,87,71,99,88,93,97,98,86,88,85,81,69,76,77,77,78,73,78,73,78,75,74,78,71,78,78,71,79,70,72],\"yaxis\":\"y\",\"type\":\"scatter\"},{\"hovertemplate\":\"DB Cluster=3<br>Spending Score=%{x}<br>Annual Income=%{y}<extra></extra>\",\"legendgroup\":\"3\",\"marker\":{\"color\":\"#B279A2\",\"symbol\":\"circle\",\"line\":{\"color\":\"#F7F7F7\",\"width\":1},\"opacity\":0.85,\"size\":11},\"mode\":\"markers\",\"name\":\"3\",\"orientation\":\"v\",\"showlegend\":true,\"x\":[9,7,11,20,15,17,20,16,15,13,10,13,27,26,22],\"xaxis\":\"x\",\"y\":[71,73,71,86,98,78,78,78,88,88,87,87,87,85,78],\"yaxis\":\"y\",\"type\":\"scatter\"}],                        {\"template\":{\"data\":{\"histogram2dcontour\":[{\"type\":\"histogram2dcontour\",\"colorbar\":{\"outlinewidth\":0,\"ticks\":\"\"},\"colorscale\":[[0.0,\"#0d0887\"],[0.1111111111111111,\"#46039f\"],[0.2222222222222222,\"#7201a8\"],[0.3333333333333333,\"#9c179e\"],[0.4444444444444444,\"#bd3786\"],[0.5555555555555556,\"#d8576b\"],[0.6666666666666666,\"#ed7953\"],[0.7777777777777778,\"#fb9f3a\"],[0.8888888888888888,\"#fdca26\"],[1.0,\"#f0f921\"]]}],\"choropleth\":[{\"type\":\"choropleth\",\"colorbar\":{\"outlinewidth\":0,\"ticks\":\"\"}}],\"histogram2d\":[{\"type\":\"histogram2d\",\"colorbar\":{\"outlinewidth\":0,\"ticks\":\"\"},\"colorscale\":[[0.0,\"#0d0887\"],[0.1111111111111111,\"#46039f\"],[0.2222222222222222,\"#7201a8\"],[0.3333333333333333,\"#9c179e\"],[0.4444444444444444,\"#bd3786\"],[0.5555555555555556,\"#d8576b\"],[0.6666666666666666,\"#ed7953\"],[0.7777777777777778,\"#fb9f3a\"],[0.8888888888888888,\"#fdca26\"],[1.0,\"#f0f921\"]]}],\"heatmap\":[{\"type\":\"heatmap\",\"colorbar\":{\"outlinewidth\":0,\"ticks\":\"\"},\"colorscale\":[[0.0,\"#0d0887\"],[0.1111111111111111,\"#46039f\"],[0.2222222222222222,\"#7201a8\"],[0.3333333333333333,\"#9c179e\"],[0.4444444444444444,\"#bd3786\"],[0.5555555555555556,\"#d8576b\"],[0.6666666666666666,\"#ed7953\"],[0.7777777777777778,\"#fb9f3a\"],[0.8888888888888888,\"#fdca26\"],[1.0,\"#f0f921\"]]}],\"heatmapgl\":[{\"type\":\"heatmapgl\",\"colorbar\":{\"outlinewidth\":0,\"ticks\":\"\"},\"colorscale\":[[0.0,\"#0d0887\"],[0.1111111111111111,\"#46039f\"],[0.2222222222222222,\"#7201a8\"],[0.3333333333333333,\"#9c179e\"],[0.4444444444444444,\"#bd3786\"],[0.5555555555555556,\"#d8576b\"],[0.6666666666666666,\"#ed7953\"],[0.7777777777777778,\"#fb9f3a\"],[0.8888888888888888,\"#fdca26\"],[1.0,\"#f0f921\"]]}],\"contourcarpet\":[{\"type\":\"contourcarpet\",\"colorbar\":{\"outlinewidth\":0,\"ticks\":\"\"}}],\"contour\":[{\"type\":\"contour\",\"colorbar\":{\"outlinewidth\":0,\"ticks\":\"\"},\"colorscale\":[[0.0,\"#0d0887\"],[0.1111111111111111,\"#46039f\"],[0.2222222222222222,\"#7201a8\"],[0.3333333333333333,\"#9c179e\"],[0.4444444444444444,\"#bd3786\"],[0.5555555555555556,\"#d8576b\"],[0.6666666666666666,\"#ed7953\"],[0.7777777777777778,\"#fb9f3a\"],[0.8888888888888888,\"#fdca26\"],[1.0,\"#f0f921\"]]}],\"surface\":[{\"type\":\"surface\",\"colorbar\":{\"outlinewidth\":0,\"ticks\":\"\"},\"colorscale\":[[0.0,\"#0d0887\"],[0.1111111111111111,\"#46039f\"],[0.2222222222222222,\"#7201a8\"],[0.3333333333333333,\"#9c179e\"],[0.4444444444444444,\"#bd3786\"],[0.5555555555555556,\"#d8576b\"],[0.6666666666666666,\"#ed7953\"],[0.7777777777777778,\"#fb9f3a\"],[0.8888888888888888,\"#fdca26\"],[1.0,\"#f0f921\"]]}],\"mesh3d\":[{\"type\":\"mesh3d\",\"colorbar\":{\"outlinewidth\":0,\"ticks\":\"\"}}],\"scatter\":[{\"fillpattern\":{\"fillmode\":\"overlay\",\"size\":10,\"solidity\":0.2},\"type\":\"scatter\"}],\"parcoords\":[{\"type\":\"parcoords\",\"line\":{\"colorbar\":{\"outlinewidth\":0,\"ticks\":\"\"}}}],\"scatterpolargl\":[{\"type\":\"scatterpolargl\",\"marker\":{\"colorbar\":{\"outlinewidth\":0,\"ticks\":\"\"}}}],\"bar\":[{\"error_x\":{\"color\":\"#2a3f5f\"},\"error_y\":{\"color\":\"#2a3f5f\"},\"marker\":{\"line\":{\"color\":\"#E5ECF6\",\"width\":0.5},\"pattern\":{\"fillmode\":\"overlay\",\"size\":10,\"solidity\":0.2}},\"type\":\"bar\"}],\"scattergeo\":[{\"type\":\"scattergeo\",\"marker\":{\"colorbar\":{\"outlinewidth\":0,\"ticks\":\"\"}}}],\"scatterpolar\":[{\"type\":\"scatterpolar\",\"marker\":{\"colorbar\":{\"outlinewidth\":0,\"ticks\":\"\"}}}],\"histogram\":[{\"marker\":{\"pattern\":{\"fillmode\":\"overlay\",\"size\":10,\"solidity\":0.2}},\"type\":\"histogram\"}],\"scattergl\":[{\"type\":\"scattergl\",\"marker\":{\"colorbar\":{\"outlinewidth\":0,\"ticks\":\"\"}}}],\"scatter3d\":[{\"type\":\"scatter3d\",\"line\":{\"colorbar\":{\"outlinewidth\":0,\"ticks\":\"\"}},\"marker\":{\"colorbar\":{\"outlinewidth\":0,\"ticks\":\"\"}}}],\"scattermapbox\":[{\"type\":\"scattermapbox\",\"marker\":{\"colorbar\":{\"outlinewidth\":0,\"ticks\":\"\"}}}],\"scatterternary\":[{\"type\":\"scatterternary\",\"marker\":{\"colorbar\":{\"outlinewidth\":0,\"ticks\":\"\"}}}],\"scattercarpet\":[{\"type\":\"scattercarpet\",\"marker\":{\"colorbar\":{\"outlinewidth\":0,\"ticks\":\"\"}}}],\"carpet\":[{\"aaxis\":{\"endlinecolor\":\"#2a3f5f\",\"gridcolor\":\"white\",\"linecolor\":\"white\",\"minorgridcolor\":\"white\",\"startlinecolor\":\"#2a3f5f\"},\"baxis\":{\"endlinecolor\":\"#2a3f5f\",\"gridcolor\":\"white\",\"linecolor\":\"white\",\"minorgridcolor\":\"white\",\"startlinecolor\":\"#2a3f5f\"},\"type\":\"carpet\"}],\"table\":[{\"cells\":{\"fill\":{\"color\":\"#EBF0F8\"},\"line\":{\"color\":\"white\"}},\"header\":{\"fill\":{\"color\":\"#C8D4E3\"},\"line\":{\"color\":\"white\"}},\"type\":\"table\"}],\"barpolar\":[{\"marker\":{\"line\":{\"color\":\"#E5ECF6\",\"width\":0.5},\"pattern\":{\"fillmode\":\"overlay\",\"size\":10,\"solidity\":0.2}},\"type\":\"barpolar\"}],\"pie\":[{\"automargin\":true,\"type\":\"pie\"}]},\"layout\":{\"font\":{\"family\":\"Franklin Gothic\",\"size\":12}}},\"xaxis\":{\"anchor\":\"y\",\"domain\":[0.0,1.0],\"title\":{\"text\":\"Spending Score\"},\"showline\":true,\"zeroline\":false},\"yaxis\":{\"anchor\":\"x\",\"domain\":[0.0,1.0],\"title\":{\"text\":\"Income, $\"},\"ticksuffix\":\"k\",\"showline\":true},\"legend\":{\"title\":{\"text\":\"Cluster\"},\"tracegroupgap\":0},\"margin\":{\"t\":60},\"title\":{\"text\":\"DBSCAN Cluster Profiles,<br>Customer Spending vs. Income\"},\"width\":700},                        {\"responsive\": true}                    ).then(function(){\n",
       "                            \n",
       "var gd = document.getElementById('75645b09-5267-4f4c-8418-be9adc2052f3');\n",
       "var x = new MutationObserver(function (mutations, observer) {{\n",
       "        var display = window.getComputedStyle(gd).display;\n",
       "        if (!display || display === 'none') {{\n",
       "            console.log([gd, 'removed!']);\n",
       "            Plotly.purge(gd);\n",
       "            observer.disconnect();\n",
       "        }}\n",
       "}});\n",
       "\n",
       "// Listen for the removal of the full notebook cells\n",
       "var notebookContainer = gd.closest('#notebook-container');\n",
       "if (notebookContainer) {{\n",
       "    x.observe(notebookContainer, {childList: true});\n",
       "}}\n",
       "\n",
       "// Listen for the clearing of the current output cell\n",
       "var outputEl = gd.closest('.output');\n",
       "if (outputEl) {{\n",
       "    x.observe(outputEl, {childList: true});\n",
       "}}\n",
       "\n",
       "                        })                };                });            </script>        </div>"
      ]
     },
     "metadata": {},
     "output_type": "display_data"
    }
   ],
   "source": [
    "# DB Scan clustering\n",
    "db=DBSCAN(eps=15, min_samples=11, metric='euclidean')  #17,15 14,7 12 7 115\n",
    "db_preds=db.fit_predict(clust_df)\n",
    "plot_db=clust_df.copy()\n",
    "plot_db['DB Cluster'] = db_preds\n",
    "plot_db=plot_db.sort_values(by='DB Cluster')\n",
    "plot_db['DB Cluster'] = plot_db['DB Cluster'].astype(str).apply(lambda x: 'Outliers' if x == '-1' else x)\n",
    "\n",
    "\n",
    "# Plot of clusters   \n",
    "fig = px.scatter(plot_db, x=\"Spending Score\", y=\"Annual Income\", color=\"DB Cluster\",\n",
    "                 color_discrete_sequence=px.colors.qualitative.T10[2:])\n",
    "fig.update_traces(marker=dict(size=11, opacity=0.85, line=dict(width=1, color='#F7F7F7')))\n",
    "fig.update_layout(template=temp, title=\"DBSCAN Cluster Profiles,<br>Customer Spending vs. Income\", \n",
    "                  width=700, legend_title = 'Cluster',\n",
    "                  xaxis=dict(title='Spending Score',showline=True, zeroline=False), \n",
    "                  yaxis=dict(title='Income, $',ticksuffix='k',showline=True))\n",
    "fig.show()"
   ]
  },
  {
   "cell_type": "markdown",
   "id": "885a379b",
   "metadata": {
    "papermill": {
     "duration": 0.062907,
     "end_time": "2022-02-18T05:09:21.496894",
     "exception": false,
     "start_time": "2022-02-18T05:09:21.433987",
     "status": "completed"
    },
    "tags": []
   },
   "source": [
    "The DBSCAN model with a local radius of 15 segments the data into four clusters. These segments resemble the clusters from the K-Means model, with the outliers identified in red. Overall, there are quite a few outliers in the graph, which is likely due to the variation in the densities of the clusters."
   ]
  },
  {
   "cell_type": "markdown",
   "id": "2d62dc45",
   "metadata": {
    "papermill": {
     "duration": 0.064421,
     "end_time": "2022-02-18T05:09:21.625103",
     "exception": false,
     "start_time": "2022-02-18T05:09:21.560682",
     "status": "completed"
    },
    "tags": []
   },
   "source": [
    "# <div style=\"color:white;display:fill;border-radius:5px;background-color:#67A4A4;letter-spacing:0.1px;overflow:hidden\"><p style=\"padding:20px;color:white;overflow:hidden;margin:0;font-size:110%;text-align:center\">Cluster Profile Comparison</p></div>\n",
    "Below are the plots of the customer profiles based on age, income, and spending from each clustering model."
   ]
  },
  {
   "cell_type": "code",
   "execution_count": 18,
   "id": "1378d436",
   "metadata": {
    "_kg_hide-input": true,
    "execution": {
     "iopub.execute_input": "2022-02-18T05:09:21.763919Z",
     "iopub.status.busy": "2022-02-18T05:09:21.762891Z",
     "iopub.status.idle": "2022-02-18T05:09:21.931699Z",
     "shell.execute_reply": "2022-02-18T05:09:21.932166Z",
     "shell.execute_reply.started": "2022-02-18T02:54:46.658555Z"
    },
    "papermill": {
     "duration": 0.236162,
     "end_time": "2022-02-18T05:09:21.932330",
     "exception": false,
     "start_time": "2022-02-18T05:09:21.696168",
     "status": "completed"
    },
    "tags": []
   },
   "outputs": [
    {
     "data": {
      "application/vnd.plotly.v1+json": {
       "config": {
        "plotlyServerURL": "https://plot.ly"
       },
       "data": [
        {
         "hovertemplate": "Customer Spending Score: %{x}<br>Income: $%{z}<br>Age: %{y}",
         "legendgroup": "1",
         "marker": {
          "color": "rgb(95, 70, 144)",
          "line": {
           "color": "#F7F7F7",
           "width": 1
          },
          "opacity": 0.7,
          "size": 7
         },
         "mode": "markers",
         "name": "Cluster 0",
         "scene": "scene",
         "type": "scatter3d",
         "x": [
          83,
          77,
          91,
          92,
          76,
          79,
          88,
          68,
          95,
          85,
          69,
          91,
          90,
          69,
          74,
          86,
          97,
          86,
          75,
          75,
          71,
          63,
          95,
          75,
          93,
          75,
          73,
          78,
          89,
          88,
          83,
          74,
          97,
          87,
          93,
          72,
          73,
          88,
          90
         ],
         "y": [
          30,
          31,
          39,
          36,
          38,
          35,
          29,
          28,
          40,
          36,
          32,
          38,
          35,
          27,
          32,
          30,
          30,
          32,
          38,
          28,
          31,
          32,
          33,
          36,
          31,
          39,
          30,
          30,
          27,
          39,
          29,
          32,
          28,
          32,
          32,
          35,
          32,
          29,
          34
         ],
         "z": [
          137,
          70,
          69,
          87,
          78,
          120,
          98,
          101,
          71,
          103,
          103,
          113,
          93,
          88,
          126,
          88,
          99,
          97,
          71,
          87,
          72,
          87,
          86,
          85,
          81,
          71,
          78,
          78,
          78,
          78,
          79,
          77,
          77,
          76,
          75,
          74,
          73,
          73,
          78
         ]
        },
        {
         "hovertemplate": "Customer Spending Score: %{x}<br>Income: $%{z}<br>Age: %{y}",
         "legendgroup": "1",
         "marker": {
          "color": "rgb(29, 105, 150)",
          "line": {
           "color": "#F7F7F7",
           "width": 1
          },
          "opacity": 0.7,
          "size": 7
         },
         "mode": "markers",
         "name": "Cluster 1",
         "scene": "scene",
         "type": "scatter3d",
         "x": [
          73,
          73,
          81,
          75,
          65,
          66,
          61,
          98,
          92,
          92,
          73,
          87,
          79,
          82,
          94,
          72,
          77,
          77,
          81,
          76,
          61,
          73,
          99
         ],
         "y": [
          25,
          30,
          21,
          20,
          24,
          20,
          31,
          35,
          18,
          24,
          21,
          23,
          22,
          29,
          23,
          30,
          23,
          24,
          21,
          22,
          35,
          31,
          35
         ],
         "z": [
          24,
          34,
          33,
          37,
          39,
          21,
          39,
          23,
          33,
          38,
          30,
          29,
          20,
          28,
          18,
          19,
          16,
          20,
          15,
          17,
          28,
          25,
          19
         ]
        },
        {
         "hovertemplate": "Customer Spending Score: %{x}<br>Income: $%{z}<br>Age: %{y}",
         "legendgroup": "1",
         "marker": {
          "color": "rgb(56, 166, 165)",
          "line": {
           "color": "#F7F7F7",
           "width": 1
          },
          "opacity": 0.7,
          "size": 7
         },
         "mode": "markers",
         "name": "Cluster 2",
         "scene": "scene",
         "type": "scatter3d",
         "x": [
          42,
          55,
          55,
          59,
          48,
          55,
          47,
          42,
          60,
          52,
          60,
          54,
          55,
          45,
          41,
          50,
          49,
          46,
          44,
          55,
          47,
          56,
          54,
          49,
          53,
          42,
          48,
          52,
          41,
          42,
          51,
          55,
          47,
          46,
          57,
          46,
          58,
          60,
          51,
          52,
          56,
          54,
          43,
          48,
          48,
          52,
          47,
          50,
          42,
          41,
          42,
          59,
          56,
          42,
          50,
          46,
          55,
          46,
          42,
          46,
          43,
          50,
          48,
          51,
          59,
          50,
          41,
          49,
          40,
          52,
          59,
          35,
          58,
          40,
          56,
          57,
          43,
          59,
          40
         ],
         "y": [
          29,
          70,
          19,
          19,
          68,
          50,
          27,
          31,
          59,
          49,
          33,
          31,
          68,
          50,
          47,
          51,
          48,
          50,
          46,
          22,
          59,
          60,
          26,
          60,
          45,
          47,
          40,
          23,
          67,
          49,
          57,
          38,
          32,
          69,
          21,
          48,
          55,
          34,
          27,
          67,
          70,
          19,
          63,
          66,
          49,
          24,
          47,
          27,
          48,
          23,
          32,
          67,
          49,
          21,
          66,
          54,
          26,
          53,
          38,
          19,
          68,
          19,
          18,
          63,
          18,
          43,
          18,
          20,
          40,
          65,
          54,
          43,
          40,
          38,
          27,
          50,
          51,
          49,
          28
         ],
         "z": [
          40,
          49,
          46,
          48,
          48,
          40,
          40,
          40,
          43,
          42,
          42,
          43,
          59,
          43,
          43,
          44,
          60,
          58,
          54,
          57,
          54,
          50,
          54,
          50,
          54,
          49,
          54,
          54,
          54,
          54,
          54,
          54,
          48,
          44,
          54,
          54,
          57,
          58,
          46,
          47,
          46,
          63,
          65,
          63,
          62,
          60,
          60,
          60,
          61,
          62,
          60,
          62,
          62,
          62,
          63,
          63,
          62,
          46,
          64,
          64,
          63,
          65,
          65,
          48,
          48,
          48,
          59,
          61,
          60,
          63,
          47,
          71,
          69,
          67,
          67,
          67,
          67,
          65,
          76
         ]
        },
        {
         "hovertemplate": "Customer Spending Score: %{x}<br>Income: $%{z}<br>Age: %{y}",
         "legendgroup": "1",
         "marker": {
          "color": "rgb(15, 133, 84)",
          "line": {
           "color": "#F7F7F7",
           "width": 1
          },
          "opacity": 0.7,
          "size": 7
         },
         "mode": "markers",
         "name": "Cluster 3",
         "scene": "scene",
         "type": "scatter3d",
         "x": [
          5,
          5,
          12,
          34,
          22,
          17,
          7,
          9,
          29,
          16,
          20,
          1,
          18,
          1,
          11,
          36,
          10,
          35,
          14,
          24,
          17,
          26,
          20,
          13,
          10,
          13,
          15,
          27,
          16,
          5,
          32,
          8,
          15,
          39,
          28,
          23
         ],
         "y": [
          57,
          20,
          25,
          25,
          34,
          43,
          44,
          47,
          23,
          47,
          44,
          37,
          32,
          34,
          59,
          48,
          19,
          56,
          59,
          54,
          41,
          50,
          42,
          40,
          36,
          52,
          58,
          36,
          47,
          19,
          37,
          33,
          46,
          41,
          45,
          34
         ],
         "z": [
          75,
          73,
          77,
          72,
          78,
          78,
          73,
          71,
          70,
          78,
          78,
          78,
          137,
          78,
          71,
          77,
          74,
          79,
          93,
          101,
          103,
          85,
          86,
          87,
          87,
          88,
          88,
          87,
          120,
          81,
          97,
          113,
          98,
          99,
          126,
          103
         ]
        },
        {
         "hovertemplate": "Customer Spending Score: %{x}<br>Income: $%{z}<br>Age: %{y}",
         "legendgroup": "1",
         "marker": {
          "color": "rgb(115, 175, 72)",
          "line": {
           "color": "#F7F7F7",
           "width": 1
          },
          "opacity": 0.7,
          "size": 7
         },
         "mode": "markers",
         "name": "Cluster 4",
         "scene": "scene",
         "type": "scatter3d",
         "x": [
          32,
          31,
          4,
          28,
          36,
          14,
          17,
          14,
          4,
          5,
          14,
          35,
          29,
          26,
          13,
          15,
          6,
          40,
          6,
          3,
          35,
          35,
          39
         ],
         "y": [
          45,
          40,
          60,
          49,
          48,
          49,
          42,
          54,
          53,
          46,
          67,
          65,
          52,
          36,
          37,
          58,
          20,
          31,
          35,
          64,
          35,
          35,
          19
         ],
         "z": [
          28,
          29,
          30,
          39,
          39,
          33,
          34,
          28,
          33,
          25,
          19,
          38,
          23,
          37,
          20,
          20,
          16,
          17,
          18,
          19,
          21,
          24,
          15
         ]
        },
        {
         "hovertemplate": "Customer Spending Score: %{x}<br>Income: $%{z}<br>Age: %{y}",
         "legendgroup": "2",
         "marker": {
          "color": "rgb(93, 105, 177)",
          "line": {
           "color": "#F7F7F7",
           "width": 1
          },
          "opacity": 0.7,
          "size": 7
         },
         "mode": "markers",
         "name": "Hierarchical Cluster 0",
         "scene": "scene2",
         "type": "scatter3d",
         "x": [
          39,
          81,
          6,
          52,
          77,
          40,
          76,
          6,
          94,
          72,
          14,
          99,
          15,
          77,
          13,
          79,
          35,
          66,
          29,
          98,
          35,
          73,
          5,
          73,
          14,
          82,
          32,
          61,
          31,
          87,
          55,
          4,
          4,
          14,
          92,
          28,
          61,
          36,
          92,
          35,
          73,
          75,
          26,
          81,
          17,
          55,
          3,
          65,
          47,
          42,
          42,
          52,
          60,
          54,
          60,
          41,
          50,
          46,
          51,
          73,
          56,
          45,
          49,
          46,
          54,
          59,
          50,
          48,
          59,
          47,
          42,
          49,
          56,
          47,
          54,
          53,
          48,
          42,
          52,
          40,
          55,
          41,
          44,
          57,
          46,
          58,
          55,
          60,
          46,
          55,
          41,
          49,
          59,
          51,
          51,
          55,
          47,
          50,
          42,
          41,
          48,
          59,
          55,
          56,
          42,
          50,
          46,
          43,
          48,
          52,
          42,
          52,
          42,
          48,
          46,
          34,
          29,
          40,
          40,
          58,
          57,
          43,
          59,
          43,
          50,
          56
         ],
         "y": [
          19,
          21,
          20,
          67,
          23,
          31,
          22,
          35,
          23,
          30,
          67,
          35,
          58,
          24,
          37,
          22,
          35,
          20,
          52,
          35,
          35,
          25,
          46,
          31,
          54,
          29,
          45,
          35,
          40,
          23,
          19,
          60,
          53,
          49,
          18,
          49,
          31,
          48,
          24,
          65,
          30,
          20,
          36,
          21,
          42,
          50,
          64,
          24,
          27,
          29,
          31,
          49,
          33,
          31,
          59,
          47,
          51,
          69,
          27,
          21,
          70,
          50,
          20,
          53,
          19,
          18,
          43,
          68,
          19,
          32,
          47,
          60,
          60,
          59,
          26,
          45,
          40,
          49,
          23,
          40,
          38,
          67,
          46,
          21,
          48,
          55,
          22,
          34,
          50,
          68,
          18,
          48,
          54,
          57,
          63,
          70,
          47,
          27,
          48,
          23,
          49,
          67,
          26,
          49,
          32,
          66,
          54,
          68,
          66,
          65,
          38,
          24,
          21,
          18,
          19,
          25,
          23,
          28,
          38,
          40,
          50,
          51,
          49,
          63,
          19,
          27
         ],
         "z": [
          15,
          15,
          16,
          47,
          16,
          17,
          17,
          18,
          18,
          19,
          19,
          19,
          20,
          20,
          20,
          20,
          21,
          21,
          23,
          23,
          24,
          24,
          25,
          25,
          28,
          28,
          28,
          28,
          29,
          29,
          46,
          30,
          33,
          33,
          33,
          39,
          39,
          39,
          38,
          38,
          34,
          37,
          37,
          33,
          34,
          40,
          19,
          39,
          40,
          40,
          40,
          42,
          42,
          43,
          43,
          43,
          44,
          44,
          46,
          30,
          46,
          43,
          61,
          46,
          63,
          48,
          48,
          48,
          48,
          48,
          49,
          50,
          50,
          54,
          54,
          54,
          54,
          54,
          54,
          60,
          54,
          54,
          54,
          54,
          54,
          57,
          57,
          58,
          58,
          59,
          59,
          60,
          47,
          54,
          48,
          49,
          60,
          60,
          61,
          62,
          62,
          62,
          62,
          62,
          60,
          63,
          63,
          63,
          63,
          63,
          64,
          60,
          62,
          65,
          64,
          72,
          70,
          76,
          67,
          69,
          67,
          67,
          65,
          65,
          65,
          67
         ]
        },
        {
         "hovertemplate": "Customer Spending Score: %{x}<br>Income: $%{z}<br>Age: %{y}",
         "legendgroup": "2",
         "marker": {
          "color": "rgb(82, 188, 163)",
          "line": {
           "color": "#F7F7F7",
           "width": 1
          },
          "opacity": 0.7,
          "size": 7
         },
         "mode": "markers",
         "name": "Hierarchical Cluster 1",
         "scene": "scene2",
         "type": "scatter3d",
         "x": [
          12,
          18,
          13,
          28,
          35,
          11,
          16,
          23,
          7,
          9,
          5,
          17,
          10,
          10,
          5,
          8,
          36,
          15,
          27,
          1,
          22,
          17,
          39,
          20,
          1,
          5,
          16,
          32,
          35,
          14,
          26,
          20,
          15,
          24,
          13
         ],
         "y": [
          25,
          32,
          52,
          45,
          43,
          59,
          47,
          34,
          44,
          47,
          57,
          41,
          19,
          36,
          20,
          33,
          48,
          46,
          36,
          34,
          34,
          43,
          41,
          44,
          37,
          19,
          47,
          37,
          56,
          59,
          50,
          42,
          58,
          54,
          40
         ],
         "z": [
          77,
          137,
          88,
          126,
          71,
          71,
          120,
          103,
          73,
          71,
          75,
          103,
          74,
          87,
          73,
          113,
          77,
          98,
          87,
          78,
          78,
          78,
          99,
          78,
          78,
          81,
          78,
          97,
          79,
          93,
          85,
          86,
          88,
          101,
          87
         ]
        },
        {
         "hovertemplate": "Customer Spending Score: %{x}<br>Income: $%{z}<br>Age: %{y}",
         "legendgroup": "2",
         "marker": {
          "color": "rgb(153, 201, 69)",
          "line": {
           "color": "#F7F7F7",
           "width": 1
          },
          "opacity": 0.7,
          "size": 7
         },
         "mode": "markers",
         "name": "Hierarchical Cluster 2",
         "scene": "scene2",
         "type": "scatter3d",
         "x": [
          90,
          72,
          93,
          87,
          97,
          74,
          88,
          95,
          89,
          78,
          73,
          83,
          93,
          75,
          73,
          63,
          76,
          88,
          68,
          75,
          92,
          90,
          91,
          79,
          69,
          69,
          97,
          74,
          85,
          86,
          86,
          88,
          75,
          75,
          91,
          77,
          95,
          71,
          83
         ],
         "y": [
          34,
          35,
          32,
          32,
          28,
          32,
          39,
          33,
          27,
          30,
          30,
          29,
          31,
          36,
          32,
          32,
          38,
          29,
          28,
          38,
          36,
          35,
          38,
          35,
          32,
          27,
          30,
          32,
          36,
          30,
          32,
          29,
          39,
          28,
          39,
          31,
          40,
          31,
          30
         ],
         "z": [
          78,
          74,
          75,
          76,
          77,
          77,
          78,
          86,
          78,
          78,
          78,
          79,
          81,
          85,
          73,
          87,
          78,
          73,
          101,
          71,
          87,
          93,
          113,
          120,
          103,
          88,
          99,
          126,
          103,
          88,
          97,
          98,
          71,
          87,
          69,
          70,
          71,
          72,
          137
         ]
        },
        {
         "hovertemplate": "Customer Spending Score: %{x}<br>Income: $%{z}<br>Age: %{y}",
         "legendgroup": "3",
         "marker": {
          "color": "#E45756",
          "line": {
           "color": "#F7F7F7",
           "width": 1
          },
          "opacity": 0.8,
          "size": 7
         },
         "mode": "markers",
         "name": "DB Cluster Outliers",
         "scene": "scene3",
         "type": "scatter3d",
         "x": [
          39,
          14,
          17,
          26,
          18,
          5,
          10,
          5,
          12,
          1,
          1,
          35,
          5,
          14,
          32,
          39,
          24,
          68,
          17,
          85,
          23,
          69,
          8,
          91,
          16,
          79,
          28,
          74,
          4,
          4,
          83,
          13,
          14,
          3,
          94,
          6,
          35,
          40,
          99,
          29,
          6,
          14,
          35,
          32,
          5,
          31,
          98,
          15
         ],
         "y": [
          19,
          49,
          42,
          36,
          32,
          20,
          19,
          57,
          25,
          37,
          34,
          56,
          19,
          59,
          37,
          41,
          54,
          28,
          41,
          36,
          34,
          32,
          33,
          38,
          47,
          35,
          45,
          32,
          53,
          60,
          30,
          37,
          67,
          64,
          23,
          35,
          35,
          31,
          35,
          52,
          20,
          54,
          35,
          45,
          46,
          40,
          35,
          58
         ],
         "z": [
          15,
          33,
          34,
          37,
          137,
          73,
          74,
          75,
          77,
          78,
          78,
          79,
          81,
          93,
          97,
          99,
          101,
          101,
          103,
          103,
          103,
          103,
          113,
          113,
          120,
          120,
          126,
          126,
          33,
          30,
          137,
          20,
          19,
          19,
          18,
          18,
          21,
          17,
          19,
          23,
          16,
          28,
          24,
          28,
          25,
          29,
          23,
          20
         ]
        },
        {
         "hovertemplate": "Customer Spending Score: %{x}<br>Income: $%{z}<br>Age: %{y}",
         "legendgroup": "3",
         "marker": {
          "color": "#72B7B2",
          "line": {
           "color": "#F7F7F7",
           "width": 1
          },
          "opacity": 0.8,
          "size": 7
         },
         "mode": "markers",
         "name": "DB Cluster 0",
         "scene": "scene3",
         "type": "scatter3d",
         "x": [
          66,
          73,
          79,
          73,
          87,
          77,
          73,
          92,
          76,
          65,
          77,
          92,
          81,
          75,
          82,
          73,
          81,
          61,
          72
         ],
         "y": [
          20,
          25,
          22,
          31,
          23,
          24,
          21,
          18,
          22,
          24,
          23,
          24,
          21,
          20,
          29,
          30,
          21,
          35,
          30
         ],
         "z": [
          21,
          24,
          20,
          25,
          29,
          20,
          30,
          33,
          17,
          39,
          16,
          38,
          15,
          37,
          28,
          34,
          33,
          28,
          19
         ]
        },
        {
         "hovertemplate": "Customer Spending Score: %{x}<br>Income: $%{z}<br>Age: %{y}",
         "legendgroup": "3",
         "marker": {
          "color": "#54A24B",
          "line": {
           "color": "#F7F7F7",
           "width": 1
          },
          "opacity": 0.8,
          "size": 7
         },
         "mode": "markers",
         "name": "DB Cluster 1",
         "scene": "scene3",
         "type": "scatter3d",
         "x": [
          48,
          54,
          43,
          52,
          46,
          48,
          42,
          56,
          55,
          59,
          41,
          50,
          42,
          40,
          48,
          43,
          59,
          43,
          57,
          56,
          40,
          58,
          29,
          35,
          34,
          42,
          36,
          46,
          50,
          50,
          52,
          50,
          59,
          51,
          59,
          52,
          55,
          47,
          56,
          46,
          51,
          46,
          50,
          48,
          41,
          60,
          54,
          60,
          52,
          42,
          42,
          47,
          55,
          28,
          61,
          36,
          35,
          45,
          59,
          49,
          57,
          48,
          51,
          55,
          52,
          54,
          41,
          47,
          42,
          56,
          44,
          49,
          42,
          53,
          55,
          58,
          55,
          60,
          46,
          55,
          47,
          41,
          49,
          40,
          42,
          46
         ],
         "y": [
          66,
          19,
          68,
          65,
          54,
          49,
          21,
          49,
          26,
          67,
          23,
          66,
          38,
          28,
          18,
          63,
          49,
          51,
          50,
          27,
          38,
          40,
          23,
          43,
          25,
          48,
          48,
          19,
          27,
          19,
          24,
          43,
          18,
          63,
          54,
          67,
          19,
          47,
          70,
          53,
          27,
          69,
          51,
          68,
          47,
          59,
          31,
          33,
          49,
          31,
          29,
          27,
          50,
          49,
          31,
          48,
          65,
          50,
          19,
          20,
          21,
          40,
          57,
          38,
          23,
          26,
          67,
          59,
          49,
          60,
          46,
          60,
          47,
          45,
          70,
          55,
          22,
          34,
          50,
          68,
          32,
          18,
          48,
          40,
          32,
          48
         ],
         "z": [
          63,
          63,
          63,
          63,
          63,
          62,
          62,
          62,
          62,
          62,
          62,
          63,
          64,
          76,
          65,
          65,
          65,
          67,
          67,
          67,
          67,
          69,
          70,
          71,
          72,
          61,
          77,
          64,
          60,
          65,
          60,
          48,
          48,
          48,
          47,
          47,
          46,
          60,
          46,
          46,
          46,
          44,
          44,
          48,
          43,
          43,
          43,
          42,
          42,
          40,
          40,
          40,
          40,
          39,
          39,
          39,
          38,
          43,
          48,
          61,
          54,
          54,
          54,
          54,
          54,
          54,
          54,
          54,
          54,
          50,
          54,
          50,
          49,
          54,
          49,
          57,
          57,
          58,
          58,
          59,
          48,
          59,
          60,
          60,
          60,
          54
         ]
        },
        {
         "hovertemplate": "Customer Spending Score: %{x}<br>Income: $%{z}<br>Age: %{y}",
         "legendgroup": "3",
         "marker": {
          "color": "#EECA3B",
          "line": {
           "color": "#F7F7F7",
           "width": 1
          },
          "opacity": 0.8,
          "size": 7
         },
         "mode": "markers",
         "name": "DB Cluster 2",
         "scene": "scene3",
         "type": "scatter3d",
         "x": [
          92,
          63,
          75,
          95,
          97,
          69,
          90,
          86,
          88,
          95,
          86,
          75,
          93,
          91,
          87,
          97,
          74,
          90,
          73,
          88,
          88,
          76,
          93,
          72,
          89,
          75,
          78,
          73,
          75,
          83,
          77,
          71
         ],
         "y": [
          36,
          32,
          28,
          40,
          30,
          27,
          35,
          32,
          29,
          33,
          30,
          36,
          31,
          39,
          32,
          28,
          32,
          34,
          32,
          39,
          29,
          38,
          32,
          35,
          27,
          39,
          30,
          30,
          38,
          29,
          31,
          31
         ],
         "z": [
          87,
          87,
          87,
          71,
          99,
          88,
          93,
          97,
          98,
          86,
          88,
          85,
          81,
          69,
          76,
          77,
          77,
          78,
          73,
          78,
          73,
          78,
          75,
          74,
          78,
          71,
          78,
          78,
          71,
          79,
          70,
          72
         ]
        },
        {
         "hovertemplate": "Customer Spending Score: %{x}<br>Income: $%{z}<br>Age: %{y}",
         "legendgroup": "3",
         "marker": {
          "color": "#B279A2",
          "line": {
           "color": "#F7F7F7",
           "width": 1
          },
          "opacity": 0.8,
          "size": 7
         },
         "mode": "markers",
         "name": "DB Cluster 3",
         "scene": "scene3",
         "type": "scatter3d",
         "x": [
          9,
          7,
          11,
          20,
          15,
          17,
          20,
          16,
          15,
          13,
          10,
          13,
          27,
          26,
          22
         ],
         "y": [
          47,
          44,
          59,
          42,
          46,
          43,
          44,
          47,
          58,
          52,
          36,
          40,
          36,
          50,
          34
         ],
         "z": [
          71,
          73,
          71,
          86,
          98,
          78,
          78,
          78,
          88,
          88,
          87,
          87,
          87,
          85,
          78
         ]
        }
       ],
       "layout": {
        "annotations": [
         {
          "font": {
           "size": 16
          },
          "showarrow": false,
          "text": "K-Means Clustering with 5 clusters",
          "x": 0.5,
          "xanchor": "center",
          "xref": "paper",
          "y": 1,
          "yanchor": "bottom",
          "yref": "paper"
         },
         {
          "font": {
           "size": 16
          },
          "showarrow": false,
          "text": "Hierarchical Clustering<br>with 3 clusters",
          "x": 0.5,
          "xanchor": "center",
          "xref": "paper",
          "y": 0.6333333333333333,
          "yanchor": "bottom",
          "yref": "paper"
         },
         {
          "font": {
           "size": 16
          },
          "showarrow": false,
          "text": "DBSCAN<br>with 4 clusters",
          "x": 0.5,
          "xanchor": "center",
          "xref": "paper",
          "y": 0.26666666666666666,
          "yanchor": "bottom",
          "yref": "paper"
         }
        ],
        "height": 1800,
        "legend": {
         "tracegroupgap": 500
        },
        "scene": {
         "aspectmode": "cube",
         "domain": {
          "x": [
           0,
           1
          ],
          "y": [
           0.7333333333333334,
           1
          ]
         },
         "xaxis": {
          "backgroundcolor": "#F3F3F3",
          "gridcolor": "white",
          "showbackground": true,
          "title": {
           "text": "Spending Score"
          },
          "zerolinecolor": "white"
         },
         "yaxis": {
          "backgroundcolor": "#E4E4E4",
          "gridcolor": "white",
          "showbackground": true,
          "title": {
           "text": "Age, in years"
          },
          "zerolinecolor": "white"
         },
         "zaxis": {
          "backgroundcolor": "#F6F6F6",
          "gridcolor": "white",
          "showbackground": true,
          "ticksuffix": "k",
          "title": {
           "text": "Income, $"
          },
          "zerolinecolor": "white"
         }
        },
        "scene2": {
         "aspectmode": "cube",
         "domain": {
          "x": [
           0,
           1
          ],
          "y": [
           0.3666666666666667,
           0.6333333333333333
          ]
         },
         "xaxis": {
          "backgroundcolor": "#F3F3F3",
          "gridcolor": "white",
          "showbackground": true,
          "title": {
           "text": "Spending Score"
          },
          "zerolinecolor": "white"
         },
         "yaxis": {
          "backgroundcolor": "#E4E4E4",
          "gridcolor": "white",
          "showbackground": true,
          "title": {
           "text": "Age, in years"
          },
          "zerolinecolor": "white"
         },
         "zaxis": {
          "backgroundcolor": "#F6F6F6",
          "gridcolor": "white",
          "showbackground": true,
          "ticksuffix": "k",
          "title": {
           "text": "Income, $"
          },
          "zerolinecolor": "white"
         }
        },
        "scene3": {
         "aspectmode": "cube",
         "domain": {
          "x": [
           0,
           1
          ],
          "y": [
           0,
           0.26666666666666666
          ]
         },
         "xaxis": {
          "backgroundcolor": "#F3F3F3",
          "gridcolor": "white",
          "showbackground": true,
          "title": {
           "text": "Spending Score"
          },
          "zerolinecolor": "white"
         },
         "yaxis": {
          "backgroundcolor": "#E4E4E4",
          "gridcolor": "white",
          "showbackground": true,
          "title": {
           "text": "Age, in years"
          },
          "zerolinecolor": "white"
         },
         "zaxis": {
          "backgroundcolor": "#F6F6F6",
          "gridcolor": "white",
          "showbackground": true,
          "ticksuffix": "k",
          "title": {
           "text": "Income, $"
          },
          "zerolinecolor": "white"
         }
        },
        "template": {
         "data": {
          "bar": [
           {
            "error_x": {
             "color": "#2a3f5f"
            },
            "error_y": {
             "color": "#2a3f5f"
            },
            "marker": {
             "line": {
              "color": "#E5ECF6",
              "width": 0.5
             },
             "pattern": {
              "fillmode": "overlay",
              "size": 10,
              "solidity": 0.2
             }
            },
            "type": "bar"
           }
          ],
          "barpolar": [
           {
            "marker": {
             "line": {
              "color": "#E5ECF6",
              "width": 0.5
             },
             "pattern": {
              "fillmode": "overlay",
              "size": 10,
              "solidity": 0.2
             }
            },
            "type": "barpolar"
           }
          ],
          "carpet": [
           {
            "aaxis": {
             "endlinecolor": "#2a3f5f",
             "gridcolor": "white",
             "linecolor": "white",
             "minorgridcolor": "white",
             "startlinecolor": "#2a3f5f"
            },
            "baxis": {
             "endlinecolor": "#2a3f5f",
             "gridcolor": "white",
             "linecolor": "white",
             "minorgridcolor": "white",
             "startlinecolor": "#2a3f5f"
            },
            "type": "carpet"
           }
          ],
          "choropleth": [
           {
            "colorbar": {
             "outlinewidth": 0,
             "ticks": ""
            },
            "type": "choropleth"
           }
          ],
          "contour": [
           {
            "colorbar": {
             "outlinewidth": 0,
             "ticks": ""
            },
            "colorscale": [
             [
              0,
              "#0d0887"
             ],
             [
              0.1111111111111111,
              "#46039f"
             ],
             [
              0.2222222222222222,
              "#7201a8"
             ],
             [
              0.3333333333333333,
              "#9c179e"
             ],
             [
              0.4444444444444444,
              "#bd3786"
             ],
             [
              0.5555555555555556,
              "#d8576b"
             ],
             [
              0.6666666666666666,
              "#ed7953"
             ],
             [
              0.7777777777777778,
              "#fb9f3a"
             ],
             [
              0.8888888888888888,
              "#fdca26"
             ],
             [
              1,
              "#f0f921"
             ]
            ],
            "type": "contour"
           }
          ],
          "contourcarpet": [
           {
            "colorbar": {
             "outlinewidth": 0,
             "ticks": ""
            },
            "type": "contourcarpet"
           }
          ],
          "heatmap": [
           {
            "colorbar": {
             "outlinewidth": 0,
             "ticks": ""
            },
            "colorscale": [
             [
              0,
              "#0d0887"
             ],
             [
              0.1111111111111111,
              "#46039f"
             ],
             [
              0.2222222222222222,
              "#7201a8"
             ],
             [
              0.3333333333333333,
              "#9c179e"
             ],
             [
              0.4444444444444444,
              "#bd3786"
             ],
             [
              0.5555555555555556,
              "#d8576b"
             ],
             [
              0.6666666666666666,
              "#ed7953"
             ],
             [
              0.7777777777777778,
              "#fb9f3a"
             ],
             [
              0.8888888888888888,
              "#fdca26"
             ],
             [
              1,
              "#f0f921"
             ]
            ],
            "type": "heatmap"
           }
          ],
          "heatmapgl": [
           {
            "colorbar": {
             "outlinewidth": 0,
             "ticks": ""
            },
            "colorscale": [
             [
              0,
              "#0d0887"
             ],
             [
              0.1111111111111111,
              "#46039f"
             ],
             [
              0.2222222222222222,
              "#7201a8"
             ],
             [
              0.3333333333333333,
              "#9c179e"
             ],
             [
              0.4444444444444444,
              "#bd3786"
             ],
             [
              0.5555555555555556,
              "#d8576b"
             ],
             [
              0.6666666666666666,
              "#ed7953"
             ],
             [
              0.7777777777777778,
              "#fb9f3a"
             ],
             [
              0.8888888888888888,
              "#fdca26"
             ],
             [
              1,
              "#f0f921"
             ]
            ],
            "type": "heatmapgl"
           }
          ],
          "histogram": [
           {
            "marker": {
             "pattern": {
              "fillmode": "overlay",
              "size": 10,
              "solidity": 0.2
             }
            },
            "type": "histogram"
           }
          ],
          "histogram2d": [
           {
            "colorbar": {
             "outlinewidth": 0,
             "ticks": ""
            },
            "colorscale": [
             [
              0,
              "#0d0887"
             ],
             [
              0.1111111111111111,
              "#46039f"
             ],
             [
              0.2222222222222222,
              "#7201a8"
             ],
             [
              0.3333333333333333,
              "#9c179e"
             ],
             [
              0.4444444444444444,
              "#bd3786"
             ],
             [
              0.5555555555555556,
              "#d8576b"
             ],
             [
              0.6666666666666666,
              "#ed7953"
             ],
             [
              0.7777777777777778,
              "#fb9f3a"
             ],
             [
              0.8888888888888888,
              "#fdca26"
             ],
             [
              1,
              "#f0f921"
             ]
            ],
            "type": "histogram2d"
           }
          ],
          "histogram2dcontour": [
           {
            "colorbar": {
             "outlinewidth": 0,
             "ticks": ""
            },
            "colorscale": [
             [
              0,
              "#0d0887"
             ],
             [
              0.1111111111111111,
              "#46039f"
             ],
             [
              0.2222222222222222,
              "#7201a8"
             ],
             [
              0.3333333333333333,
              "#9c179e"
             ],
             [
              0.4444444444444444,
              "#bd3786"
             ],
             [
              0.5555555555555556,
              "#d8576b"
             ],
             [
              0.6666666666666666,
              "#ed7953"
             ],
             [
              0.7777777777777778,
              "#fb9f3a"
             ],
             [
              0.8888888888888888,
              "#fdca26"
             ],
             [
              1,
              "#f0f921"
             ]
            ],
            "type": "histogram2dcontour"
           }
          ],
          "mesh3d": [
           {
            "colorbar": {
             "outlinewidth": 0,
             "ticks": ""
            },
            "type": "mesh3d"
           }
          ],
          "parcoords": [
           {
            "line": {
             "colorbar": {
              "outlinewidth": 0,
              "ticks": ""
             }
            },
            "type": "parcoords"
           }
          ],
          "pie": [
           {
            "automargin": true,
            "type": "pie"
           }
          ],
          "scatter": [
           {
            "fillpattern": {
             "fillmode": "overlay",
             "size": 10,
             "solidity": 0.2
            },
            "type": "scatter"
           }
          ],
          "scatter3d": [
           {
            "line": {
             "colorbar": {
              "outlinewidth": 0,
              "ticks": ""
             }
            },
            "marker": {
             "colorbar": {
              "outlinewidth": 0,
              "ticks": ""
             }
            },
            "type": "scatter3d"
           }
          ],
          "scattercarpet": [
           {
            "marker": {
             "colorbar": {
              "outlinewidth": 0,
              "ticks": ""
             }
            },
            "type": "scattercarpet"
           }
          ],
          "scattergeo": [
           {
            "marker": {
             "colorbar": {
              "outlinewidth": 0,
              "ticks": ""
             }
            },
            "type": "scattergeo"
           }
          ],
          "scattergl": [
           {
            "marker": {
             "colorbar": {
              "outlinewidth": 0,
              "ticks": ""
             }
            },
            "type": "scattergl"
           }
          ],
          "scattermapbox": [
           {
            "marker": {
             "colorbar": {
              "outlinewidth": 0,
              "ticks": ""
             }
            },
            "type": "scattermapbox"
           }
          ],
          "scatterpolar": [
           {
            "marker": {
             "colorbar": {
              "outlinewidth": 0,
              "ticks": ""
             }
            },
            "type": "scatterpolar"
           }
          ],
          "scatterpolargl": [
           {
            "marker": {
             "colorbar": {
              "outlinewidth": 0,
              "ticks": ""
             }
            },
            "type": "scatterpolargl"
           }
          ],
          "scatterternary": [
           {
            "marker": {
             "colorbar": {
              "outlinewidth": 0,
              "ticks": ""
             }
            },
            "type": "scatterternary"
           }
          ],
          "surface": [
           {
            "colorbar": {
             "outlinewidth": 0,
             "ticks": ""
            },
            "colorscale": [
             [
              0,
              "#0d0887"
             ],
             [
              0.1111111111111111,
              "#46039f"
             ],
             [
              0.2222222222222222,
              "#7201a8"
             ],
             [
              0.3333333333333333,
              "#9c179e"
             ],
             [
              0.4444444444444444,
              "#bd3786"
             ],
             [
              0.5555555555555556,
              "#d8576b"
             ],
             [
              0.6666666666666666,
              "#ed7953"
             ],
             [
              0.7777777777777778,
              "#fb9f3a"
             ],
             [
              0.8888888888888888,
              "#fdca26"
             ],
             [
              1,
              "#f0f921"
             ]
            ],
            "type": "surface"
           }
          ],
          "table": [
           {
            "cells": {
             "fill": {
              "color": "#EBF0F8"
             },
             "line": {
              "color": "white"
             }
            },
            "header": {
             "fill": {
              "color": "#C8D4E3"
             },
             "line": {
              "color": "white"
             }
            },
            "type": "table"
           }
          ]
         },
         "layout": {
          "font": {
           "family": "Franklin Gothic",
           "size": 12
          }
         }
        },
        "title": {
         "text": "Customer Segments based on Income, Spending, and Age"
        }
       }
      },
      "text/html": [
       "<div>                            <div id=\"131c000f-4fe6-46db-a01f-3e9e5d8dcb6b\" class=\"plotly-graph-div\" style=\"height:1800px; width:100%;\"></div>            <script type=\"text/javascript\">                require([\"plotly\"], function(Plotly) {                    window.PLOTLYENV=window.PLOTLYENV || {};                                    if (document.getElementById(\"131c000f-4fe6-46db-a01f-3e9e5d8dcb6b\")) {                    Plotly.newPlot(                        \"131c000f-4fe6-46db-a01f-3e9e5d8dcb6b\",                        [{\"legendgroup\":\"1\",\"marker\":{\"color\":\"rgb(95, 70, 144)\",\"line\":{\"color\":\"#F7F7F7\",\"width\":1},\"opacity\":0.7,\"size\":7},\"mode\":\"markers\",\"name\":\"Cluster 0\",\"x\":[83,77,91,92,76,79,88,68,95,85,69,91,90,69,74,86,97,86,75,75,71,63,95,75,93,75,73,78,89,88,83,74,97,87,93,72,73,88,90],\"y\":[30,31,39,36,38,35,29,28,40,36,32,38,35,27,32,30,30,32,38,28,31,32,33,36,31,39,30,30,27,39,29,32,28,32,32,35,32,29,34],\"z\":[137,70,69,87,78,120,98,101,71,103,103,113,93,88,126,88,99,97,71,87,72,87,86,85,81,71,78,78,78,78,79,77,77,76,75,74,73,73,78],\"type\":\"scatter3d\",\"scene\":\"scene\",\"hovertemplate\":\"Customer Spending Score: %{x}<br>Income: $%{z}<br>Age: %{y}\"},{\"legendgroup\":\"1\",\"marker\":{\"color\":\"rgb(29, 105, 150)\",\"line\":{\"color\":\"#F7F7F7\",\"width\":1},\"opacity\":0.7,\"size\":7},\"mode\":\"markers\",\"name\":\"Cluster 1\",\"x\":[73,73,81,75,65,66,61,98,92,92,73,87,79,82,94,72,77,77,81,76,61,73,99],\"y\":[25,30,21,20,24,20,31,35,18,24,21,23,22,29,23,30,23,24,21,22,35,31,35],\"z\":[24,34,33,37,39,21,39,23,33,38,30,29,20,28,18,19,16,20,15,17,28,25,19],\"type\":\"scatter3d\",\"scene\":\"scene\",\"hovertemplate\":\"Customer Spending Score: %{x}<br>Income: $%{z}<br>Age: %{y}\"},{\"legendgroup\":\"1\",\"marker\":{\"color\":\"rgb(56, 166, 165)\",\"line\":{\"color\":\"#F7F7F7\",\"width\":1},\"opacity\":0.7,\"size\":7},\"mode\":\"markers\",\"name\":\"Cluster 2\",\"x\":[42,55,55,59,48,55,47,42,60,52,60,54,55,45,41,50,49,46,44,55,47,56,54,49,53,42,48,52,41,42,51,55,47,46,57,46,58,60,51,52,56,54,43,48,48,52,47,50,42,41,42,59,56,42,50,46,55,46,42,46,43,50,48,51,59,50,41,49,40,52,59,35,58,40,56,57,43,59,40],\"y\":[29,70,19,19,68,50,27,31,59,49,33,31,68,50,47,51,48,50,46,22,59,60,26,60,45,47,40,23,67,49,57,38,32,69,21,48,55,34,27,67,70,19,63,66,49,24,47,27,48,23,32,67,49,21,66,54,26,53,38,19,68,19,18,63,18,43,18,20,40,65,54,43,40,38,27,50,51,49,28],\"z\":[40,49,46,48,48,40,40,40,43,42,42,43,59,43,43,44,60,58,54,57,54,50,54,50,54,49,54,54,54,54,54,54,48,44,54,54,57,58,46,47,46,63,65,63,62,60,60,60,61,62,60,62,62,62,63,63,62,46,64,64,63,65,65,48,48,48,59,61,60,63,47,71,69,67,67,67,67,65,76],\"type\":\"scatter3d\",\"scene\":\"scene\",\"hovertemplate\":\"Customer Spending Score: %{x}<br>Income: $%{z}<br>Age: %{y}\"},{\"legendgroup\":\"1\",\"marker\":{\"color\":\"rgb(15, 133, 84)\",\"line\":{\"color\":\"#F7F7F7\",\"width\":1},\"opacity\":0.7,\"size\":7},\"mode\":\"markers\",\"name\":\"Cluster 3\",\"x\":[5,5,12,34,22,17,7,9,29,16,20,1,18,1,11,36,10,35,14,24,17,26,20,13,10,13,15,27,16,5,32,8,15,39,28,23],\"y\":[57,20,25,25,34,43,44,47,23,47,44,37,32,34,59,48,19,56,59,54,41,50,42,40,36,52,58,36,47,19,37,33,46,41,45,34],\"z\":[75,73,77,72,78,78,73,71,70,78,78,78,137,78,71,77,74,79,93,101,103,85,86,87,87,88,88,87,120,81,97,113,98,99,126,103],\"type\":\"scatter3d\",\"scene\":\"scene\",\"hovertemplate\":\"Customer Spending Score: %{x}<br>Income: $%{z}<br>Age: %{y}\"},{\"legendgroup\":\"1\",\"marker\":{\"color\":\"rgb(115, 175, 72)\",\"line\":{\"color\":\"#F7F7F7\",\"width\":1},\"opacity\":0.7,\"size\":7},\"mode\":\"markers\",\"name\":\"Cluster 4\",\"x\":[32,31,4,28,36,14,17,14,4,5,14,35,29,26,13,15,6,40,6,3,35,35,39],\"y\":[45,40,60,49,48,49,42,54,53,46,67,65,52,36,37,58,20,31,35,64,35,35,19],\"z\":[28,29,30,39,39,33,34,28,33,25,19,38,23,37,20,20,16,17,18,19,21,24,15],\"type\":\"scatter3d\",\"scene\":\"scene\",\"hovertemplate\":\"Customer Spending Score: %{x}<br>Income: $%{z}<br>Age: %{y}\"},{\"legendgroup\":\"2\",\"marker\":{\"color\":\"rgb(93, 105, 177)\",\"line\":{\"color\":\"#F7F7F7\",\"width\":1},\"opacity\":0.7,\"size\":7},\"mode\":\"markers\",\"name\":\"Hierarchical Cluster 0\",\"x\":[39,81,6,52,77,40,76,6,94,72,14,99,15,77,13,79,35,66,29,98,35,73,5,73,14,82,32,61,31,87,55,4,4,14,92,28,61,36,92,35,73,75,26,81,17,55,3,65,47,42,42,52,60,54,60,41,50,46,51,73,56,45,49,46,54,59,50,48,59,47,42,49,56,47,54,53,48,42,52,40,55,41,44,57,46,58,55,60,46,55,41,49,59,51,51,55,47,50,42,41,48,59,55,56,42,50,46,43,48,52,42,52,42,48,46,34,29,40,40,58,57,43,59,43,50,56],\"y\":[19,21,20,67,23,31,22,35,23,30,67,35,58,24,37,22,35,20,52,35,35,25,46,31,54,29,45,35,40,23,19,60,53,49,18,49,31,48,24,65,30,20,36,21,42,50,64,24,27,29,31,49,33,31,59,47,51,69,27,21,70,50,20,53,19,18,43,68,19,32,47,60,60,59,26,45,40,49,23,40,38,67,46,21,48,55,22,34,50,68,18,48,54,57,63,70,47,27,48,23,49,67,26,49,32,66,54,68,66,65,38,24,21,18,19,25,23,28,38,40,50,51,49,63,19,27],\"z\":[15,15,16,47,16,17,17,18,18,19,19,19,20,20,20,20,21,21,23,23,24,24,25,25,28,28,28,28,29,29,46,30,33,33,33,39,39,39,38,38,34,37,37,33,34,40,19,39,40,40,40,42,42,43,43,43,44,44,46,30,46,43,61,46,63,48,48,48,48,48,49,50,50,54,54,54,54,54,54,60,54,54,54,54,54,57,57,58,58,59,59,60,47,54,48,49,60,60,61,62,62,62,62,62,60,63,63,63,63,63,64,60,62,65,64,72,70,76,67,69,67,67,65,65,65,67],\"type\":\"scatter3d\",\"scene\":\"scene2\",\"hovertemplate\":\"Customer Spending Score: %{x}<br>Income: $%{z}<br>Age: %{y}\"},{\"legendgroup\":\"2\",\"marker\":{\"color\":\"rgb(82, 188, 163)\",\"line\":{\"color\":\"#F7F7F7\",\"width\":1},\"opacity\":0.7,\"size\":7},\"mode\":\"markers\",\"name\":\"Hierarchical Cluster 1\",\"x\":[12,18,13,28,35,11,16,23,7,9,5,17,10,10,5,8,36,15,27,1,22,17,39,20,1,5,16,32,35,14,26,20,15,24,13],\"y\":[25,32,52,45,43,59,47,34,44,47,57,41,19,36,20,33,48,46,36,34,34,43,41,44,37,19,47,37,56,59,50,42,58,54,40],\"z\":[77,137,88,126,71,71,120,103,73,71,75,103,74,87,73,113,77,98,87,78,78,78,99,78,78,81,78,97,79,93,85,86,88,101,87],\"type\":\"scatter3d\",\"scene\":\"scene2\",\"hovertemplate\":\"Customer Spending Score: %{x}<br>Income: $%{z}<br>Age: %{y}\"},{\"legendgroup\":\"2\",\"marker\":{\"color\":\"rgb(153, 201, 69)\",\"line\":{\"color\":\"#F7F7F7\",\"width\":1},\"opacity\":0.7,\"size\":7},\"mode\":\"markers\",\"name\":\"Hierarchical Cluster 2\",\"x\":[90,72,93,87,97,74,88,95,89,78,73,83,93,75,73,63,76,88,68,75,92,90,91,79,69,69,97,74,85,86,86,88,75,75,91,77,95,71,83],\"y\":[34,35,32,32,28,32,39,33,27,30,30,29,31,36,32,32,38,29,28,38,36,35,38,35,32,27,30,32,36,30,32,29,39,28,39,31,40,31,30],\"z\":[78,74,75,76,77,77,78,86,78,78,78,79,81,85,73,87,78,73,101,71,87,93,113,120,103,88,99,126,103,88,97,98,71,87,69,70,71,72,137],\"type\":\"scatter3d\",\"scene\":\"scene2\",\"hovertemplate\":\"Customer Spending Score: %{x}<br>Income: $%{z}<br>Age: %{y}\"},{\"legendgroup\":\"3\",\"marker\":{\"color\":\"#E45756\",\"line\":{\"color\":\"#F7F7F7\",\"width\":1},\"opacity\":0.8,\"size\":7},\"mode\":\"markers\",\"name\":\"DB Cluster Outliers\",\"x\":[39,14,17,26,18,5,10,5,12,1,1,35,5,14,32,39,24,68,17,85,23,69,8,91,16,79,28,74,4,4,83,13,14,3,94,6,35,40,99,29,6,14,35,32,5,31,98,15],\"y\":[19,49,42,36,32,20,19,57,25,37,34,56,19,59,37,41,54,28,41,36,34,32,33,38,47,35,45,32,53,60,30,37,67,64,23,35,35,31,35,52,20,54,35,45,46,40,35,58],\"z\":[15,33,34,37,137,73,74,75,77,78,78,79,81,93,97,99,101,101,103,103,103,103,113,113,120,120,126,126,33,30,137,20,19,19,18,18,21,17,19,23,16,28,24,28,25,29,23,20],\"type\":\"scatter3d\",\"scene\":\"scene3\",\"hovertemplate\":\"Customer Spending Score: %{x}<br>Income: $%{z}<br>Age: %{y}\"},{\"legendgroup\":\"3\",\"marker\":{\"color\":\"#72B7B2\",\"line\":{\"color\":\"#F7F7F7\",\"width\":1},\"opacity\":0.8,\"size\":7},\"mode\":\"markers\",\"name\":\"DB Cluster 0\",\"x\":[66,73,79,73,87,77,73,92,76,65,77,92,81,75,82,73,81,61,72],\"y\":[20,25,22,31,23,24,21,18,22,24,23,24,21,20,29,30,21,35,30],\"z\":[21,24,20,25,29,20,30,33,17,39,16,38,15,37,28,34,33,28,19],\"type\":\"scatter3d\",\"scene\":\"scene3\",\"hovertemplate\":\"Customer Spending Score: %{x}<br>Income: $%{z}<br>Age: %{y}\"},{\"legendgroup\":\"3\",\"marker\":{\"color\":\"#54A24B\",\"line\":{\"color\":\"#F7F7F7\",\"width\":1},\"opacity\":0.8,\"size\":7},\"mode\":\"markers\",\"name\":\"DB Cluster 1\",\"x\":[48,54,43,52,46,48,42,56,55,59,41,50,42,40,48,43,59,43,57,56,40,58,29,35,34,42,36,46,50,50,52,50,59,51,59,52,55,47,56,46,51,46,50,48,41,60,54,60,52,42,42,47,55,28,61,36,35,45,59,49,57,48,51,55,52,54,41,47,42,56,44,49,42,53,55,58,55,60,46,55,47,41,49,40,42,46],\"y\":[66,19,68,65,54,49,21,49,26,67,23,66,38,28,18,63,49,51,50,27,38,40,23,43,25,48,48,19,27,19,24,43,18,63,54,67,19,47,70,53,27,69,51,68,47,59,31,33,49,31,29,27,50,49,31,48,65,50,19,20,21,40,57,38,23,26,67,59,49,60,46,60,47,45,70,55,22,34,50,68,32,18,48,40,32,48],\"z\":[63,63,63,63,63,62,62,62,62,62,62,63,64,76,65,65,65,67,67,67,67,69,70,71,72,61,77,64,60,65,60,48,48,48,47,47,46,60,46,46,46,44,44,48,43,43,43,42,42,40,40,40,40,39,39,39,38,43,48,61,54,54,54,54,54,54,54,54,54,50,54,50,49,54,49,57,57,58,58,59,48,59,60,60,60,54],\"type\":\"scatter3d\",\"scene\":\"scene3\",\"hovertemplate\":\"Customer Spending Score: %{x}<br>Income: $%{z}<br>Age: %{y}\"},{\"legendgroup\":\"3\",\"marker\":{\"color\":\"#EECA3B\",\"line\":{\"color\":\"#F7F7F7\",\"width\":1},\"opacity\":0.8,\"size\":7},\"mode\":\"markers\",\"name\":\"DB Cluster 2\",\"x\":[92,63,75,95,97,69,90,86,88,95,86,75,93,91,87,97,74,90,73,88,88,76,93,72,89,75,78,73,75,83,77,71],\"y\":[36,32,28,40,30,27,35,32,29,33,30,36,31,39,32,28,32,34,32,39,29,38,32,35,27,39,30,30,38,29,31,31],\"z\":[87,87,87,71,99,88,93,97,98,86,88,85,81,69,76,77,77,78,73,78,73,78,75,74,78,71,78,78,71,79,70,72],\"type\":\"scatter3d\",\"scene\":\"scene3\",\"hovertemplate\":\"Customer Spending Score: %{x}<br>Income: $%{z}<br>Age: %{y}\"},{\"legendgroup\":\"3\",\"marker\":{\"color\":\"#B279A2\",\"line\":{\"color\":\"#F7F7F7\",\"width\":1},\"opacity\":0.8,\"size\":7},\"mode\":\"markers\",\"name\":\"DB Cluster 3\",\"x\":[9,7,11,20,15,17,20,16,15,13,10,13,27,26,22],\"y\":[47,44,59,42,46,43,44,47,58,52,36,40,36,50,34],\"z\":[71,73,71,86,98,78,78,78,88,88,87,87,87,85,78],\"type\":\"scatter3d\",\"scene\":\"scene3\",\"hovertemplate\":\"Customer Spending Score: %{x}<br>Income: $%{z}<br>Age: %{y}\"}],                        {\"template\":{\"data\":{\"histogram2dcontour\":[{\"type\":\"histogram2dcontour\",\"colorbar\":{\"outlinewidth\":0,\"ticks\":\"\"},\"colorscale\":[[0.0,\"#0d0887\"],[0.1111111111111111,\"#46039f\"],[0.2222222222222222,\"#7201a8\"],[0.3333333333333333,\"#9c179e\"],[0.4444444444444444,\"#bd3786\"],[0.5555555555555556,\"#d8576b\"],[0.6666666666666666,\"#ed7953\"],[0.7777777777777778,\"#fb9f3a\"],[0.8888888888888888,\"#fdca26\"],[1.0,\"#f0f921\"]]}],\"choropleth\":[{\"type\":\"choropleth\",\"colorbar\":{\"outlinewidth\":0,\"ticks\":\"\"}}],\"histogram2d\":[{\"type\":\"histogram2d\",\"colorbar\":{\"outlinewidth\":0,\"ticks\":\"\"},\"colorscale\":[[0.0,\"#0d0887\"],[0.1111111111111111,\"#46039f\"],[0.2222222222222222,\"#7201a8\"],[0.3333333333333333,\"#9c179e\"],[0.4444444444444444,\"#bd3786\"],[0.5555555555555556,\"#d8576b\"],[0.6666666666666666,\"#ed7953\"],[0.7777777777777778,\"#fb9f3a\"],[0.8888888888888888,\"#fdca26\"],[1.0,\"#f0f921\"]]}],\"heatmap\":[{\"type\":\"heatmap\",\"colorbar\":{\"outlinewidth\":0,\"ticks\":\"\"},\"colorscale\":[[0.0,\"#0d0887\"],[0.1111111111111111,\"#46039f\"],[0.2222222222222222,\"#7201a8\"],[0.3333333333333333,\"#9c179e\"],[0.4444444444444444,\"#bd3786\"],[0.5555555555555556,\"#d8576b\"],[0.6666666666666666,\"#ed7953\"],[0.7777777777777778,\"#fb9f3a\"],[0.8888888888888888,\"#fdca26\"],[1.0,\"#f0f921\"]]}],\"heatmapgl\":[{\"type\":\"heatmapgl\",\"colorbar\":{\"outlinewidth\":0,\"ticks\":\"\"},\"colorscale\":[[0.0,\"#0d0887\"],[0.1111111111111111,\"#46039f\"],[0.2222222222222222,\"#7201a8\"],[0.3333333333333333,\"#9c179e\"],[0.4444444444444444,\"#bd3786\"],[0.5555555555555556,\"#d8576b\"],[0.6666666666666666,\"#ed7953\"],[0.7777777777777778,\"#fb9f3a\"],[0.8888888888888888,\"#fdca26\"],[1.0,\"#f0f921\"]]}],\"contourcarpet\":[{\"type\":\"contourcarpet\",\"colorbar\":{\"outlinewidth\":0,\"ticks\":\"\"}}],\"contour\":[{\"type\":\"contour\",\"colorbar\":{\"outlinewidth\":0,\"ticks\":\"\"},\"colorscale\":[[0.0,\"#0d0887\"],[0.1111111111111111,\"#46039f\"],[0.2222222222222222,\"#7201a8\"],[0.3333333333333333,\"#9c179e\"],[0.4444444444444444,\"#bd3786\"],[0.5555555555555556,\"#d8576b\"],[0.6666666666666666,\"#ed7953\"],[0.7777777777777778,\"#fb9f3a\"],[0.8888888888888888,\"#fdca26\"],[1.0,\"#f0f921\"]]}],\"surface\":[{\"type\":\"surface\",\"colorbar\":{\"outlinewidth\":0,\"ticks\":\"\"},\"colorscale\":[[0.0,\"#0d0887\"],[0.1111111111111111,\"#46039f\"],[0.2222222222222222,\"#7201a8\"],[0.3333333333333333,\"#9c179e\"],[0.4444444444444444,\"#bd3786\"],[0.5555555555555556,\"#d8576b\"],[0.6666666666666666,\"#ed7953\"],[0.7777777777777778,\"#fb9f3a\"],[0.8888888888888888,\"#fdca26\"],[1.0,\"#f0f921\"]]}],\"mesh3d\":[{\"type\":\"mesh3d\",\"colorbar\":{\"outlinewidth\":0,\"ticks\":\"\"}}],\"scatter\":[{\"fillpattern\":{\"fillmode\":\"overlay\",\"size\":10,\"solidity\":0.2},\"type\":\"scatter\"}],\"parcoords\":[{\"type\":\"parcoords\",\"line\":{\"colorbar\":{\"outlinewidth\":0,\"ticks\":\"\"}}}],\"scatterpolargl\":[{\"type\":\"scatterpolargl\",\"marker\":{\"colorbar\":{\"outlinewidth\":0,\"ticks\":\"\"}}}],\"bar\":[{\"error_x\":{\"color\":\"#2a3f5f\"},\"error_y\":{\"color\":\"#2a3f5f\"},\"marker\":{\"line\":{\"color\":\"#E5ECF6\",\"width\":0.5},\"pattern\":{\"fillmode\":\"overlay\",\"size\":10,\"solidity\":0.2}},\"type\":\"bar\"}],\"scattergeo\":[{\"type\":\"scattergeo\",\"marker\":{\"colorbar\":{\"outlinewidth\":0,\"ticks\":\"\"}}}],\"scatterpolar\":[{\"type\":\"scatterpolar\",\"marker\":{\"colorbar\":{\"outlinewidth\":0,\"ticks\":\"\"}}}],\"histogram\":[{\"marker\":{\"pattern\":{\"fillmode\":\"overlay\",\"size\":10,\"solidity\":0.2}},\"type\":\"histogram\"}],\"scattergl\":[{\"type\":\"scattergl\",\"marker\":{\"colorbar\":{\"outlinewidth\":0,\"ticks\":\"\"}}}],\"scatter3d\":[{\"type\":\"scatter3d\",\"line\":{\"colorbar\":{\"outlinewidth\":0,\"ticks\":\"\"}},\"marker\":{\"colorbar\":{\"outlinewidth\":0,\"ticks\":\"\"}}}],\"scattermapbox\":[{\"type\":\"scattermapbox\",\"marker\":{\"colorbar\":{\"outlinewidth\":0,\"ticks\":\"\"}}}],\"scatterternary\":[{\"type\":\"scatterternary\",\"marker\":{\"colorbar\":{\"outlinewidth\":0,\"ticks\":\"\"}}}],\"scattercarpet\":[{\"type\":\"scattercarpet\",\"marker\":{\"colorbar\":{\"outlinewidth\":0,\"ticks\":\"\"}}}],\"carpet\":[{\"aaxis\":{\"endlinecolor\":\"#2a3f5f\",\"gridcolor\":\"white\",\"linecolor\":\"white\",\"minorgridcolor\":\"white\",\"startlinecolor\":\"#2a3f5f\"},\"baxis\":{\"endlinecolor\":\"#2a3f5f\",\"gridcolor\":\"white\",\"linecolor\":\"white\",\"minorgridcolor\":\"white\",\"startlinecolor\":\"#2a3f5f\"},\"type\":\"carpet\"}],\"table\":[{\"cells\":{\"fill\":{\"color\":\"#EBF0F8\"},\"line\":{\"color\":\"white\"}},\"header\":{\"fill\":{\"color\":\"#C8D4E3\"},\"line\":{\"color\":\"white\"}},\"type\":\"table\"}],\"barpolar\":[{\"marker\":{\"line\":{\"color\":\"#E5ECF6\",\"width\":0.5},\"pattern\":{\"fillmode\":\"overlay\",\"size\":10,\"solidity\":0.2}},\"type\":\"barpolar\"}],\"pie\":[{\"automargin\":true,\"type\":\"pie\"}]},\"layout\":{\"font\":{\"family\":\"Franklin Gothic\",\"size\":12}}},\"scene\":{\"domain\":{\"x\":[0.0,1.0],\"y\":[0.7333333333333334,1.0]},\"xaxis\":{\"title\":{\"text\":\"Spending Score\"},\"backgroundcolor\":\"#F3F3F3\",\"gridcolor\":\"white\",\"showbackground\":true,\"zerolinecolor\":\"white\"},\"yaxis\":{\"title\":{\"text\":\"Age, in years\"},\"backgroundcolor\":\"#E4E4E4\",\"gridcolor\":\"white\",\"showbackground\":true,\"zerolinecolor\":\"white\"},\"zaxis\":{\"title\":{\"text\":\"Income, $\"},\"ticksuffix\":\"k\",\"backgroundcolor\":\"#F6F6F6\",\"gridcolor\":\"white\",\"showbackground\":true,\"zerolinecolor\":\"white\"},\"aspectmode\":\"cube\"},\"scene2\":{\"domain\":{\"x\":[0.0,1.0],\"y\":[0.3666666666666667,0.6333333333333333]},\"xaxis\":{\"title\":{\"text\":\"Spending Score\"},\"backgroundcolor\":\"#F3F3F3\",\"gridcolor\":\"white\",\"showbackground\":true,\"zerolinecolor\":\"white\"},\"yaxis\":{\"title\":{\"text\":\"Age, in years\"},\"backgroundcolor\":\"#E4E4E4\",\"gridcolor\":\"white\",\"showbackground\":true,\"zerolinecolor\":\"white\"},\"zaxis\":{\"title\":{\"text\":\"Income, $\"},\"ticksuffix\":\"k\",\"backgroundcolor\":\"#F6F6F6\",\"gridcolor\":\"white\",\"showbackground\":true,\"zerolinecolor\":\"white\"},\"aspectmode\":\"cube\"},\"scene3\":{\"domain\":{\"x\":[0.0,1.0],\"y\":[0.0,0.26666666666666666]},\"xaxis\":{\"title\":{\"text\":\"Spending Score\"},\"backgroundcolor\":\"#F3F3F3\",\"gridcolor\":\"white\",\"showbackground\":true,\"zerolinecolor\":\"white\"},\"yaxis\":{\"title\":{\"text\":\"Age, in years\"},\"backgroundcolor\":\"#E4E4E4\",\"gridcolor\":\"white\",\"showbackground\":true,\"zerolinecolor\":\"white\"},\"zaxis\":{\"title\":{\"text\":\"Income, $\"},\"ticksuffix\":\"k\",\"backgroundcolor\":\"#F6F6F6\",\"gridcolor\":\"white\",\"showbackground\":true,\"zerolinecolor\":\"white\"},\"aspectmode\":\"cube\"},\"annotations\":[{\"font\":{\"size\":16},\"showarrow\":false,\"text\":\"K-Means Clustering with 5 clusters\",\"x\":0.5,\"xanchor\":\"center\",\"xref\":\"paper\",\"y\":1.0,\"yanchor\":\"bottom\",\"yref\":\"paper\"},{\"font\":{\"size\":16},\"showarrow\":false,\"text\":\"Hierarchical Clustering<br>with 3 clusters\",\"x\":0.5,\"xanchor\":\"center\",\"xref\":\"paper\",\"y\":0.6333333333333333,\"yanchor\":\"bottom\",\"yref\":\"paper\"},{\"font\":{\"size\":16},\"showarrow\":false,\"text\":\"DBSCAN<br>with 4 clusters\",\"x\":0.5,\"xanchor\":\"center\",\"xref\":\"paper\",\"y\":0.26666666666666666,\"yanchor\":\"bottom\",\"yref\":\"paper\"}],\"legend\":{\"tracegroupgap\":500},\"title\":{\"text\":\"Customer Segments based on Income, Spending, and Age\"},\"height\":1800},                        {\"responsive\": true}                    ).then(function(){\n",
       "                            \n",
       "var gd = document.getElementById('131c000f-4fe6-46db-a01f-3e9e5d8dcb6b');\n",
       "var x = new MutationObserver(function (mutations, observer) {{\n",
       "        var display = window.getComputedStyle(gd).display;\n",
       "        if (!display || display === 'none') {{\n",
       "            console.log([gd, 'removed!']);\n",
       "            Plotly.purge(gd);\n",
       "            observer.disconnect();\n",
       "        }}\n",
       "}});\n",
       "\n",
       "// Listen for the removal of the full notebook cells\n",
       "var notebookContainer = gd.closest('#notebook-container');\n",
       "if (notebookContainer) {{\n",
       "    x.observe(notebookContainer, {childList: true});\n",
       "}}\n",
       "\n",
       "// Listen for the clearing of the current output cell\n",
       "var outputEl = gd.closest('.output');\n",
       "if (outputEl) {{\n",
       "    x.observe(outputEl, {childList: true});\n",
       "}}\n",
       "\n",
       "                        })                };                });            </script>        </div>"
      ]
     },
     "metadata": {},
     "output_type": "display_data"
    }
   ],
   "source": [
    "# Initializing figure with 3 3D subplots\n",
    "fig = make_subplots(rows=3, cols=1,\n",
    "                    vertical_spacing=0.1,\n",
    "                    specs=[[{'type': 'scatter3d'}],\n",
    "                           [{'type': 'scatter3d'}], \n",
    "                           [{'type': 'scatter3d'}]],\n",
    "                     subplot_titles=(\"K-Means Clustering with 5 clusters\", \n",
    "                                     \"Hierarchical Clustering<br>with 3 clusters\", \n",
    "                                     \"DBSCAN<br>with 4 clusters\")\n",
    "                   )\n",
    "\n",
    "# Adding clusters to scatterplots \n",
    "plot_km['K-Means Cluster'] = plot_km['K-Means Cluster'].astype(int)\n",
    "plot_km=plot_km.sort_values(by='K-Means Cluster')\n",
    "for i in range(0,5):\n",
    "    fig.add_trace(go.Scatter3d(x = plot_km[plot_km['K-Means Cluster'] == i]['Spending Score'],\n",
    "                               y = plot_km[plot_km['K-Means Cluster'] == i]['Age'],\n",
    "                               z = plot_km[plot_km['K-Means Cluster'] == i]['Annual Income'],                        \n",
    "                               mode = 'markers', marker=dict(\n",
    "                                   size=7,  \n",
    "                                   color = px.colors.qualitative.Prism[i],\n",
    "                                   line_width = 1,\n",
    "                                   line_color='#F7F7F7',\n",
    "                                   opacity=0.7),\n",
    "                               name = str('Cluster '+str(i)), legendgroup = 1),\n",
    "                 row=1, col=1)\n",
    "\n",
    "plot_hc['Hierarchical Cluster'] = plot_hc['Hierarchical Cluster'].astype(int)\n",
    "plot_hc=plot_hc.sort_values(by='Hierarchical Cluster')\n",
    "for i in range(0,3):    \n",
    "    fig.add_trace(go.Scatter3d(x = plot_hc[plot_hc['Hierarchical Cluster'] == i]['Spending Score'],\n",
    "                               y = plot_hc[plot_hc['Hierarchical Cluster'] == i]['Age'],\n",
    "                               z = plot_hc[plot_hc['Hierarchical Cluster'] == i]['Annual Income'],                        \n",
    "                               mode = 'markers', marker=dict(\n",
    "                                   size=7,   \n",
    "                                   color = px.colors.qualitative.Vivid[i+1],\n",
    "                                   line_width = 1, \n",
    "                                   line_color='#F7F7F7',\n",
    "                                   opacity=0.7),\n",
    "                               name = str('Hierarchical Cluster '+str(i)), legendgroup = 2), \n",
    "                  row=2, col=1)\n",
    "\n",
    "for i, j in enumerate(plot_db['DB Cluster'].unique()): \n",
    "    fig.add_trace(go.Scatter3d(x = plot_db[plot_db['DB Cluster'] == j]['Spending Score'],\n",
    "                               y = plot_db[plot_db['DB Cluster'] == j]['Age'],\n",
    "                               z = plot_db[plot_db['DB Cluster'] == j]['Annual Income'], \n",
    "                               mode = 'markers', marker=dict(\n",
    "                                   size=7,   \n",
    "                                   color = px.colors.qualitative.T10[i+2],\n",
    "                                   line_width = 1,\n",
    "                                   line_color='#F7F7F7',\n",
    "                                   opacity=0.8),\n",
    "                               name = str('DB Cluster '+str(j)), legendgroup = 3), \n",
    "                  row=3, col=1)\n",
    "\n",
    "fig.update_traces(hovertemplate='Customer Spending Score: %{x}<br>Income: $%{z}<br>Age: %{y}')\n",
    "fig.update_layout(title=\"Customer Segments based on Income, Spending, and Age\",\n",
    "                  template=temp, height=1800, legend_tracegroupgap = 500,\n",
    "                  scene=dict(aspectmode='cube',\n",
    "                             xaxis = dict(title='Spending Score', \n",
    "                                          backgroundcolor=\"#F3F3F3\",\n",
    "                                          gridcolor=\"white\",\n",
    "                                          showbackground=True,\n",
    "                                          zerolinecolor=\"white\",),\n",
    "                             yaxis = dict(title='Age, in years',\n",
    "                                          backgroundcolor=\"#E4E4E4\",\n",
    "                                          gridcolor=\"white\",\n",
    "                                          showbackground=True,\n",
    "                                          zerolinecolor=\"white\"),\n",
    "                             zaxis = dict(title='Income, $', \n",
    "                                          ticksuffix='k',\n",
    "                                          backgroundcolor=\"#F6F6F6\",\n",
    "                                          gridcolor=\"white\",\n",
    "                                          showbackground=True,\n",
    "                                          zerolinecolor=\"white\")), \n",
    "                  scene2=dict(aspectmode='cube', \n",
    "                             xaxis = dict(title='Spending Score',\n",
    "                                          backgroundcolor=\"#F3F3F3\",\n",
    "                                          gridcolor=\"white\",\n",
    "                                          showbackground=True,\n",
    "                                          zerolinecolor=\"white\",),\n",
    "                             yaxis = dict(title='Age, in years',\n",
    "                                          backgroundcolor=\"#E4E4E4\",\n",
    "                                          gridcolor=\"white\",\n",
    "                                          showbackground=True,\n",
    "                                          zerolinecolor=\"white\"),\n",
    "                             zaxis = dict(title='Income, $', \n",
    "                                          ticksuffix='k',\n",
    "                                          backgroundcolor=\"#F6F6F6\",\n",
    "                                          gridcolor=\"white\",\n",
    "                                          showbackground=True,\n",
    "                                          zerolinecolor=\"white\")), \n",
    "                  scene3=dict(aspectmode='cube', \n",
    "                             xaxis = dict(title='Spending Score',\n",
    "                                          backgroundcolor=\"#F3F3F3\",\n",
    "                                          gridcolor=\"white\",\n",
    "                                          showbackground=True,\n",
    "                                          zerolinecolor=\"white\",),\n",
    "                             yaxis = dict(title='Age, in years',\n",
    "                                          backgroundcolor=\"#E4E4E4\",\n",
    "                                          gridcolor=\"white\",\n",
    "                                          showbackground=True,\n",
    "                                          zerolinecolor=\"white\"),\n",
    "                             zaxis = dict(title='Income, $', \n",
    "                                          ticksuffix='k',\n",
    "                                          backgroundcolor=\"#F6F6F6\",\n",
    "                                          gridcolor=\"white\",\n",
    "                                          showbackground=True,\n",
    "                                          zerolinecolor=\"white\"))\n",
    "                  )\n",
    "fig.show()"
   ]
  },
  {
   "cell_type": "markdown",
   "id": "c5ea5d3c",
   "metadata": {
    "papermill": {
     "duration": 0.07318,
     "end_time": "2022-02-18T05:09:22.078427",
     "exception": false,
     "start_time": "2022-02-18T05:09:22.005247",
     "status": "completed"
    },
    "tags": []
   },
   "source": [
    "# <div style=\"color:white;display:fill;border-radius:5px;background-color:#67A4A4;letter-spacing:0.1px;overflow:hidden\"><p style=\"padding:20px;color:white;overflow:hidden;margin:0;font-size:110%;text-align:center\">Conclusion</p></div>\n",
    "\n",
    "In this analysis, three clustering models were developed to explore different types of customers at a supermarket: K-Means Clustering, Hierarchical Clustering, and DBSCAN. Each model identified distinct customer segments that the company could target depending on their needs. Out of the three clustering techniques, the K-Means model created the most distinguished clusters, while DBSCAN created a simpler model with only four clusters and identified the outliers within the data. The Hierarchical Clustering model defined the fewest number of clusters overall, with more emphasis placed on customer's income. \n",
    "\n",
    "Based on customer spending habits, the company could target customers for their membership card program using the two clusters found in the K-Means model, where customers have higher spending scores above 60 and would likely be more inclined to becoming a member. One of the distinguishing factors between these clusters and the other clusters in the model is that they consist of customers who are under the age of 40, which indicates that the company could aim their membership card marketing program towards customers who are younger than 40 and have higher spending scores. To engage customers with lower spending scores, the company could target these groups with more of their popular products and promotions. In the future, to better understand customer preferences, additional data about the frequency and types of purchases made could be used to further customize product offerings to each segment."
   ]
  }
 ],
 "metadata": {
  "kernelspec": {
   "display_name": "Python 3 (ipykernel)",
   "language": "python",
   "name": "python3"
  },
  "language_info": {
   "codemirror_mode": {
    "name": "ipython",
    "version": 3
   },
   "file_extension": ".py",
   "mimetype": "text/x-python",
   "name": "python",
   "nbconvert_exporter": "python",
   "pygments_lexer": "ipython3",
   "version": "3.9.13"
  },
  "papermill": {
   "default_parameters": {},
   "duration": 19.476838,
   "end_time": "2022-02-18T05:09:23.062154",
   "environment_variables": {},
   "exception": null,
   "input_path": "__notebook__.ipynb",
   "output_path": "__notebook__.ipynb",
   "parameters": {},
   "start_time": "2022-02-18T05:09:03.585316",
   "version": "2.3.3"
  }
 },
 "nbformat": 4,
 "nbformat_minor": 5
}
